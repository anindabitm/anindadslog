{
  "nbformat": 4,
  "nbformat_minor": 0,
  "metadata": {
    "colab": {
      "name": "Zindi_Hack.ipynb",
      "provenance": [],
      "collapsed_sections": []
    },
    "kernelspec": {
      "name": "python3",
      "display_name": "Python 3"
    },
    "widgets": {
      "application/vnd.jupyter.widget-state+json": {
        "cdab380d406f4fd6a2025c3798d21795": {
          "model_module": "@jupyter-widgets/base",
          "model_name": "DOMWidgetModel",
          "state": {
            "_view_name": "CatboostIpythonWidgetView",
            "_dom_classes": [],
            "_model_name": "DOMWidgetModel",
            "data": {
              "catboost_info": {
                "content": {
                  "data": {
                    "meta": {
                      "name": "experiment",
                      "parameters": "",
                      "test_metrics": [
                        {
                          "best_value": "Min",
                          "name": "RMSE"
                        }
                      ],
                      "learn_sets": [
                        "learn"
                      ],
                      "launch_mode": "Train",
                      "learn_metrics": [
                        {
                          "best_value": "Min",
                          "name": "RMSE"
                        }
                      ],
                      "iteration_count": 1000,
                      "test_sets": [
                        "test"
                      ]
                    },
                    "iterations": [
                      {
                        "test": [
                          12.27760401
                        ],
                        "passed_time": 0.01945059846,
                        "iteration": 0,
                        "remaining_time": 19.43114786,
                        "learn": [
                          12.3289345
                        ]
                      },
                      {
                        "test": [
                          11.79498835
                        ],
                        "passed_time": 0.03877115411,
                        "iteration": 1,
                        "remaining_time": 19.3468059,
                        "learn": [
                          11.84465087
                        ]
                      },
                      {
                        "test": [
                          11.3412546
                        ],
                        "passed_time": 0.07592324707,
                        "iteration": 2,
                        "remaining_time": 25.23182578,
                        "learn": [
                          11.38180815
                        ]
                      },
                      {
                        "test": [
                          10.92795654
                        ],
                        "passed_time": 0.1009284751,
                        "iteration": 3,
                        "remaining_time": 25.13119031,
                        "learn": [
                          10.96120098
                        ]
                      },
                      {
                        "test": [
                          10.54431909
                        ],
                        "passed_time": 0.120917141,
                        "iteration": 4,
                        "remaining_time": 24.06251105,
                        "learn": [
                          10.57667598
                        ]
                      },
                      {
                        "test": [
                          10.20352584
                        ],
                        "passed_time": 0.1498965042,
                        "iteration": 5,
                        "remaining_time": 24.8328542,
                        "learn": [
                          10.21195068
                        ]
                      },
                      {
                        "test": [
                          9.858276895
                        ],
                        "passed_time": 0.169415844,
                        "iteration": 6,
                        "remaining_time": 24.03284759,
                        "learn": [
                          9.858844947
                        ]
                      },
                      {
                        "test": [
                          9.538699864
                        ],
                        "passed_time": 0.183456961,
                        "iteration": 7,
                        "remaining_time": 22.74866316,
                        "learn": [
                          9.542926584
                        ]
                      },
                      {
                        "test": [
                          9.233997836
                        ],
                        "passed_time": 0.2000512416,
                        "iteration": 8,
                        "remaining_time": 22.02786449,
                        "learn": [
                          9.236936387
                        ]
                      },
                      {
                        "test": [
                          8.960415828
                        ],
                        "passed_time": 0.2133575856,
                        "iteration": 9,
                        "remaining_time": 21.12240097,
                        "learn": [
                          8.950885493
                        ]
                      },
                      {
                        "test": [
                          8.68524278
                        ],
                        "passed_time": 0.226214391,
                        "iteration": 10,
                        "remaining_time": 20.33873025,
                        "learn": [
                          8.671969666
                        ]
                      },
                      {
                        "test": [
                          8.421334981
                        ],
                        "passed_time": 0.2386724259,
                        "iteration": 11,
                        "remaining_time": 19.6506964,
                        "learn": [
                          8.413388975
                        ]
                      },
                      {
                        "test": [
                          8.196859263
                        ],
                        "passed_time": 0.2517791803,
                        "iteration": 12,
                        "remaining_time": 19.11585007,
                        "learn": [
                          8.173138627
                        ]
                      },
                      {
                        "test": [
                          8.018445496
                        ],
                        "passed_time": 0.2644881372,
                        "iteration": 13,
                        "remaining_time": 18.62752166,
                        "learn": [
                          7.974679416
                        ]
                      },
                      {
                        "test": [
                          7.811042545
                        ],
                        "passed_time": 0.2771265556,
                        "iteration": 14,
                        "remaining_time": 18.19797715,
                        "learn": [
                          7.764483635
                        ]
                      },
                      {
                        "test": [
                          7.632446346
                        ],
                        "passed_time": 0.2898768279,
                        "iteration": 15,
                        "remaining_time": 17.82742492,
                        "learn": [
                          7.568211537
                        ]
                      },
                      {
                        "test": [
                          7.461216862
                        ],
                        "passed_time": 0.3022585774,
                        "iteration": 16,
                        "remaining_time": 17.47765774,
                        "learn": [
                          7.385279737
                        ]
                      },
                      {
                        "test": [
                          7.306216504
                        ],
                        "passed_time": 0.3148324571,
                        "iteration": 17,
                        "remaining_time": 17.1758596,
                        "learn": [
                          7.223515091
                        ]
                      },
                      {
                        "test": [
                          7.165433033
                        ],
                        "passed_time": 0.3268383148,
                        "iteration": 18,
                        "remaining_time": 16.87517825,
                        "learn": [
                          7.063396101
                        ]
                      },
                      {
                        "test": [
                          7.035067646
                        ],
                        "passed_time": 0.3391884747,
                        "iteration": 19,
                        "remaining_time": 16.62023526,
                        "learn": [
                          6.917605983
                        ]
                      },
                      {
                        "test": [
                          6.919987514
                        ],
                        "passed_time": 0.3617950161,
                        "iteration": 20,
                        "remaining_time": 16.86653908,
                        "learn": [
                          6.792391275
                        ]
                      },
                      {
                        "test": [
                          6.821355995
                        ],
                        "passed_time": 0.4166115459,
                        "iteration": 21,
                        "remaining_time": 18.5202769,
                        "learn": [
                          6.676495073
                        ]
                      },
                      {
                        "test": [
                          6.715003389
                        ],
                        "passed_time": 0.4348851396,
                        "iteration": 22,
                        "remaining_time": 18.47316441,
                        "learn": [
                          6.560426166
                        ]
                      },
                      {
                        "test": [
                          6.622271199
                        ],
                        "passed_time": 0.4478545521,
                        "iteration": 23,
                        "remaining_time": 18.21275179,
                        "learn": [
                          6.452882488
                        ]
                      },
                      {
                        "test": [
                          6.529663043
                        ],
                        "passed_time": 0.4611644897,
                        "iteration": 24,
                        "remaining_time": 17.9854151,
                        "learn": [
                          6.350343087
                        ]
                      },
                      {
                        "test": [
                          6.441208802
                        ],
                        "passed_time": 0.4738255155,
                        "iteration": 25,
                        "remaining_time": 17.75023277,
                        "learn": [
                          6.250552848
                        ]
                      },
                      {
                        "test": [
                          6.375928175
                        ],
                        "passed_time": 0.4863212053,
                        "iteration": 26,
                        "remaining_time": 17.52557529,
                        "learn": [
                          6.172808531
                        ]
                      },
                      {
                        "test": [
                          6.310080374
                        ],
                        "passed_time": 0.4988187801,
                        "iteration": 27,
                        "remaining_time": 17.31613765,
                        "learn": [
                          6.095201826
                        ]
                      },
                      {
                        "test": [
                          6.24024703
                        ],
                        "passed_time": 0.5111533257,
                        "iteration": 28,
                        "remaining_time": 17.11482342,
                        "learn": [
                          6.011845718
                        ]
                      },
                      {
                        "test": [
                          6.183569318
                        ],
                        "passed_time": 0.523727959,
                        "iteration": 29,
                        "remaining_time": 16.93387067,
                        "learn": [
                          5.94175781
                        ]
                      },
                      {
                        "test": [
                          6.139283647
                        ],
                        "passed_time": 0.5361265178,
                        "iteration": 30,
                        "remaining_time": 16.75827728,
                        "learn": [
                          5.878940171
                        ]
                      },
                      {
                        "test": [
                          6.088207874
                        ],
                        "passed_time": 0.5485222689,
                        "iteration": 31,
                        "remaining_time": 16.59279863,
                        "learn": [
                          5.816233339
                        ]
                      },
                      {
                        "test": [
                          6.037789687
                        ],
                        "passed_time": 0.5657550633,
                        "iteration": 32,
                        "remaining_time": 16.57833776,
                        "learn": [
                          5.758540955
                        ]
                      },
                      {
                        "test": [
                          5.994161747
                        ],
                        "passed_time": 0.5816596786,
                        "iteration": 33,
                        "remaining_time": 16.52597793,
                        "learn": [
                          5.70217068
                        ]
                      },
                      {
                        "test": [
                          5.954680765
                        ],
                        "passed_time": 0.5950388871,
                        "iteration": 34,
                        "remaining_time": 16.40607217,
                        "learn": [
                          5.653565057
                        ]
                      },
                      {
                        "test": [
                          5.919079763
                        ],
                        "passed_time": 0.6079191004,
                        "iteration": 35,
                        "remaining_time": 16.27872258,
                        "learn": [
                          5.603969702
                        ]
                      },
                      {
                        "test": [
                          5.889373951
                        ],
                        "passed_time": 0.6233599486,
                        "iteration": 36,
                        "remaining_time": 16.22420623,
                        "learn": [
                          5.565224396
                        ]
                      },
                      {
                        "test": [
                          5.861042606
                        ],
                        "passed_time": 0.6367258287,
                        "iteration": 37,
                        "remaining_time": 16.11921703,
                        "learn": [
                          5.531856521
                        ]
                      },
                      {
                        "test": [
                          5.834648186
                        ],
                        "passed_time": 0.6495825423,
                        "iteration": 38,
                        "remaining_time": 16.00638008,
                        "learn": [
                          5.491314802
                        ]
                      },
                      {
                        "test": [
                          5.805052475
                        ],
                        "passed_time": 0.6633889005,
                        "iteration": 39,
                        "remaining_time": 15.92133361,
                        "learn": [
                          5.457409495
                        ]
                      },
                      {
                        "test": [
                          5.783511949
                        ],
                        "passed_time": 0.6766428752,
                        "iteration": 40,
                        "remaining_time": 15.82684189,
                        "learn": [
                          5.427113962
                        ]
                      },
                      {
                        "test": [
                          5.768987741
                        ],
                        "passed_time": 0.6946139929,
                        "iteration": 41,
                        "remaining_time": 15.84381441,
                        "learn": [
                          5.398207444
                        ]
                      },
                      {
                        "test": [
                          5.749251812
                        ],
                        "passed_time": 0.7083109454,
                        "iteration": 42,
                        "remaining_time": 15.76403662,
                        "learn": [
                          5.368224277
                        ]
                      },
                      {
                        "test": [
                          5.736760141
                        ],
                        "passed_time": 0.7216542857,
                        "iteration": 43,
                        "remaining_time": 15.67957948,
                        "learn": [
                          5.340461928
                        ]
                      },
                      {
                        "test": [
                          5.719044514
                        ],
                        "passed_time": 0.73496939,
                        "iteration": 44,
                        "remaining_time": 15.59768372,
                        "learn": [
                          5.314378579
                        ]
                      },
                      {
                        "test": [
                          5.704549721
                        ],
                        "passed_time": 0.7484333728,
                        "iteration": 45,
                        "remaining_time": 15.52185734,
                        "learn": [
                          5.289414851
                        ]
                      },
                      {
                        "test": [
                          5.686468968
                        ],
                        "passed_time": 0.7618590834,
                        "iteration": 46,
                        "remaining_time": 15.44790865,
                        "learn": [
                          5.265025033
                        ]
                      },
                      {
                        "test": [
                          5.670928513
                        ],
                        "passed_time": 0.7789802661,
                        "iteration": 47,
                        "remaining_time": 15.44977528,
                        "learn": [
                          5.243478807
                        ]
                      },
                      {
                        "test": [
                          5.656058842
                        ],
                        "passed_time": 0.7915085073,
                        "iteration": 48,
                        "remaining_time": 15.36172634,
                        "learn": [
                          5.223703542
                        ]
                      },
                      {
                        "test": [
                          5.646627621
                        ],
                        "passed_time": 0.80436561,
                        "iteration": 49,
                        "remaining_time": 15.28294659,
                        "learn": [
                          5.198818699
                        ]
                      },
                      {
                        "test": [
                          5.643882942
                        ],
                        "passed_time": 0.8168499541,
                        "iteration": 50,
                        "remaining_time": 15.19981581,
                        "learn": [
                          5.181292201
                        ]
                      },
                      {
                        "test": [
                          5.638524568
                        ],
                        "passed_time": 0.831977317,
                        "iteration": 51,
                        "remaining_time": 15.16758647,
                        "learn": [
                          5.166956704
                        ]
                      },
                      {
                        "test": [
                          5.629733048
                        ],
                        "passed_time": 0.8455513715,
                        "iteration": 52,
                        "remaining_time": 15.10824809,
                        "learn": [
                          5.151819337
                        ]
                      },
                      {
                        "test": [
                          5.621135618
                        ],
                        "passed_time": 0.8591156989,
                        "iteration": 53,
                        "remaining_time": 15.05043428,
                        "learn": [
                          5.134565104
                        ]
                      },
                      {
                        "test": [
                          5.613345115
                        ],
                        "passed_time": 0.8723188942,
                        "iteration": 54,
                        "remaining_time": 14.98802464,
                        "learn": [
                          5.12142232
                        ]
                      },
                      {
                        "test": [
                          5.610660437
                        ],
                        "passed_time": 0.8858832557,
                        "iteration": 55,
                        "remaining_time": 14.9334606,
                        "learn": [
                          5.102604501
                        ]
                      },
                      {
                        "test": [
                          5.598600132
                        ],
                        "passed_time": 0.8994736136,
                        "iteration": 56,
                        "remaining_time": 14.88076522,
                        "learn": [
                          5.087999028
                        ]
                      },
                      {
                        "test": [
                          5.593603476
                        ],
                        "passed_time": 0.9134912681,
                        "iteration": 57,
                        "remaining_time": 14.83635818,
                        "learn": [
                          5.073560732
                        ]
                      },
                      {
                        "test": [
                          5.590122802
                        ],
                        "passed_time": 0.927671081,
                        "iteration": 58,
                        "remaining_time": 14.79556758,
                        "learn": [
                          5.056246844
                        ]
                      },
                      {
                        "test": [
                          5.580381829
                        ],
                        "passed_time": 0.9414809701,
                        "iteration": 59,
                        "remaining_time": 14.74986853,
                        "learn": [
                          5.041533771
                        ]
                      },
                      {
                        "test": [
                          5.575335476
                        ],
                        "passed_time": 0.9552025312,
                        "iteration": 60,
                        "remaining_time": 14.70385536,
                        "learn": [
                          5.030365164
                        ]
                      },
                      {
                        "test": [
                          5.568535889
                        ],
                        "passed_time": 0.9684080075,
                        "iteration": 61,
                        "remaining_time": 14.65107598,
                        "learn": [
                          5.01639696
                        ]
                      },
                      {
                        "test": [
                          5.562763022
                        ],
                        "passed_time": 0.9985542448,
                        "iteration": 62,
                        "remaining_time": 14.85151313,
                        "learn": [
                          5.001910649
                        ]
                      },
                      {
                        "test": [
                          5.55766061
                        ],
                        "passed_time": 1.012118743,
                        "iteration": 63,
                        "remaining_time": 14.80223662,
                        "learn": [
                          4.986737618
                        ]
                      },
                      {
                        "test": [
                          5.559086475
                        ],
                        "passed_time": 1.02537753,
                        "iteration": 64,
                        "remaining_time": 14.7496614,
                        "learn": [
                          4.974976332
                        ]
                      },
                      {
                        "test": [
                          5.556252855
                        ],
                        "passed_time": 1.042195229,
                        "iteration": 65,
                        "remaining_time": 14.74864158,
                        "learn": [
                          4.962887743
                        ]
                      },
                      {
                        "test": [
                          5.552848872
                        ],
                        "passed_time": 1.063198205,
                        "iteration": 66,
                        "remaining_time": 14.80543173,
                        "learn": [
                          4.951282225
                        ]
                      },
                      {
                        "test": [
                          5.550548153
                        ],
                        "passed_time": 1.076318008,
                        "iteration": 67,
                        "remaining_time": 14.75188799,
                        "learn": [
                          4.943193555
                        ]
                      },
                      {
                        "test": [
                          5.547602982
                        ],
                        "passed_time": 1.089462316,
                        "iteration": 68,
                        "remaining_time": 14.69984661,
                        "learn": [
                          4.934139895
                        ]
                      },
                      {
                        "test": [
                          5.54542669
                        ],
                        "passed_time": 1.103226872,
                        "iteration": 69,
                        "remaining_time": 14.65715701,
                        "learn": [
                          4.919813661
                        ]
                      },
                      {
                        "test": [
                          5.543719708
                        ],
                        "passed_time": 1.116521144,
                        "iteration": 70,
                        "remaining_time": 14.60912877,
                        "learn": [
                          4.913801438
                        ]
                      },
                      {
                        "test": [
                          5.53779583
                        ],
                        "passed_time": 1.130425371,
                        "iteration": 71,
                        "remaining_time": 14.569927,
                        "learn": [
                          4.903391135
                        ]
                      },
                      {
                        "test": [
                          5.537447604
                        ],
                        "passed_time": 1.144239839,
                        "iteration": 72,
                        "remaining_time": 14.53027851,
                        "learn": [
                          4.898206274
                        ]
                      },
                      {
                        "test": [
                          5.540916788
                        ],
                        "passed_time": 1.157826069,
                        "iteration": 73,
                        "remaining_time": 14.48847217,
                        "learn": [
                          4.890035854
                        ]
                      },
                      {
                        "test": [
                          5.540989485
                        ],
                        "passed_time": 1.171545001,
                        "iteration": 74,
                        "remaining_time": 14.44905501,
                        "learn": [
                          4.887444147
                        ]
                      },
                      {
                        "test": [
                          5.538429684
                        ],
                        "passed_time": 1.185534596,
                        "iteration": 75,
                        "remaining_time": 14.41360482,
                        "learn": [
                          4.879703916
                        ]
                      }
                    ]
                  },
                  "total_iterations": 1000,
                  "passed_iterations": 75
                },
                "path": "catboost_info",
                "name": "catboost_info"
              }
            },
            "_view_module": "catboost_module",
            "_model_module_version": "1.2.0",
            "_view_count": null,
            "_view_module_version": "",
            "layout": "IPY_MODEL_fcfc7d8fce3842bb821cf6338a9783ec",
            "_model_module": "@jupyter-widgets/base"
          }
        },
        "fcfc7d8fce3842bb821cf6338a9783ec": {
          "model_module": "@jupyter-widgets/base",
          "model_name": "LayoutModel",
          "state": {
            "_view_name": "LayoutView",
            "grid_template_rows": null,
            "right": null,
            "justify_content": null,
            "_view_module": "@jupyter-widgets/base",
            "overflow": null,
            "_model_module_version": "1.2.0",
            "_view_count": null,
            "flex_flow": null,
            "width": null,
            "min_width": null,
            "border": null,
            "align_items": null,
            "bottom": null,
            "_model_module": "@jupyter-widgets/base",
            "top": null,
            "grid_column": null,
            "overflow_y": null,
            "overflow_x": null,
            "grid_auto_flow": null,
            "grid_area": null,
            "grid_template_columns": null,
            "flex": null,
            "_model_name": "LayoutModel",
            "justify_items": null,
            "grid_row": null,
            "max_height": null,
            "align_content": null,
            "visibility": null,
            "align_self": "stretch",
            "height": "500px",
            "min_height": null,
            "padding": null,
            "grid_auto_rows": null,
            "grid_gap": null,
            "max_width": null,
            "order": null,
            "_view_module_version": "1.2.0",
            "grid_template_areas": null,
            "object_position": null,
            "object_fit": null,
            "grid_auto_columns": null,
            "margin": null,
            "display": null,
            "left": null
          }
        },
        "fe947798df6f43789e58ee12d2352330": {
          "model_module": "@jupyter-widgets/base",
          "model_name": "DOMWidgetModel",
          "state": {
            "_view_name": "CatboostIpythonWidgetView",
            "_dom_classes": [],
            "_model_name": "DOMWidgetModel",
            "data": {
              "catboost_info": {
                "content": {
                  "data": {
                    "meta": {
                      "name": "experiment",
                      "parameters": "",
                      "test_metrics": [
                        {
                          "best_value": "Min",
                          "name": "RMSE"
                        }
                      ],
                      "learn_sets": [
                        "learn"
                      ],
                      "launch_mode": "Train",
                      "learn_metrics": [
                        {
                          "best_value": "Min",
                          "name": "RMSE"
                        }
                      ],
                      "iteration_count": 1000,
                      "test_sets": [
                        "test"
                      ]
                    },
                    "iterations": [
                      {
                        "test": [
                          12.56346899
                        ],
                        "passed_time": 0.0535219184,
                        "iteration": 0,
                        "remaining_time": 53.46839648,
                        "learn": [
                          12.26382874
                        ]
                      },
                      {
                        "test": [
                          12.16616857
                        ],
                        "passed_time": 0.07844818069,
                        "iteration": 1,
                        "remaining_time": 39.14564216,
                        "learn": [
                          11.82138985
                        ]
                      },
                      {
                        "test": [
                          11.73481335
                        ],
                        "passed_time": 0.1057873126,
                        "iteration": 2,
                        "remaining_time": 35.15665023,
                        "learn": [
                          11.36983685
                        ]
                      },
                      {
                        "test": [
                          11.36829382
                        ],
                        "passed_time": 0.1194004139,
                        "iteration": 3,
                        "remaining_time": 29.73070306,
                        "learn": [
                          10.94441037
                        ]
                      },
                      {
                        "test": [
                          10.99923914
                        ],
                        "passed_time": 0.133043763,
                        "iteration": 4,
                        "remaining_time": 26.47570883,
                        "learn": [
                          10.52701284
                        ]
                      },
                      {
                        "test": [
                          10.641427
                        ],
                        "passed_time": 0.1499620911,
                        "iteration": 5,
                        "remaining_time": 24.84371976,
                        "learn": [
                          10.14803239
                        ]
                      },
                      {
                        "test": [
                          10.32247221
                        ],
                        "passed_time": 0.1632864776,
                        "iteration": 6,
                        "remaining_time": 23.16335317,
                        "learn": [
                          9.789319682
                        ]
                      },
                      {
                        "test": [
                          10.04188369
                        ],
                        "passed_time": 0.1765047059,
                        "iteration": 7,
                        "remaining_time": 21.88658353,
                        "learn": [
                          9.466099524
                        ]
                      },
                      {
                        "test": [
                          9.781587216
                        ],
                        "passed_time": 0.1902217276,
                        "iteration": 8,
                        "remaining_time": 20.94552579,
                        "learn": [
                          9.167425403
                        ]
                      },
                      {
                        "test": [
                          9.542706458
                        ],
                        "passed_time": 0.2069014403,
                        "iteration": 9,
                        "remaining_time": 20.48324259,
                        "learn": [
                          8.881904351
                        ]
                      },
                      {
                        "test": [
                          9.305841974
                        ],
                        "passed_time": 0.2204557746,
                        "iteration": 10,
                        "remaining_time": 19.82097828,
                        "learn": [
                          8.598603968
                        ]
                      },
                      {
                        "test": [
                          9.072390617
                        ],
                        "passed_time": 0.233535188,
                        "iteration": 11,
                        "remaining_time": 19.22773048,
                        "learn": [
                          8.334402517
                        ]
                      },
                      {
                        "test": [
                          8.858494163
                        ],
                        "passed_time": 0.2463908498,
                        "iteration": 12,
                        "remaining_time": 18.70675144,
                        "learn": [
                          8.096654404
                        ]
                      },
                      {
                        "test": [
                          8.685114966
                        ],
                        "passed_time": 0.2590666627,
                        "iteration": 13,
                        "remaining_time": 18.24569496,
                        "learn": [
                          7.894882447
                        ]
                      },
                      {
                        "test": [
                          8.497742544
                        ],
                        "passed_time": 0.2720716489,
                        "iteration": 14,
                        "remaining_time": 17.86603828,
                        "learn": [
                          7.683640099
                        ]
                      },
                      {
                        "test": [
                          8.321504499
                        ],
                        "passed_time": 0.2851509436,
                        "iteration": 15,
                        "remaining_time": 17.53678303,
                        "learn": [
                          7.47697585
                        ]
                      },
                      {
                        "test": [
                          8.154506111
                        ],
                        "passed_time": 0.2990291704,
                        "iteration": 16,
                        "remaining_time": 17.29092203,
                        "learn": [
                          7.277235962
                        ]
                      },
                      {
                        "test": [
                          8.02617078
                        ],
                        "passed_time": 0.3122966627,
                        "iteration": 17,
                        "remaining_time": 17.03751793,
                        "learn": [
                          7.11114639
                        ]
                      },
                      {
                        "test": [
                          7.909348812
                        ],
                        "passed_time": 0.3255536746,
                        "iteration": 18,
                        "remaining_time": 16.80885025,
                        "learn": [
                          6.963713446
                        ]
                      },
                      {
                        "test": [
                          7.790864328
                        ],
                        "passed_time": 0.33844913,
                        "iteration": 19,
                        "remaining_time": 16.58400737,
                        "learn": [
                          6.81694129
                        ]
                      },
                      {
                        "test": [
                          7.686006981
                        ],
                        "passed_time": 0.355782628,
                        "iteration": 20,
                        "remaining_time": 16.58624728,
                        "learn": [
                          6.681943181
                        ]
                      },
                      {
                        "test": [
                          7.583194034
                        ],
                        "passed_time": 0.3695246349,
                        "iteration": 21,
                        "remaining_time": 16.42704968,
                        "learn": [
                          6.557041627
                        ]
                      },
                      {
                        "test": [
                          7.485451591
                        ],
                        "passed_time": 0.3831092674,
                        "iteration": 22,
                        "remaining_time": 16.2738154,
                        "learn": [
                          6.440730809
                        ]
                      },
                      {
                        "test": [
                          7.393859837
                        ],
                        "passed_time": 0.396892821,
                        "iteration": 23,
                        "remaining_time": 16.14030805,
                        "learn": [
                          6.324976625
                        ]
                      },
                      {
                        "test": [
                          7.313621914
                        ],
                        "passed_time": 0.4134847898,
                        "iteration": 24,
                        "remaining_time": 16.1259068,
                        "learn": [
                          6.223930158
                        ]
                      },
                      {
                        "test": [
                          7.233999954
                        ],
                        "passed_time": 0.4269349678,
                        "iteration": 25,
                        "remaining_time": 15.99364072,
                        "learn": [
                          6.127497372
                        ]
                      },
                      {
                        "test": [
                          7.176404505
                        ],
                        "passed_time": 0.4398977423,
                        "iteration": 26,
                        "remaining_time": 15.85261123,
                        "learn": [
                          6.045954823
                        ]
                      },
                      {
                        "test": [
                          7.11840791
                        ],
                        "passed_time": 0.4534505089,
                        "iteration": 27,
                        "remaining_time": 15.74121052,
                        "learn": [
                          5.967360076
                        ]
                      },
                      {
                        "test": [
                          7.05681123
                        ],
                        "passed_time": 0.466766905,
                        "iteration": 28,
                        "remaining_time": 15.62864361,
                        "learn": [
                          5.881335246
                        ]
                      },
                      {
                        "test": [
                          7.00225391
                        ],
                        "passed_time": 0.4794163769,
                        "iteration": 29,
                        "remaining_time": 15.50112952,
                        "learn": [
                          5.816313016
                        ]
                      },
                      {
                        "test": [
                          6.965473652
                        ],
                        "passed_time": 0.4919387841,
                        "iteration": 30,
                        "remaining_time": 15.37705425,
                        "learn": [
                          5.758674713
                        ]
                      },
                      {
                        "test": [
                          6.930414614
                        ],
                        "passed_time": 0.5043972075,
                        "iteration": 31,
                        "remaining_time": 15.25801553,
                        "learn": [
                          5.703814496
                        ]
                      },
                      {
                        "test": [
                          6.883723503
                        ],
                        "passed_time": 0.5168272914,
                        "iteration": 32,
                        "remaining_time": 15.14460578,
                        "learn": [
                          5.646586059
                        ]
                      },
                      {
                        "test": [
                          6.857180021
                        ],
                        "passed_time": 0.5295006488,
                        "iteration": 33,
                        "remaining_time": 15.04404785,
                        "learn": [
                          5.597846341
                        ]
                      },
                      {
                        "test": [
                          6.82016469
                        ],
                        "passed_time": 0.5430166896,
                        "iteration": 34,
                        "remaining_time": 14.97174587,
                        "learn": [
                          5.544284614
                        ]
                      },
                      {
                        "test": [
                          6.788270241
                        ],
                        "passed_time": 0.5594520582,
                        "iteration": 35,
                        "remaining_time": 14.98088289,
                        "learn": [
                          5.499852622
                        ]
                      },
                      {
                        "test": [
                          6.761892629
                        ],
                        "passed_time": 0.5733450626,
                        "iteration": 36,
                        "remaining_time": 14.92246744,
                        "learn": [
                          5.461705791
                        ]
                      },
                      {
                        "test": [
                          6.74288305
                        ],
                        "passed_time": 0.5866995614,
                        "iteration": 37,
                        "remaining_time": 14.85276258,
                        "learn": [
                          5.426856483
                        ]
                      },
                      {
                        "test": [
                          6.71254549
                        ],
                        "passed_time": 0.600347859,
                        "iteration": 38,
                        "remaining_time": 14.79318699,
                        "learn": [
                          5.388789265
                        ]
                      },
                      {
                        "test": [
                          6.691092609
                        ],
                        "passed_time": 0.6167852672,
                        "iteration": 39,
                        "remaining_time": 14.80284641,
                        "learn": [
                          5.354673967
                        ]
                      },
                      {
                        "test": [
                          6.667085734
                        ],
                        "passed_time": 0.6307493092,
                        "iteration": 40,
                        "remaining_time": 14.75338018,
                        "learn": [
                          5.321300792
                        ]
                      },
                      {
                        "test": [
                          6.648888528
                        ],
                        "passed_time": 0.643853495,
                        "iteration": 41,
                        "remaining_time": 14.68599162,
                        "learn": [
                          5.292481362
                        ]
                      },
                      {
                        "test": [
                          6.622291396
                        ],
                        "passed_time": 0.6571630735,
                        "iteration": 42,
                        "remaining_time": 14.6256991,
                        "learn": [
                          5.264705059
                        ]
                      },
                      {
                        "test": [
                          6.608548125
                        ],
                        "passed_time": 0.6697656423,
                        "iteration": 43,
                        "remaining_time": 14.55218077,
                        "learn": [
                          5.241463546
                        ]
                      },
                      {
                        "test": [
                          6.593882365
                        ],
                        "passed_time": 0.6822832109,
                        "iteration": 44,
                        "remaining_time": 14.47956592,
                        "learn": [
                          5.216824256
                        ]
                      },
                      {
                        "test": [
                          6.578449087
                        ],
                        "passed_time": 0.6954695815,
                        "iteration": 45,
                        "remaining_time": 14.42343437,
                        "learn": [
                          5.191637082
                        ]
                      },
                      {
                        "test": [
                          6.562637575
                        ],
                        "passed_time": 0.708506615,
                        "iteration": 46,
                        "remaining_time": 14.36610222,
                        "learn": [
                          5.165737138
                        ]
                      },
                      {
                        "test": [
                          6.560794069
                        ],
                        "passed_time": 0.7212466607,
                        "iteration": 47,
                        "remaining_time": 14.30472544,
                        "learn": [
                          5.147900412
                        ]
                      },
                      {
                        "test": [
                          6.555475823
                        ],
                        "passed_time": 0.7338547863,
                        "iteration": 48,
                        "remaining_time": 14.2427735,
                        "learn": [
                          5.131432829
                        ]
                      },
                      {
                        "test": [
                          6.53717098
                        ],
                        "passed_time": 0.7466452517,
                        "iteration": 49,
                        "remaining_time": 14.18625978,
                        "learn": [
                          5.105751888
                        ]
                      },
                      {
                        "test": [
                          6.529512766
                        ],
                        "passed_time": 0.7763502834,
                        "iteration": 50,
                        "remaining_time": 14.44620429,
                        "learn": [
                          5.085195565
                        ]
                      },
                      {
                        "test": [
                          6.526550004
                        ],
                        "passed_time": 0.8261341744,
                        "iteration": 51,
                        "remaining_time": 15.06106149,
                        "learn": [
                          5.070656599
                        ]
                      },
                      {
                        "test": [
                          6.515533287
                        ],
                        "passed_time": 0.8416947493,
                        "iteration": 52,
                        "remaining_time": 15.03933826,
                        "learn": [
                          5.055857356
                        ]
                      },
                      {
                        "test": [
                          6.509155793
                        ],
                        "passed_time": 0.8580817799,
                        "iteration": 53,
                        "remaining_time": 15.03232155,
                        "learn": [
                          5.043243957
                        ]
                      },
                      {
                        "test": [
                          6.506418786
                        ],
                        "passed_time": 0.8716372274,
                        "iteration": 54,
                        "remaining_time": 14.97631236,
                        "learn": [
                          5.028580697
                        ]
                      },
                      {
                        "test": [
                          6.501070581
                        ],
                        "passed_time": 0.8850347697,
                        "iteration": 55,
                        "remaining_time": 14.91915755,
                        "learn": [
                          5.014614485
                        ]
                      },
                      {
                        "test": [
                          6.49504523
                        ],
                        "passed_time": 0.898056433,
                        "iteration": 56,
                        "remaining_time": 14.85731958,
                        "learn": [
                          5.002180994
                        ]
                      },
                      {
                        "test": [
                          6.490654602
                        ],
                        "passed_time": 0.9108383531,
                        "iteration": 57,
                        "remaining_time": 14.79327118,
                        "learn": [
                          4.988973814
                        ]
                      },
                      {
                        "test": [
                          6.484187549
                        ],
                        "passed_time": 0.9237206718,
                        "iteration": 58,
                        "remaining_time": 14.7325619,
                        "learn": [
                          4.971010537
                        ]
                      },
                      {
                        "test": [
                          6.472317488
                        ],
                        "passed_time": 0.9374221442,
                        "iteration": 59,
                        "remaining_time": 14.68628026,
                        "learn": [
                          4.957681124
                        ]
                      },
                      {
                        "test": [
                          6.472675432
                        ],
                        "passed_time": 0.9545046919,
                        "iteration": 60,
                        "remaining_time": 14.69311321,
                        "learn": [
                          4.945892469
                        ]
                      },
                      {
                        "test": [
                          6.465255186
                        ],
                        "passed_time": 0.9702061994,
                        "iteration": 61,
                        "remaining_time": 14.67828089,
                        "learn": [
                          4.931172888
                        ]
                      },
                      {
                        "test": [
                          6.466211512
                        ],
                        "passed_time": 0.9854011833,
                        "iteration": 62,
                        "remaining_time": 14.65588744,
                        "learn": [
                          4.91615542
                        ]
                      },
                      {
                        "test": [
                          6.468563759
                        ],
                        "passed_time": 0.9980228841,
                        "iteration": 63,
                        "remaining_time": 14.59608468,
                        "learn": [
                          4.909250578
                        ]
                      },
                      {
                        "test": [
                          6.466314162
                        ],
                        "passed_time": 1.010572404,
                        "iteration": 64,
                        "remaining_time": 14.53669534,
                        "learn": [
                          4.895786483
                        ]
                      }
                    ]
                  },
                  "total_iterations": 1000,
                  "passed_iterations": 64
                },
                "path": "catboost_info",
                "name": "catboost_info"
              }
            },
            "_view_module": "catboost_module",
            "_model_module_version": "1.2.0",
            "_view_count": null,
            "_view_module_version": "",
            "layout": "IPY_MODEL_740952c9e8134ee19f5007606fba88cb",
            "_model_module": "@jupyter-widgets/base"
          }
        },
        "740952c9e8134ee19f5007606fba88cb": {
          "model_module": "@jupyter-widgets/base",
          "model_name": "LayoutModel",
          "state": {
            "_view_name": "LayoutView",
            "grid_template_rows": null,
            "right": null,
            "justify_content": null,
            "_view_module": "@jupyter-widgets/base",
            "overflow": null,
            "_model_module_version": "1.2.0",
            "_view_count": null,
            "flex_flow": null,
            "width": null,
            "min_width": null,
            "border": null,
            "align_items": null,
            "bottom": null,
            "_model_module": "@jupyter-widgets/base",
            "top": null,
            "grid_column": null,
            "overflow_y": null,
            "overflow_x": null,
            "grid_auto_flow": null,
            "grid_area": null,
            "grid_template_columns": null,
            "flex": null,
            "_model_name": "LayoutModel",
            "justify_items": null,
            "grid_row": null,
            "max_height": null,
            "align_content": null,
            "visibility": null,
            "align_self": "stretch",
            "height": "500px",
            "min_height": null,
            "padding": null,
            "grid_auto_rows": null,
            "grid_gap": null,
            "max_width": null,
            "order": null,
            "_view_module_version": "1.2.0",
            "grid_template_areas": null,
            "object_position": null,
            "object_fit": null,
            "grid_auto_columns": null,
            "margin": null,
            "display": null,
            "left": null
          }
        },
        "1720d55c06fa44bab36dd2bea9b8a120": {
          "model_module": "@jupyter-widgets/base",
          "model_name": "DOMWidgetModel",
          "state": {
            "_view_name": "CatboostIpythonWidgetView",
            "_dom_classes": [],
            "_model_name": "DOMWidgetModel",
            "data": {
              "catboost_info": {
                "content": {
                  "data": {
                    "meta": {
                      "name": "experiment",
                      "parameters": "",
                      "test_metrics": [
                        {
                          "best_value": "Min",
                          "name": "RMSE"
                        }
                      ],
                      "learn_sets": [
                        "learn"
                      ],
                      "launch_mode": "Train",
                      "learn_metrics": [
                        {
                          "best_value": "Min",
                          "name": "RMSE"
                        }
                      ],
                      "iteration_count": 1000,
                      "test_sets": [
                        "test"
                      ]
                    },
                    "iterations": [
                      {
                        "test": [
                          12.19344443
                        ],
                        "passed_time": 0.02731869949,
                        "iteration": 0,
                        "remaining_time": 27.29138079,
                        "learn": [
                          12.36104558
                        ]
                      },
                      {
                        "test": [
                          11.70434219
                        ],
                        "passed_time": 0.05174878612,
                        "iteration": 1,
                        "remaining_time": 25.82264428,
                        "learn": [
                          11.88106295
                        ]
                      },
                      {
                        "test": [
                          11.24518514
                        ],
                        "passed_time": 0.08331870713,
                        "iteration": 2,
                        "remaining_time": 27.68958367,
                        "learn": [
                          11.41878238
                        ]
                      },
                      {
                        "test": [
                          10.81060152
                        ],
                        "passed_time": 0.1061777174,
                        "iteration": 3,
                        "remaining_time": 26.43825164,
                        "learn": [
                          10.99873489
                        ]
                      },
                      {
                        "test": [
                          10.41621714
                        ],
                        "passed_time": 0.1182882328,
                        "iteration": 4,
                        "remaining_time": 23.53935833,
                        "learn": [
                          10.60145038
                        ]
                      },
                      {
                        "test": [
                          10.04068358
                        ],
                        "passed_time": 0.1307170799,
                        "iteration": 5,
                        "remaining_time": 21.6554629,
                        "learn": [
                          10.22300287
                        ]
                      },
                      {
                        "test": [
                          9.690805083
                        ],
                        "passed_time": 0.1463372085,
                        "iteration": 6,
                        "remaining_time": 20.75897829,
                        "learn": [
                          9.876662676
                        ]
                      },
                      {
                        "test": [
                          9.378638593
                        ],
                        "passed_time": 0.1600291364,
                        "iteration": 7,
                        "remaining_time": 19.84361292,
                        "learn": [
                          9.566582747
                        ]
                      },
                      {
                        "test": [
                          9.083175873
                        ],
                        "passed_time": 0.1733617969,
                        "iteration": 8,
                        "remaining_time": 19.08906008,
                        "learn": [
                          9.263181829
                        ]
                      },
                      {
                        "test": [
                          8.801079439
                        ],
                        "passed_time": 0.1864481988,
                        "iteration": 9,
                        "remaining_time": 18.45837168,
                        "learn": [
                          8.976390314
                        ]
                      },
                      {
                        "test": [
                          8.524453564
                        ],
                        "passed_time": 0.2018444791,
                        "iteration": 10,
                        "remaining_time": 18.14765362,
                        "learn": [
                          8.700688473
                        ]
                      },
                      {
                        "test": [
                          8.266716204
                        ],
                        "passed_time": 0.2148501971,
                        "iteration": 11,
                        "remaining_time": 17.68933289,
                        "learn": [
                          8.441236779
                        ]
                      },
                      {
                        "test": [
                          8.033597965
                        ],
                        "passed_time": 0.2284098718,
                        "iteration": 12,
                        "remaining_time": 17.34158026,
                        "learn": [
                          8.195890816
                        ]
                      },
                      {
                        "test": [
                          7.842853095
                        ],
                        "passed_time": 0.2417397714,
                        "iteration": 13,
                        "remaining_time": 17.02538675,
                        "learn": [
                          7.998730231
                        ]
                      },
                      {
                        "test": [
                          7.635267896
                        ],
                        "passed_time": 0.2549907947,
                        "iteration": 14,
                        "remaining_time": 16.74439552,
                        "learn": [
                          7.794127047
                        ]
                      },
                      {
                        "test": [
                          7.439273127
                        ],
                        "passed_time": 0.26850892,
                        "iteration": 15,
                        "remaining_time": 16.51329858,
                        "learn": [
                          7.592632308
                        ]
                      },
                      {
                        "test": [
                          7.26128934
                        ],
                        "passed_time": 0.2850747296,
                        "iteration": 16,
                        "remaining_time": 16.48402701,
                        "learn": [
                          7.414943689
                        ]
                      },
                      {
                        "test": [
                          7.10372038
                        ],
                        "passed_time": 0.2982747305,
                        "iteration": 17,
                        "remaining_time": 16.27254363,
                        "learn": [
                          7.255824699
                        ]
                      },
                      {
                        "test": [
                          6.975496828
                        ],
                        "passed_time": 0.3112661092,
                        "iteration": 18,
                        "remaining_time": 16.07116069,
                        "learn": [
                          7.113414126
                        ]
                      },
                      {
                        "test": [
                          6.836868474
                        ],
                        "passed_time": 0.3244065213,
                        "iteration": 19,
                        "remaining_time": 15.89591954,
                        "learn": [
                          6.967967495
                        ]
                      },
                      {
                        "test": [
                          6.726966351
                        ],
                        "passed_time": 0.3376282337,
                        "iteration": 20,
                        "remaining_time": 15.7399067,
                        "learn": [
                          6.840880868
                        ]
                      },
                      {
                        "test": [
                          6.631210717
                        ],
                        "passed_time": 0.3530959875,
                        "iteration": 21,
                        "remaining_time": 15.69672163,
                        "learn": [
                          6.731556048
                        ]
                      },
                      {
                        "test": [
                          6.518536712
                        ],
                        "passed_time": 0.3651857236,
                        "iteration": 22,
                        "remaining_time": 15.51245443,
                        "learn": [
                          6.613685387
                        ]
                      },
                      {
                        "test": [
                          6.416151602
                        ],
                        "passed_time": 0.3775842565,
                        "iteration": 23,
                        "remaining_time": 15.3550931,
                        "learn": [
                          6.505656483
                        ]
                      },
                      {
                        "test": [
                          6.320785304
                        ],
                        "passed_time": 0.3898953124,
                        "iteration": 24,
                        "remaining_time": 15.20591718,
                        "learn": [
                          6.405110735
                        ]
                      },
                      {
                        "test": [
                          6.232906665
                        ],
                        "passed_time": 0.4050523572,
                        "iteration": 25,
                        "remaining_time": 15.17388446,
                        "learn": [
                          6.31174339
                        ]
                      },
                      {
                        "test": [
                          6.165392666
                        ],
                        "passed_time": 0.417896486,
                        "iteration": 26,
                        "remaining_time": 15.05975114,
                        "learn": [
                          6.23049855
                        ]
                      },
                      {
                        "test": [
                          6.0948818
                        ],
                        "passed_time": 0.4306155169,
                        "iteration": 27,
                        "remaining_time": 14.94851009,
                        "learn": [
                          6.147837891
                        ]
                      },
                      {
                        "test": [
                          6.019506234
                        ],
                        "passed_time": 0.443078939,
                        "iteration": 28,
                        "remaining_time": 14.83550516,
                        "learn": [
                          6.066781004
                        ]
                      },
                      {
                        "test": [
                          5.968674081
                        ],
                        "passed_time": 0.4556209441,
                        "iteration": 29,
                        "remaining_time": 14.73174386,
                        "learn": [
                          6.00449817
                        ]
                      },
                      {
                        "test": [
                          5.916957155
                        ],
                        "passed_time": 0.4682309773,
                        "iteration": 30,
                        "remaining_time": 14.6359941,
                        "learn": [
                          5.94100139
                        ]
                      },
                      {
                        "test": [
                          5.870754083
                        ],
                        "passed_time": 0.4819758473,
                        "iteration": 31,
                        "remaining_time": 14.57976938,
                        "learn": [
                          5.886021367
                        ]
                      },
                      {
                        "test": [
                          5.829667176
                        ],
                        "passed_time": 0.500105942,
                        "iteration": 32,
                        "remaining_time": 14.65461957,
                        "learn": [
                          5.830545052
                        ]
                      },
                      {
                        "test": [
                          5.782118304
                        ],
                        "passed_time": 0.5142762309,
                        "iteration": 33,
                        "remaining_time": 14.61149526,
                        "learn": [
                          5.77561885
                        ]
                      },
                      {
                        "test": [
                          5.7402875
                        ],
                        "passed_time": 0.5274864961,
                        "iteration": 34,
                        "remaining_time": 14.54355625,
                        "learn": [
                          5.727704425
                        ]
                      },
                      {
                        "test": [
                          5.69620838
                        ],
                        "passed_time": 0.5409067932,
                        "iteration": 35,
                        "remaining_time": 14.48428191,
                        "learn": [
                          5.682851802
                        ]
                      },
                      {
                        "test": [
                          5.660316981
                        ],
                        "passed_time": 0.5576058506,
                        "iteration": 36,
                        "remaining_time": 14.51282254,
                        "learn": [
                          5.634423526
                        ]
                      },
                      {
                        "test": [
                          5.63164581
                        ],
                        "passed_time": 0.5708165054,
                        "iteration": 37,
                        "remaining_time": 14.45067048,
                        "learn": [
                          5.593429048
                        ]
                      },
                      {
                        "test": [
                          5.604494344
                        ],
                        "passed_time": 0.5832200678,
                        "iteration": 38,
                        "remaining_time": 14.37114064,
                        "learn": [
                          5.55705403
                        ]
                      },
                      {
                        "test": [
                          5.578491385
                        ],
                        "passed_time": 0.5959249498,
                        "iteration": 39,
                        "remaining_time": 14.30219879,
                        "learn": [
                          5.521675085
                        ]
                      },
                      {
                        "test": [
                          5.557372358
                        ],
                        "passed_time": 0.6119763663,
                        "iteration": 40,
                        "remaining_time": 14.31427647,
                        "learn": [
                          5.491583018
                        ]
                      },
                      {
                        "test": [
                          5.543379606
                        ],
                        "passed_time": 0.6248905351,
                        "iteration": 41,
                        "remaining_time": 14.25345554,
                        "learn": [
                          5.460058362
                        ]
                      },
                      {
                        "test": [
                          5.526303126
                        ],
                        "passed_time": 0.6372867021,
                        "iteration": 42,
                        "remaining_time": 14.18333428,
                        "learn": [
                          5.428175632
                        ]
                      },
                      {
                        "test": [
                          5.513192972
                        ],
                        "passed_time": 0.6569542795,
                        "iteration": 43,
                        "remaining_time": 14.2738248,
                        "learn": [
                          5.405530849
                        ]
                      },
                      {
                        "test": [
                          5.502314918
                        ],
                        "passed_time": 0.6703656339,
                        "iteration": 44,
                        "remaining_time": 14.22664845,
                        "learn": [
                          5.379956103
                        ]
                      },
                      {
                        "test": [
                          5.492175771
                        ],
                        "passed_time": 0.6836396783,
                        "iteration": 45,
                        "remaining_time": 14.17809246,
                        "learn": [
                          5.34672727
                        ]
                      },
                      {
                        "test": [
                          5.478329153
                        ],
                        "passed_time": 0.6970971439,
                        "iteration": 46,
                        "remaining_time": 14.13475698,
                        "learn": [
                          5.322197903
                        ]
                      },
                      {
                        "test": [
                          5.466993958
                        ],
                        "passed_time": 0.7141949083,
                        "iteration": 47,
                        "remaining_time": 14.16486568,
                        "learn": [
                          5.306170121
                        ]
                      },
                      {
                        "test": [
                          5.457223293
                        ],
                        "passed_time": 0.7279058655,
                        "iteration": 48,
                        "remaining_time": 14.12731588,
                        "learn": [
                          5.286887428
                        ]
                      },
                      {
                        "test": [
                          5.453554956
                        ],
                        "passed_time": 0.7413148832,
                        "iteration": 49,
                        "remaining_time": 14.08498278,
                        "learn": [
                          5.262189891
                        ]
                      },
                      {
                        "test": [
                          5.448628093
                        ],
                        "passed_time": 0.7572953947,
                        "iteration": 50,
                        "remaining_time": 14.09163391,
                        "learn": [
                          5.241178254
                        ]
                      },
                      {
                        "test": [
                          5.439715262
                        ],
                        "passed_time": 0.7723653975,
                        "iteration": 51,
                        "remaining_time": 14.08081532,
                        "learn": [
                          5.225498027
                        ]
                      },
                      {
                        "test": [
                          5.426845906
                        ],
                        "passed_time": 0.7854947416,
                        "iteration": 52,
                        "remaining_time": 14.03516076,
                        "learn": [
                          5.20825374
                        ]
                      },
                      {
                        "test": [
                          5.417674229
                        ],
                        "passed_time": 0.7988574516,
                        "iteration": 53,
                        "remaining_time": 13.99479906,
                        "learn": [
                          5.191699317
                        ]
                      },
                      {
                        "test": [
                          5.406926961
                        ],
                        "passed_time": 0.8149108926,
                        "iteration": 54,
                        "remaining_time": 14.00165079,
                        "learn": [
                          5.174159789
                        ]
                      },
                      {
                        "test": [
                          5.404381891
                        ],
                        "passed_time": 0.8283721805,
                        "iteration": 55,
                        "remaining_time": 13.96398819,
                        "learn": [
                          5.161258208
                        ]
                      },
                      {
                        "test": [
                          5.388498607
                        ],
                        "passed_time": 0.8412120957,
                        "iteration": 56,
                        "remaining_time": 13.91689485,
                        "learn": [
                          5.144815305
                        ]
                      },
                      {
                        "test": [
                          5.381644081
                        ],
                        "passed_time": 0.8536711692,
                        "iteration": 57,
                        "remaining_time": 13.86479726,
                        "learn": [
                          5.131089491
                        ]
                      },
                      {
                        "test": [
                          5.37671496
                        ],
                        "passed_time": 0.8663920737,
                        "iteration": 58,
                        "remaining_time": 13.81821934,
                        "learn": [
                          5.109653166
                        ]
                      },
                      {
                        "test": [
                          5.367876055
                        ],
                        "passed_time": 0.8791723133,
                        "iteration": 59,
                        "remaining_time": 13.77369958,
                        "learn": [
                          5.094499096
                        ]
                      },
                      {
                        "test": [
                          5.368316491
                        ],
                        "passed_time": 0.8923077923,
                        "iteration": 60,
                        "remaining_time": 13.7356888,
                        "learn": [
                          5.08236839
                        ]
                      },
                      {
                        "test": [
                          5.366672584
                        ],
                        "passed_time": 0.9051151148,
                        "iteration": 61,
                        "remaining_time": 13.69351577,
                        "learn": [
                          5.068944014
                        ]
                      },
                      {
                        "test": [
                          5.363871277
                        ],
                        "passed_time": 0.9219781959,
                        "iteration": 62,
                        "remaining_time": 13.71259634,
                        "learn": [
                          5.056867883
                        ]
                      },
                      {
                        "test": [
                          5.364258159
                        ],
                        "passed_time": 0.9342894577,
                        "iteration": 63,
                        "remaining_time": 13.66398332,
                        "learn": [
                          5.04529796
                        ]
                      },
                      {
                        "test": [
                          5.365776497
                        ],
                        "passed_time": 0.947060732,
                        "iteration": 64,
                        "remaining_time": 13.62310438,
                        "learn": [
                          5.031841014
                        ]
                      },
                      {
                        "test": [
                          5.360165288
                        ],
                        "passed_time": 0.9708970989,
                        "iteration": 65,
                        "remaining_time": 13.73966501,
                        "learn": [
                          5.02155533
                        ]
                      },
                      {
                        "test": [
                          5.351574051
                        ],
                        "passed_time": 0.9871805714,
                        "iteration": 66,
                        "remaining_time": 13.74685781,
                        "learn": [
                          5.009092253
                        ]
                      },
                      {
                        "test": [
                          5.347121987
                        ],
                        "passed_time": 1.000018045,
                        "iteration": 67,
                        "remaining_time": 13.70612967,
                        "learn": [
                          4.999881762
                        ]
                      },
                      {
                        "test": [
                          5.344473794
                        ],
                        "passed_time": 1.016877143,
                        "iteration": 68,
                        "remaining_time": 13.72047275,
                        "learn": [
                          4.991919633
                        ]
                      },
                      {
                        "test": [
                          5.340280203
                        ],
                        "passed_time": 1.030125923,
                        "iteration": 69,
                        "remaining_time": 13.68595869,
                        "learn": [
                          4.979979618
                        ]
                      },
                      {
                        "test": [
                          5.338154762
                        ],
                        "passed_time": 1.042466035,
                        "iteration": 70,
                        "remaining_time": 13.64015417,
                        "learn": [
                          4.974281574
                        ]
                      },
                      {
                        "test": [
                          5.332073829
                        ],
                        "passed_time": 1.055333094,
                        "iteration": 71,
                        "remaining_time": 13.60207099,
                        "learn": [
                          4.966199148
                        ]
                      },
                      {
                        "test": [
                          5.333631713
                        ],
                        "passed_time": 1.068564895,
                        "iteration": 72,
                        "remaining_time": 13.56931038,
                        "learn": [
                          4.958583032
                        ]
                      },
                      {
                        "test": [
                          5.332107838
                        ],
                        "passed_time": 1.081536233,
                        "iteration": 73,
                        "remaining_time": 13.53381826,
                        "learn": [
                          4.950097908
                        ]
                      },
                      {
                        "test": [
                          5.332111896
                        ],
                        "passed_time": 1.093764125,
                        "iteration": 74,
                        "remaining_time": 13.48975754,
                        "learn": [
                          4.943956268
                        ]
                      }
                    ]
                  },
                  "total_iterations": 1000,
                  "passed_iterations": 74
                },
                "path": "catboost_info",
                "name": "catboost_info"
              }
            },
            "_view_module": "catboost_module",
            "_model_module_version": "1.2.0",
            "_view_count": null,
            "_view_module_version": "",
            "layout": "IPY_MODEL_cc11c5e59745483fa7ca101b208b9bf9",
            "_model_module": "@jupyter-widgets/base"
          }
        },
        "cc11c5e59745483fa7ca101b208b9bf9": {
          "model_module": "@jupyter-widgets/base",
          "model_name": "LayoutModel",
          "state": {
            "_view_name": "LayoutView",
            "grid_template_rows": null,
            "right": null,
            "justify_content": null,
            "_view_module": "@jupyter-widgets/base",
            "overflow": null,
            "_model_module_version": "1.2.0",
            "_view_count": null,
            "flex_flow": null,
            "width": null,
            "min_width": null,
            "border": null,
            "align_items": null,
            "bottom": null,
            "_model_module": "@jupyter-widgets/base",
            "top": null,
            "grid_column": null,
            "overflow_y": null,
            "overflow_x": null,
            "grid_auto_flow": null,
            "grid_area": null,
            "grid_template_columns": null,
            "flex": null,
            "_model_name": "LayoutModel",
            "justify_items": null,
            "grid_row": null,
            "max_height": null,
            "align_content": null,
            "visibility": null,
            "align_self": "stretch",
            "height": "500px",
            "min_height": null,
            "padding": null,
            "grid_auto_rows": null,
            "grid_gap": null,
            "max_width": null,
            "order": null,
            "_view_module_version": "1.2.0",
            "grid_template_areas": null,
            "object_position": null,
            "object_fit": null,
            "grid_auto_columns": null,
            "margin": null,
            "display": null,
            "left": null
          }
        },
        "025c74efe0d94e6eb1f4f629a75ffe19": {
          "model_module": "@jupyter-widgets/base",
          "model_name": "DOMWidgetModel",
          "state": {
            "_view_name": "CatboostIpythonWidgetView",
            "_dom_classes": [],
            "_model_name": "DOMWidgetModel",
            "data": {
              "catboost_info": {
                "content": {
                  "data": {
                    "meta": {
                      "name": "experiment",
                      "parameters": "",
                      "test_metrics": [
                        {
                          "best_value": "Min",
                          "name": "RMSE"
                        }
                      ],
                      "learn_sets": [
                        "learn"
                      ],
                      "launch_mode": "Train",
                      "learn_metrics": [
                        {
                          "best_value": "Min",
                          "name": "RMSE"
                        }
                      ],
                      "iteration_count": 1000,
                      "test_sets": [
                        "test"
                      ]
                    },
                    "iterations": [
                      {
                        "test": [
                          12.41666927
                        ],
                        "passed_time": 0.02797796116,
                        "iteration": 0,
                        "remaining_time": 27.9499832,
                        "learn": [
                          12.33212552
                        ]
                      },
                      {
                        "test": [
                          11.95296014
                        ],
                        "passed_time": 0.05403641154,
                        "iteration": 1,
                        "remaining_time": 26.96416936,
                        "learn": [
                          11.86021806
                        ]
                      },
                      {
                        "test": [
                          11.48660709
                        ],
                        "passed_time": 0.07981179206,
                        "iteration": 2,
                        "remaining_time": 26.52411889,
                        "learn": [
                          11.39751891
                        ]
                      },
                      {
                        "test": [
                          11.03966694
                        ],
                        "passed_time": 0.1096660932,
                        "iteration": 3,
                        "remaining_time": 27.30685721,
                        "learn": [
                          10.94742707
                        ]
                      },
                      {
                        "test": [
                          10.64606536
                        ],
                        "passed_time": 0.1282602008,
                        "iteration": 4,
                        "remaining_time": 25.52377996,
                        "learn": [
                          10.54696565
                        ]
                      },
                      {
                        "test": [
                          10.27871793
                        ],
                        "passed_time": 0.1558424009,
                        "iteration": 5,
                        "remaining_time": 25.81789108,
                        "learn": [
                          10.17404612
                        ]
                      },
                      {
                        "test": [
                          9.929884907
                        ],
                        "passed_time": 0.1860145051,
                        "iteration": 6,
                        "remaining_time": 26.38748622,
                        "learn": [
                          9.824683328
                        ]
                      },
                      {
                        "test": [
                          9.632094875
                        ],
                        "passed_time": 0.2133433821,
                        "iteration": 7,
                        "remaining_time": 26.45457939,
                        "learn": [
                          9.513752919
                        ]
                      },
                      {
                        "test": [
                          9.345494943
                        ],
                        "passed_time": 0.2383073476,
                        "iteration": 8,
                        "remaining_time": 26.24028683,
                        "learn": [
                          9.217560813
                        ]
                      },
                      {
                        "test": [
                          9.05770102
                        ],
                        "passed_time": 0.265132595,
                        "iteration": 9,
                        "remaining_time": 26.24812691,
                        "learn": [
                          8.932182455
                        ]
                      },
                      {
                        "test": [
                          8.788185704
                        ],
                        "passed_time": 0.2835776373,
                        "iteration": 10,
                        "remaining_time": 25.49620757,
                        "learn": [
                          8.664199871
                        ]
                      },
                      {
                        "test": [
                          8.534604722
                        ],
                        "passed_time": 0.2983836931,
                        "iteration": 11,
                        "remaining_time": 24.56692407,
                        "learn": [
                          8.404790264
                        ]
                      },
                      {
                        "test": [
                          8.300743238
                        ],
                        "passed_time": 0.3125449639,
                        "iteration": 12,
                        "remaining_time": 23.72937534,
                        "learn": [
                          8.169018079
                        ]
                      },
                      {
                        "test": [
                          8.099856825
                        ],
                        "passed_time": 0.3262634824,
                        "iteration": 13,
                        "remaining_time": 22.97827098,
                        "learn": [
                          7.970939782
                        ]
                      },
                      {
                        "test": [
                          7.904297344
                        ],
                        "passed_time": 0.3401213286,
                        "iteration": 14,
                        "remaining_time": 22.33463391,
                        "learn": [
                          7.765669406
                        ]
                      },
                      {
                        "test": [
                          7.709868252
                        ],
                        "passed_time": 0.3586684873,
                        "iteration": 15,
                        "remaining_time": 22.05811197,
                        "learn": [
                          7.571481159
                        ]
                      },
                      {
                        "test": [
                          7.536018653
                        ],
                        "passed_time": 0.3728635695,
                        "iteration": 16,
                        "remaining_time": 21.56028757,
                        "learn": [
                          7.393458634
                        ]
                      },
                      {
                        "test": [
                          7.374554632
                        ],
                        "passed_time": 0.3852614974,
                        "iteration": 17,
                        "remaining_time": 21.01815502,
                        "learn": [
                          7.23105192
                        ]
                      },
                      {
                        "test": [
                          7.23345006
                        ],
                        "passed_time": 0.3977689311,
                        "iteration": 18,
                        "remaining_time": 20.53743797,
                        "learn": [
                          7.093248062
                        ]
                      },
                      {
                        "test": [
                          7.085204683
                        ],
                        "passed_time": 0.4102160497,
                        "iteration": 19,
                        "remaining_time": 20.10058644,
                        "learn": [
                          6.946846385
                        ]
                      },
                      {
                        "test": [
                          6.972904417
                        ],
                        "passed_time": 0.4266539011,
                        "iteration": 20,
                        "remaining_time": 19.89019853,
                        "learn": [
                          6.826667712
                        ]
                      },
                      {
                        "test": [
                          6.869305474
                        ],
                        "passed_time": 0.4441292995,
                        "iteration": 21,
                        "remaining_time": 19.74356613,
                        "learn": [
                          6.718151524
                        ]
                      },
                      {
                        "test": [
                          6.757113422
                        ],
                        "passed_time": 0.4636585937,
                        "iteration": 22,
                        "remaining_time": 19.6954107,
                        "learn": [
                          6.600804346
                        ]
                      },
                      {
                        "test": [
                          6.652640307
                        ],
                        "passed_time": 0.4771018846,
                        "iteration": 23,
                        "remaining_time": 19.40214331,
                        "learn": [
                          6.49190961
                        ]
                      },
                      {
                        "test": [
                          6.548850839
                        ],
                        "passed_time": 0.4903423235,
                        "iteration": 24,
                        "remaining_time": 19.12335062,
                        "learn": [
                          6.394300178
                        ]
                      },
                      {
                        "test": [
                          6.457158326
                        ],
                        "passed_time": 0.5039453536,
                        "iteration": 25,
                        "remaining_time": 18.87856824,
                        "learn": [
                          6.300200356
                        ]
                      },
                      {
                        "test": [
                          6.372721479
                        ],
                        "passed_time": 0.517259247,
                        "iteration": 26,
                        "remaining_time": 18.64049064,
                        "learn": [
                          6.217829742
                        ]
                      },
                      {
                        "test": [
                          6.314741586
                        ],
                        "passed_time": 0.5305056841,
                        "iteration": 27,
                        "remaining_time": 18.41612589,
                        "learn": [
                          6.149305574
                        ]
                      },
                      {
                        "test": [
                          6.243185683
                        ],
                        "passed_time": 0.5440016905,
                        "iteration": 28,
                        "remaining_time": 18.21467729,
                        "learn": [
                          6.068292729
                        ]
                      },
                      {
                        "test": [
                          6.191949631
                        ],
                        "passed_time": 0.5570388913,
                        "iteration": 29,
                        "remaining_time": 18.01092415,
                        "learn": [
                          6.004741541
                        ]
                      },
                      {
                        "test": [
                          6.134500663
                        ],
                        "passed_time": 0.5718975978,
                        "iteration": 30,
                        "remaining_time": 17.87641201,
                        "learn": [
                          5.947068812
                        ]
                      },
                      {
                        "test": [
                          6.08168384
                        ],
                        "passed_time": 0.5847368685,
                        "iteration": 31,
                        "remaining_time": 17.68829027,
                        "learn": [
                          5.894661416
                        ]
                      },
                      {
                        "test": [
                          6.025429804
                        ],
                        "passed_time": 0.5972488903,
                        "iteration": 32,
                        "remaining_time": 17.50120233,
                        "learn": [
                          5.833184763
                        ]
                      },
                      {
                        "test": [
                          5.979444377
                        ],
                        "passed_time": 0.6099022989,
                        "iteration": 33,
                        "remaining_time": 17.32840061,
                        "learn": [
                          5.779181298
                        ]
                      },
                      {
                        "test": [
                          5.931955232
                        ],
                        "passed_time": 0.6224840671,
                        "iteration": 34,
                        "remaining_time": 17.16277499,
                        "learn": [
                          5.728331431
                        ]
                      },
                      {
                        "test": [
                          5.887473197
                        ],
                        "passed_time": 0.6376455505,
                        "iteration": 35,
                        "remaining_time": 17.07473085,
                        "learn": [
                          5.681201978
                        ]
                      },
                      {
                        "test": [
                          5.844742268
                        ],
                        "passed_time": 0.6525169377,
                        "iteration": 36,
                        "remaining_time": 16.98307597,
                        "learn": [
                          5.630650851
                        ]
                      },
                      {
                        "test": [
                          5.807197837
                        ],
                        "passed_time": 0.6648324581,
                        "iteration": 37,
                        "remaining_time": 16.83075854,
                        "learn": [
                          5.592119903
                        ]
                      },
                      {
                        "test": [
                          5.769497017
                        ],
                        "passed_time": 0.6773581557,
                        "iteration": 38,
                        "remaining_time": 16.69079968,
                        "learn": [
                          5.549657315
                        ]
                      },
                      {
                        "test": [
                          5.741378807
                        ],
                        "passed_time": 0.6906472786,
                        "iteration": 39,
                        "remaining_time": 16.57553469,
                        "learn": [
                          5.511694002
                        ]
                      },
                      {
                        "test": [
                          5.717389772
                        ],
                        "passed_time": 0.7040486717,
                        "iteration": 40,
                        "remaining_time": 16.46787015,
                        "learn": [
                          5.48118312
                        ]
                      },
                      {
                        "test": [
                          5.693923945
                        ],
                        "passed_time": 0.7175535113,
                        "iteration": 41,
                        "remaining_time": 16.3670539,
                        "learn": [
                          5.456724761
                        ]
                      },
                      {
                        "test": [
                          5.674530528
                        ],
                        "passed_time": 0.7304096285,
                        "iteration": 42,
                        "remaining_time": 16.2558608,
                        "learn": [
                          5.430727638
                        ]
                      },
                      {
                        "test": [
                          5.65573764
                        ],
                        "passed_time": 0.7431132306,
                        "iteration": 43,
                        "remaining_time": 16.14582383,
                        "learn": [
                          5.407782926
                        ]
                      },
                      {
                        "test": [
                          5.638876764
                        ],
                        "passed_time": 0.7561124541,
                        "iteration": 44,
                        "remaining_time": 16.04638653,
                        "learn": [
                          5.386645669
                        ]
                      },
                      {
                        "test": [
                          5.617119816
                        ],
                        "passed_time": 0.7717179297,
                        "iteration": 45,
                        "remaining_time": 16.0047588,
                        "learn": [
                          5.362980766
                        ]
                      },
                      {
                        "test": [
                          5.598250171
                        ],
                        "passed_time": 0.7852634092,
                        "iteration": 46,
                        "remaining_time": 15.9224687,
                        "learn": [
                          5.341009822
                        ]
                      },
                      {
                        "test": [
                          5.580024466
                        ],
                        "passed_time": 0.7986926065,
                        "iteration": 47,
                        "remaining_time": 15.8407367,
                        "learn": [
                          5.316811299
                        ]
                      },
                      {
                        "test": [
                          5.567717105
                        ],
                        "passed_time": 0.811899601,
                        "iteration": 48,
                        "remaining_time": 15.75748001,
                        "learn": [
                          5.296568733
                        ]
                      },
                      {
                        "test": [
                          5.550968691
                        ],
                        "passed_time": 0.8242940285,
                        "iteration": 49,
                        "remaining_time": 15.66158654,
                        "learn": [
                          5.275798949
                        ]
                      },
                      {
                        "test": [
                          5.537590135
                        ],
                        "passed_time": 0.8395679035,
                        "iteration": 50,
                        "remaining_time": 15.62254785,
                        "learn": [
                          5.262205934
                        ]
                      },
                      {
                        "test": [
                          5.524070583
                        ],
                        "passed_time": 0.8547461294,
                        "iteration": 51,
                        "remaining_time": 15.58267944,
                        "learn": [
                          5.246991874
                        ]
                      },
                      {
                        "test": [
                          5.511693326
                        ],
                        "passed_time": 0.868047993,
                        "iteration": 52,
                        "remaining_time": 15.51021603,
                        "learn": [
                          5.231778097
                        ]
                      },
                      {
                        "test": [
                          5.499111158
                        ],
                        "passed_time": 0.8800376254,
                        "iteration": 53,
                        "remaining_time": 15.41695544,
                        "learn": [
                          5.216050527
                        ]
                      },
                      {
                        "test": [
                          5.492197483
                        ],
                        "passed_time": 0.8924399697,
                        "iteration": 54,
                        "remaining_time": 15.3337413,
                        "learn": [
                          5.204558565
                        ]
                      },
                      {
                        "test": [
                          5.484690954
                        ],
                        "passed_time": 0.9044699598,
                        "iteration": 55,
                        "remaining_time": 15.24677932,
                        "learn": [
                          5.190183583
                        ]
                      },
                      {
                        "test": [
                          5.473679643
                        ],
                        "passed_time": 0.9169635141,
                        "iteration": 56,
                        "remaining_time": 15.17011568,
                        "learn": [
                          5.173384404
                        ]
                      },
                      {
                        "test": [
                          5.468101272
                        ],
                        "passed_time": 0.929723545,
                        "iteration": 57,
                        "remaining_time": 15.09999275,
                        "learn": [
                          5.156307866
                        ]
                      },
                      {
                        "test": [
                          5.468049014
                        ],
                        "passed_time": 0.942262861,
                        "iteration": 58,
                        "remaining_time": 15.02829411,
                        "learn": [
                          5.135323121
                        ]
                      },
                      {
                        "test": [
                          5.462048299
                        ],
                        "passed_time": 0.9552428616,
                        "iteration": 59,
                        "remaining_time": 14.9654715,
                        "learn": [
                          5.123468294
                        ]
                      },
                      {
                        "test": [
                          5.455639036
                        ],
                        "passed_time": 0.9776559497,
                        "iteration": 60,
                        "remaining_time": 15.04949077,
                        "learn": [
                          5.106070716
                        ]
                      },
                      {
                        "test": [
                          5.447375112
                        ],
                        "passed_time": 0.9907032912,
                        "iteration": 61,
                        "remaining_time": 14.98838205,
                        "learn": [
                          5.096182154
                        ]
                      },
                      {
                        "test": [
                          5.443031095
                        ],
                        "passed_time": 1.004027228,
                        "iteration": 62,
                        "remaining_time": 14.9329129,
                        "learn": [
                          5.088134528
                        ]
                      },
                      {
                        "test": [
                          5.435679465
                        ],
                        "passed_time": 1.01651397,
                        "iteration": 63,
                        "remaining_time": 14.86651681,
                        "learn": [
                          5.075160478
                        ]
                      },
                      {
                        "test": [
                          5.436123082
                        ],
                        "passed_time": 1.029188676,
                        "iteration": 64,
                        "remaining_time": 14.80448326,
                        "learn": [
                          5.065017826
                        ]
                      },
                      {
                        "test": [
                          5.429347704
                        ],
                        "passed_time": 1.049729382,
                        "iteration": 65,
                        "remaining_time": 14.85526126,
                        "learn": [
                          5.056043115
                        ]
                      },
                      {
                        "test": [
                          5.418470022
                        ],
                        "passed_time": 1.067062029,
                        "iteration": 66,
                        "remaining_time": 14.85923691,
                        "learn": [
                          5.045077567
                        ]
                      },
                      {
                        "test": [
                          5.41227634
                        ],
                        "passed_time": 1.079916099,
                        "iteration": 67,
                        "remaining_time": 14.80120301,
                        "learn": [
                          5.034296587
                        ]
                      },
                      {
                        "test": [
                          5.408326519
                        ],
                        "passed_time": 1.093627002,
                        "iteration": 68,
                        "remaining_time": 14.75603969,
                        "learn": [
                          5.024705914
                        ]
                      },
                      {
                        "test": [
                          5.402843182
                        ],
                        "passed_time": 1.106908775,
                        "iteration": 69,
                        "remaining_time": 14.70607372,
                        "learn": [
                          5.012740405
                        ]
                      },
                      {
                        "test": [
                          5.40019022
                        ],
                        "passed_time": 1.119442076,
                        "iteration": 70,
                        "remaining_time": 14.64734772,
                        "learn": [
                          5.006529869
                        ]
                      },
                      {
                        "test": [
                          5.39457701
                        ],
                        "passed_time": 1.132055439,
                        "iteration": 71,
                        "remaining_time": 14.59093677,
                        "learn": [
                          4.996628726
                        ]
                      },
                      {
                        "test": [
                          5.392612913
                        ],
                        "passed_time": 1.144400826,
                        "iteration": 72,
                        "remaining_time": 14.53232281,
                        "learn": [
                          4.986514985
                        ]
                      },
                      {
                        "test": [
                          5.386777531
                        ],
                        "passed_time": 1.156916993,
                        "iteration": 73,
                        "remaining_time": 14.47709643,
                        "learn": [
                          4.976708393
                        ]
                      },
                      {
                        "test": [
                          5.386071721
                        ],
                        "passed_time": 1.17011059,
                        "iteration": 74,
                        "remaining_time": 14.43136395,
                        "learn": [
                          4.970201626
                        ]
                      },
                      {
                        "test": [
                          5.385490252
                        ],
                        "passed_time": 1.18733962,
                        "iteration": 75,
                        "remaining_time": 14.43555012,
                        "learn": [
                          4.962412026
                        ]
                      },
                      {
                        "test": [
                          5.382568029
                        ],
                        "passed_time": 1.200966603,
                        "iteration": 76,
                        "remaining_time": 14.39600227,
                        "learn": [
                          4.952173164
                        ]
                      },
                      {
                        "test": [
                          5.388702846
                        ],
                        "passed_time": 1.214262148,
                        "iteration": 77,
                        "remaining_time": 14.35320129,
                        "learn": [
                          4.941225973
                        ]
                      },
                      {
                        "test": [
                          5.379748523
                        ],
                        "passed_time": 1.227081745,
                        "iteration": 78,
                        "remaining_time": 14.30559857,
                        "learn": [
                          4.929640138
                        ]
                      },
                      {
                        "test": [
                          5.375316123
                        ],
                        "passed_time": 1.240019748,
                        "iteration": 79,
                        "remaining_time": 14.26022711,
                        "learn": [
                          4.918292911
                        ]
                      },
                      {
                        "test": [
                          5.377070821
                        ],
                        "passed_time": 1.256644595,
                        "iteration": 80,
                        "remaining_time": 14.25748621,
                        "learn": [
                          4.911578103
                        ]
                      },
                      {
                        "test": [
                          5.372843801
                        ],
                        "passed_time": 1.274170451,
                        "iteration": 81,
                        "remaining_time": 14.26449359,
                        "learn": [
                          4.903086821
                        ]
                      },
                      {
                        "test": [
                          5.371969039
                        ],
                        "passed_time": 1.287796139,
                        "iteration": 82,
                        "remaining_time": 14.22782,
                        "learn": [
                          4.89722089
                        ]
                      },
                      {
                        "test": [
                          5.370710384
                        ],
                        "passed_time": 1.301097563,
                        "iteration": 83,
                        "remaining_time": 14.18815914,
                        "learn": [
                          4.892235718
                        ]
                      },
                      {
                        "test": [
                          5.366380268
                        ],
                        "passed_time": 1.314229424,
                        "iteration": 84,
                        "remaining_time": 14.14729321,
                        "learn": [
                          4.879895677
                        ]
                      },
                      {
                        "test": [
                          5.364225126
                        ],
                        "passed_time": 1.327661795,
                        "iteration": 85,
                        "remaining_time": 14.11026606,
                        "learn": [
                          4.871688146
                        ]
                      },
                      {
                        "test": [
                          5.364024216
                        ],
                        "passed_time": 1.341124709,
                        "iteration": 86,
                        "remaining_time": 14.07410184,
                        "learn": [
                          4.869798766
                        ]
                      },
                      {
                        "test": [
                          5.361835355
                        ],
                        "passed_time": 1.354029223,
                        "iteration": 87,
                        "remaining_time": 14.03266649,
                        "learn": [
                          4.856710551
                        ]
                      },
                      {
                        "test": [
                          5.360676794
                        ],
                        "passed_time": 1.366809435,
                        "iteration": 88,
                        "remaining_time": 13.99059995,
                        "learn": [
                          4.845215033
                        ]
                      },
                      {
                        "test": [
                          5.3606414
                        ],
                        "passed_time": 1.379636769,
                        "iteration": 89,
                        "remaining_time": 13.94966066,
                        "learn": [
                          4.840209194
                        ]
                      },
                      {
                        "test": [
                          5.359925218
                        ],
                        "passed_time": 1.396449501,
                        "iteration": 90,
                        "remaining_time": 13.94914941,
                        "learn": [
                          4.830086352
                        ]
                      },
                      {
                        "test": [
                          5.359966671
                        ],
                        "passed_time": 1.408933411,
                        "iteration": 91,
                        "remaining_time": 13.90556019,
                        "learn": [
                          4.824342078
                        ]
                      },
                      {
                        "test": [
                          5.359318175
                        ],
                        "passed_time": 1.421735531,
                        "iteration": 92,
                        "remaining_time": 13.8657433,
                        "learn": [
                          4.818843525
                        ]
                      },
                      {
                        "test": [
                          5.357095874
                        ],
                        "passed_time": 1.43456235,
                        "iteration": 93,
                        "remaining_time": 13.82673924,
                        "learn": [
                          4.814788007
                        ]
                      },
                      {
                        "test": [
                          5.358613355
                        ],
                        "passed_time": 1.450879311,
                        "iteration": 94,
                        "remaining_time": 13.82153449,
                        "learn": [
                          4.807762277
                        ]
                      },
                      {
                        "test": [
                          5.359502403
                        ],
                        "passed_time": 1.470517844,
                        "iteration": 95,
                        "remaining_time": 13.84737636,
                        "learn": [
                          4.799582249
                        ]
                      },
                      {
                        "test": [
                          5.358366256
                        ],
                        "passed_time": 1.486733344,
                        "iteration": 96,
                        "remaining_time": 13.84041453,
                        "learn": [
                          4.790571885
                        ]
                      }
                    ]
                  },
                  "total_iterations": 1000,
                  "passed_iterations": 96
                },
                "path": "catboost_info",
                "name": "catboost_info"
              }
            },
            "_view_module": "catboost_module",
            "_model_module_version": "1.2.0",
            "_view_count": null,
            "_view_module_version": "",
            "layout": "IPY_MODEL_05ccad487dbd463da4d7f9cbadc1dc0b",
            "_model_module": "@jupyter-widgets/base"
          }
        },
        "05ccad487dbd463da4d7f9cbadc1dc0b": {
          "model_module": "@jupyter-widgets/base",
          "model_name": "LayoutModel",
          "state": {
            "_view_name": "LayoutView",
            "grid_template_rows": null,
            "right": null,
            "justify_content": null,
            "_view_module": "@jupyter-widgets/base",
            "overflow": null,
            "_model_module_version": "1.2.0",
            "_view_count": null,
            "flex_flow": null,
            "width": null,
            "min_width": null,
            "border": null,
            "align_items": null,
            "bottom": null,
            "_model_module": "@jupyter-widgets/base",
            "top": null,
            "grid_column": null,
            "overflow_y": null,
            "overflow_x": null,
            "grid_auto_flow": null,
            "grid_area": null,
            "grid_template_columns": null,
            "flex": null,
            "_model_name": "LayoutModel",
            "justify_items": null,
            "grid_row": null,
            "max_height": null,
            "align_content": null,
            "visibility": null,
            "align_self": "stretch",
            "height": "500px",
            "min_height": null,
            "padding": null,
            "grid_auto_rows": null,
            "grid_gap": null,
            "max_width": null,
            "order": null,
            "_view_module_version": "1.2.0",
            "grid_template_areas": null,
            "object_position": null,
            "object_fit": null,
            "grid_auto_columns": null,
            "margin": null,
            "display": null,
            "left": null
          }
        },
        "04e0ef8fb5a84749a7b91bcdc33bd3cd": {
          "model_module": "@jupyter-widgets/base",
          "model_name": "DOMWidgetModel",
          "state": {
            "_view_name": "CatboostIpythonWidgetView",
            "_dom_classes": [],
            "_model_name": "DOMWidgetModel",
            "data": {
              "catboost_info": {
                "content": {
                  "data": {
                    "meta": {
                      "name": "experiment",
                      "parameters": "",
                      "test_metrics": [
                        {
                          "best_value": "Min",
                          "name": "RMSE"
                        }
                      ],
                      "learn_sets": [
                        "learn"
                      ],
                      "launch_mode": "Train",
                      "learn_metrics": [
                        {
                          "best_value": "Min",
                          "name": "RMSE"
                        }
                      ],
                      "iteration_count": 1000,
                      "test_sets": [
                        "test"
                      ]
                    },
                    "iterations": [
                      {
                        "test": [
                          12.23752313
                        ],
                        "passed_time": 0.02544551491,
                        "iteration": 0,
                        "remaining_time": 25.4200694,
                        "learn": [
                          12.3744299
                        ]
                      },
                      {
                        "test": [
                          11.77693711
                        ],
                        "passed_time": 0.04964198102,
                        "iteration": 1,
                        "remaining_time": 24.77134853,
                        "learn": [
                          11.90397848
                        ]
                      },
                      {
                        "test": [
                          11.30286766
                        ],
                        "passed_time": 0.08038144083,
                        "iteration": 2,
                        "remaining_time": 26.71343217,
                        "learn": [
                          11.44301599
                        ]
                      },
                      {
                        "test": [
                          10.83983625
                        ],
                        "passed_time": 0.1063781666,
                        "iteration": 3,
                        "remaining_time": 26.48816348,
                        "learn": [
                          10.99923204
                        ]
                      },
                      {
                        "test": [
                          10.43449141
                        ],
                        "passed_time": 0.1198466707,
                        "iteration": 4,
                        "remaining_time": 23.84948747,
                        "learn": [
                          10.60917448
                        ]
                      },
                      {
                        "test": [
                          10.05305648
                        ],
                        "passed_time": 0.1328048307,
                        "iteration": 5,
                        "remaining_time": 22.00133362,
                        "learn": [
                          10.24154615
                        ]
                      },
                      {
                        "test": [
                          9.698878781
                        ],
                        "passed_time": 0.1461414997,
                        "iteration": 6,
                        "remaining_time": 20.7312156,
                        "learn": [
                          9.894005785
                        ]
                      },
                      {
                        "test": [
                          9.384281735
                        ],
                        "passed_time": 0.1598592419,
                        "iteration": 7,
                        "remaining_time": 19.82254599,
                        "learn": [
                          9.585697144
                        ]
                      },
                      {
                        "test": [
                          9.077248292
                        ],
                        "passed_time": 0.1735490244,
                        "iteration": 8,
                        "remaining_time": 19.10967591,
                        "learn": [
                          9.292381914
                        ]
                      },
                      {
                        "test": [
                          8.79129451
                        ],
                        "passed_time": 0.1870240352,
                        "iteration": 9,
                        "remaining_time": 18.51537949,
                        "learn": [
                          9.02115025
                        ]
                      },
                      {
                        "test": [
                          8.510911604
                        ],
                        "passed_time": 0.2036343002,
                        "iteration": 10,
                        "remaining_time": 18.30857481,
                        "learn": [
                          8.75294149
                        ]
                      },
                      {
                        "test": [
                          8.248440359
                        ],
                        "passed_time": 0.216963168,
                        "iteration": 11,
                        "remaining_time": 17.86330083,
                        "learn": [
                          8.502264002
                        ]
                      },
                      {
                        "test": [
                          8.013321967
                        ],
                        "passed_time": 0.2304222431,
                        "iteration": 12,
                        "remaining_time": 17.49436569,
                        "learn": [
                          8.269249455
                        ]
                      },
                      {
                        "test": [
                          7.81056289
                        ],
                        "passed_time": 0.2439006753,
                        "iteration": 13,
                        "remaining_time": 17.17757613,
                        "learn": [
                          8.072727006
                        ]
                      },
                      {
                        "test": [
                          7.605313388
                        ],
                        "passed_time": 0.2571950408,
                        "iteration": 14,
                        "remaining_time": 16.88914101,
                        "learn": [
                          7.87035664
                        ]
                      },
                      {
                        "test": [
                          7.405516557
                        ],
                        "passed_time": 0.2699540194,
                        "iteration": 15,
                        "remaining_time": 16.60217219,
                        "learn": [
                          7.671893803
                        ]
                      },
                      {
                        "test": [
                          7.217387785
                        ],
                        "passed_time": 0.2861469231,
                        "iteration": 16,
                        "remaining_time": 16.54602502,
                        "learn": [
                          7.491033194
                        ]
                      },
                      {
                        "test": [
                          7.046088993
                        ],
                        "passed_time": 0.2990630155,
                        "iteration": 17,
                        "remaining_time": 16.31554895,
                        "learn": [
                          7.335926749
                        ]
                      },
                      {
                        "test": [
                          6.889955642
                        ],
                        "passed_time": 0.315295455,
                        "iteration": 18,
                        "remaining_time": 16.27920218,
                        "learn": [
                          7.194657324
                        ]
                      },
                      {
                        "test": [
                          6.735591125
                        ],
                        "passed_time": 0.3279820518,
                        "iteration": 19,
                        "remaining_time": 16.07112054,
                        "learn": [
                          7.050424075
                        ]
                      },
                      {
                        "test": [
                          6.604958657
                        ],
                        "passed_time": 0.3408041245,
                        "iteration": 20,
                        "remaining_time": 15.88796371,
                        "learn": [
                          6.930723589
                        ]
                      },
                      {
                        "test": [
                          6.499895835
                        ],
                        "passed_time": 0.3537171501,
                        "iteration": 21,
                        "remaining_time": 15.72433513,
                        "learn": [
                          6.820911368
                        ]
                      },
                      {
                        "test": [
                          6.380103452
                        ],
                        "passed_time": 0.3669096961,
                        "iteration": 22,
                        "remaining_time": 15.58568579,
                        "learn": [
                          6.702907456
                        ]
                      },
                      {
                        "test": [
                          6.276694172
                        ],
                        "passed_time": 0.3802095411,
                        "iteration": 23,
                        "remaining_time": 15.46185467,
                        "learn": [
                          6.592110346
                        ]
                      },
                      {
                        "test": [
                          6.169381462
                        ],
                        "passed_time": 0.3938914523,
                        "iteration": 24,
                        "remaining_time": 15.36176664,
                        "learn": [
                          6.495298962
                        ]
                      },
                      {
                        "test": [
                          6.07883743
                        ],
                        "passed_time": 0.4108745005,
                        "iteration": 25,
                        "remaining_time": 15.3919909,
                        "learn": [
                          6.408804458
                        ]
                      },
                      {
                        "test": [
                          5.989063906
                        ],
                        "passed_time": 0.4248102398,
                        "iteration": 26,
                        "remaining_time": 15.30890234,
                        "learn": [
                          6.328080791
                        ]
                      },
                      {
                        "test": [
                          5.913804187
                        ],
                        "passed_time": 0.4384389395,
                        "iteration": 27,
                        "remaining_time": 15.22009461,
                        "learn": [
                          6.253618363
                        ]
                      },
                      {
                        "test": [
                          5.835480102
                        ],
                        "passed_time": 0.4518733636,
                        "iteration": 28,
                        "remaining_time": 15.12996676,
                        "learn": [
                          6.172035268
                        ]
                      },
                      {
                        "test": [
                          5.764105075
                        ],
                        "passed_time": 0.4653434495,
                        "iteration": 29,
                        "remaining_time": 15.04610487,
                        "learn": [
                          6.098608303
                        ]
                      },
                      {
                        "test": [
                          5.701275365
                        ],
                        "passed_time": 0.478826007,
                        "iteration": 30,
                        "remaining_time": 14.96717422,
                        "learn": [
                          6.037296241
                        ]
                      },
                      {
                        "test": [
                          5.647526019
                        ],
                        "passed_time": 0.4959537124,
                        "iteration": 31,
                        "remaining_time": 15.0025998,
                        "learn": [
                          5.978886019
                        ]
                      },
                      {
                        "test": [
                          5.595157826
                        ],
                        "passed_time": 0.5088929703,
                        "iteration": 32,
                        "remaining_time": 14.91210613,
                        "learn": [
                          5.922835766
                        ]
                      },
                      {
                        "test": [
                          5.543564825
                        ],
                        "passed_time": 0.5256961073,
                        "iteration": 33,
                        "remaining_time": 14.93595411,
                        "learn": [
                          5.868595004
                        ]
                      },
                      {
                        "test": [
                          5.490596397
                        ],
                        "passed_time": 0.5386824846,
                        "iteration": 34,
                        "remaining_time": 14.85224565,
                        "learn": [
                          5.817178777
                        ]
                      },
                      {
                        "test": [
                          5.442090659
                        ],
                        "passed_time": 0.5512366014,
                        "iteration": 35,
                        "remaining_time": 14.76089121,
                        "learn": [
                          5.771372764
                        ]
                      },
                      {
                        "test": [
                          5.397814384
                        ],
                        "passed_time": 0.5639660844,
                        "iteration": 36,
                        "remaining_time": 14.67836052,
                        "learn": [
                          5.727063524
                        ]
                      },
                      {
                        "test": [
                          5.360964453
                        ],
                        "passed_time": 0.5766342642,
                        "iteration": 37,
                        "remaining_time": 14.59795164,
                        "learn": [
                          5.690550135
                        ]
                      },
                      {
                        "test": [
                          5.324080416
                        ],
                        "passed_time": 0.5891352344,
                        "iteration": 38,
                        "remaining_time": 14.51689642,
                        "learn": [
                          5.65158367
                        ]
                      },
                      {
                        "test": [
                          5.289503626
                        ],
                        "passed_time": 0.6021096169,
                        "iteration": 39,
                        "remaining_time": 14.45063081,
                        "learn": [
                          5.61781493
                        ]
                      },
                      {
                        "test": [
                          5.261113966
                        ],
                        "passed_time": 0.6182468654,
                        "iteration": 40,
                        "remaining_time": 14.46094497,
                        "learn": [
                          5.585730166
                        ]
                      },
                      {
                        "test": [
                          5.232758185
                        ],
                        "passed_time": 0.6317648907,
                        "iteration": 41,
                        "remaining_time": 14.41025632,
                        "learn": [
                          5.556449868
                        ]
                      },
                      {
                        "test": [
                          5.207869582
                        ],
                        "passed_time": 0.6452680357,
                        "iteration": 42,
                        "remaining_time": 14.36096535,
                        "learn": [
                          5.52540405
                        ]
                      },
                      {
                        "test": [
                          5.18671287
                        ],
                        "passed_time": 0.6590029585,
                        "iteration": 43,
                        "remaining_time": 14.31833701,
                        "learn": [
                          5.503078854
                        ]
                      },
                      {
                        "test": [
                          5.16667441
                        ],
                        "passed_time": 0.6725306937,
                        "iteration": 44,
                        "remaining_time": 14.27259583,
                        "learn": [
                          5.477817891
                        ]
                      },
                      {
                        "test": [
                          5.146195392
                        ],
                        "passed_time": 0.689212095,
                        "iteration": 45,
                        "remaining_time": 14.29365953,
                        "learn": [
                          5.452082532
                        ]
                      },
                      {
                        "test": [
                          5.126605779
                        ],
                        "passed_time": 0.7062903732,
                        "iteration": 46,
                        "remaining_time": 14.32116438,
                        "learn": [
                          5.428075842
                        ]
                      },
                      {
                        "test": [
                          5.119575439
                        ],
                        "passed_time": 0.719646287,
                        "iteration": 47,
                        "remaining_time": 14.27298469,
                        "learn": [
                          5.406933128
                        ]
                      },
                      {
                        "test": [
                          5.10655975
                        ],
                        "passed_time": 0.7372435984,
                        "iteration": 48,
                        "remaining_time": 14.30854412,
                        "learn": [
                          5.38874024
                        ]
                      },
                      {
                        "test": [
                          5.082925774
                        ],
                        "passed_time": 0.7500055296,
                        "iteration": 49,
                        "remaining_time": 14.25010506,
                        "learn": [
                          5.362050694
                        ]
                      },
                      {
                        "test": [
                          5.077434211
                        ],
                        "passed_time": 0.7624008617,
                        "iteration": 50,
                        "remaining_time": 14.18663564,
                        "learn": [
                          5.348069184
                        ]
                      },
                      {
                        "test": [
                          5.06650901
                        ],
                        "passed_time": 0.7749654083,
                        "iteration": 51,
                        "remaining_time": 14.12821552,
                        "learn": [
                          5.332505765
                        ]
                      },
                      {
                        "test": [
                          5.051699955
                        ],
                        "passed_time": 0.7872223876,
                        "iteration": 52,
                        "remaining_time": 14.06603021,
                        "learn": [
                          5.316620228
                        ]
                      },
                      {
                        "test": [
                          5.042984567
                        ],
                        "passed_time": 0.7995118711,
                        "iteration": 53,
                        "remaining_time": 14.00626352,
                        "learn": [
                          5.30018345
                        ]
                      },
                      {
                        "test": [
                          5.033156155
                        ],
                        "passed_time": 0.8127326762,
                        "iteration": 54,
                        "remaining_time": 13.96422507,
                        "learn": [
                          5.285471041
                        ]
                      },
                      {
                        "test": [
                          5.0234856
                        ],
                        "passed_time": 0.8304769256,
                        "iteration": 55,
                        "remaining_time": 13.99946817,
                        "learn": [
                          5.264183821
                        ]
                      },
                      {
                        "test": [
                          5.010643719
                        ],
                        "passed_time": 0.8442036294,
                        "iteration": 56,
                        "remaining_time": 13.96638636,
                        "learn": [
                          5.248043572
                        ]
                      },
                      {
                        "test": [
                          5.000936476
                        ],
                        "passed_time": 0.8650415081,
                        "iteration": 57,
                        "remaining_time": 14.04946725,
                        "learn": [
                          5.236748139
                        ]
                      },
                      {
                        "test": [
                          4.996807294
                        ],
                        "passed_time": 0.8790904072,
                        "iteration": 58,
                        "remaining_time": 14.020747,
                        "learn": [
                          5.216306538
                        ]
                      },
                      {
                        "test": [
                          4.992056742
                        ],
                        "passed_time": 0.8924866518,
                        "iteration": 59,
                        "remaining_time": 13.98229088,
                        "learn": [
                          5.206695758
                        ]
                      },
                      {
                        "test": [
                          4.988997311
                        ],
                        "passed_time": 0.9177516464,
                        "iteration": 60,
                        "remaining_time": 14.12735731,
                        "learn": [
                          5.195543968
                        ]
                      },
                      {
                        "test": [
                          4.980157713
                        ],
                        "passed_time": 0.9452767004,
                        "iteration": 61,
                        "remaining_time": 14.30112169,
                        "learn": [
                          5.18354255
                        ]
                      },
                      {
                        "test": [
                          4.978313784
                        ],
                        "passed_time": 0.9811048414,
                        "iteration": 62,
                        "remaining_time": 14.59198788,
                        "learn": [
                          5.168295511
                        ]
                      },
                      {
                        "test": [
                          4.971668878
                        ],
                        "passed_time": 0.9945764264,
                        "iteration": 63,
                        "remaining_time": 14.54568024,
                        "learn": [
                          5.157418968
                        ]
                      },
                      {
                        "test": [
                          4.966098767
                        ],
                        "passed_time": 1.00795802,
                        "iteration": 64,
                        "remaining_time": 14.49908845,
                        "learn": [
                          5.144894841
                        ]
                      },
                      {
                        "test": [
                          4.960783197
                        ],
                        "passed_time": 1.020917353,
                        "iteration": 65,
                        "remaining_time": 14.4475274,
                        "learn": [
                          5.134731945
                        ]
                      },
                      {
                        "test": [
                          4.952917032
                        ],
                        "passed_time": 1.037501084,
                        "iteration": 66,
                        "remaining_time": 14.44758972,
                        "learn": [
                          5.122494716
                        ]
                      },
                      {
                        "test": [
                          4.946332767
                        ],
                        "passed_time": 1.05122246,
                        "iteration": 67,
                        "remaining_time": 14.40793136,
                        "learn": [
                          5.113060091
                        ]
                      },
                      {
                        "test": [
                          4.944359816
                        ],
                        "passed_time": 1.064482843,
                        "iteration": 68,
                        "remaining_time": 14.36280473,
                        "learn": [
                          5.099605435
                        ]
                      },
                      {
                        "test": [
                          4.939487377
                        ],
                        "passed_time": 1.077576408,
                        "iteration": 69,
                        "remaining_time": 14.31637227,
                        "learn": [
                          5.084661185
                        ]
                      },
                      {
                        "test": [
                          4.937928249
                        ],
                        "passed_time": 1.090137876,
                        "iteration": 70,
                        "remaining_time": 14.26391671,
                        "learn": [
                          5.07730869
                        ]
                      },
                      {
                        "test": [
                          4.930860051
                        ],
                        "passed_time": 1.103681063,
                        "iteration": 71,
                        "remaining_time": 14.22522258,
                        "learn": [
                          5.064300871
                        ]
                      },
                      {
                        "test": [
                          4.931945961
                        ],
                        "passed_time": 1.119789821,
                        "iteration": 72,
                        "remaining_time": 14.21979677,
                        "learn": [
                          5.056443878
                        ]
                      },
                      {
                        "test": [
                          4.929162241
                        ],
                        "passed_time": 1.133671161,
                        "iteration": 73,
                        "remaining_time": 14.18620939,
                        "learn": [
                          5.047658895
                        ]
                      },
                      {
                        "test": [
                          4.929044323
                        ],
                        "passed_time": 1.149619122,
                        "iteration": 74,
                        "remaining_time": 14.17863584,
                        "learn": [
                          5.03832878
                        ]
                      },
                      {
                        "test": [
                          4.9219125
                        ],
                        "passed_time": 1.162619519,
                        "iteration": 75,
                        "remaining_time": 14.13500573,
                        "learn": [
                          5.030464011
                        ]
                      },
                      {
                        "test": [
                          4.919035787
                        ],
                        "passed_time": 1.175919254,
                        "iteration": 76,
                        "remaining_time": 14.09575937,
                        "learn": [
                          5.021201045
                        ]
                      },
                      {
                        "test": [
                          4.915905754
                        ],
                        "passed_time": 1.188930468,
                        "iteration": 77,
                        "remaining_time": 14.05376784,
                        "learn": [
                          5.00255409
                        ]
                      },
                      {
                        "test": [
                          4.914733324
                        ],
                        "passed_time": 1.202381963,
                        "iteration": 78,
                        "remaining_time": 14.01764288,
                        "learn": [
                          4.996676145
                        ]
                      },
                      {
                        "test": [
                          4.912282865
                        ],
                        "passed_time": 1.215504874,
                        "iteration": 79,
                        "remaining_time": 13.97830605,
                        "learn": [
                          4.987946445
                        ]
                      },
                      {
                        "test": [
                          4.913528669
                        ],
                        "passed_time": 1.228226022,
                        "iteration": 80,
                        "remaining_time": 13.9350582,
                        "learn": [
                          4.980023213
                        ]
                      },
                      {
                        "test": [
                          4.911319657
                        ],
                        "passed_time": 1.24287583,
                        "iteration": 81,
                        "remaining_time": 13.91414649,
                        "learn": [
                          4.972067943
                        ]
                      },
                      {
                        "test": [
                          4.914263823
                        ],
                        "passed_time": 1.262322074,
                        "iteration": 82,
                        "remaining_time": 13.94637761,
                        "learn": [
                          4.964953523
                        ]
                      },
                      {
                        "test": [
                          4.914240495
                        ],
                        "passed_time": 1.287258328,
                        "iteration": 83,
                        "remaining_time": 14.03724557,
                        "learn": [
                          4.955785481
                        ]
                      },
                      {
                        "test": [
                          4.910174924
                        ],
                        "passed_time": 1.303221107,
                        "iteration": 84,
                        "remaining_time": 14.02879192,
                        "learn": [
                          4.948584109
                        ]
                      },
                      {
                        "test": [
                          4.905447861
                        ],
                        "passed_time": 1.3194988,
                        "iteration": 85,
                        "remaining_time": 14.02351051,
                        "learn": [
                          4.934385335
                        ]
                      },
                      {
                        "test": [
                          4.909127343
                        ],
                        "passed_time": 1.332235628,
                        "iteration": 86,
                        "remaining_time": 13.98081757,
                        "learn": [
                          4.92467611
                        ]
                      },
                      {
                        "test": [
                          4.907677169
                        ],
                        "passed_time": 1.349449537,
                        "iteration": 87,
                        "remaining_time": 13.98520429,
                        "learn": [
                          4.916820437
                        ]
                      },
                      {
                        "test": [
                          4.909128247
                        ],
                        "passed_time": 1.363160829,
                        "iteration": 88,
                        "remaining_time": 13.95325298,
                        "learn": [
                          4.908596882
                        ]
                      }
                    ]
                  },
                  "total_iterations": 1000,
                  "passed_iterations": 88
                },
                "path": "catboost_info",
                "name": "catboost_info"
              }
            },
            "_view_module": "catboost_module",
            "_model_module_version": "1.2.0",
            "_view_count": null,
            "_view_module_version": "",
            "layout": "IPY_MODEL_82fab0bdcb244879baf8e358f57947a4",
            "_model_module": "@jupyter-widgets/base"
          }
        },
        "82fab0bdcb244879baf8e358f57947a4": {
          "model_module": "@jupyter-widgets/base",
          "model_name": "LayoutModel",
          "state": {
            "_view_name": "LayoutView",
            "grid_template_rows": null,
            "right": null,
            "justify_content": null,
            "_view_module": "@jupyter-widgets/base",
            "overflow": null,
            "_model_module_version": "1.2.0",
            "_view_count": null,
            "flex_flow": null,
            "width": null,
            "min_width": null,
            "border": null,
            "align_items": null,
            "bottom": null,
            "_model_module": "@jupyter-widgets/base",
            "top": null,
            "grid_column": null,
            "overflow_y": null,
            "overflow_x": null,
            "grid_auto_flow": null,
            "grid_area": null,
            "grid_template_columns": null,
            "flex": null,
            "_model_name": "LayoutModel",
            "justify_items": null,
            "grid_row": null,
            "max_height": null,
            "align_content": null,
            "visibility": null,
            "align_self": "stretch",
            "height": "500px",
            "min_height": null,
            "padding": null,
            "grid_auto_rows": null,
            "grid_gap": null,
            "max_width": null,
            "order": null,
            "_view_module_version": "1.2.0",
            "grid_template_areas": null,
            "object_position": null,
            "object_fit": null,
            "grid_auto_columns": null,
            "margin": null,
            "display": null,
            "left": null
          }
        }
      }
    }
  },
  "cells": [
    {
      "cell_type": "markdown",
      "metadata": {
        "id": "lseUlpOd52YU",
        "colab_type": "text"
      },
      "source": [
        "# \"Zindi South African COVID-19 Vulnerability Map \"\n",
        ">\"South African COVID-19 Vulnerability Map by #ZindiWeekendz\n",
        "https://zindi.africa/hackathons/south-african-covid-19-vulnerability-map\"\n"
      ]
    },
    {
      "cell_type": "code",
      "metadata": {
        "id": "z4J1eXuOnRuK",
        "colab_type": "code",
        "colab": {}
      },
      "source": [
        "import numpy as np\n",
        "import os\n",
        "import glob\n",
        "import pandas as pd\n",
        "from google.colab import drive\n",
        "import cv2\n",
        "from pathlib import Path\n",
        "import xgboost as xgb"
      ],
      "execution_count": 0,
      "outputs": []
    },
    {
      "cell_type": "code",
      "metadata": {
        "id": "-Z_ABShmo3IC",
        "colab_type": "code",
        "outputId": "7ea07d2a-6ed0-4553-f212-a38d3cf8f366",
        "colab": {
          "base_uri": "https://localhost:8080/",
          "height": 128
        }
      },
      "source": [
        "drive.mount('/content/drive')"
      ],
      "execution_count": 0,
      "outputs": [
        {
          "output_type": "stream",
          "text": [
            "Go to this URL in a browser: https://accounts.google.com/o/oauth2/auth?client_id=947318989803-6bn6qk8qdgf4n4g3pfee6491hc0brc4i.apps.googleusercontent.com&redirect_uri=urn%3aietf%3awg%3aoauth%3a2.0%3aoob&response_type=code&scope=email%20https%3a%2f%2fwww.googleapis.com%2fauth%2fdocs.test%20https%3a%2f%2fwww.googleapis.com%2fauth%2fdrive%20https%3a%2f%2fwww.googleapis.com%2fauth%2fdrive.photos.readonly%20https%3a%2f%2fwww.googleapis.com%2fauth%2fpeopleapi.readonly\n",
            "\n",
            "Enter your authorization code:\n",
            "··········\n",
            "Mounted at /content/drive\n"
          ],
          "name": "stdout"
        }
      ]
    },
    {
      "cell_type": "code",
      "metadata": {
        "id": "iZqAKZ4QpKQb",
        "colab_type": "code",
        "outputId": "09e11514-eacd-45e9-f422-901be5d09dc3",
        "colab": {
          "base_uri": "https://localhost:8080/",
          "height": 199
        }
      },
      "source": [
        "data=pd.read_csv('/content/drive/My Drive/Zindi_Hack/Train_maskedv2.csv')\n",
        "print('The dimensions of training data is:',data.shape)\n",
        "print('------------------------------------------------')\n",
        "print(data.head(5))"
      ],
      "execution_count": 0,
      "outputs": [
        {
          "output_type": "stream",
          "text": [
            "The dimensions of training data is: (3174, 50)\n",
            "------------------------------------------------\n",
            "      ward  total_households  total_individuals  ...     pg_03     pg_04    lgt_00\n",
            "0  9D9BEUB       13569.97801        39024.03083  ...  0.029031  0.010292  0.599259\n",
            "1  RERH3XM       13593.88256        32879.94646  ...  0.000586  0.002832  0.699136\n",
            "2  GJWA3BO        2698.30050         8261.71093  ...  0.003201  0.000663  0.972315\n",
            "3  GW6VRB7        1965.96698         9069.77694  ...  0.054701  0.002299  0.735333\n",
            "4  CN9JZJC        1852.07821         9908.84404  ...  0.000704  0.000714  0.646964\n",
            "\n",
            "[5 rows x 50 columns]\n"
          ],
          "name": "stdout"
        }
      ]
    },
    {
      "cell_type": "code",
      "metadata": {
        "id": "gkMlQGdyp-Bp",
        "colab_type": "code",
        "outputId": "415b92e1-c912-4c74-d610-1c2f20a1cd5e",
        "colab": {
          "base_uri": "https://localhost:8080/",
          "height": 945
        }
      },
      "source": [
        "#Let us try and find out the missing values in the train data\n",
        "data.isna().sum() \n",
        "# Looks like no missing data"
      ],
      "execution_count": 0,
      "outputs": [
        {
          "output_type": "execute_result",
          "data": {
            "text/plain": [
              "ward                    0\n",
              "total_households        0\n",
              "total_individuals       0\n",
              "target_pct_vunerable    0\n",
              "dw_00                   0\n",
              "dw_01                   0\n",
              "dw_02                   0\n",
              "dw_03                   0\n",
              "dw_04                   0\n",
              "dw_05                   0\n",
              "dw_06                   0\n",
              "dw_07                   0\n",
              "dw_08                   0\n",
              "dw_09                   0\n",
              "dw_10                   0\n",
              "dw_11                   0\n",
              "dw_12                   0\n",
              "dw_13                   0\n",
              "psa_00                  0\n",
              "psa_01                  0\n",
              "psa_02                  0\n",
              "psa_03                  0\n",
              "psa_04                  0\n",
              "stv_00                  0\n",
              "stv_01                  0\n",
              "car_00                  0\n",
              "car_01                  0\n",
              "lln_00                  0\n",
              "lln_01                  0\n",
              "lan_00                  0\n",
              "lan_01                  0\n",
              "lan_02                  0\n",
              "lan_03                  0\n",
              "lan_04                  0\n",
              "lan_05                  0\n",
              "lan_06                  0\n",
              "lan_07                  0\n",
              "lan_08                  0\n",
              "lan_09                  0\n",
              "lan_10                  0\n",
              "lan_11                  0\n",
              "lan_12                  0\n",
              "lan_13                  0\n",
              "lan_14                  0\n",
              "pg_00                   0\n",
              "pg_01                   0\n",
              "pg_02                   0\n",
              "pg_03                   0\n",
              "pg_04                   0\n",
              "lgt_00                  0\n",
              "dtype: int64"
            ]
          },
          "metadata": {
            "tags": []
          },
          "execution_count": 6
        }
      ]
    },
    {
      "cell_type": "code",
      "metadata": {
        "id": "ewHChvxaqdGw",
        "colab_type": "code",
        "outputId": "2d92bf37-4a52-44d8-db38-9baa6faf61d1",
        "colab": {
          "base_uri": "https://localhost:8080/",
          "height": 35
        }
      },
      "source": [
        "# Let us try and find out if there any non-numeric data in the training data\n",
        "non_numeric=[cols for cols in data.columns if data[cols].dtypes=='object']\n",
        "non_numeric\n",
        "# Obviously ward is an alpha numeric value used for uniquely determining the locality"
      ],
      "execution_count": 0,
      "outputs": [
        {
          "output_type": "execute_result",
          "data": {
            "text/plain": [
              "['ward']"
            ]
          },
          "metadata": {
            "tags": []
          },
          "execution_count": 7
        }
      ]
    },
    {
      "cell_type": "code",
      "metadata": {
        "id": "kh9Yynf2sLE_",
        "colab_type": "code",
        "outputId": "43a604e7-a4f0-4487-e0e8-67cde3e491d3",
        "colab": {
          "base_uri": "https://localhost:8080/",
          "height": 967
        }
      },
      "source": [
        "import matplotlib.pyplot as plt\n",
        "%matplotlib inline\n",
        "f = plt.figure(figsize=(19, 15))\n",
        "plt.matshow(data.corr(), fignum=f.number)\n",
        "plt.xticks(range(data.shape[1]), data.columns, fontsize=14, rotation=45)\n",
        "plt.yticks(range(data.shape[1]), data.columns, fontsize=14)\n",
        "cb = plt.colorbar()\n",
        "cb.ax.tick_params(labelsize=14)\n",
        "plt.title('Correlation Matrix', fontsize=16);\n",
        "plt.show()"
      ],
      "execution_count": 0,
      "outputs": [
        {
          "output_type": "display_data",
          "data": {
            "image/png": "[encoded data removed]",
            "text/plain": [
              "<Figure size 1368x1080 with 2 Axes>"
            ]
          },
          "metadata": {
            "tags": []
          }
        }
      ]
    },
    {
      "cell_type": "code",
      "metadata": {
        "id": "Ny9HDv_ut_qT",
        "colab_type": "code",
        "outputId": "a609a32d-b65b-4c8b-9112-12b27e46c68d",
        "colab": {
          "base_uri": "https://localhost:8080/",
          "height": 181
        }
      },
      "source": [
        "data.columns"
      ],
      "execution_count": 0,
      "outputs": [
        {
          "output_type": "execute_result",
          "data": {
            "text/plain": [
              "Index(['ward', 'total_households', 'total_individuals', 'target_pct_vunerable',\n",
              "       'dw_00', 'dw_01', 'dw_02', 'dw_03', 'dw_04', 'dw_05', 'dw_06', 'dw_07',\n",
              "       'dw_08', 'dw_09', 'dw_10', 'dw_11', 'dw_12', 'dw_13', 'psa_00',\n",
              "       'psa_01', 'psa_02', 'psa_03', 'psa_04', 'stv_00', 'stv_01', 'car_00',\n",
              "       'car_01', 'lln_00', 'lln_01', 'lan_00', 'lan_01', 'lan_02', 'lan_03',\n",
              "       'lan_04', 'lan_05', 'lan_06', 'lan_07', 'lan_08', 'lan_09', 'lan_10',\n",
              "       'lan_11', 'lan_12', 'lan_13', 'lan_14', 'pg_00', 'pg_01', 'pg_02',\n",
              "       'pg_03', 'pg_04', 'lgt_00'],\n",
              "      dtype='object')"
            ]
          },
          "metadata": {
            "tags": []
          },
          "execution_count": 9
        }
      ]
    },
    {
      "cell_type": "code",
      "metadata": {
        "id": "LSOk9ljwtgpg",
        "colab_type": "code",
        "outputId": "e62159f1-fdaf-4ec8-db83-51fd04dff797",
        "colab": {
          "base_uri": "https://localhost:8080/",
          "height": 54
        }
      },
      "source": [
        "#Lets split the data\n",
        "from sklearn.model_selection import train_test_split\n",
        "train_cols= ['total_households', 'total_individuals', \n",
        "       'dw_00', 'dw_01', 'dw_02', 'dw_03', 'dw_04', 'dw_05', 'dw_06', 'dw_07',\n",
        "       'dw_08', 'dw_09', 'dw_10', 'dw_11', 'dw_12', 'dw_13', 'psa_00',\n",
        "       'psa_01', 'psa_02', 'psa_03', 'psa_04', 'stv_00', 'stv_01', 'car_00',\n",
        "       'car_01', 'lln_00', 'lln_01', 'lan_00', 'lan_01', 'lan_02', 'lan_03',\n",
        "       'lan_04', 'lan_05', 'lan_06', 'lan_07', 'lan_08', 'lan_09', 'lan_10',\n",
        "       'lan_11', 'lan_12', 'lan_13', 'lan_14', 'pg_00', 'pg_01', 'pg_02',\n",
        "       'pg_03', 'pg_04', 'lgt_00']\n",
        "target_cols=['target_pct_vunerable']\n",
        "X=data[train_cols]\n",
        "y=data[target_cols]\n",
        "train_X, val_X, train_y, val_y = train_test_split(X, y,test_size=0.50,random_state = 123)\n",
        "print('The training data dimensions are:',train_X.shape,'------',train_y.shape)\n",
        "print('The validation data dimensions are:',val_X.shape,'------',val_y.shape)"
      ],
      "execution_count": 0,
      "outputs": [
        {
          "output_type": "stream",
          "text": [
            "The training data dimensions are: (1587, 48) ------ (1587, 1)\n",
            "The validation data dimensions are: (1587, 48) ------ (1587, 1)\n"
          ],
          "name": "stdout"
        }
      ]
    },
    {
      "cell_type": "code",
      "metadata": {
        "id": "lrlZO49uxAy5",
        "colab_type": "code",
        "outputId": "65e37c32-700f-44be-daf3-665685170b76",
        "colab": {
          "base_uri": "https://localhost:8080/",
          "height": 92
        }
      },
      "source": [
        "#Lets try a simple random forest regressor\n",
        "from sklearn.ensemble import RandomForestRegressor\n",
        "from sklearn.metrics import mean_absolute_error\n",
        "forest_model = RandomForestRegressor(random_state=123)\n",
        "forest_model.fit(train_X, train_y)\n",
        "preds = forest_model.predict(val_X)\n",
        "print(mean_absolute_error(val_y, preds))"
      ],
      "execution_count": 0,
      "outputs": [
        {
          "output_type": "stream",
          "text": [
            "/usr/local/lib/python3.6/dist-packages/ipykernel_launcher.py:4: DataConversionWarning: A column-vector y was passed when a 1d array was expected. Please change the shape of y to (n_samples,), for example using ravel().\n",
            "  after removing the cwd from sys.path.\n"
          ],
          "name": "stderr"
        },
        {
          "output_type": "stream",
          "text": [
            "3.8639445471437255\n"
          ],
          "name": "stdout"
        }
      ]
    },
    {
      "cell_type": "code",
      "metadata": {
        "id": "7JnuP3qTxUIY",
        "colab_type": "code",
        "outputId": "e5095faa-40e4-465e-d87a-3402669f4e57",
        "colab": {
          "base_uri": "https://localhost:8080/",
          "height": 295
        }
      },
      "source": [
        "#Lets see the variable importance\n",
        "importances = forest_model.feature_importances_\n",
        "indices = np.argsort(importances)[:10]\n",
        "plt.title('Top 10 Feature Importances')\n",
        "plt.barh(range(len(indices)), importances[indices], color='b', align='center')\n",
        "plt.yticks(range(len(indices)), [train_cols[i] for i in indices])\n",
        "plt.xlabel('Relative Importance')\n",
        "plt.show()"
      ],
      "execution_count": 0,
      "outputs": [
        {
          "output_type": "display_data",
          "data": {
            "image/png": "[encoded data removed]",
            "text/plain": [
              "<Figure size 432x288 with 1 Axes>"
            ]
          },
          "metadata": {
            "tags": []
          }
        }
      ]
    },
    {
      "cell_type": "code",
      "metadata": {
        "id": "j-rWwEZD0_3V",
        "colab_type": "code",
        "outputId": "a2d3202d-337d-406f-b3cf-20787d3803fd",
        "colab": {
          "base_uri": "https://localhost:8080/",
          "height": 237
        }
      },
      "source": [
        "#Lets try and find out the cross-validation accuracy of a random forest model\n",
        "from sklearn.model_selection import cross_val_score\n",
        "scores = cross_val_score(forest_model, X, y, cv=5,scoring='neg_mean_absolute_error')\n",
        "print(\"Mean absolute error : %0.2f (+/- %0.2f)\" % (-scores.mean(), scores.std() * 2))"
      ],
      "execution_count": 0,
      "outputs": [
        {
          "output_type": "stream",
          "text": [
            "/usr/local/lib/python3.6/dist-packages/sklearn/model_selection/_validation.py:515: DataConversionWarning: A column-vector y was passed when a 1d array was expected. Please change the shape of y to (n_samples,), for example using ravel().\n",
            "  estimator.fit(X_train, y_train, **fit_params)\n",
            "/usr/local/lib/python3.6/dist-packages/sklearn/model_selection/_validation.py:515: DataConversionWarning: A column-vector y was passed when a 1d array was expected. Please change the shape of y to (n_samples,), for example using ravel().\n",
            "  estimator.fit(X_train, y_train, **fit_params)\n",
            "/usr/local/lib/python3.6/dist-packages/sklearn/model_selection/_validation.py:515: DataConversionWarning: A column-vector y was passed when a 1d array was expected. Please change the shape of y to (n_samples,), for example using ravel().\n",
            "  estimator.fit(X_train, y_train, **fit_params)\n",
            "/usr/local/lib/python3.6/dist-packages/sklearn/model_selection/_validation.py:515: DataConversionWarning: A column-vector y was passed when a 1d array was expected. Please change the shape of y to (n_samples,), for example using ravel().\n",
            "  estimator.fit(X_train, y_train, **fit_params)\n",
            "/usr/local/lib/python3.6/dist-packages/sklearn/model_selection/_validation.py:515: DataConversionWarning: A column-vector y was passed when a 1d array was expected. Please change the shape of y to (n_samples,), for example using ravel().\n",
            "  estimator.fit(X_train, y_train, **fit_params)\n"
          ],
          "name": "stderr"
        },
        {
          "output_type": "stream",
          "text": [
            "Mean absolute error : 3.93 (+/- 0.26)\n"
          ],
          "name": "stdout"
        }
      ]
    },
    {
      "cell_type": "code",
      "metadata": {
        "id": "JcaUNHkz9jzI",
        "colab_type": "code",
        "outputId": "9227c0d6-e0d6-4ae9-b7bb-3471f1aaf449",
        "colab": {
          "base_uri": "https://localhost:8080/",
          "height": 163
        }
      },
      "source": [
        "#Now lets try xgboost\n",
        "import xgboost as xgb\n",
        "xgb_reg=xgb.XGBRegressor(random_state=123)\n",
        "xgb_reg.fit(train_X,train_y)\n",
        "#print('Now cross validating')\n",
        "#print('-------------------------------')\n",
        "#xgb_scores = cross_val_score(xgb_reg, X, y, cv=5,scoring='neg_mean_absolute_error')\n",
        "#print(\"Mean absolute error : %0.2f (+/- %0.2f)\" % (-xgb_scores.mean(), xgb_scores.std() * 2))"
      ],
      "execution_count": 0,
      "outputs": [
        {
          "output_type": "stream",
          "text": [
            "[19:30:10] WARNING: /workspace/src/objective/regression_obj.cu:152: reg:linear is now deprecated in favor of reg:squarederror.\n"
          ],
          "name": "stdout"
        },
        {
          "output_type": "execute_result",
          "data": {
            "text/plain": [
              "XGBRegressor(base_score=0.5, booster='gbtree', colsample_bylevel=1,\n",
              "             colsample_bynode=1, colsample_bytree=1, gamma=0,\n",
              "             importance_type='gain', learning_rate=0.1, max_delta_step=0,\n",
              "             max_depth=3, min_child_weight=1, missing=None, n_estimators=100,\n",
              "             n_jobs=1, nthread=None, objective='reg:linear', random_state=123,\n",
              "             reg_alpha=0, reg_lambda=1, scale_pos_weight=1, seed=None,\n",
              "             silent=None, subsample=1, verbosity=1)"
            ]
          },
          "metadata": {
            "tags": []
          },
          "execution_count": 80
        }
      ]
    },
    {
      "cell_type": "code",
      "metadata": {
        "id": "3KMcCg8g0uuW",
        "colab_type": "code",
        "outputId": "a67ab358-f3ca-4c1b-be10-be0e8bf44deb",
        "colab": {
          "base_uri": "https://localhost:8080/",
          "height": 35
        }
      },
      "source": [
        "preds = xgb_reg.predict(val_X)\n",
        "print(mean_absolute_error(val_y, preds))"
      ],
      "execution_count": 0,
      "outputs": [
        {
          "output_type": "stream",
          "text": [
            "4.045821563802859\n"
          ],
          "name": "stdout"
        }
      ]
    },
    {
      "cell_type": "code",
      "metadata": {
        "id": "7SY7UDtr1SE-",
        "colab_type": "code",
        "outputId": "7b6abdf9-fb8d-4b39-acb1-a6d0def5cf84",
        "colab": {
          "base_uri": "https://localhost:8080/",
          "height": 145
        }
      },
      "source": [
        "X['new']=xgb_reg.predict(X)\n",
        "X.shape"
      ],
      "execution_count": 0,
      "outputs": [
        {
          "output_type": "stream",
          "text": [
            "/usr/local/lib/python3.6/dist-packages/ipykernel_launcher.py:1: SettingWithCopyWarning: \n",
            "A value is trying to be set on a copy of a slice from a DataFrame.\n",
            "Try using .loc[row_indexer,col_indexer] = value instead\n",
            "\n",
            "See the caveats in the documentation: https://pandas.pydata.org/pandas-docs/stable/user_guide/indexing.html#returning-a-view-versus-a-copy\n",
            "  \"\"\"Entry point for launching an IPython kernel.\n"
          ],
          "name": "stderr"
        },
        {
          "output_type": "execute_result",
          "data": {
            "text/plain": [
              "(3174, 49)"
            ]
          },
          "metadata": {
            "tags": []
          },
          "execution_count": 83
        }
      ]
    },
    {
      "cell_type": "code",
      "metadata": {
        "id": "h_Ye6TGwrq-l",
        "colab_type": "code",
        "outputId": "6dd7e48d-15fc-497a-e13d-a861792c7540",
        "colab": {
          "base_uri": "https://localhost:8080/",
          "height": 295
        }
      },
      "source": [
        "importances = xgb_reg.feature_importances_\n",
        "indices = np.argsort(importances)[:10]\n",
        "plt.title('Top 10 Feature Importances')\n",
        "plt.barh(range(len(indices)), importances[indices], color='b', align='center')\n",
        "plt.yticks(range(len(indices)), [train_cols[i] for i in indices])\n",
        "plt.xlabel('Relative Importance')\n",
        "plt.show()"
      ],
      "execution_count": 0,
      "outputs": [
        {
          "output_type": "display_data",
          "data": {
            "image/png": "[encoded data removed]",
            "text/plain": [
              "<Figure size 432x288 with 1 Axes>"
            ]
          },
          "metadata": {
            "tags": []
          }
        }
      ]
    },
    {
      "cell_type": "code",
      "metadata": {
        "id": "1C8XrxKd_oFq",
        "colab_type": "code",
        "outputId": "8df8a32a-9954-42ce-c753-03ad0c7234ef",
        "colab": {
          "base_uri": "https://localhost:8080/",
          "height": 383
        }
      },
      "source": [
        "!pip install catboost"
      ],
      "execution_count": 0,
      "outputs": [
        {
          "output_type": "stream",
          "text": [
            "Collecting catboost\n",
            "\u001b[?25l  Downloading https://files.pythonhosted.org/packages/94/ec/12b9a42b2ea7dfe5b602f235692ab2b61ee1334ff34334a15902272869e8/catboost-0.22-cp36-none-manylinux1_x86_64.whl (64.4MB)\n",
            "\u001b[K     |████████████████████████████████| 64.4MB 61kB/s \n",
            "\u001b[?25hRequirement already satisfied: plotly in /usr/local/lib/python3.6/dist-packages (from catboost) (4.4.1)\n",
            "Requirement already satisfied: graphviz in /usr/local/lib/python3.6/dist-packages (from catboost) (0.10.1)\n",
            "Requirement already satisfied: scipy in /usr/local/lib/python3.6/dist-packages (from catboost) (1.4.1)\n",
            "Requirement already satisfied: pandas>=0.24.0 in /usr/local/lib/python3.6/dist-packages (from catboost) (1.0.3)\n",
            "Requirement already satisfied: six in /usr/local/lib/python3.6/dist-packages (from catboost) (1.12.0)\n",
            "Requirement already satisfied: matplotlib in /usr/local/lib/python3.6/dist-packages (from catboost) (3.2.1)\n",
            "Requirement already satisfied: numpy>=1.16.0 in /usr/local/lib/python3.6/dist-packages (from catboost) (1.18.2)\n",
            "Requirement already satisfied: retrying>=1.3.3 in /usr/local/lib/python3.6/dist-packages (from plotly->catboost) (1.3.3)\n",
            "Requirement already satisfied: pytz>=2017.2 in /usr/local/lib/python3.6/dist-packages (from pandas>=0.24.0->catboost) (2018.9)\n",
            "Requirement already satisfied: python-dateutil>=2.6.1 in /usr/local/lib/python3.6/dist-packages (from pandas>=0.24.0->catboost) (2.8.1)\n",
            "Requirement already satisfied: cycler>=0.10 in /usr/local/lib/python3.6/dist-packages (from matplotlib->catboost) (0.10.0)\n",
            "Requirement already satisfied: kiwisolver>=1.0.1 in /usr/local/lib/python3.6/dist-packages (from matplotlib->catboost) (1.1.0)\n",
            "Requirement already satisfied: pyparsing!=2.0.4,!=2.1.2,!=2.1.6,>=2.0.1 in /usr/local/lib/python3.6/dist-packages (from matplotlib->catboost) (2.4.6)\n",
            "Requirement already satisfied: setuptools in /usr/local/lib/python3.6/dist-packages (from kiwisolver>=1.0.1->matplotlib->catboost) (46.0.0)\n",
            "Installing collected packages: catboost\n",
            "Successfully installed catboost-0.22\n"
          ],
          "name": "stdout"
        }
      ]
    },
    {
      "cell_type": "code",
      "metadata": {
        "id": "zCHdqg5-_H63",
        "colab_type": "code",
        "outputId": "d40280ec-758b-4496-c10f-8425bb4885d8",
        "colab": {
          "base_uri": "https://localhost:8080/",
          "height": 1000,
          "referenced_widgets": [
            "cdab380d406f4fd6a2025c3798d21795",
            "fcfc7d8fce3842bb821cf6338a9783ec",
            "fe947798df6f43789e58ee12d2352330",
            "740952c9e8134ee19f5007606fba88cb",
            "1720d55c06fa44bab36dd2bea9b8a120",
            "cc11c5e59745483fa7ca101b208b9bf9",
            "025c74efe0d94e6eb1f4f629a75ffe19",
            "05ccad487dbd463da4d7f9cbadc1dc0b",
            "04e0ef8fb5a84749a7b91bcdc33bd3cd",
            "82fab0bdcb244879baf8e358f57947a4"
          ]
        }
      },
      "source": [
        "#Now lets try CatBoost\n",
        "from catboost import CatBoostRegressor\n",
        "from sklearn.model_selection import KFold\n",
        "kf = KFold(n_splits=5)\n",
        "catboost_scores=0.0\n",
        "fold = 0\n",
        "catboost_reg=CatBoostRegressor(random_state=123)\n",
        "for train_index, test_index in kf.split(X):\n",
        "  print('In fold',fold+1)\n",
        "  X_train, X_test = X.iloc[train_index][:], X.iloc[test_index][:]\n",
        "  y_train, y_test = y.iloc[train_index][:], y.iloc[test_index][:]\n",
        "  catboost_reg.fit(X_train,y_train,use_best_model=True,eval_set=(X_test,y_test),plot=True,early_stopping_rounds=3)\n",
        "  catboost_scores=catboost_scores+mean_absolute_error(y_test,catboost_reg.predict(X_test))\n",
        "  fold = fold + 1\n",
        "print('The cross validation MAE:',catboost_scores/5)"
      ],
      "execution_count": 0,
      "outputs": []
    },
    {
      "cell_type": "code",
      "metadata": {
        "id": "qUYCNEAqvoWg",
        "colab_type": "code",
        "colab": {}
      },
      "source": [
        "grid = {'learning_rate': [0.01,0.03, 0.1],\n",
        "        'depth': [4, 6, 15],\n",
        "        'l2_leaf_reg': [1, 3, 5, 7, 9]}\n",
        "randomized_search_result = catboost_reg.randomized_search(grid,\n",
        "                                                   X=X,\n",
        "                                                   y=y,\n",
        "                                                   cv=5\n",
        "                                                   )"
      ],
      "execution_count": 0,
      "outputs": []
    },
    {
      "cell_type": "code",
      "metadata": {
        "id": "lw1zIY9NdnMA",
        "colab_type": "code",
        "outputId": "41634042-6424-4448-cd34-039444706ecf",
        "colab": {
          "base_uri": "https://localhost:8080/",
          "height": 1000
        }
      },
      "source": [
        "print('Now cross validating')\n",
        "print('-------------------------------')\n",
        "catboost_scores = cross_val_score(catboost_reg, X, y, cv=5,scoring='neg_mean_absolute_error')\n",
        "print(\"Mean absolute error : %0.2f (+/- %0.2f)\" % (-catboost_scores.mean(), catboost_scores.std() * 2))"
      ],
      "execution_count": 0,
      "outputs": [
        {
          "output_type": "stream",
          "text": [
            "\u001b[1;30;43mStreaming output truncated to the last 5000 lines.\u001b[0m\n",
            "6:\tlearn: 10.2536343\ttotal: 97.2ms\tremaining: 13.8s\n",
            "7:\tlearn: 9.9715927\ttotal: 110ms\tremaining: 13.7s\n",
            "8:\tlearn: 9.7014336\ttotal: 125ms\tremaining: 13.8s\n",
            "9:\tlearn: 9.4380991\ttotal: 138ms\tremaining: 13.7s\n",
            "10:\tlearn: 9.1846751\ttotal: 151ms\tremaining: 13.5s\n",
            "11:\tlearn: 8.9387565\ttotal: 167ms\tremaining: 13.7s\n",
            "12:\tlearn: 8.7106519\ttotal: 181ms\tremaining: 13.7s\n",
            "13:\tlearn: 8.5196573\ttotal: 194ms\tremaining: 13.6s\n",
            "14:\tlearn: 8.3107722\ttotal: 206ms\tremaining: 13.6s\n",
            "15:\tlearn: 8.1138971\ttotal: 219ms\tremaining: 13.5s\n",
            "16:\tlearn: 7.9277338\ttotal: 232ms\tremaining: 13.4s\n",
            "17:\tlearn: 7.7601372\ttotal: 244ms\tremaining: 13.3s\n",
            "18:\tlearn: 7.5939878\ttotal: 257ms\tremaining: 13.2s\n",
            "19:\tlearn: 7.4412649\ttotal: 270ms\tremaining: 13.2s\n",
            "20:\tlearn: 7.3090708\ttotal: 282ms\tremaining: 13.2s\n",
            "21:\tlearn: 7.1833926\ttotal: 295ms\tremaining: 13.1s\n",
            "22:\tlearn: 7.0568433\ttotal: 308ms\tremaining: 13.1s\n",
            "23:\tlearn: 6.9369483\ttotal: 322ms\tremaining: 13.1s\n",
            "24:\tlearn: 6.8269784\ttotal: 335ms\tremaining: 13.1s\n",
            "25:\tlearn: 6.7196914\ttotal: 348ms\tremaining: 13.1s\n",
            "26:\tlearn: 6.6318005\ttotal: 361ms\tremaining: 13s\n",
            "27:\tlearn: 6.5428941\ttotal: 379ms\tremaining: 13.2s\n",
            "28:\tlearn: 6.4480122\ttotal: 393ms\tremaining: 13.1s\n",
            "29:\tlearn: 6.3690897\ttotal: 407ms\tremaining: 13.2s\n",
            "30:\tlearn: 6.2956246\ttotal: 421ms\tremaining: 13.2s\n",
            "31:\tlearn: 6.2325479\ttotal: 434ms\tremaining: 13.1s\n",
            "32:\tlearn: 6.1660992\ttotal: 446ms\tremaining: 13.1s\n",
            "33:\tlearn: 6.0952807\ttotal: 459ms\tremaining: 13s\n",
            "34:\tlearn: 6.0331571\ttotal: 471ms\tremaining: 13s\n",
            "35:\tlearn: 5.9732851\ttotal: 483ms\tremaining: 12.9s\n",
            "36:\tlearn: 5.9205362\ttotal: 504ms\tremaining: 13.1s\n",
            "37:\tlearn: 5.8745140\ttotal: 517ms\tremaining: 13.1s\n",
            "38:\tlearn: 5.8231255\ttotal: 530ms\tremaining: 13.1s\n",
            "39:\tlearn: 5.7779069\ttotal: 543ms\tremaining: 13s\n",
            "40:\tlearn: 5.7359408\ttotal: 557ms\tremaining: 13s\n",
            "41:\tlearn: 5.7000680\ttotal: 570ms\tremaining: 13s\n",
            "42:\tlearn: 5.6641927\ttotal: 587ms\tremaining: 13.1s\n",
            "43:\tlearn: 5.6273950\ttotal: 601ms\tremaining: 13.1s\n",
            "44:\tlearn: 5.5937052\ttotal: 614ms\tremaining: 13s\n",
            "45:\tlearn: 5.5592162\ttotal: 627ms\tremaining: 13s\n",
            "46:\tlearn: 5.5250405\ttotal: 641ms\tremaining: 13s\n",
            "47:\tlearn: 5.4997318\ttotal: 654ms\tremaining: 13s\n",
            "48:\tlearn: 5.4693191\ttotal: 666ms\tremaining: 12.9s\n",
            "49:\tlearn: 5.4400478\ttotal: 678ms\tremaining: 12.9s\n",
            "50:\tlearn: 5.4166164\ttotal: 690ms\tremaining: 12.8s\n",
            "51:\tlearn: 5.3949804\ttotal: 704ms\tremaining: 12.8s\n",
            "52:\tlearn: 5.3727139\ttotal: 719ms\tremaining: 12.8s\n",
            "53:\tlearn: 5.3526937\ttotal: 736ms\tremaining: 12.9s\n",
            "54:\tlearn: 5.3307046\ttotal: 764ms\tremaining: 13.1s\n",
            "55:\tlearn: 5.3093531\ttotal: 778ms\tremaining: 13.1s\n",
            "56:\tlearn: 5.2900073\ttotal: 794ms\tremaining: 13.1s\n",
            "57:\tlearn: 5.2734474\ttotal: 810ms\tremaining: 13.2s\n",
            "58:\tlearn: 5.2531038\ttotal: 824ms\tremaining: 13.1s\n",
            "59:\tlearn: 5.2346297\ttotal: 837ms\tremaining: 13.1s\n",
            "60:\tlearn: 5.2138745\ttotal: 850ms\tremaining: 13.1s\n",
            "61:\tlearn: 5.1928133\ttotal: 863ms\tremaining: 13.1s\n",
            "62:\tlearn: 5.1762260\ttotal: 875ms\tremaining: 13s\n",
            "63:\tlearn: 5.1594325\ttotal: 887ms\tremaining: 13s\n",
            "64:\tlearn: 5.1452219\ttotal: 900ms\tremaining: 12.9s\n",
            "65:\tlearn: 5.1316664\ttotal: 912ms\tremaining: 12.9s\n",
            "66:\tlearn: 5.1177207\ttotal: 924ms\tremaining: 12.9s\n",
            "67:\tlearn: 5.1062095\ttotal: 937ms\tremaining: 12.8s\n",
            "68:\tlearn: 5.0921914\ttotal: 949ms\tremaining: 12.8s\n",
            "69:\tlearn: 5.0820117\ttotal: 961ms\tremaining: 12.8s\n",
            "70:\tlearn: 5.0719861\ttotal: 973ms\tremaining: 12.7s\n",
            "71:\tlearn: 5.0601664\ttotal: 985ms\tremaining: 12.7s\n",
            "72:\tlearn: 5.0507208\ttotal: 1s\tremaining: 12.7s\n",
            "73:\tlearn: 5.0415535\ttotal: 1.01s\tremaining: 12.7s\n",
            "74:\tlearn: 5.0343792\ttotal: 1.03s\tremaining: 12.7s\n",
            "75:\tlearn: 5.0253965\ttotal: 1.04s\tremaining: 12.7s\n",
            "76:\tlearn: 5.0174995\ttotal: 1.05s\tremaining: 12.7s\n",
            "77:\tlearn: 5.0027622\ttotal: 1.07s\tremaining: 12.6s\n",
            "78:\tlearn: 4.9925967\ttotal: 1.08s\tremaining: 12.6s\n",
            "79:\tlearn: 4.9798341\ttotal: 1.09s\tremaining: 12.6s\n",
            "80:\tlearn: 4.9718658\ttotal: 1.11s\tremaining: 12.6s\n",
            "81:\tlearn: 4.9653701\ttotal: 1.12s\tremaining: 12.5s\n",
            "82:\tlearn: 4.9598952\ttotal: 1.13s\tremaining: 12.5s\n",
            "83:\tlearn: 4.9499588\ttotal: 1.15s\tremaining: 12.5s\n",
            "84:\tlearn: 4.9398231\ttotal: 1.16s\tremaining: 12.5s\n",
            "85:\tlearn: 4.9315978\ttotal: 1.17s\tremaining: 12.5s\n",
            "86:\tlearn: 4.9262231\ttotal: 1.19s\tremaining: 12.4s\n",
            "87:\tlearn: 4.9214976\ttotal: 1.2s\tremaining: 12.4s\n",
            "88:\tlearn: 4.9165428\ttotal: 1.22s\tremaining: 12.5s\n",
            "89:\tlearn: 4.9046157\ttotal: 1.23s\tremaining: 12.4s\n",
            "90:\tlearn: 4.8986428\ttotal: 1.24s\tremaining: 12.4s\n",
            "91:\tlearn: 4.8914774\ttotal: 1.26s\tremaining: 12.4s\n",
            "92:\tlearn: 4.8854949\ttotal: 1.27s\tremaining: 12.4s\n",
            "93:\tlearn: 4.8789333\ttotal: 1.28s\tremaining: 12.4s\n",
            "94:\tlearn: 4.8729247\ttotal: 1.3s\tremaining: 12.4s\n",
            "95:\tlearn: 4.8685424\ttotal: 1.31s\tremaining: 12.4s\n",
            "96:\tlearn: 4.8603698\ttotal: 1.33s\tremaining: 12.3s\n",
            "97:\tlearn: 4.8517223\ttotal: 1.34s\tremaining: 12.3s\n",
            "98:\tlearn: 4.8440258\ttotal: 1.35s\tremaining: 12.3s\n",
            "99:\tlearn: 4.8395712\ttotal: 1.36s\tremaining: 12.3s\n",
            "100:\tlearn: 4.8303318\ttotal: 1.38s\tremaining: 12.3s\n",
            "101:\tlearn: 4.8180162\ttotal: 1.39s\tremaining: 12.2s\n",
            "102:\tlearn: 4.8119659\ttotal: 1.41s\tremaining: 12.2s\n",
            "103:\tlearn: 4.7993813\ttotal: 1.42s\tremaining: 12.2s\n",
            "104:\tlearn: 4.7923561\ttotal: 1.43s\tremaining: 12.2s\n",
            "105:\tlearn: 4.7852205\ttotal: 1.44s\tremaining: 12.2s\n",
            "106:\tlearn: 4.7789296\ttotal: 1.46s\tremaining: 12.1s\n",
            "107:\tlearn: 4.7729744\ttotal: 1.47s\tremaining: 12.1s\n",
            "108:\tlearn: 4.7610442\ttotal: 1.48s\tremaining: 12.1s\n",
            "109:\tlearn: 4.7576333\ttotal: 1.5s\tremaining: 12.1s\n",
            "110:\tlearn: 4.7527885\ttotal: 1.51s\tremaining: 12.1s\n",
            "111:\tlearn: 4.7444199\ttotal: 1.53s\tremaining: 12.1s\n",
            "112:\tlearn: 4.7383691\ttotal: 1.54s\tremaining: 12.1s\n",
            "113:\tlearn: 4.7340336\ttotal: 1.55s\tremaining: 12.1s\n",
            "114:\tlearn: 4.7266010\ttotal: 1.57s\tremaining: 12.1s\n",
            "115:\tlearn: 4.7229558\ttotal: 1.58s\tremaining: 12s\n",
            "116:\tlearn: 4.7163166\ttotal: 1.59s\tremaining: 12s\n",
            "117:\tlearn: 4.7132181\ttotal: 1.61s\tremaining: 12s\n",
            "118:\tlearn: 4.7077409\ttotal: 1.62s\tremaining: 12s\n",
            "119:\tlearn: 4.7025271\ttotal: 1.63s\tremaining: 12s\n",
            "120:\tlearn: 4.6945918\ttotal: 1.65s\tremaining: 12s\n",
            "121:\tlearn: 4.6841021\ttotal: 1.66s\tremaining: 11.9s\n",
            "122:\tlearn: 4.6787890\ttotal: 1.67s\tremaining: 11.9s\n",
            "123:\tlearn: 4.6670731\ttotal: 1.69s\tremaining: 11.9s\n",
            "124:\tlearn: 4.6551583\ttotal: 1.7s\tremaining: 11.9s\n",
            "125:\tlearn: 4.6462439\ttotal: 1.71s\tremaining: 11.9s\n",
            "126:\tlearn: 4.6398113\ttotal: 1.72s\tremaining: 11.8s\n",
            "127:\tlearn: 4.6355987\ttotal: 1.73s\tremaining: 11.8s\n",
            "128:\tlearn: 4.6293093\ttotal: 1.75s\tremaining: 11.8s\n",
            "129:\tlearn: 4.6224442\ttotal: 1.76s\tremaining: 11.8s\n",
            "130:\tlearn: 4.6177633\ttotal: 1.77s\tremaining: 11.7s\n",
            "131:\tlearn: 4.6155453\ttotal: 1.78s\tremaining: 11.7s\n",
            "132:\tlearn: 4.6033066\ttotal: 1.8s\tremaining: 11.7s\n",
            "133:\tlearn: 4.5923242\ttotal: 1.81s\tremaining: 11.7s\n",
            "134:\tlearn: 4.5839866\ttotal: 1.83s\tremaining: 11.7s\n",
            "135:\tlearn: 4.5750543\ttotal: 1.84s\tremaining: 11.7s\n",
            "136:\tlearn: 4.5658063\ttotal: 1.85s\tremaining: 11.7s\n",
            "137:\tlearn: 4.5572062\ttotal: 1.87s\tremaining: 11.7s\n",
            "138:\tlearn: 4.5504051\ttotal: 1.88s\tremaining: 11.6s\n",
            "139:\tlearn: 4.5451529\ttotal: 1.89s\tremaining: 11.6s\n",
            "140:\tlearn: 4.5390449\ttotal: 1.91s\tremaining: 11.6s\n",
            "141:\tlearn: 4.5309931\ttotal: 1.92s\tremaining: 11.6s\n",
            "142:\tlearn: 4.5217809\ttotal: 1.93s\tremaining: 11.6s\n",
            "143:\tlearn: 4.5182621\ttotal: 1.95s\tremaining: 11.6s\n",
            "144:\tlearn: 4.5127820\ttotal: 1.96s\tremaining: 11.5s\n",
            "145:\tlearn: 4.5097824\ttotal: 1.97s\tremaining: 11.5s\n",
            "146:\tlearn: 4.5007415\ttotal: 1.98s\tremaining: 11.5s\n",
            "147:\tlearn: 4.4945536\ttotal: 2s\tremaining: 11.5s\n",
            "148:\tlearn: 4.4866968\ttotal: 2.01s\tremaining: 11.5s\n",
            "149:\tlearn: 4.4784818\ttotal: 2.03s\tremaining: 11.5s\n",
            "150:\tlearn: 4.4702762\ttotal: 2.04s\tremaining: 11.5s\n",
            "151:\tlearn: 4.4612141\ttotal: 2.05s\tremaining: 11.5s\n",
            "152:\tlearn: 4.4561762\ttotal: 2.07s\tremaining: 11.4s\n",
            "153:\tlearn: 4.4513181\ttotal: 2.08s\tremaining: 11.4s\n",
            "154:\tlearn: 4.4436285\ttotal: 2.1s\tremaining: 11.4s\n",
            "155:\tlearn: 4.4350249\ttotal: 2.11s\tremaining: 11.4s\n",
            "156:\tlearn: 4.4228149\ttotal: 2.13s\tremaining: 11.4s\n",
            "157:\tlearn: 4.4181445\ttotal: 2.14s\tremaining: 11.4s\n",
            "158:\tlearn: 4.4127048\ttotal: 2.15s\tremaining: 11.4s\n",
            "159:\tlearn: 4.4049322\ttotal: 2.17s\tremaining: 11.4s\n",
            "160:\tlearn: 4.3979003\ttotal: 2.18s\tremaining: 11.4s\n",
            "161:\tlearn: 4.3895583\ttotal: 2.19s\tremaining: 11.3s\n",
            "162:\tlearn: 4.3831372\ttotal: 2.2s\tremaining: 11.3s\n",
            "163:\tlearn: 4.3762453\ttotal: 2.22s\tremaining: 11.3s\n",
            "164:\tlearn: 4.3675445\ttotal: 2.23s\tremaining: 11.3s\n",
            "165:\tlearn: 4.3631265\ttotal: 2.25s\tremaining: 11.3s\n",
            "166:\tlearn: 4.3586219\ttotal: 2.26s\tremaining: 11.3s\n",
            "167:\tlearn: 4.3500065\ttotal: 2.27s\tremaining: 11.2s\n",
            "168:\tlearn: 4.3449177\ttotal: 2.28s\tremaining: 11.2s\n",
            "169:\tlearn: 4.3356958\ttotal: 2.3s\tremaining: 11.2s\n",
            "170:\tlearn: 4.3306264\ttotal: 2.31s\tremaining: 11.2s\n",
            "171:\tlearn: 4.3235551\ttotal: 2.32s\tremaining: 11.2s\n",
            "172:\tlearn: 4.3155882\ttotal: 2.34s\tremaining: 11.2s\n",
            "173:\tlearn: 4.3042162\ttotal: 2.35s\tremaining: 11.2s\n",
            "174:\tlearn: 4.2973347\ttotal: 2.36s\tremaining: 11.1s\n",
            "175:\tlearn: 4.2894280\ttotal: 2.38s\tremaining: 11.1s\n",
            "176:\tlearn: 4.2825153\ttotal: 2.39s\tremaining: 11.1s\n",
            "177:\tlearn: 4.2737467\ttotal: 2.4s\tremaining: 11.1s\n",
            "178:\tlearn: 4.2667231\ttotal: 2.41s\tremaining: 11.1s\n",
            "179:\tlearn: 4.2588517\ttotal: 2.42s\tremaining: 11.1s\n",
            "180:\tlearn: 4.2511008\ttotal: 2.44s\tremaining: 11s\n",
            "181:\tlearn: 4.2407576\ttotal: 2.45s\tremaining: 11s\n",
            "182:\tlearn: 4.2357617\ttotal: 2.47s\tremaining: 11s\n",
            "183:\tlearn: 4.2268544\ttotal: 2.48s\tremaining: 11s\n",
            "184:\tlearn: 4.2193484\ttotal: 2.5s\tremaining: 11s\n",
            "185:\tlearn: 4.2129493\ttotal: 2.51s\tremaining: 11s\n",
            "186:\tlearn: 4.2062958\ttotal: 2.52s\tremaining: 11s\n",
            "187:\tlearn: 4.1995238\ttotal: 2.54s\tremaining: 11s\n",
            "188:\tlearn: 4.1899574\ttotal: 2.55s\tremaining: 10.9s\n",
            "189:\tlearn: 4.1818182\ttotal: 2.56s\tremaining: 10.9s\n",
            "190:\tlearn: 4.1712340\ttotal: 2.58s\tremaining: 10.9s\n",
            "191:\tlearn: 4.1585194\ttotal: 2.59s\tremaining: 10.9s\n",
            "192:\tlearn: 4.1520705\ttotal: 2.6s\tremaining: 10.9s\n",
            "193:\tlearn: 4.1434326\ttotal: 2.62s\tremaining: 10.9s\n",
            "194:\tlearn: 4.1365706\ttotal: 2.63s\tremaining: 10.9s\n",
            "195:\tlearn: 4.1283511\ttotal: 2.65s\tremaining: 10.9s\n",
            "196:\tlearn: 4.1194130\ttotal: 2.66s\tremaining: 10.9s\n",
            "197:\tlearn: 4.1120090\ttotal: 2.68s\tremaining: 10.8s\n",
            "198:\tlearn: 4.1065316\ttotal: 2.69s\tremaining: 10.8s\n",
            "199:\tlearn: 4.0924967\ttotal: 2.7s\tremaining: 10.8s\n",
            "200:\tlearn: 4.0873459\ttotal: 2.71s\tremaining: 10.8s\n",
            "201:\tlearn: 4.0816058\ttotal: 2.73s\tremaining: 10.8s\n",
            "202:\tlearn: 4.0733668\ttotal: 2.74s\tremaining: 10.8s\n",
            "203:\tlearn: 4.0663887\ttotal: 2.75s\tremaining: 10.7s\n",
            "204:\tlearn: 4.0604871\ttotal: 2.76s\tremaining: 10.7s\n",
            "205:\tlearn: 4.0527328\ttotal: 2.78s\tremaining: 10.7s\n",
            "206:\tlearn: 4.0435566\ttotal: 2.79s\tremaining: 10.7s\n",
            "207:\tlearn: 4.0356366\ttotal: 2.8s\tremaining: 10.7s\n",
            "208:\tlearn: 4.0299279\ttotal: 2.82s\tremaining: 10.7s\n",
            "209:\tlearn: 4.0217145\ttotal: 2.83s\tremaining: 10.6s\n",
            "210:\tlearn: 4.0141449\ttotal: 2.84s\tremaining: 10.6s\n",
            "211:\tlearn: 4.0070552\ttotal: 2.86s\tremaining: 10.6s\n",
            "212:\tlearn: 3.9997113\ttotal: 2.87s\tremaining: 10.6s\n",
            "213:\tlearn: 3.9930202\ttotal: 2.88s\tremaining: 10.6s\n",
            "214:\tlearn: 3.9859296\ttotal: 2.9s\tremaining: 10.6s\n",
            "215:\tlearn: 3.9783263\ttotal: 2.91s\tremaining: 10.6s\n",
            "216:\tlearn: 3.9725540\ttotal: 2.92s\tremaining: 10.5s\n",
            "217:\tlearn: 3.9645637\ttotal: 2.94s\tremaining: 10.5s\n",
            "218:\tlearn: 3.9572585\ttotal: 2.95s\tremaining: 10.5s\n",
            "219:\tlearn: 3.9532034\ttotal: 2.96s\tremaining: 10.5s\n",
            "220:\tlearn: 3.9462243\ttotal: 2.97s\tremaining: 10.5s\n",
            "221:\tlearn: 3.9342937\ttotal: 2.99s\tremaining: 10.5s\n",
            "222:\tlearn: 3.9275440\ttotal: 3s\tremaining: 10.5s\n",
            "223:\tlearn: 3.9201355\ttotal: 3.01s\tremaining: 10.4s\n",
            "224:\tlearn: 3.9094701\ttotal: 3.03s\tremaining: 10.4s\n",
            "225:\tlearn: 3.9010034\ttotal: 3.04s\tremaining: 10.4s\n",
            "226:\tlearn: 3.8933250\ttotal: 3.05s\tremaining: 10.4s\n",
            "227:\tlearn: 3.8875644\ttotal: 3.07s\tremaining: 10.4s\n",
            "228:\tlearn: 3.8795536\ttotal: 3.08s\tremaining: 10.4s\n",
            "229:\tlearn: 3.8728515\ttotal: 3.1s\tremaining: 10.4s\n",
            "230:\tlearn: 3.8670029\ttotal: 3.11s\tremaining: 10.4s\n",
            "231:\tlearn: 3.8598169\ttotal: 3.13s\tremaining: 10.3s\n",
            "232:\tlearn: 3.8475133\ttotal: 3.14s\tremaining: 10.3s\n",
            "233:\tlearn: 3.8395514\ttotal: 3.15s\tremaining: 10.3s\n",
            "234:\tlearn: 3.8308940\ttotal: 3.16s\tremaining: 10.3s\n",
            "235:\tlearn: 3.8234388\ttotal: 3.18s\tremaining: 10.3s\n",
            "236:\tlearn: 3.8147705\ttotal: 3.19s\tremaining: 10.3s\n",
            "237:\tlearn: 3.8078358\ttotal: 3.2s\tremaining: 10.3s\n",
            "238:\tlearn: 3.8027372\ttotal: 3.22s\tremaining: 10.2s\n",
            "239:\tlearn: 3.7986133\ttotal: 3.23s\tremaining: 10.2s\n",
            "240:\tlearn: 3.7886636\ttotal: 3.24s\tremaining: 10.2s\n",
            "241:\tlearn: 3.7817392\ttotal: 3.26s\tremaining: 10.2s\n",
            "242:\tlearn: 3.7729309\ttotal: 3.27s\tremaining: 10.2s\n",
            "243:\tlearn: 3.7632553\ttotal: 3.29s\tremaining: 10.2s\n",
            "244:\tlearn: 3.7553872\ttotal: 3.3s\tremaining: 10.2s\n",
            "245:\tlearn: 3.7512926\ttotal: 3.31s\tremaining: 10.2s\n",
            "246:\tlearn: 3.7414111\ttotal: 3.33s\tremaining: 10.1s\n",
            "247:\tlearn: 3.7342273\ttotal: 3.34s\tremaining: 10.1s\n",
            "248:\tlearn: 3.7286674\ttotal: 3.35s\tremaining: 10.1s\n",
            "249:\tlearn: 3.7230472\ttotal: 3.36s\tremaining: 10.1s\n",
            "250:\tlearn: 3.7161457\ttotal: 3.38s\tremaining: 10.1s\n",
            "251:\tlearn: 3.7076698\ttotal: 3.39s\tremaining: 10.1s\n",
            "252:\tlearn: 3.7036827\ttotal: 3.4s\tremaining: 10s\n",
            "253:\tlearn: 3.6983166\ttotal: 3.41s\tremaining: 10s\n",
            "254:\tlearn: 3.6901038\ttotal: 3.42s\tremaining: 10s\n",
            "255:\tlearn: 3.6804896\ttotal: 3.44s\tremaining: 9.99s\n",
            "256:\tlearn: 3.6722701\ttotal: 3.45s\tremaining: 9.97s\n",
            "257:\tlearn: 3.6624087\ttotal: 3.46s\tremaining: 9.96s\n",
            "258:\tlearn: 3.6535001\ttotal: 3.48s\tremaining: 9.96s\n",
            "259:\tlearn: 3.6453673\ttotal: 3.51s\tremaining: 9.99s\n",
            "260:\tlearn: 3.6366259\ttotal: 3.52s\tremaining: 9.97s\n",
            "261:\tlearn: 3.6288288\ttotal: 3.54s\tremaining: 9.96s\n",
            "262:\tlearn: 3.6211447\ttotal: 3.55s\tremaining: 9.95s\n",
            "263:\tlearn: 3.6143738\ttotal: 3.56s\tremaining: 9.94s\n",
            "264:\tlearn: 3.6092463\ttotal: 3.58s\tremaining: 9.92s\n",
            "265:\tlearn: 3.6041442\ttotal: 3.59s\tremaining: 9.9s\n",
            "266:\tlearn: 3.5982416\ttotal: 3.6s\tremaining: 9.88s\n",
            "267:\tlearn: 3.5900604\ttotal: 3.61s\tremaining: 9.87s\n",
            "268:\tlearn: 3.5840492\ttotal: 3.63s\tremaining: 9.85s\n",
            "269:\tlearn: 3.5805944\ttotal: 3.64s\tremaining: 9.84s\n",
            "270:\tlearn: 3.5723343\ttotal: 3.65s\tremaining: 9.82s\n",
            "271:\tlearn: 3.5671885\ttotal: 3.66s\tremaining: 9.8s\n",
            "272:\tlearn: 3.5594065\ttotal: 3.67s\tremaining: 9.78s\n",
            "273:\tlearn: 3.5563170\ttotal: 3.69s\tremaining: 9.78s\n",
            "274:\tlearn: 3.5487539\ttotal: 3.7s\tremaining: 9.76s\n",
            "275:\tlearn: 3.5401096\ttotal: 3.71s\tremaining: 9.75s\n",
            "276:\tlearn: 3.5341452\ttotal: 3.73s\tremaining: 9.73s\n",
            "277:\tlearn: 3.5262104\ttotal: 3.74s\tremaining: 9.72s\n",
            "278:\tlearn: 3.5185767\ttotal: 3.75s\tremaining: 9.7s\n",
            "279:\tlearn: 3.5151396\ttotal: 3.77s\tremaining: 9.69s\n",
            "280:\tlearn: 3.5092129\ttotal: 3.78s\tremaining: 9.67s\n",
            "281:\tlearn: 3.5015764\ttotal: 3.79s\tremaining: 9.66s\n",
            "282:\tlearn: 3.4928164\ttotal: 3.81s\tremaining: 9.64s\n",
            "283:\tlearn: 3.4840857\ttotal: 3.82s\tremaining: 9.63s\n",
            "284:\tlearn: 3.4772669\ttotal: 3.83s\tremaining: 9.61s\n",
            "285:\tlearn: 3.4699864\ttotal: 3.84s\tremaining: 9.6s\n",
            "286:\tlearn: 3.4630797\ttotal: 3.85s\tremaining: 9.58s\n",
            "287:\tlearn: 3.4575064\ttotal: 3.87s\tremaining: 9.56s\n",
            "288:\tlearn: 3.4490722\ttotal: 3.88s\tremaining: 9.55s\n",
            "289:\tlearn: 3.4449214\ttotal: 3.9s\tremaining: 9.54s\n",
            "290:\tlearn: 3.4390560\ttotal: 3.91s\tremaining: 9.52s\n",
            "291:\tlearn: 3.4318418\ttotal: 3.92s\tremaining: 9.51s\n",
            "292:\tlearn: 3.4216199\ttotal: 3.93s\tremaining: 9.49s\n",
            "293:\tlearn: 3.4155019\ttotal: 3.95s\tremaining: 9.48s\n",
            "294:\tlearn: 3.4103017\ttotal: 3.96s\tremaining: 9.47s\n",
            "295:\tlearn: 3.4055537\ttotal: 3.98s\tremaining: 9.46s\n",
            "296:\tlearn: 3.4002862\ttotal: 3.99s\tremaining: 9.45s\n",
            "297:\tlearn: 3.3927420\ttotal: 4s\tremaining: 9.44s\n",
            "298:\tlearn: 3.3871568\ttotal: 4.02s\tremaining: 9.42s\n",
            "299:\tlearn: 3.3830580\ttotal: 4.03s\tremaining: 9.41s\n",
            "300:\tlearn: 3.3762170\ttotal: 4.05s\tremaining: 9.4s\n",
            "301:\tlearn: 3.3685146\ttotal: 4.06s\tremaining: 9.38s\n",
            "302:\tlearn: 3.3611716\ttotal: 4.07s\tremaining: 9.37s\n",
            "303:\tlearn: 3.3556943\ttotal: 4.09s\tremaining: 9.36s\n",
            "304:\tlearn: 3.3482089\ttotal: 4.1s\tremaining: 9.35s\n",
            "305:\tlearn: 3.3413148\ttotal: 4.12s\tremaining: 9.33s\n",
            "306:\tlearn: 3.3359950\ttotal: 4.13s\tremaining: 9.32s\n",
            "307:\tlearn: 3.3322244\ttotal: 4.14s\tremaining: 9.3s\n",
            "308:\tlearn: 3.3220130\ttotal: 4.15s\tremaining: 9.29s\n",
            "309:\tlearn: 3.3178192\ttotal: 4.17s\tremaining: 9.27s\n",
            "310:\tlearn: 3.3126943\ttotal: 4.18s\tremaining: 9.26s\n",
            "311:\tlearn: 3.3052574\ttotal: 4.19s\tremaining: 9.25s\n",
            "312:\tlearn: 3.3037441\ttotal: 4.21s\tremaining: 9.23s\n",
            "313:\tlearn: 3.2977501\ttotal: 4.22s\tremaining: 9.22s\n",
            "314:\tlearn: 3.2935770\ttotal: 4.23s\tremaining: 9.21s\n",
            "315:\tlearn: 3.2901016\ttotal: 4.25s\tremaining: 9.19s\n",
            "316:\tlearn: 3.2871201\ttotal: 4.26s\tremaining: 9.18s\n",
            "317:\tlearn: 3.2788896\ttotal: 4.27s\tremaining: 9.16s\n",
            "318:\tlearn: 3.2738366\ttotal: 4.29s\tremaining: 9.15s\n",
            "319:\tlearn: 3.2687865\ttotal: 4.3s\tremaining: 9.14s\n",
            "320:\tlearn: 3.2611772\ttotal: 4.32s\tremaining: 9.13s\n",
            "321:\tlearn: 3.2579590\ttotal: 4.33s\tremaining: 9.11s\n",
            "322:\tlearn: 3.2520165\ttotal: 4.34s\tremaining: 9.1s\n",
            "323:\tlearn: 3.2431811\ttotal: 4.35s\tremaining: 9.08s\n",
            "324:\tlearn: 3.2378243\ttotal: 4.37s\tremaining: 9.07s\n",
            "325:\tlearn: 3.2319203\ttotal: 4.38s\tremaining: 9.05s\n",
            "326:\tlearn: 3.2248456\ttotal: 4.39s\tremaining: 9.04s\n",
            "327:\tlearn: 3.2186612\ttotal: 4.41s\tremaining: 9.03s\n",
            "328:\tlearn: 3.2123753\ttotal: 4.42s\tremaining: 9.01s\n",
            "329:\tlearn: 3.2069282\ttotal: 4.43s\tremaining: 9s\n",
            "330:\tlearn: 3.2015499\ttotal: 4.44s\tremaining: 8.98s\n",
            "331:\tlearn: 3.1974184\ttotal: 4.46s\tremaining: 8.97s\n",
            "332:\tlearn: 3.1920326\ttotal: 4.47s\tremaining: 8.96s\n",
            "333:\tlearn: 3.1870005\ttotal: 4.49s\tremaining: 8.96s\n",
            "334:\tlearn: 3.1810783\ttotal: 4.51s\tremaining: 8.95s\n",
            "335:\tlearn: 3.1758843\ttotal: 4.52s\tremaining: 8.94s\n",
            "336:\tlearn: 3.1706459\ttotal: 4.54s\tremaining: 8.93s\n",
            "337:\tlearn: 3.1644413\ttotal: 4.55s\tremaining: 8.91s\n",
            "338:\tlearn: 3.1580175\ttotal: 4.56s\tremaining: 8.9s\n",
            "339:\tlearn: 3.1536917\ttotal: 4.58s\tremaining: 8.88s\n",
            "340:\tlearn: 3.1460936\ttotal: 4.59s\tremaining: 8.87s\n",
            "341:\tlearn: 3.1413175\ttotal: 4.6s\tremaining: 8.85s\n",
            "342:\tlearn: 3.1393480\ttotal: 4.61s\tremaining: 8.84s\n",
            "343:\tlearn: 3.1341189\ttotal: 4.63s\tremaining: 8.82s\n",
            "344:\tlearn: 3.1263371\ttotal: 4.64s\tremaining: 8.81s\n",
            "345:\tlearn: 3.1199659\ttotal: 4.65s\tremaining: 8.79s\n",
            "346:\tlearn: 3.1162586\ttotal: 4.66s\tremaining: 8.78s\n",
            "347:\tlearn: 3.1117483\ttotal: 4.68s\tremaining: 8.76s\n",
            "348:\tlearn: 3.1050207\ttotal: 4.69s\tremaining: 8.75s\n",
            "349:\tlearn: 3.0998960\ttotal: 4.7s\tremaining: 8.73s\n",
            "350:\tlearn: 3.0928790\ttotal: 4.72s\tremaining: 8.73s\n",
            "351:\tlearn: 3.0890084\ttotal: 4.73s\tremaining: 8.71s\n",
            "352:\tlearn: 3.0826385\ttotal: 4.75s\tremaining: 8.7s\n",
            "353:\tlearn: 3.0762521\ttotal: 4.76s\tremaining: 8.69s\n",
            "354:\tlearn: 3.0729276\ttotal: 4.77s\tremaining: 8.67s\n",
            "355:\tlearn: 3.0657954\ttotal: 4.79s\tremaining: 8.66s\n",
            "356:\tlearn: 3.0595829\ttotal: 4.8s\tremaining: 8.64s\n",
            "357:\tlearn: 3.0560523\ttotal: 4.81s\tremaining: 8.63s\n",
            "358:\tlearn: 3.0503364\ttotal: 4.83s\tremaining: 8.62s\n",
            "359:\tlearn: 3.0469166\ttotal: 4.84s\tremaining: 8.6s\n",
            "360:\tlearn: 3.0393712\ttotal: 4.85s\tremaining: 8.59s\n",
            "361:\tlearn: 3.0327925\ttotal: 4.86s\tremaining: 8.57s\n",
            "362:\tlearn: 3.0286181\ttotal: 4.88s\tremaining: 8.56s\n",
            "363:\tlearn: 3.0233258\ttotal: 4.89s\tremaining: 8.54s\n",
            "364:\tlearn: 3.0180597\ttotal: 4.9s\tremaining: 8.53s\n",
            "365:\tlearn: 3.0131101\ttotal: 4.91s\tremaining: 8.51s\n",
            "366:\tlearn: 3.0057056\ttotal: 4.93s\tremaining: 8.5s\n",
            "367:\tlearn: 3.0014054\ttotal: 4.94s\tremaining: 8.49s\n",
            "368:\tlearn: 2.9936832\ttotal: 4.96s\tremaining: 8.48s\n",
            "369:\tlearn: 2.9886185\ttotal: 4.97s\tremaining: 8.47s\n",
            "370:\tlearn: 2.9836778\ttotal: 4.98s\tremaining: 8.45s\n",
            "371:\tlearn: 2.9795090\ttotal: 5s\tremaining: 8.44s\n",
            "372:\tlearn: 2.9745517\ttotal: 5.01s\tremaining: 8.42s\n",
            "373:\tlearn: 2.9676556\ttotal: 5.02s\tremaining: 8.41s\n",
            "374:\tlearn: 2.9612510\ttotal: 5.04s\tremaining: 8.4s\n",
            "375:\tlearn: 2.9556504\ttotal: 5.05s\tremaining: 8.38s\n",
            "376:\tlearn: 2.9513451\ttotal: 5.06s\tremaining: 8.37s\n",
            "377:\tlearn: 2.9470224\ttotal: 5.08s\tremaining: 8.35s\n",
            "378:\tlearn: 2.9384954\ttotal: 5.09s\tremaining: 8.34s\n",
            "379:\tlearn: 2.9303941\ttotal: 5.1s\tremaining: 8.33s\n",
            "380:\tlearn: 2.9261738\ttotal: 5.12s\tremaining: 8.31s\n",
            "381:\tlearn: 2.9200570\ttotal: 5.13s\tremaining: 8.3s\n",
            "382:\tlearn: 2.9138158\ttotal: 5.14s\tremaining: 8.29s\n",
            "383:\tlearn: 2.9086725\ttotal: 5.16s\tremaining: 8.27s\n",
            "384:\tlearn: 2.9017317\ttotal: 5.17s\tremaining: 8.26s\n",
            "385:\tlearn: 2.8972335\ttotal: 5.18s\tremaining: 8.24s\n",
            "386:\tlearn: 2.8932714\ttotal: 5.2s\tremaining: 8.23s\n",
            "387:\tlearn: 2.8885687\ttotal: 5.21s\tremaining: 8.22s\n",
            "388:\tlearn: 2.8823109\ttotal: 5.22s\tremaining: 8.2s\n",
            "389:\tlearn: 2.8760536\ttotal: 5.24s\tremaining: 8.19s\n",
            "390:\tlearn: 2.8690659\ttotal: 5.25s\tremaining: 8.18s\n",
            "391:\tlearn: 2.8648282\ttotal: 5.26s\tremaining: 8.16s\n",
            "392:\tlearn: 2.8609841\ttotal: 5.28s\tremaining: 8.15s\n",
            "393:\tlearn: 2.8566934\ttotal: 5.29s\tremaining: 8.14s\n",
            "394:\tlearn: 2.8534401\ttotal: 5.3s\tremaining: 8.12s\n",
            "395:\tlearn: 2.8494419\ttotal: 5.32s\tremaining: 8.11s\n",
            "396:\tlearn: 2.8475317\ttotal: 5.33s\tremaining: 8.1s\n",
            "397:\tlearn: 2.8417721\ttotal: 5.35s\tremaining: 8.09s\n",
            "398:\tlearn: 2.8351602\ttotal: 5.36s\tremaining: 8.07s\n",
            "399:\tlearn: 2.8290148\ttotal: 5.37s\tremaining: 8.06s\n",
            "400:\tlearn: 2.8258537\ttotal: 5.39s\tremaining: 8.05s\n",
            "401:\tlearn: 2.8182517\ttotal: 5.4s\tremaining: 8.03s\n",
            "402:\tlearn: 2.8131813\ttotal: 5.41s\tremaining: 8.02s\n",
            "403:\tlearn: 2.8076470\ttotal: 5.43s\tremaining: 8.01s\n",
            "404:\tlearn: 2.8029630\ttotal: 5.44s\tremaining: 8s\n",
            "405:\tlearn: 2.7978088\ttotal: 5.46s\tremaining: 7.98s\n",
            "406:\tlearn: 2.7924917\ttotal: 5.47s\tremaining: 7.97s\n",
            "407:\tlearn: 2.7877512\ttotal: 5.49s\tremaining: 7.97s\n",
            "408:\tlearn: 2.7836567\ttotal: 5.5s\tremaining: 7.95s\n",
            "409:\tlearn: 2.7785754\ttotal: 5.52s\tremaining: 7.94s\n",
            "410:\tlearn: 2.7734033\ttotal: 5.53s\tremaining: 7.93s\n",
            "411:\tlearn: 2.7679079\ttotal: 5.55s\tremaining: 7.92s\n",
            "412:\tlearn: 2.7632128\ttotal: 5.56s\tremaining: 7.9s\n",
            "413:\tlearn: 2.7596825\ttotal: 5.57s\tremaining: 7.89s\n",
            "414:\tlearn: 2.7549962\ttotal: 5.59s\tremaining: 7.88s\n",
            "415:\tlearn: 2.7519503\ttotal: 5.6s\tremaining: 7.86s\n",
            "416:\tlearn: 2.7485884\ttotal: 5.61s\tremaining: 7.85s\n",
            "417:\tlearn: 2.7455956\ttotal: 5.62s\tremaining: 7.83s\n",
            "418:\tlearn: 2.7418841\ttotal: 5.64s\tremaining: 7.82s\n",
            "419:\tlearn: 2.7357926\ttotal: 5.65s\tremaining: 7.8s\n",
            "420:\tlearn: 2.7304397\ttotal: 5.66s\tremaining: 7.79s\n",
            "421:\tlearn: 2.7241670\ttotal: 5.67s\tremaining: 7.77s\n",
            "422:\tlearn: 2.7198407\ttotal: 5.69s\tremaining: 7.76s\n",
            "423:\tlearn: 2.7174253\ttotal: 5.7s\tremaining: 7.74s\n",
            "424:\tlearn: 2.7132224\ttotal: 5.71s\tremaining: 7.73s\n",
            "425:\tlearn: 2.7071947\ttotal: 5.72s\tremaining: 7.71s\n",
            "426:\tlearn: 2.7027901\ttotal: 5.74s\tremaining: 7.7s\n",
            "427:\tlearn: 2.6970336\ttotal: 5.75s\tremaining: 7.69s\n",
            "428:\tlearn: 2.6908104\ttotal: 5.76s\tremaining: 7.67s\n",
            "429:\tlearn: 2.6869367\ttotal: 5.78s\tremaining: 7.66s\n",
            "430:\tlearn: 2.6847646\ttotal: 5.79s\tremaining: 7.64s\n",
            "431:\tlearn: 2.6806510\ttotal: 5.8s\tremaining: 7.63s\n",
            "432:\tlearn: 2.6763935\ttotal: 5.81s\tremaining: 7.61s\n",
            "433:\tlearn: 2.6714068\ttotal: 5.83s\tremaining: 7.6s\n",
            "434:\tlearn: 2.6682245\ttotal: 5.84s\tremaining: 7.58s\n",
            "435:\tlearn: 2.6636314\ttotal: 5.85s\tremaining: 7.57s\n",
            "436:\tlearn: 2.6581534\ttotal: 5.86s\tremaining: 7.55s\n",
            "437:\tlearn: 2.6547267\ttotal: 5.88s\tremaining: 7.54s\n",
            "438:\tlearn: 2.6495024\ttotal: 5.89s\tremaining: 7.53s\n",
            "439:\tlearn: 2.6434129\ttotal: 5.9s\tremaining: 7.51s\n",
            "440:\tlearn: 2.6398840\ttotal: 5.91s\tremaining: 7.5s\n",
            "441:\tlearn: 2.6349117\ttotal: 5.93s\tremaining: 7.48s\n",
            "442:\tlearn: 2.6321100\ttotal: 5.94s\tremaining: 7.47s\n",
            "443:\tlearn: 2.6269469\ttotal: 5.95s\tremaining: 7.46s\n",
            "444:\tlearn: 2.6209644\ttotal: 5.97s\tremaining: 7.44s\n",
            "445:\tlearn: 2.6153639\ttotal: 5.98s\tremaining: 7.43s\n",
            "446:\tlearn: 2.6095050\ttotal: 5.99s\tremaining: 7.42s\n",
            "447:\tlearn: 2.6069849\ttotal: 6.01s\tremaining: 7.4s\n",
            "448:\tlearn: 2.6038321\ttotal: 6.02s\tremaining: 7.39s\n",
            "449:\tlearn: 2.5986223\ttotal: 6.03s\tremaining: 7.38s\n",
            "450:\tlearn: 2.5933759\ttotal: 6.05s\tremaining: 7.36s\n",
            "451:\tlearn: 2.5859396\ttotal: 6.06s\tremaining: 7.35s\n",
            "452:\tlearn: 2.5822943\ttotal: 6.07s\tremaining: 7.33s\n",
            "453:\tlearn: 2.5798892\ttotal: 6.08s\tremaining: 7.32s\n",
            "454:\tlearn: 2.5747541\ttotal: 6.09s\tremaining: 7.3s\n",
            "455:\tlearn: 2.5714801\ttotal: 6.11s\tremaining: 7.29s\n",
            "456:\tlearn: 2.5683762\ttotal: 6.12s\tremaining: 7.27s\n",
            "457:\tlearn: 2.5652565\ttotal: 6.13s\tremaining: 7.26s\n",
            "458:\tlearn: 2.5603333\ttotal: 6.15s\tremaining: 7.25s\n",
            "459:\tlearn: 2.5561830\ttotal: 6.16s\tremaining: 7.23s\n",
            "460:\tlearn: 2.5519871\ttotal: 6.17s\tremaining: 7.22s\n",
            "461:\tlearn: 2.5481571\ttotal: 6.19s\tremaining: 7.2s\n",
            "462:\tlearn: 2.5447135\ttotal: 6.2s\tremaining: 7.19s\n",
            "463:\tlearn: 2.5414507\ttotal: 6.21s\tremaining: 7.17s\n",
            "464:\tlearn: 2.5378638\ttotal: 6.22s\tremaining: 7.16s\n",
            "465:\tlearn: 2.5321432\ttotal: 6.24s\tremaining: 7.15s\n",
            "466:\tlearn: 2.5278314\ttotal: 6.25s\tremaining: 7.13s\n",
            "467:\tlearn: 2.5230882\ttotal: 6.26s\tremaining: 7.12s\n",
            "468:\tlearn: 2.5180672\ttotal: 6.27s\tremaining: 7.1s\n",
            "469:\tlearn: 2.5135906\ttotal: 6.29s\tremaining: 7.09s\n",
            "470:\tlearn: 2.5069570\ttotal: 6.3s\tremaining: 7.07s\n",
            "471:\tlearn: 2.5021457\ttotal: 6.31s\tremaining: 7.06s\n",
            "472:\tlearn: 2.4977817\ttotal: 6.32s\tremaining: 7.04s\n",
            "473:\tlearn: 2.4944803\ttotal: 6.33s\tremaining: 7.03s\n",
            "474:\tlearn: 2.4890057\ttotal: 6.35s\tremaining: 7.02s\n",
            "475:\tlearn: 2.4840282\ttotal: 6.36s\tremaining: 7s\n",
            "476:\tlearn: 2.4791392\ttotal: 6.37s\tremaining: 6.99s\n",
            "477:\tlearn: 2.4767436\ttotal: 6.39s\tremaining: 6.97s\n",
            "478:\tlearn: 2.4733644\ttotal: 6.4s\tremaining: 6.96s\n",
            "479:\tlearn: 2.4692483\ttotal: 6.41s\tremaining: 6.95s\n",
            "480:\tlearn: 2.4640399\ttotal: 6.42s\tremaining: 6.93s\n",
            "481:\tlearn: 2.4594741\ttotal: 6.44s\tremaining: 6.92s\n",
            "482:\tlearn: 2.4562394\ttotal: 6.45s\tremaining: 6.91s\n",
            "483:\tlearn: 2.4517527\ttotal: 6.46s\tremaining: 6.89s\n",
            "484:\tlearn: 2.4479786\ttotal: 6.49s\tremaining: 6.89s\n",
            "485:\tlearn: 2.4460377\ttotal: 6.5s\tremaining: 6.87s\n",
            "486:\tlearn: 2.4419663\ttotal: 6.51s\tremaining: 6.86s\n",
            "487:\tlearn: 2.4378142\ttotal: 6.52s\tremaining: 6.84s\n",
            "488:\tlearn: 2.4350453\ttotal: 6.54s\tremaining: 6.83s\n",
            "489:\tlearn: 2.4309324\ttotal: 6.55s\tremaining: 6.82s\n",
            "490:\tlearn: 2.4262930\ttotal: 6.57s\tremaining: 6.81s\n",
            "491:\tlearn: 2.4232373\ttotal: 6.58s\tremaining: 6.79s\n",
            "492:\tlearn: 2.4202144\ttotal: 6.59s\tremaining: 6.78s\n",
            "493:\tlearn: 2.4160784\ttotal: 6.6s\tremaining: 6.76s\n",
            "494:\tlearn: 2.4138472\ttotal: 6.62s\tremaining: 6.75s\n",
            "495:\tlearn: 2.4098317\ttotal: 6.63s\tremaining: 6.74s\n",
            "496:\tlearn: 2.4055085\ttotal: 6.64s\tremaining: 6.72s\n",
            "497:\tlearn: 2.4025355\ttotal: 6.66s\tremaining: 6.71s\n",
            "498:\tlearn: 2.3996499\ttotal: 6.67s\tremaining: 6.7s\n",
            "499:\tlearn: 2.3972544\ttotal: 6.68s\tremaining: 6.68s\n",
            "500:\tlearn: 2.3922917\ttotal: 6.7s\tremaining: 6.67s\n",
            "501:\tlearn: 2.3893427\ttotal: 6.71s\tremaining: 6.66s\n",
            "502:\tlearn: 2.3877642\ttotal: 6.72s\tremaining: 6.64s\n",
            "503:\tlearn: 2.3841637\ttotal: 6.74s\tremaining: 6.63s\n",
            "504:\tlearn: 2.3807434\ttotal: 6.75s\tremaining: 6.61s\n",
            "505:\tlearn: 2.3764901\ttotal: 6.76s\tremaining: 6.6s\n",
            "506:\tlearn: 2.3737342\ttotal: 6.78s\tremaining: 6.59s\n",
            "507:\tlearn: 2.3702981\ttotal: 6.79s\tremaining: 6.58s\n",
            "508:\tlearn: 2.3659937\ttotal: 6.8s\tremaining: 6.56s\n",
            "509:\tlearn: 2.3629289\ttotal: 6.82s\tremaining: 6.55s\n",
            "510:\tlearn: 2.3589517\ttotal: 6.83s\tremaining: 6.54s\n",
            "511:\tlearn: 2.3558456\ttotal: 6.84s\tremaining: 6.52s\n",
            "512:\tlearn: 2.3523881\ttotal: 6.85s\tremaining: 6.51s\n",
            "513:\tlearn: 2.3491140\ttotal: 6.87s\tremaining: 6.49s\n",
            "514:\tlearn: 2.3458076\ttotal: 6.88s\tremaining: 6.48s\n",
            "515:\tlearn: 2.3426914\ttotal: 6.89s\tremaining: 6.46s\n",
            "516:\tlearn: 2.3383261\ttotal: 6.91s\tremaining: 6.45s\n",
            "517:\tlearn: 2.3365413\ttotal: 6.92s\tremaining: 6.44s\n",
            "518:\tlearn: 2.3341082\ttotal: 6.93s\tremaining: 6.42s\n",
            "519:\tlearn: 2.3301223\ttotal: 6.94s\tremaining: 6.41s\n",
            "520:\tlearn: 2.3265270\ttotal: 6.96s\tremaining: 6.39s\n",
            "521:\tlearn: 2.3235406\ttotal: 6.97s\tremaining: 6.38s\n",
            "522:\tlearn: 2.3205372\ttotal: 6.98s\tremaining: 6.37s\n",
            "523:\tlearn: 2.3178706\ttotal: 7s\tremaining: 6.36s\n",
            "524:\tlearn: 2.3144421\ttotal: 7.01s\tremaining: 6.34s\n",
            "525:\tlearn: 2.3122330\ttotal: 7.02s\tremaining: 6.33s\n",
            "526:\tlearn: 2.3095862\ttotal: 7.04s\tremaining: 6.31s\n",
            "527:\tlearn: 2.3044028\ttotal: 7.05s\tremaining: 6.3s\n",
            "528:\tlearn: 2.3018397\ttotal: 7.06s\tremaining: 6.29s\n",
            "529:\tlearn: 2.2972966\ttotal: 7.07s\tremaining: 6.27s\n",
            "530:\tlearn: 2.2928641\ttotal: 7.08s\tremaining: 6.26s\n",
            "531:\tlearn: 2.2907900\ttotal: 7.1s\tremaining: 6.24s\n",
            "532:\tlearn: 2.2862486\ttotal: 7.11s\tremaining: 6.23s\n",
            "533:\tlearn: 2.2828207\ttotal: 7.12s\tremaining: 6.21s\n",
            "534:\tlearn: 2.2787671\ttotal: 7.13s\tremaining: 6.2s\n",
            "535:\tlearn: 2.2771547\ttotal: 7.15s\tremaining: 6.19s\n",
            "536:\tlearn: 2.2735539\ttotal: 7.16s\tremaining: 6.18s\n",
            "537:\tlearn: 2.2714952\ttotal: 7.18s\tremaining: 6.17s\n",
            "538:\tlearn: 2.2704253\ttotal: 7.19s\tremaining: 6.15s\n",
            "539:\tlearn: 2.2681972\ttotal: 7.21s\tremaining: 6.14s\n",
            "540:\tlearn: 2.2655744\ttotal: 7.22s\tremaining: 6.13s\n",
            "541:\tlearn: 2.2604182\ttotal: 7.23s\tremaining: 6.11s\n",
            "542:\tlearn: 2.2570830\ttotal: 7.25s\tremaining: 6.1s\n",
            "543:\tlearn: 2.2543578\ttotal: 7.26s\tremaining: 6.09s\n",
            "544:\tlearn: 2.2501419\ttotal: 7.27s\tremaining: 6.07s\n",
            "545:\tlearn: 2.2448315\ttotal: 7.29s\tremaining: 6.06s\n",
            "546:\tlearn: 2.2408956\ttotal: 7.3s\tremaining: 6.04s\n",
            "547:\tlearn: 2.2369637\ttotal: 7.31s\tremaining: 6.03s\n",
            "548:\tlearn: 2.2341344\ttotal: 7.32s\tremaining: 6.01s\n",
            "549:\tlearn: 2.2309223\ttotal: 7.33s\tremaining: 6s\n",
            "550:\tlearn: 2.2286209\ttotal: 7.35s\tremaining: 5.99s\n",
            "551:\tlearn: 2.2275190\ttotal: 7.36s\tremaining: 5.97s\n",
            "552:\tlearn: 2.2238749\ttotal: 7.37s\tremaining: 5.96s\n",
            "553:\tlearn: 2.2204383\ttotal: 7.39s\tremaining: 5.95s\n",
            "554:\tlearn: 2.2178077\ttotal: 7.4s\tremaining: 5.93s\n",
            "555:\tlearn: 2.2158578\ttotal: 7.41s\tremaining: 5.92s\n",
            "556:\tlearn: 2.2121637\ttotal: 7.43s\tremaining: 5.91s\n",
            "557:\tlearn: 2.2087394\ttotal: 7.44s\tremaining: 5.89s\n",
            "558:\tlearn: 2.2050085\ttotal: 7.45s\tremaining: 5.88s\n",
            "559:\tlearn: 2.2015448\ttotal: 7.47s\tremaining: 5.87s\n",
            "560:\tlearn: 2.1989284\ttotal: 7.49s\tremaining: 5.86s\n",
            "561:\tlearn: 2.1952681\ttotal: 7.5s\tremaining: 5.85s\n",
            "562:\tlearn: 2.1921056\ttotal: 7.51s\tremaining: 5.83s\n",
            "563:\tlearn: 2.1883453\ttotal: 7.53s\tremaining: 5.82s\n",
            "564:\tlearn: 2.1845754\ttotal: 7.54s\tremaining: 5.8s\n",
            "565:\tlearn: 2.1806982\ttotal: 7.55s\tremaining: 5.79s\n",
            "566:\tlearn: 2.1779077\ttotal: 7.57s\tremaining: 5.78s\n",
            "567:\tlearn: 2.1754969\ttotal: 7.58s\tremaining: 5.76s\n",
            "568:\tlearn: 2.1711508\ttotal: 7.59s\tremaining: 5.75s\n",
            "569:\tlearn: 2.1670719\ttotal: 7.61s\tremaining: 5.74s\n",
            "570:\tlearn: 2.1640179\ttotal: 7.62s\tremaining: 5.72s\n",
            "571:\tlearn: 2.1617417\ttotal: 7.63s\tremaining: 5.71s\n",
            "572:\tlearn: 2.1584375\ttotal: 7.64s\tremaining: 5.7s\n",
            "573:\tlearn: 2.1564829\ttotal: 7.66s\tremaining: 5.68s\n",
            "574:\tlearn: 2.1521145\ttotal: 7.67s\tremaining: 5.67s\n",
            "575:\tlearn: 2.1490993\ttotal: 7.68s\tremaining: 5.65s\n",
            "576:\tlearn: 2.1462731\ttotal: 7.69s\tremaining: 5.64s\n",
            "577:\tlearn: 2.1411482\ttotal: 7.71s\tremaining: 5.63s\n",
            "578:\tlearn: 2.1366283\ttotal: 7.72s\tremaining: 5.61s\n",
            "579:\tlearn: 2.1329602\ttotal: 7.73s\tremaining: 5.6s\n",
            "580:\tlearn: 2.1307165\ttotal: 7.75s\tremaining: 5.59s\n",
            "581:\tlearn: 2.1265543\ttotal: 7.77s\tremaining: 5.58s\n",
            "582:\tlearn: 2.1241019\ttotal: 7.78s\tremaining: 5.57s\n",
            "583:\tlearn: 2.1203231\ttotal: 7.8s\tremaining: 5.56s\n",
            "584:\tlearn: 2.1168635\ttotal: 7.82s\tremaining: 5.54s\n",
            "585:\tlearn: 2.1143458\ttotal: 7.83s\tremaining: 5.53s\n",
            "586:\tlearn: 2.1128651\ttotal: 7.84s\tremaining: 5.52s\n",
            "587:\tlearn: 2.1099165\ttotal: 7.85s\tremaining: 5.5s\n",
            "588:\tlearn: 2.1068377\ttotal: 7.87s\tremaining: 5.49s\n",
            "589:\tlearn: 2.1038012\ttotal: 7.88s\tremaining: 5.47s\n",
            "590:\tlearn: 2.1004172\ttotal: 7.89s\tremaining: 5.46s\n",
            "591:\tlearn: 2.0965706\ttotal: 7.9s\tremaining: 5.45s\n",
            "592:\tlearn: 2.0945599\ttotal: 7.92s\tremaining: 5.43s\n",
            "593:\tlearn: 2.0928353\ttotal: 7.93s\tremaining: 5.42s\n",
            "594:\tlearn: 2.0902906\ttotal: 7.94s\tremaining: 5.41s\n",
            "595:\tlearn: 2.0859384\ttotal: 7.96s\tremaining: 5.39s\n",
            "596:\tlearn: 2.0817788\ttotal: 7.97s\tremaining: 5.38s\n",
            "597:\tlearn: 2.0789589\ttotal: 7.98s\tremaining: 5.37s\n",
            "598:\tlearn: 2.0763436\ttotal: 8s\tremaining: 5.35s\n",
            "599:\tlearn: 2.0729340\ttotal: 8.01s\tremaining: 5.34s\n",
            "600:\tlearn: 2.0702875\ttotal: 8.03s\tremaining: 5.33s\n",
            "601:\tlearn: 2.0658201\ttotal: 8.04s\tremaining: 5.32s\n",
            "602:\tlearn: 2.0626811\ttotal: 8.05s\tremaining: 5.3s\n",
            "603:\tlearn: 2.0603819\ttotal: 8.06s\tremaining: 5.29s\n",
            "604:\tlearn: 2.0575906\ttotal: 8.08s\tremaining: 5.27s\n",
            "605:\tlearn: 2.0552765\ttotal: 8.09s\tremaining: 5.26s\n",
            "606:\tlearn: 2.0537734\ttotal: 8.1s\tremaining: 5.25s\n",
            "607:\tlearn: 2.0512078\ttotal: 8.11s\tremaining: 5.23s\n",
            "608:\tlearn: 2.0485932\ttotal: 8.13s\tremaining: 5.22s\n",
            "609:\tlearn: 2.0451528\ttotal: 8.14s\tremaining: 5.2s\n",
            "610:\tlearn: 2.0423120\ttotal: 8.15s\tremaining: 5.19s\n",
            "611:\tlearn: 2.0389908\ttotal: 8.17s\tremaining: 5.18s\n",
            "612:\tlearn: 2.0358877\ttotal: 8.18s\tremaining: 5.16s\n",
            "613:\tlearn: 2.0316905\ttotal: 8.19s\tremaining: 5.15s\n",
            "614:\tlearn: 2.0291369\ttotal: 8.21s\tremaining: 5.14s\n",
            "615:\tlearn: 2.0253922\ttotal: 8.23s\tremaining: 5.13s\n",
            "616:\tlearn: 2.0236226\ttotal: 8.24s\tremaining: 5.12s\n",
            "617:\tlearn: 2.0201607\ttotal: 8.25s\tremaining: 5.1s\n",
            "618:\tlearn: 2.0178861\ttotal: 8.27s\tremaining: 5.09s\n",
            "619:\tlearn: 2.0146545\ttotal: 8.28s\tremaining: 5.08s\n",
            "620:\tlearn: 2.0139232\ttotal: 8.3s\tremaining: 5.06s\n",
            "621:\tlearn: 2.0116541\ttotal: 8.31s\tremaining: 5.05s\n",
            "622:\tlearn: 2.0092264\ttotal: 8.32s\tremaining: 5.04s\n",
            "623:\tlearn: 2.0072486\ttotal: 8.33s\tremaining: 5.02s\n",
            "624:\tlearn: 2.0033979\ttotal: 8.35s\tremaining: 5.01s\n",
            "625:\tlearn: 2.0018125\ttotal: 8.36s\tremaining: 4.99s\n",
            "626:\tlearn: 1.9993952\ttotal: 8.37s\tremaining: 4.98s\n",
            "627:\tlearn: 1.9967928\ttotal: 8.38s\tremaining: 4.97s\n",
            "628:\tlearn: 1.9943159\ttotal: 8.4s\tremaining: 4.95s\n",
            "629:\tlearn: 1.9924694\ttotal: 8.41s\tremaining: 4.94s\n",
            "630:\tlearn: 1.9892375\ttotal: 8.42s\tremaining: 4.92s\n",
            "631:\tlearn: 1.9868901\ttotal: 8.44s\tremaining: 4.91s\n",
            "632:\tlearn: 1.9842651\ttotal: 8.45s\tremaining: 4.9s\n",
            "633:\tlearn: 1.9817332\ttotal: 8.47s\tremaining: 4.89s\n",
            "634:\tlearn: 1.9794203\ttotal: 8.49s\tremaining: 4.88s\n",
            "635:\tlearn: 1.9770212\ttotal: 8.5s\tremaining: 4.86s\n",
            "636:\tlearn: 1.9741471\ttotal: 8.51s\tremaining: 4.85s\n",
            "637:\tlearn: 1.9713339\ttotal: 8.53s\tremaining: 4.84s\n",
            "638:\tlearn: 1.9680840\ttotal: 8.54s\tremaining: 4.82s\n",
            "639:\tlearn: 1.9658982\ttotal: 8.55s\tremaining: 4.81s\n",
            "640:\tlearn: 1.9623257\ttotal: 8.56s\tremaining: 4.8s\n",
            "641:\tlearn: 1.9603607\ttotal: 8.58s\tremaining: 4.78s\n",
            "642:\tlearn: 1.9566958\ttotal: 8.59s\tremaining: 4.77s\n",
            "643:\tlearn: 1.9546288\ttotal: 8.6s\tremaining: 4.75s\n",
            "644:\tlearn: 1.9521482\ttotal: 8.61s\tremaining: 4.74s\n",
            "645:\tlearn: 1.9489408\ttotal: 8.63s\tremaining: 4.73s\n",
            "646:\tlearn: 1.9476974\ttotal: 8.64s\tremaining: 4.71s\n",
            "647:\tlearn: 1.9440255\ttotal: 8.65s\tremaining: 4.7s\n",
            "648:\tlearn: 1.9416750\ttotal: 8.67s\tremaining: 4.69s\n",
            "649:\tlearn: 1.9385667\ttotal: 8.68s\tremaining: 4.67s\n",
            "650:\tlearn: 1.9354313\ttotal: 8.7s\tremaining: 4.66s\n",
            "651:\tlearn: 1.9323674\ttotal: 8.71s\tremaining: 4.65s\n",
            "652:\tlearn: 1.9299319\ttotal: 8.72s\tremaining: 4.63s\n",
            "653:\tlearn: 1.9267254\ttotal: 8.74s\tremaining: 4.62s\n",
            "654:\tlearn: 1.9265763\ttotal: 8.75s\tremaining: 4.61s\n",
            "655:\tlearn: 1.9237831\ttotal: 8.76s\tremaining: 4.59s\n",
            "656:\tlearn: 1.9201083\ttotal: 8.78s\tremaining: 4.58s\n",
            "657:\tlearn: 1.9175845\ttotal: 8.79s\tremaining: 4.57s\n",
            "658:\tlearn: 1.9147612\ttotal: 8.8s\tremaining: 4.56s\n",
            "659:\tlearn: 1.9125677\ttotal: 8.82s\tremaining: 4.54s\n",
            "660:\tlearn: 1.9109622\ttotal: 8.83s\tremaining: 4.53s\n",
            "661:\tlearn: 1.9087358\ttotal: 8.85s\tremaining: 4.52s\n",
            "662:\tlearn: 1.9052981\ttotal: 8.86s\tremaining: 4.5s\n",
            "663:\tlearn: 1.9032288\ttotal: 8.87s\tremaining: 4.49s\n",
            "664:\tlearn: 1.9019262\ttotal: 8.89s\tremaining: 4.48s\n",
            "665:\tlearn: 1.8982224\ttotal: 8.9s\tremaining: 4.46s\n",
            "666:\tlearn: 1.8964248\ttotal: 8.91s\tremaining: 4.45s\n",
            "667:\tlearn: 1.8936571\ttotal: 8.93s\tremaining: 4.44s\n",
            "668:\tlearn: 1.8909349\ttotal: 8.94s\tremaining: 4.42s\n",
            "669:\tlearn: 1.8876281\ttotal: 8.95s\tremaining: 4.41s\n",
            "670:\tlearn: 1.8852548\ttotal: 8.96s\tremaining: 4.4s\n",
            "671:\tlearn: 1.8813463\ttotal: 9.01s\tremaining: 4.4s\n",
            "672:\tlearn: 1.8791550\ttotal: 9.03s\tremaining: 4.38s\n",
            "673:\tlearn: 1.8763999\ttotal: 9.04s\tremaining: 4.37s\n",
            "674:\tlearn: 1.8730469\ttotal: 9.05s\tremaining: 4.36s\n",
            "675:\tlearn: 1.8702061\ttotal: 9.07s\tremaining: 4.34s\n",
            "676:\tlearn: 1.8669893\ttotal: 9.08s\tremaining: 4.33s\n",
            "677:\tlearn: 1.8658483\ttotal: 9.09s\tremaining: 4.32s\n",
            "678:\tlearn: 1.8634409\ttotal: 9.1s\tremaining: 4.3s\n",
            "679:\tlearn: 1.8612428\ttotal: 9.12s\tremaining: 4.29s\n",
            "680:\tlearn: 1.8592951\ttotal: 9.13s\tremaining: 4.28s\n",
            "681:\tlearn: 1.8569708\ttotal: 9.14s\tremaining: 4.26s\n",
            "682:\tlearn: 1.8551740\ttotal: 9.16s\tremaining: 4.25s\n",
            "683:\tlearn: 1.8523610\ttotal: 9.17s\tremaining: 4.24s\n",
            "684:\tlearn: 1.8498911\ttotal: 9.18s\tremaining: 4.22s\n",
            "685:\tlearn: 1.8468358\ttotal: 9.2s\tremaining: 4.21s\n",
            "686:\tlearn: 1.8444743\ttotal: 9.21s\tremaining: 4.2s\n",
            "687:\tlearn: 1.8418885\ttotal: 9.22s\tremaining: 4.18s\n",
            "688:\tlearn: 1.8405398\ttotal: 9.24s\tremaining: 4.17s\n",
            "689:\tlearn: 1.8381219\ttotal: 9.26s\tremaining: 4.16s\n",
            "690:\tlearn: 1.8353995\ttotal: 9.27s\tremaining: 4.15s\n",
            "691:\tlearn: 1.8330188\ttotal: 9.28s\tremaining: 4.13s\n",
            "692:\tlearn: 1.8306849\ttotal: 9.3s\tremaining: 4.12s\n",
            "693:\tlearn: 1.8289856\ttotal: 9.31s\tremaining: 4.11s\n",
            "694:\tlearn: 1.8264384\ttotal: 9.32s\tremaining: 4.09s\n",
            "695:\tlearn: 1.8239014\ttotal: 9.34s\tremaining: 4.08s\n",
            "696:\tlearn: 1.8223444\ttotal: 9.35s\tremaining: 4.06s\n",
            "697:\tlearn: 1.8196614\ttotal: 9.36s\tremaining: 4.05s\n",
            "698:\tlearn: 1.8176704\ttotal: 9.38s\tremaining: 4.04s\n",
            "699:\tlearn: 1.8141597\ttotal: 9.39s\tremaining: 4.02s\n",
            "700:\tlearn: 1.8112568\ttotal: 9.4s\tremaining: 4.01s\n",
            "701:\tlearn: 1.8082061\ttotal: 9.41s\tremaining: 4s\n",
            "702:\tlearn: 1.8054983\ttotal: 9.43s\tremaining: 3.98s\n",
            "703:\tlearn: 1.8030784\ttotal: 9.44s\tremaining: 3.97s\n",
            "704:\tlearn: 1.8008365\ttotal: 9.46s\tremaining: 3.96s\n",
            "705:\tlearn: 1.7985202\ttotal: 9.48s\tremaining: 3.95s\n",
            "706:\tlearn: 1.7963576\ttotal: 9.49s\tremaining: 3.93s\n",
            "707:\tlearn: 1.7953787\ttotal: 9.51s\tremaining: 3.92s\n",
            "708:\tlearn: 1.7941876\ttotal: 9.52s\tremaining: 3.91s\n",
            "709:\tlearn: 1.7911276\ttotal: 9.53s\tremaining: 3.89s\n",
            "710:\tlearn: 1.7880974\ttotal: 9.54s\tremaining: 3.88s\n",
            "711:\tlearn: 1.7863596\ttotal: 9.56s\tremaining: 3.87s\n",
            "712:\tlearn: 1.7858151\ttotal: 9.57s\tremaining: 3.85s\n",
            "713:\tlearn: 1.7836473\ttotal: 9.58s\tremaining: 3.84s\n",
            "714:\tlearn: 1.7823289\ttotal: 9.59s\tremaining: 3.82s\n",
            "715:\tlearn: 1.7802437\ttotal: 9.61s\tremaining: 3.81s\n",
            "716:\tlearn: 1.7785853\ttotal: 9.62s\tremaining: 3.8s\n",
            "717:\tlearn: 1.7755895\ttotal: 9.63s\tremaining: 3.78s\n",
            "718:\tlearn: 1.7722133\ttotal: 9.64s\tremaining: 3.77s\n",
            "719:\tlearn: 1.7693276\ttotal: 9.66s\tremaining: 3.76s\n",
            "720:\tlearn: 1.7671858\ttotal: 9.67s\tremaining: 3.74s\n",
            "721:\tlearn: 1.7635848\ttotal: 9.69s\tremaining: 3.73s\n",
            "722:\tlearn: 1.7620302\ttotal: 9.7s\tremaining: 3.72s\n",
            "723:\tlearn: 1.7593582\ttotal: 9.71s\tremaining: 3.7s\n",
            "724:\tlearn: 1.7577852\ttotal: 9.72s\tremaining: 3.69s\n",
            "725:\tlearn: 1.7556840\ttotal: 9.74s\tremaining: 3.67s\n",
            "726:\tlearn: 1.7543583\ttotal: 9.75s\tremaining: 3.66s\n",
            "727:\tlearn: 1.7518060\ttotal: 9.77s\tremaining: 3.65s\n",
            "728:\tlearn: 1.7503668\ttotal: 9.78s\tremaining: 3.63s\n",
            "729:\tlearn: 1.7475336\ttotal: 9.79s\tremaining: 3.62s\n",
            "730:\tlearn: 1.7455236\ttotal: 9.8s\tremaining: 3.61s\n",
            "731:\tlearn: 1.7423874\ttotal: 9.81s\tremaining: 3.59s\n",
            "732:\tlearn: 1.7397639\ttotal: 9.83s\tremaining: 3.58s\n",
            "733:\tlearn: 1.7375556\ttotal: 9.84s\tremaining: 3.57s\n",
            "734:\tlearn: 1.7363863\ttotal: 9.85s\tremaining: 3.55s\n",
            "735:\tlearn: 1.7340694\ttotal: 9.87s\tremaining: 3.54s\n",
            "736:\tlearn: 1.7315331\ttotal: 9.88s\tremaining: 3.53s\n",
            "737:\tlearn: 1.7304891\ttotal: 9.9s\tremaining: 3.51s\n",
            "738:\tlearn: 1.7293240\ttotal: 9.91s\tremaining: 3.5s\n",
            "739:\tlearn: 1.7282691\ttotal: 9.93s\tremaining: 3.49s\n",
            "740:\tlearn: 1.7257902\ttotal: 9.94s\tremaining: 3.47s\n",
            "741:\tlearn: 1.7233609\ttotal: 9.95s\tremaining: 3.46s\n",
            "742:\tlearn: 1.7217012\ttotal: 9.96s\tremaining: 3.45s\n",
            "743:\tlearn: 1.7192010\ttotal: 9.98s\tremaining: 3.43s\n",
            "744:\tlearn: 1.7171264\ttotal: 9.99s\tremaining: 3.42s\n",
            "745:\tlearn: 1.7152038\ttotal: 10s\tremaining: 3.4s\n",
            "746:\tlearn: 1.7134140\ttotal: 10s\tremaining: 3.39s\n",
            "747:\tlearn: 1.7115865\ttotal: 10s\tremaining: 3.38s\n",
            "748:\tlearn: 1.7101317\ttotal: 10s\tremaining: 3.36s\n",
            "749:\tlearn: 1.7086088\ttotal: 10.1s\tremaining: 3.35s\n",
            "750:\tlearn: 1.7061100\ttotal: 10.1s\tremaining: 3.34s\n",
            "751:\tlearn: 1.7030885\ttotal: 10.1s\tremaining: 3.32s\n",
            "752:\tlearn: 1.7004125\ttotal: 10.1s\tremaining: 3.31s\n",
            "753:\tlearn: 1.6976836\ttotal: 10.1s\tremaining: 3.3s\n",
            "754:\tlearn: 1.6953211\ttotal: 10.1s\tremaining: 3.28s\n",
            "755:\tlearn: 1.6934081\ttotal: 10.1s\tremaining: 3.27s\n",
            "756:\tlearn: 1.6915790\ttotal: 10.1s\tremaining: 3.26s\n",
            "757:\tlearn: 1.6891309\ttotal: 10.2s\tremaining: 3.24s\n",
            "758:\tlearn: 1.6871860\ttotal: 10.2s\tremaining: 3.23s\n",
            "759:\tlearn: 1.6852389\ttotal: 10.2s\tremaining: 3.22s\n",
            "760:\tlearn: 1.6830235\ttotal: 10.2s\tremaining: 3.2s\n",
            "761:\tlearn: 1.6812809\ttotal: 10.2s\tremaining: 3.19s\n",
            "762:\tlearn: 1.6784477\ttotal: 10.2s\tremaining: 3.18s\n",
            "763:\tlearn: 1.6757739\ttotal: 10.2s\tremaining: 3.16s\n",
            "764:\tlearn: 1.6732824\ttotal: 10.3s\tremaining: 3.15s\n",
            "765:\tlearn: 1.6706105\ttotal: 10.3s\tremaining: 3.14s\n",
            "766:\tlearn: 1.6681896\ttotal: 10.3s\tremaining: 3.12s\n",
            "767:\tlearn: 1.6664081\ttotal: 10.3s\tremaining: 3.11s\n",
            "768:\tlearn: 1.6654097\ttotal: 10.3s\tremaining: 3.1s\n",
            "769:\tlearn: 1.6635964\ttotal: 10.3s\tremaining: 3.08s\n",
            "770:\tlearn: 1.6630020\ttotal: 10.3s\tremaining: 3.07s\n",
            "771:\tlearn: 1.6601433\ttotal: 10.3s\tremaining: 3.06s\n",
            "772:\tlearn: 1.6580168\ttotal: 10.4s\tremaining: 3.04s\n",
            "773:\tlearn: 1.6559684\ttotal: 10.4s\tremaining: 3.03s\n",
            "774:\tlearn: 1.6547936\ttotal: 10.4s\tremaining: 3.02s\n",
            "775:\tlearn: 1.6522119\ttotal: 10.4s\tremaining: 3s\n",
            "776:\tlearn: 1.6508540\ttotal: 10.4s\tremaining: 2.99s\n",
            "777:\tlearn: 1.6494436\ttotal: 10.4s\tremaining: 2.98s\n",
            "778:\tlearn: 1.6478164\ttotal: 10.4s\tremaining: 2.96s\n",
            "779:\tlearn: 1.6458491\ttotal: 10.5s\tremaining: 2.95s\n",
            "780:\tlearn: 1.6448155\ttotal: 10.5s\tremaining: 2.94s\n",
            "781:\tlearn: 1.6433715\ttotal: 10.5s\tremaining: 2.92s\n",
            "782:\tlearn: 1.6400021\ttotal: 10.5s\tremaining: 2.91s\n",
            "783:\tlearn: 1.6391874\ttotal: 10.5s\tremaining: 2.9s\n",
            "784:\tlearn: 1.6362125\ttotal: 10.5s\tremaining: 2.88s\n",
            "785:\tlearn: 1.6344176\ttotal: 10.5s\tremaining: 2.87s\n",
            "786:\tlearn: 1.6325498\ttotal: 10.6s\tremaining: 2.86s\n",
            "787:\tlearn: 1.6301334\ttotal: 10.6s\tremaining: 2.84s\n",
            "788:\tlearn: 1.6278837\ttotal: 10.6s\tremaining: 2.83s\n",
            "789:\tlearn: 1.6260463\ttotal: 10.6s\tremaining: 2.82s\n",
            "790:\tlearn: 1.6242019\ttotal: 10.6s\tremaining: 2.8s\n",
            "791:\tlearn: 1.6211727\ttotal: 10.6s\tremaining: 2.79s\n",
            "792:\tlearn: 1.6191114\ttotal: 10.6s\tremaining: 2.77s\n",
            "793:\tlearn: 1.6170476\ttotal: 10.7s\tremaining: 2.76s\n",
            "794:\tlearn: 1.6162714\ttotal: 10.7s\tremaining: 2.75s\n",
            "795:\tlearn: 1.6141979\ttotal: 10.7s\tremaining: 2.74s\n",
            "796:\tlearn: 1.6129601\ttotal: 10.7s\tremaining: 2.72s\n",
            "797:\tlearn: 1.6112168\ttotal: 10.7s\tremaining: 2.71s\n",
            "798:\tlearn: 1.6096143\ttotal: 10.7s\tremaining: 2.7s\n",
            "799:\tlearn: 1.6086859\ttotal: 10.7s\tremaining: 2.68s\n",
            "800:\tlearn: 1.6068168\ttotal: 10.7s\tremaining: 2.67s\n",
            "801:\tlearn: 1.6058511\ttotal: 10.8s\tremaining: 2.65s\n",
            "802:\tlearn: 1.6033266\ttotal: 10.8s\tremaining: 2.64s\n",
            "803:\tlearn: 1.6020459\ttotal: 10.8s\tremaining: 2.63s\n",
            "804:\tlearn: 1.6001455\ttotal: 10.8s\tremaining: 2.61s\n",
            "805:\tlearn: 1.5984953\ttotal: 10.8s\tremaining: 2.6s\n",
            "806:\tlearn: 1.5965985\ttotal: 10.8s\tremaining: 2.59s\n",
            "807:\tlearn: 1.5943605\ttotal: 10.8s\tremaining: 2.57s\n",
            "808:\tlearn: 1.5928194\ttotal: 10.8s\tremaining: 2.56s\n",
            "809:\tlearn: 1.5910891\ttotal: 10.9s\tremaining: 2.55s\n",
            "810:\tlearn: 1.5895401\ttotal: 10.9s\tremaining: 2.53s\n",
            "811:\tlearn: 1.5875928\ttotal: 10.9s\tremaining: 2.52s\n",
            "812:\tlearn: 1.5857811\ttotal: 10.9s\tremaining: 2.51s\n",
            "813:\tlearn: 1.5832316\ttotal: 10.9s\tremaining: 2.49s\n",
            "814:\tlearn: 1.5811991\ttotal: 10.9s\tremaining: 2.48s\n",
            "815:\tlearn: 1.5793367\ttotal: 10.9s\tremaining: 2.47s\n",
            "816:\tlearn: 1.5778164\ttotal: 11s\tremaining: 2.45s\n",
            "817:\tlearn: 1.5762527\ttotal: 11s\tremaining: 2.44s\n",
            "818:\tlearn: 1.5736773\ttotal: 11s\tremaining: 2.42s\n",
            "819:\tlearn: 1.5711393\ttotal: 11s\tremaining: 2.41s\n",
            "820:\tlearn: 1.5688293\ttotal: 11s\tremaining: 2.4s\n",
            "821:\tlearn: 1.5673448\ttotal: 11s\tremaining: 2.38s\n",
            "822:\tlearn: 1.5660154\ttotal: 11s\tremaining: 2.37s\n",
            "823:\tlearn: 1.5635982\ttotal: 11s\tremaining: 2.36s\n",
            "824:\tlearn: 1.5613230\ttotal: 11.1s\tremaining: 2.34s\n",
            "825:\tlearn: 1.5591881\ttotal: 11.1s\tremaining: 2.33s\n",
            "826:\tlearn: 1.5577775\ttotal: 11.1s\tremaining: 2.32s\n",
            "827:\tlearn: 1.5563588\ttotal: 11.1s\tremaining: 2.31s\n",
            "828:\tlearn: 1.5555306\ttotal: 11.1s\tremaining: 2.29s\n",
            "829:\tlearn: 1.5546197\ttotal: 11.1s\tremaining: 2.28s\n",
            "830:\tlearn: 1.5520412\ttotal: 11.1s\tremaining: 2.27s\n",
            "831:\tlearn: 1.5513303\ttotal: 11.2s\tremaining: 2.25s\n",
            "832:\tlearn: 1.5492537\ttotal: 11.2s\tremaining: 2.24s\n",
            "833:\tlearn: 1.5483194\ttotal: 11.2s\tremaining: 2.23s\n",
            "834:\tlearn: 1.5463823\ttotal: 11.2s\tremaining: 2.21s\n",
            "835:\tlearn: 1.5438719\ttotal: 11.2s\tremaining: 2.2s\n",
            "836:\tlearn: 1.5420869\ttotal: 11.2s\tremaining: 2.19s\n",
            "837:\tlearn: 1.5401264\ttotal: 11.2s\tremaining: 2.17s\n",
            "838:\tlearn: 1.5381579\ttotal: 11.2s\tremaining: 2.16s\n",
            "839:\tlearn: 1.5359281\ttotal: 11.3s\tremaining: 2.14s\n",
            "840:\tlearn: 1.5343085\ttotal: 11.3s\tremaining: 2.13s\n",
            "841:\tlearn: 1.5322206\ttotal: 11.3s\tremaining: 2.12s\n",
            "842:\tlearn: 1.5314065\ttotal: 11.3s\tremaining: 2.1s\n",
            "843:\tlearn: 1.5282888\ttotal: 11.3s\tremaining: 2.09s\n",
            "844:\tlearn: 1.5260788\ttotal: 11.3s\tremaining: 2.08s\n",
            "845:\tlearn: 1.5248848\ttotal: 11.3s\tremaining: 2.06s\n",
            "846:\tlearn: 1.5229759\ttotal: 11.4s\tremaining: 2.05s\n",
            "847:\tlearn: 1.5213909\ttotal: 11.4s\tremaining: 2.04s\n",
            "848:\tlearn: 1.5185837\ttotal: 11.4s\tremaining: 2.03s\n",
            "849:\tlearn: 1.5165034\ttotal: 11.4s\tremaining: 2.02s\n",
            "850:\tlearn: 1.5150625\ttotal: 11.4s\tremaining: 2s\n",
            "851:\tlearn: 1.5127099\ttotal: 11.4s\tremaining: 1.99s\n",
            "852:\tlearn: 1.5118014\ttotal: 11.5s\tremaining: 1.98s\n",
            "853:\tlearn: 1.5108908\ttotal: 11.5s\tremaining: 1.96s\n",
            "854:\tlearn: 1.5084310\ttotal: 11.5s\tremaining: 1.95s\n",
            "855:\tlearn: 1.5068422\ttotal: 11.5s\tremaining: 1.94s\n",
            "856:\tlearn: 1.5051063\ttotal: 11.5s\tremaining: 1.92s\n",
            "857:\tlearn: 1.5029720\ttotal: 11.5s\tremaining: 1.91s\n",
            "858:\tlearn: 1.5009698\ttotal: 11.6s\tremaining: 1.9s\n",
            "859:\tlearn: 1.4996781\ttotal: 11.6s\tremaining: 1.88s\n",
            "860:\tlearn: 1.4979380\ttotal: 11.6s\tremaining: 1.87s\n",
            "861:\tlearn: 1.4956471\ttotal: 11.6s\tremaining: 1.85s\n",
            "862:\tlearn: 1.4946960\ttotal: 11.6s\tremaining: 1.84s\n",
            "863:\tlearn: 1.4929439\ttotal: 11.6s\tremaining: 1.83s\n",
            "864:\tlearn: 1.4908443\ttotal: 11.6s\tremaining: 1.82s\n",
            "865:\tlearn: 1.4897310\ttotal: 11.7s\tremaining: 1.8s\n",
            "866:\tlearn: 1.4883921\ttotal: 11.7s\tremaining: 1.79s\n",
            "867:\tlearn: 1.4861473\ttotal: 11.7s\tremaining: 1.77s\n",
            "868:\tlearn: 1.4844611\ttotal: 11.7s\tremaining: 1.76s\n",
            "869:\tlearn: 1.4824309\ttotal: 11.7s\tremaining: 1.75s\n",
            "870:\tlearn: 1.4812701\ttotal: 11.7s\tremaining: 1.74s\n",
            "871:\tlearn: 1.4782773\ttotal: 11.7s\tremaining: 1.72s\n",
            "872:\tlearn: 1.4769487\ttotal: 11.7s\tremaining: 1.71s\n",
            "873:\tlearn: 1.4760155\ttotal: 11.8s\tremaining: 1.7s\n",
            "874:\tlearn: 1.4736104\ttotal: 11.8s\tremaining: 1.68s\n",
            "875:\tlearn: 1.4719112\ttotal: 11.8s\tremaining: 1.67s\n",
            "876:\tlearn: 1.4714880\ttotal: 11.8s\tremaining: 1.65s\n",
            "877:\tlearn: 1.4705574\ttotal: 11.8s\tremaining: 1.64s\n",
            "878:\tlearn: 1.4690459\ttotal: 11.8s\tremaining: 1.63s\n",
            "879:\tlearn: 1.4678882\ttotal: 11.8s\tremaining: 1.61s\n",
            "880:\tlearn: 1.4652264\ttotal: 11.9s\tremaining: 1.6s\n",
            "881:\tlearn: 1.4636431\ttotal: 11.9s\tremaining: 1.59s\n",
            "882:\tlearn: 1.4610610\ttotal: 11.9s\tremaining: 1.57s\n",
            "883:\tlearn: 1.4600582\ttotal: 11.9s\tremaining: 1.56s\n",
            "884:\tlearn: 1.4579570\ttotal: 11.9s\tremaining: 1.55s\n",
            "885:\tlearn: 1.4562031\ttotal: 11.9s\tremaining: 1.53s\n",
            "886:\tlearn: 1.4548711\ttotal: 11.9s\tremaining: 1.52s\n",
            "887:\tlearn: 1.4533027\ttotal: 11.9s\tremaining: 1.51s\n",
            "888:\tlearn: 1.4509781\ttotal: 12s\tremaining: 1.49s\n",
            "889:\tlearn: 1.4500417\ttotal: 12s\tremaining: 1.48s\n",
            "890:\tlearn: 1.4471453\ttotal: 12s\tremaining: 1.47s\n",
            "891:\tlearn: 1.4455801\ttotal: 12s\tremaining: 1.45s\n",
            "892:\tlearn: 1.4442367\ttotal: 12s\tremaining: 1.44s\n",
            "893:\tlearn: 1.4422568\ttotal: 12s\tremaining: 1.43s\n",
            "894:\tlearn: 1.4403312\ttotal: 12s\tremaining: 1.41s\n",
            "895:\tlearn: 1.4375097\ttotal: 12.1s\tremaining: 1.4s\n",
            "896:\tlearn: 1.4352030\ttotal: 12.1s\tremaining: 1.39s\n",
            "897:\tlearn: 1.4332284\ttotal: 12.1s\tremaining: 1.37s\n",
            "898:\tlearn: 1.4309664\ttotal: 12.1s\tremaining: 1.36s\n",
            "899:\tlearn: 1.4288416\ttotal: 12.1s\tremaining: 1.34s\n",
            "900:\tlearn: 1.4271268\ttotal: 12.1s\tremaining: 1.33s\n",
            "901:\tlearn: 1.4257537\ttotal: 12.1s\tremaining: 1.32s\n",
            "902:\tlearn: 1.4238508\ttotal: 12.1s\tremaining: 1.3s\n",
            "903:\tlearn: 1.4217752\ttotal: 12.2s\tremaining: 1.29s\n",
            "904:\tlearn: 1.4196958\ttotal: 12.2s\tremaining: 1.28s\n",
            "905:\tlearn: 1.4192083\ttotal: 12.2s\tremaining: 1.26s\n",
            "906:\tlearn: 1.4179418\ttotal: 12.2s\tremaining: 1.25s\n",
            "907:\tlearn: 1.4150320\ttotal: 12.2s\tremaining: 1.24s\n",
            "908:\tlearn: 1.4131287\ttotal: 12.2s\tremaining: 1.22s\n",
            "909:\tlearn: 1.4116462\ttotal: 12.2s\tremaining: 1.21s\n",
            "910:\tlearn: 1.4094330\ttotal: 12.3s\tremaining: 1.2s\n",
            "911:\tlearn: 1.4076814\ttotal: 12.3s\tremaining: 1.18s\n",
            "912:\tlearn: 1.4067618\ttotal: 12.3s\tremaining: 1.17s\n",
            "913:\tlearn: 1.4047746\ttotal: 12.3s\tremaining: 1.16s\n",
            "914:\tlearn: 1.4028067\ttotal: 12.3s\tremaining: 1.14s\n",
            "915:\tlearn: 1.4009446\ttotal: 12.3s\tremaining: 1.13s\n",
            "916:\tlearn: 1.3989401\ttotal: 12.3s\tremaining: 1.11s\n",
            "917:\tlearn: 1.3974219\ttotal: 12.3s\tremaining: 1.1s\n",
            "918:\tlearn: 1.3961084\ttotal: 12.4s\tremaining: 1.09s\n",
            "919:\tlearn: 1.3944578\ttotal: 12.4s\tremaining: 1.07s\n",
            "920:\tlearn: 1.3932816\ttotal: 12.4s\tremaining: 1.06s\n",
            "921:\tlearn: 1.3918791\ttotal: 12.4s\tremaining: 1.05s\n",
            "922:\tlearn: 1.3911167\ttotal: 12.4s\tremaining: 1.03s\n",
            "923:\tlearn: 1.3899999\ttotal: 12.4s\tremaining: 1.02s\n",
            "924:\tlearn: 1.3872909\ttotal: 12.4s\tremaining: 1.01s\n",
            "925:\tlearn: 1.3857376\ttotal: 12.4s\tremaining: 995ms\n",
            "926:\tlearn: 1.3846273\ttotal: 12.5s\tremaining: 982ms\n",
            "927:\tlearn: 1.3841102\ttotal: 12.5s\tremaining: 968ms\n",
            "928:\tlearn: 1.3826239\ttotal: 12.5s\tremaining: 955ms\n",
            "929:\tlearn: 1.3808070\ttotal: 12.5s\tremaining: 941ms\n",
            "930:\tlearn: 1.3789461\ttotal: 12.5s\tremaining: 928ms\n",
            "931:\tlearn: 1.3774556\ttotal: 12.5s\tremaining: 914ms\n",
            "932:\tlearn: 1.3759252\ttotal: 12.5s\tremaining: 901ms\n",
            "933:\tlearn: 1.3734929\ttotal: 12.6s\tremaining: 887ms\n",
            "934:\tlearn: 1.3720723\ttotal: 12.6s\tremaining: 874ms\n",
            "935:\tlearn: 1.3709164\ttotal: 12.6s\tremaining: 860ms\n",
            "936:\tlearn: 1.3695202\ttotal: 12.6s\tremaining: 847ms\n",
            "937:\tlearn: 1.3676002\ttotal: 12.6s\tremaining: 834ms\n",
            "938:\tlearn: 1.3668091\ttotal: 12.6s\tremaining: 820ms\n",
            "939:\tlearn: 1.3655899\ttotal: 12.6s\tremaining: 807ms\n",
            "940:\tlearn: 1.3633215\ttotal: 12.7s\tremaining: 793ms\n",
            "941:\tlearn: 1.3618493\ttotal: 12.7s\tremaining: 780ms\n",
            "942:\tlearn: 1.3607751\ttotal: 12.7s\tremaining: 767ms\n",
            "943:\tlearn: 1.3594615\ttotal: 12.7s\tremaining: 753ms\n",
            "944:\tlearn: 1.3580748\ttotal: 12.7s\tremaining: 740ms\n",
            "945:\tlearn: 1.3562977\ttotal: 12.7s\tremaining: 726ms\n",
            "946:\tlearn: 1.3548539\ttotal: 12.7s\tremaining: 713ms\n",
            "947:\tlearn: 1.3535865\ttotal: 12.7s\tremaining: 699ms\n",
            "948:\tlearn: 1.3514390\ttotal: 12.8s\tremaining: 686ms\n",
            "949:\tlearn: 1.3493463\ttotal: 12.8s\tremaining: 672ms\n",
            "950:\tlearn: 1.3477847\ttotal: 12.8s\tremaining: 659ms\n",
            "951:\tlearn: 1.3460720\ttotal: 12.8s\tremaining: 645ms\n",
            "952:\tlearn: 1.3437208\ttotal: 12.8s\tremaining: 632ms\n",
            "953:\tlearn: 1.3419502\ttotal: 12.8s\tremaining: 619ms\n",
            "954:\tlearn: 1.3403612\ttotal: 12.8s\tremaining: 605ms\n",
            "955:\tlearn: 1.3389760\ttotal: 12.9s\tremaining: 592ms\n",
            "956:\tlearn: 1.3368542\ttotal: 12.9s\tremaining: 578ms\n",
            "957:\tlearn: 1.3354668\ttotal: 12.9s\tremaining: 565ms\n",
            "958:\tlearn: 1.3348393\ttotal: 12.9s\tremaining: 551ms\n",
            "959:\tlearn: 1.3334174\ttotal: 12.9s\tremaining: 538ms\n",
            "960:\tlearn: 1.3318904\ttotal: 12.9s\tremaining: 524ms\n",
            "961:\tlearn: 1.3295130\ttotal: 12.9s\tremaining: 511ms\n",
            "962:\tlearn: 1.3280045\ttotal: 12.9s\tremaining: 497ms\n",
            "963:\tlearn: 1.3266944\ttotal: 13s\tremaining: 484ms\n",
            "964:\tlearn: 1.3253444\ttotal: 13s\tremaining: 471ms\n",
            "965:\tlearn: 1.3238451\ttotal: 13s\tremaining: 457ms\n",
            "966:\tlearn: 1.3218698\ttotal: 13s\tremaining: 444ms\n",
            "967:\tlearn: 1.3208680\ttotal: 13s\tremaining: 430ms\n",
            "968:\tlearn: 1.3192147\ttotal: 13s\tremaining: 417ms\n",
            "969:\tlearn: 1.3177092\ttotal: 13s\tremaining: 403ms\n",
            "970:\tlearn: 1.3161263\ttotal: 13s\tremaining: 390ms\n",
            "971:\tlearn: 1.3144392\ttotal: 13.1s\tremaining: 376ms\n",
            "972:\tlearn: 1.3131665\ttotal: 13.1s\tremaining: 363ms\n",
            "973:\tlearn: 1.3117559\ttotal: 13.1s\tremaining: 349ms\n",
            "974:\tlearn: 1.3101209\ttotal: 13.1s\tremaining: 336ms\n",
            "975:\tlearn: 1.3086817\ttotal: 13.1s\tremaining: 323ms\n",
            "976:\tlearn: 1.3080831\ttotal: 13.1s\tremaining: 309ms\n",
            "977:\tlearn: 1.3063111\ttotal: 13.1s\tremaining: 296ms\n",
            "978:\tlearn: 1.3045585\ttotal: 13.2s\tremaining: 282ms\n",
            "979:\tlearn: 1.3029005\ttotal: 13.2s\tremaining: 269ms\n",
            "980:\tlearn: 1.3006985\ttotal: 13.2s\tremaining: 255ms\n",
            "981:\tlearn: 1.2998846\ttotal: 13.2s\tremaining: 242ms\n",
            "982:\tlearn: 1.2977082\ttotal: 13.2s\tremaining: 229ms\n",
            "983:\tlearn: 1.2958688\ttotal: 13.2s\tremaining: 215ms\n",
            "984:\tlearn: 1.2946724\ttotal: 13.2s\tremaining: 202ms\n",
            "985:\tlearn: 1.2938540\ttotal: 13.3s\tremaining: 188ms\n",
            "986:\tlearn: 1.2922240\ttotal: 13.3s\tremaining: 175ms\n",
            "987:\tlearn: 1.2908479\ttotal: 13.3s\tremaining: 161ms\n",
            "988:\tlearn: 1.2894038\ttotal: 13.3s\tremaining: 148ms\n",
            "989:\tlearn: 1.2868622\ttotal: 13.3s\tremaining: 134ms\n",
            "990:\tlearn: 1.2860598\ttotal: 13.3s\tremaining: 121ms\n",
            "991:\tlearn: 1.2844289\ttotal: 13.3s\tremaining: 108ms\n",
            "992:\tlearn: 1.2831873\ttotal: 13.3s\tremaining: 94.1ms\n",
            "993:\tlearn: 1.2812566\ttotal: 13.4s\tremaining: 80.7ms\n",
            "994:\tlearn: 1.2798701\ttotal: 13.4s\tremaining: 67.2ms\n",
            "995:\tlearn: 1.2778695\ttotal: 13.4s\tremaining: 53.8ms\n",
            "996:\tlearn: 1.2766463\ttotal: 13.4s\tremaining: 40.3ms\n",
            "997:\tlearn: 1.2752625\ttotal: 13.4s\tremaining: 26.9ms\n",
            "998:\tlearn: 1.2740265\ttotal: 13.4s\tremaining: 13.4ms\n",
            "999:\tlearn: 1.2723539\ttotal: 13.4s\tremaining: 0us\n",
            "Learning rate set to 0.046071\n",
            "0:\tlearn: 12.3491026\ttotal: 14ms\tremaining: 14s\n",
            "1:\tlearn: 11.9411854\ttotal: 27.2ms\tremaining: 13.6s\n",
            "2:\tlearn: 11.5605200\ttotal: 40ms\tremaining: 13.3s\n",
            "3:\tlearn: 11.1935479\ttotal: 53ms\tremaining: 13.2s\n",
            "4:\tlearn: 10.8291866\ttotal: 65.5ms\tremaining: 13s\n",
            "5:\tlearn: 10.4962938\ttotal: 81.4ms\tremaining: 13.5s\n",
            "6:\tlearn: 10.1776355\ttotal: 95ms\tremaining: 13.5s\n",
            "7:\tlearn: 9.8857710\ttotal: 107ms\tremaining: 13.3s\n",
            "8:\tlearn: 9.6240364\ttotal: 120ms\tremaining: 13.2s\n",
            "9:\tlearn: 9.3604273\ttotal: 133ms\tremaining: 13.1s\n",
            "10:\tlearn: 9.1041660\ttotal: 145ms\tremaining: 13s\n",
            "11:\tlearn: 8.8549630\ttotal: 157ms\tremaining: 13s\n",
            "12:\tlearn: 8.6225814\ttotal: 170ms\tremaining: 12.9s\n",
            "13:\tlearn: 8.4208228\ttotal: 182ms\tremaining: 12.8s\n",
            "14:\tlearn: 8.2131499\ttotal: 194ms\tremaining: 12.7s\n",
            "15:\tlearn: 8.0131114\ttotal: 207ms\tremaining: 12.8s\n",
            "16:\tlearn: 7.8246615\ttotal: 220ms\tremaining: 12.7s\n",
            "17:\tlearn: 7.6536662\ttotal: 233ms\tremaining: 12.7s\n",
            "18:\tlearn: 7.4974968\ttotal: 245ms\tremaining: 12.7s\n",
            "19:\tlearn: 7.3392658\ttotal: 258ms\tremaining: 12.7s\n",
            "20:\tlearn: 7.2024162\ttotal: 278ms\tremaining: 13s\n",
            "21:\tlearn: 7.0789925\ttotal: 296ms\tremaining: 13.2s\n",
            "22:\tlearn: 6.9590046\ttotal: 310ms\tremaining: 13.2s\n",
            "23:\tlearn: 6.8323016\ttotal: 323ms\tremaining: 13.2s\n",
            "24:\tlearn: 6.7161543\ttotal: 337ms\tremaining: 13.2s\n",
            "25:\tlearn: 6.6049765\ttotal: 351ms\tremaining: 13.2s\n",
            "26:\tlearn: 6.5096019\ttotal: 364ms\tremaining: 13.1s\n",
            "27:\tlearn: 6.4156385\ttotal: 377ms\tremaining: 13.1s\n",
            "28:\tlearn: 6.3166516\ttotal: 389ms\tremaining: 13s\n",
            "29:\tlearn: 6.2417426\ttotal: 402ms\tremaining: 13s\n",
            "30:\tlearn: 6.1704575\ttotal: 415ms\tremaining: 13s\n",
            "31:\tlearn: 6.0926538\ttotal: 428ms\tremaining: 12.9s\n",
            "32:\tlearn: 6.0255632\ttotal: 440ms\tremaining: 12.9s\n",
            "33:\tlearn: 5.9634856\ttotal: 453ms\tremaining: 12.9s\n",
            "34:\tlearn: 5.8944116\ttotal: 466ms\tremaining: 12.8s\n",
            "35:\tlearn: 5.8337309\ttotal: 478ms\tremaining: 12.8s\n",
            "36:\tlearn: 5.7762748\ttotal: 490ms\tremaining: 12.7s\n",
            "37:\tlearn: 5.7303882\ttotal: 506ms\tremaining: 12.8s\n",
            "38:\tlearn: 5.6781492\ttotal: 519ms\tremaining: 12.8s\n",
            "39:\tlearn: 5.6340591\ttotal: 532ms\tremaining: 12.8s\n",
            "40:\tlearn: 5.5890356\ttotal: 545ms\tremaining: 12.7s\n",
            "41:\tlearn: 5.5488528\ttotal: 557ms\tremaining: 12.7s\n",
            "42:\tlearn: 5.5118628\ttotal: 571ms\tremaining: 12.7s\n",
            "43:\tlearn: 5.4757548\ttotal: 585ms\tremaining: 12.7s\n",
            "44:\tlearn: 5.4432312\ttotal: 598ms\tremaining: 12.7s\n",
            "45:\tlearn: 5.4064247\ttotal: 611ms\tremaining: 12.7s\n",
            "46:\tlearn: 5.3737594\ttotal: 624ms\tremaining: 12.6s\n",
            "47:\tlearn: 5.3481336\ttotal: 636ms\tremaining: 12.6s\n",
            "48:\tlearn: 5.3249236\ttotal: 651ms\tremaining: 12.6s\n",
            "49:\tlearn: 5.2922640\ttotal: 666ms\tremaining: 12.7s\n",
            "50:\tlearn: 5.2706940\ttotal: 679ms\tremaining: 12.6s\n",
            "51:\tlearn: 5.2486062\ttotal: 691ms\tremaining: 12.6s\n",
            "52:\tlearn: 5.2234453\ttotal: 708ms\tremaining: 12.7s\n",
            "53:\tlearn: 5.2018117\ttotal: 722ms\tremaining: 12.6s\n",
            "54:\tlearn: 5.1815216\ttotal: 735ms\tremaining: 12.6s\n",
            "55:\tlearn: 5.1544105\ttotal: 748ms\tremaining: 12.6s\n",
            "56:\tlearn: 5.1374690\ttotal: 761ms\tremaining: 12.6s\n",
            "57:\tlearn: 5.1200255\ttotal: 775ms\tremaining: 12.6s\n",
            "58:\tlearn: 5.0998040\ttotal: 788ms\tremaining: 12.6s\n",
            "59:\tlearn: 5.0837479\ttotal: 800ms\tremaining: 12.5s\n",
            "60:\tlearn: 5.0657920\ttotal: 813ms\tremaining: 12.5s\n",
            "61:\tlearn: 5.0504240\ttotal: 826ms\tremaining: 12.5s\n",
            "62:\tlearn: 5.0341765\ttotal: 840ms\tremaining: 12.5s\n",
            "63:\tlearn: 5.0173150\ttotal: 853ms\tremaining: 12.5s\n",
            "64:\tlearn: 5.0034225\ttotal: 865ms\tremaining: 12.4s\n",
            "65:\tlearn: 4.9909708\ttotal: 878ms\tremaining: 12.4s\n",
            "66:\tlearn: 4.9764452\ttotal: 890ms\tremaining: 12.4s\n",
            "67:\tlearn: 4.9648458\ttotal: 902ms\tremaining: 12.4s\n",
            "68:\tlearn: 4.9528945\ttotal: 918ms\tremaining: 12.4s\n",
            "69:\tlearn: 4.9418269\ttotal: 937ms\tremaining: 12.5s\n",
            "70:\tlearn: 4.9287554\ttotal: 951ms\tremaining: 12.4s\n",
            "71:\tlearn: 4.9130121\ttotal: 965ms\tremaining: 12.4s\n",
            "72:\tlearn: 4.8983695\ttotal: 978ms\tremaining: 12.4s\n",
            "73:\tlearn: 4.8839321\ttotal: 990ms\tremaining: 12.4s\n",
            "74:\tlearn: 4.8738220\ttotal: 1s\tremaining: 12.4s\n",
            "75:\tlearn: 4.8638235\ttotal: 1.02s\tremaining: 12.4s\n",
            "76:\tlearn: 4.8476104\ttotal: 1.03s\tremaining: 12.3s\n",
            "77:\tlearn: 4.8352088\ttotal: 1.04s\tremaining: 12.3s\n",
            "78:\tlearn: 4.8250766\ttotal: 1.06s\tremaining: 12.3s\n",
            "79:\tlearn: 4.8151409\ttotal: 1.07s\tremaining: 12.3s\n",
            "80:\tlearn: 4.8106121\ttotal: 1.08s\tremaining: 12.3s\n",
            "81:\tlearn: 4.8002462\ttotal: 1.09s\tremaining: 12.3s\n",
            "82:\tlearn: 4.7932791\ttotal: 1.11s\tremaining: 12.2s\n",
            "83:\tlearn: 4.7870896\ttotal: 1.12s\tremaining: 12.3s\n",
            "84:\tlearn: 4.7793623\ttotal: 1.14s\tremaining: 12.2s\n",
            "85:\tlearn: 4.7694238\ttotal: 1.15s\tremaining: 12.2s\n",
            "86:\tlearn: 4.7559138\ttotal: 1.16s\tremaining: 12.2s\n",
            "87:\tlearn: 4.7495435\ttotal: 1.17s\tremaining: 12.2s\n",
            "88:\tlearn: 4.7401264\ttotal: 1.19s\tremaining: 12.1s\n",
            "89:\tlearn: 4.7326290\ttotal: 1.2s\tremaining: 12.1s\n",
            "90:\tlearn: 4.7256198\ttotal: 1.21s\tremaining: 12.1s\n",
            "91:\tlearn: 4.7157961\ttotal: 1.22s\tremaining: 12.1s\n",
            "92:\tlearn: 4.7067188\ttotal: 1.23s\tremaining: 12s\n",
            "93:\tlearn: 4.6986654\ttotal: 1.25s\tremaining: 12s\n",
            "94:\tlearn: 4.6909410\ttotal: 1.26s\tremaining: 12s\n",
            "95:\tlearn: 4.6788314\ttotal: 1.27s\tremaining: 12s\n",
            "96:\tlearn: 4.6720549\ttotal: 1.28s\tremaining: 12s\n",
            "97:\tlearn: 4.6634337\ttotal: 1.3s\tremaining: 11.9s\n",
            "98:\tlearn: 4.6537291\ttotal: 1.31s\tremaining: 11.9s\n",
            "99:\tlearn: 4.6463028\ttotal: 1.33s\tremaining: 11.9s\n",
            "100:\tlearn: 4.6365710\ttotal: 1.34s\tremaining: 11.9s\n",
            "101:\tlearn: 4.6295762\ttotal: 1.35s\tremaining: 11.9s\n",
            "102:\tlearn: 4.6226617\ttotal: 1.37s\tremaining: 11.9s\n",
            "103:\tlearn: 4.6128874\ttotal: 1.38s\tremaining: 11.9s\n",
            "104:\tlearn: 4.6067798\ttotal: 1.39s\tremaining: 11.9s\n",
            "105:\tlearn: 4.5982553\ttotal: 1.41s\tremaining: 11.9s\n",
            "106:\tlearn: 4.5861232\ttotal: 1.42s\tremaining: 11.8s\n",
            "107:\tlearn: 4.5810031\ttotal: 1.43s\tremaining: 11.8s\n",
            "108:\tlearn: 4.5708705\ttotal: 1.44s\tremaining: 11.8s\n",
            "109:\tlearn: 4.5584584\ttotal: 1.46s\tremaining: 11.8s\n",
            "110:\tlearn: 4.5539666\ttotal: 1.47s\tremaining: 11.8s\n",
            "111:\tlearn: 4.5480678\ttotal: 1.48s\tremaining: 11.7s\n",
            "112:\tlearn: 4.5430229\ttotal: 1.49s\tremaining: 11.7s\n",
            "113:\tlearn: 4.5373765\ttotal: 1.51s\tremaining: 11.7s\n",
            "114:\tlearn: 4.5246457\ttotal: 1.52s\tremaining: 11.7s\n",
            "115:\tlearn: 4.5186187\ttotal: 1.54s\tremaining: 11.7s\n",
            "116:\tlearn: 4.5116707\ttotal: 1.55s\tremaining: 11.7s\n",
            "117:\tlearn: 4.5056342\ttotal: 1.57s\tremaining: 11.7s\n",
            "118:\tlearn: 4.4974597\ttotal: 1.58s\tremaining: 11.7s\n",
            "119:\tlearn: 4.4919332\ttotal: 1.59s\tremaining: 11.7s\n",
            "120:\tlearn: 4.4847108\ttotal: 1.61s\tremaining: 11.7s\n",
            "121:\tlearn: 4.4771006\ttotal: 1.62s\tremaining: 11.7s\n",
            "122:\tlearn: 4.4728657\ttotal: 1.63s\tremaining: 11.6s\n",
            "123:\tlearn: 4.4666053\ttotal: 1.65s\tremaining: 11.6s\n",
            "124:\tlearn: 4.4594995\ttotal: 1.66s\tremaining: 11.6s\n",
            "125:\tlearn: 4.4535926\ttotal: 1.67s\tremaining: 11.6s\n",
            "126:\tlearn: 4.4468929\ttotal: 1.68s\tremaining: 11.6s\n",
            "127:\tlearn: 4.4392471\ttotal: 1.7s\tremaining: 11.5s\n",
            "128:\tlearn: 4.4319732\ttotal: 1.71s\tremaining: 11.5s\n",
            "129:\tlearn: 4.4275916\ttotal: 1.72s\tremaining: 11.5s\n",
            "130:\tlearn: 4.4208984\ttotal: 1.73s\tremaining: 11.5s\n",
            "131:\tlearn: 4.4152736\ttotal: 1.75s\tremaining: 11.5s\n",
            "132:\tlearn: 4.4056645\ttotal: 1.76s\tremaining: 11.5s\n",
            "133:\tlearn: 4.3986668\ttotal: 1.78s\tremaining: 11.5s\n",
            "134:\tlearn: 4.3896667\ttotal: 1.79s\tremaining: 11.5s\n",
            "135:\tlearn: 4.3837836\ttotal: 1.8s\tremaining: 11.5s\n",
            "136:\tlearn: 4.3776701\ttotal: 1.81s\tremaining: 11.4s\n",
            "137:\tlearn: 4.3652918\ttotal: 1.83s\tremaining: 11.4s\n",
            "138:\tlearn: 4.3573288\ttotal: 1.84s\tremaining: 11.4s\n",
            "139:\tlearn: 4.3508543\ttotal: 1.85s\tremaining: 11.4s\n",
            "140:\tlearn: 4.3423780\ttotal: 1.87s\tremaining: 11.4s\n",
            "141:\tlearn: 4.3382435\ttotal: 1.88s\tremaining: 11.4s\n",
            "142:\tlearn: 4.3310126\ttotal: 1.89s\tremaining: 11.3s\n",
            "143:\tlearn: 4.3244845\ttotal: 1.91s\tremaining: 11.3s\n",
            "144:\tlearn: 4.3145081\ttotal: 1.92s\tremaining: 11.3s\n",
            "145:\tlearn: 4.3113827\ttotal: 1.94s\tremaining: 11.3s\n",
            "146:\tlearn: 4.3038052\ttotal: 1.95s\tremaining: 11.3s\n",
            "147:\tlearn: 4.2964122\ttotal: 1.97s\tremaining: 11.3s\n",
            "148:\tlearn: 4.2907962\ttotal: 1.98s\tremaining: 11.3s\n",
            "149:\tlearn: 4.2830615\ttotal: 1.99s\tremaining: 11.3s\n",
            "150:\tlearn: 4.2760647\ttotal: 2.01s\tremaining: 11.3s\n",
            "151:\tlearn: 4.2681873\ttotal: 2.02s\tremaining: 11.3s\n",
            "152:\tlearn: 4.2599649\ttotal: 2.04s\tremaining: 11.3s\n",
            "153:\tlearn: 4.2517078\ttotal: 2.05s\tremaining: 11.3s\n",
            "154:\tlearn: 4.2457768\ttotal: 2.06s\tremaining: 11.3s\n",
            "155:\tlearn: 4.2376906\ttotal: 2.08s\tremaining: 11.2s\n",
            "156:\tlearn: 4.2302902\ttotal: 2.09s\tremaining: 11.2s\n",
            "157:\tlearn: 4.2239184\ttotal: 2.1s\tremaining: 11.2s\n",
            "158:\tlearn: 4.2154975\ttotal: 2.12s\tremaining: 11.2s\n",
            "159:\tlearn: 4.2094340\ttotal: 2.13s\tremaining: 11.2s\n",
            "160:\tlearn: 4.2041011\ttotal: 2.14s\tremaining: 11.2s\n",
            "161:\tlearn: 4.1933766\ttotal: 2.16s\tremaining: 11.2s\n",
            "162:\tlearn: 4.1895796\ttotal: 2.17s\tremaining: 11.2s\n",
            "163:\tlearn: 4.1839465\ttotal: 2.19s\tremaining: 11.1s\n",
            "164:\tlearn: 4.1742615\ttotal: 2.2s\tremaining: 11.1s\n",
            "165:\tlearn: 4.1694441\ttotal: 2.21s\tremaining: 11.1s\n",
            "166:\tlearn: 4.1640086\ttotal: 2.22s\tremaining: 11.1s\n",
            "167:\tlearn: 4.1586375\ttotal: 2.23s\tremaining: 11.1s\n",
            "168:\tlearn: 4.1548204\ttotal: 2.25s\tremaining: 11.1s\n",
            "169:\tlearn: 4.1477407\ttotal: 2.26s\tremaining: 11s\n",
            "170:\tlearn: 4.1420728\ttotal: 2.27s\tremaining: 11s\n",
            "171:\tlearn: 4.1351844\ttotal: 2.29s\tremaining: 11s\n",
            "172:\tlearn: 4.1315408\ttotal: 2.3s\tremaining: 11s\n",
            "173:\tlearn: 4.1273178\ttotal: 2.31s\tremaining: 11s\n",
            "174:\tlearn: 4.1183295\ttotal: 2.33s\tremaining: 11s\n",
            "175:\tlearn: 4.1125473\ttotal: 2.34s\tremaining: 11s\n",
            "176:\tlearn: 4.1044305\ttotal: 2.35s\tremaining: 10.9s\n",
            "177:\tlearn: 4.0934019\ttotal: 2.37s\tremaining: 10.9s\n",
            "178:\tlearn: 4.0855555\ttotal: 2.38s\tremaining: 10.9s\n",
            "179:\tlearn: 4.0820633\ttotal: 2.4s\tremaining: 10.9s\n",
            "180:\tlearn: 4.0742035\ttotal: 2.41s\tremaining: 10.9s\n",
            "181:\tlearn: 4.0667972\ttotal: 2.42s\tremaining: 10.9s\n",
            "182:\tlearn: 4.0618551\ttotal: 2.43s\tremaining: 10.9s\n",
            "183:\tlearn: 4.0555924\ttotal: 2.45s\tremaining: 10.9s\n",
            "184:\tlearn: 4.0488383\ttotal: 2.46s\tremaining: 10.8s\n",
            "185:\tlearn: 4.0396438\ttotal: 2.47s\tremaining: 10.8s\n",
            "186:\tlearn: 4.0338112\ttotal: 2.48s\tremaining: 10.8s\n",
            "187:\tlearn: 4.0280038\ttotal: 2.5s\tremaining: 10.8s\n",
            "188:\tlearn: 4.0206896\ttotal: 2.51s\tremaining: 10.8s\n",
            "189:\tlearn: 4.0142123\ttotal: 2.52s\tremaining: 10.8s\n",
            "190:\tlearn: 4.0079001\ttotal: 2.54s\tremaining: 10.7s\n",
            "191:\tlearn: 3.9969370\ttotal: 2.55s\tremaining: 10.7s\n",
            "192:\tlearn: 3.9867861\ttotal: 2.56s\tremaining: 10.7s\n",
            "193:\tlearn: 3.9815976\ttotal: 2.58s\tremaining: 10.7s\n",
            "194:\tlearn: 3.9716772\ttotal: 2.59s\tremaining: 10.7s\n",
            "195:\tlearn: 3.9689830\ttotal: 2.61s\tremaining: 10.7s\n",
            "196:\tlearn: 3.9611159\ttotal: 2.62s\tremaining: 10.7s\n",
            "197:\tlearn: 3.9499137\ttotal: 2.63s\tremaining: 10.7s\n",
            "198:\tlearn: 3.9405676\ttotal: 2.65s\tremaining: 10.7s\n",
            "199:\tlearn: 3.9300130\ttotal: 2.66s\tremaining: 10.6s\n",
            "200:\tlearn: 3.9244267\ttotal: 2.67s\tremaining: 10.6s\n",
            "201:\tlearn: 3.9188520\ttotal: 2.69s\tremaining: 10.6s\n",
            "202:\tlearn: 3.9124293\ttotal: 2.7s\tremaining: 10.6s\n",
            "203:\tlearn: 3.9058539\ttotal: 2.71s\tremaining: 10.6s\n",
            "204:\tlearn: 3.9012554\ttotal: 2.72s\tremaining: 10.6s\n",
            "205:\tlearn: 3.8934797\ttotal: 2.73s\tremaining: 10.5s\n",
            "206:\tlearn: 3.8879492\ttotal: 2.75s\tremaining: 10.5s\n",
            "207:\tlearn: 3.8828839\ttotal: 2.76s\tremaining: 10.5s\n",
            "208:\tlearn: 3.8766946\ttotal: 2.77s\tremaining: 10.5s\n",
            "209:\tlearn: 3.8686057\ttotal: 2.79s\tremaining: 10.5s\n",
            "210:\tlearn: 3.8617076\ttotal: 2.81s\tremaining: 10.5s\n",
            "211:\tlearn: 3.8538845\ttotal: 2.82s\tremaining: 10.5s\n",
            "212:\tlearn: 3.8466194\ttotal: 2.83s\tremaining: 10.5s\n",
            "213:\tlearn: 3.8393398\ttotal: 2.85s\tremaining: 10.5s\n",
            "214:\tlearn: 3.8346715\ttotal: 2.86s\tremaining: 10.4s\n",
            "215:\tlearn: 3.8294066\ttotal: 2.87s\tremaining: 10.4s\n",
            "216:\tlearn: 3.8190033\ttotal: 2.88s\tremaining: 10.4s\n",
            "217:\tlearn: 3.8136829\ttotal: 2.9s\tremaining: 10.4s\n",
            "218:\tlearn: 3.8088921\ttotal: 2.91s\tremaining: 10.4s\n",
            "219:\tlearn: 3.8021656\ttotal: 2.93s\tremaining: 10.4s\n",
            "220:\tlearn: 3.7951589\ttotal: 2.94s\tremaining: 10.4s\n",
            "221:\tlearn: 3.7878356\ttotal: 2.96s\tremaining: 10.4s\n",
            "222:\tlearn: 3.7806132\ttotal: 2.97s\tremaining: 10.3s\n",
            "223:\tlearn: 3.7733873\ttotal: 2.98s\tremaining: 10.3s\n",
            "224:\tlearn: 3.7670734\ttotal: 3s\tremaining: 10.3s\n",
            "225:\tlearn: 3.7605243\ttotal: 3.01s\tremaining: 10.3s\n",
            "226:\tlearn: 3.7549618\ttotal: 3.02s\tremaining: 10.3s\n",
            "227:\tlearn: 3.7439750\ttotal: 3.04s\tremaining: 10.3s\n",
            "228:\tlearn: 3.7361364\ttotal: 3.05s\tremaining: 10.3s\n",
            "229:\tlearn: 3.7286963\ttotal: 3.06s\tremaining: 10.3s\n",
            "230:\tlearn: 3.7206126\ttotal: 3.08s\tremaining: 10.2s\n",
            "231:\tlearn: 3.7136170\ttotal: 3.09s\tremaining: 10.2s\n",
            "232:\tlearn: 3.7105525\ttotal: 3.1s\tremaining: 10.2s\n",
            "233:\tlearn: 3.7043834\ttotal: 3.12s\tremaining: 10.2s\n",
            "234:\tlearn: 3.6978534\ttotal: 3.13s\tremaining: 10.2s\n",
            "235:\tlearn: 3.6929404\ttotal: 3.15s\tremaining: 10.2s\n",
            "236:\tlearn: 3.6882206\ttotal: 3.16s\tremaining: 10.2s\n",
            "237:\tlearn: 3.6825423\ttotal: 3.17s\tremaining: 10.2s\n",
            "238:\tlearn: 3.6769102\ttotal: 3.18s\tremaining: 10.1s\n",
            "239:\tlearn: 3.6681600\ttotal: 3.2s\tremaining: 10.1s\n",
            "240:\tlearn: 3.6578033\ttotal: 3.21s\tremaining: 10.1s\n",
            "241:\tlearn: 3.6493942\ttotal: 3.22s\tremaining: 10.1s\n",
            "242:\tlearn: 3.6424777\ttotal: 3.24s\tremaining: 10.1s\n",
            "243:\tlearn: 3.6354059\ttotal: 3.25s\tremaining: 10.1s\n",
            "244:\tlearn: 3.6303915\ttotal: 3.26s\tremaining: 10.1s\n",
            "245:\tlearn: 3.6248236\ttotal: 3.28s\tremaining: 10s\n",
            "246:\tlearn: 3.6145939\ttotal: 3.29s\tremaining: 10s\n",
            "247:\tlearn: 3.6061931\ttotal: 3.3s\tremaining: 10s\n",
            "248:\tlearn: 3.6008223\ttotal: 3.32s\tremaining: 10s\n",
            "249:\tlearn: 3.5951924\ttotal: 3.33s\tremaining: 9.99s\n",
            "250:\tlearn: 3.5880780\ttotal: 3.34s\tremaining: 9.98s\n",
            "251:\tlearn: 3.5814436\ttotal: 3.35s\tremaining: 9.96s\n",
            "252:\tlearn: 3.5768400\ttotal: 3.37s\tremaining: 9.95s\n",
            "253:\tlearn: 3.5705802\ttotal: 3.38s\tremaining: 9.93s\n",
            "254:\tlearn: 3.5656707\ttotal: 3.39s\tremaining: 9.92s\n",
            "255:\tlearn: 3.5563202\ttotal: 3.41s\tremaining: 9.91s\n",
            "256:\tlearn: 3.5499069\ttotal: 3.42s\tremaining: 9.89s\n",
            "257:\tlearn: 3.5434259\ttotal: 3.43s\tremaining: 9.88s\n",
            "258:\tlearn: 3.5344495\ttotal: 3.45s\tremaining: 9.86s\n",
            "259:\tlearn: 3.5268207\ttotal: 3.46s\tremaining: 9.85s\n",
            "260:\tlearn: 3.5199333\ttotal: 3.47s\tremaining: 9.84s\n",
            "261:\tlearn: 3.5146490\ttotal: 3.49s\tremaining: 9.82s\n",
            "262:\tlearn: 3.5063086\ttotal: 3.5s\tremaining: 9.82s\n",
            "263:\tlearn: 3.4982673\ttotal: 3.52s\tremaining: 9.82s\n",
            "264:\tlearn: 3.4896378\ttotal: 3.54s\tremaining: 9.81s\n",
            "265:\tlearn: 3.4850671\ttotal: 3.55s\tremaining: 9.79s\n",
            "266:\tlearn: 3.4781956\ttotal: 3.56s\tremaining: 9.78s\n",
            "267:\tlearn: 3.4695114\ttotal: 3.58s\tremaining: 9.77s\n",
            "268:\tlearn: 3.4644559\ttotal: 3.59s\tremaining: 9.75s\n",
            "269:\tlearn: 3.4581783\ttotal: 3.6s\tremaining: 9.74s\n",
            "270:\tlearn: 3.4534736\ttotal: 3.62s\tremaining: 9.73s\n",
            "271:\tlearn: 3.4467776\ttotal: 3.63s\tremaining: 9.72s\n",
            "272:\tlearn: 3.4430853\ttotal: 3.64s\tremaining: 9.7s\n",
            "273:\tlearn: 3.4371798\ttotal: 3.65s\tremaining: 9.69s\n",
            "274:\tlearn: 3.4292152\ttotal: 3.67s\tremaining: 9.67s\n",
            "275:\tlearn: 3.4238359\ttotal: 3.68s\tremaining: 9.65s\n",
            "276:\tlearn: 3.4174668\ttotal: 3.69s\tremaining: 9.64s\n",
            "277:\tlearn: 3.4130238\ttotal: 3.71s\tremaining: 9.62s\n",
            "278:\tlearn: 3.4049893\ttotal: 3.72s\tremaining: 9.61s\n",
            "279:\tlearn: 3.3982037\ttotal: 3.73s\tremaining: 9.59s\n",
            "280:\tlearn: 3.3912229\ttotal: 3.74s\tremaining: 9.58s\n",
            "281:\tlearn: 3.3870637\ttotal: 3.76s\tremaining: 9.56s\n",
            "282:\tlearn: 3.3809464\ttotal: 3.77s\tremaining: 9.55s\n",
            "283:\tlearn: 3.3749509\ttotal: 3.78s\tremaining: 9.54s\n",
            "284:\tlearn: 3.3667393\ttotal: 3.8s\tremaining: 9.53s\n",
            "285:\tlearn: 3.3607501\ttotal: 3.81s\tremaining: 9.52s\n",
            "286:\tlearn: 3.3553277\ttotal: 3.83s\tremaining: 9.51s\n",
            "287:\tlearn: 3.3495934\ttotal: 3.84s\tremaining: 9.49s\n",
            "288:\tlearn: 3.3410471\ttotal: 3.85s\tremaining: 9.48s\n",
            "289:\tlearn: 3.3314490\ttotal: 3.87s\tremaining: 9.46s\n",
            "290:\tlearn: 3.3257418\ttotal: 3.88s\tremaining: 9.45s\n",
            "291:\tlearn: 3.3184795\ttotal: 3.89s\tremaining: 9.43s\n",
            "292:\tlearn: 3.3148849\ttotal: 3.9s\tremaining: 9.42s\n",
            "293:\tlearn: 3.3069506\ttotal: 3.92s\tremaining: 9.43s\n",
            "294:\tlearn: 3.3023590\ttotal: 3.94s\tremaining: 9.41s\n",
            "295:\tlearn: 3.2983320\ttotal: 3.95s\tremaining: 9.4s\n",
            "296:\tlearn: 3.2911806\ttotal: 3.96s\tremaining: 9.38s\n",
            "297:\tlearn: 3.2867835\ttotal: 3.98s\tremaining: 9.37s\n",
            "298:\tlearn: 3.2813853\ttotal: 3.99s\tremaining: 9.36s\n",
            "299:\tlearn: 3.2768359\ttotal: 4s\tremaining: 9.34s\n",
            "300:\tlearn: 3.2716352\ttotal: 4.02s\tremaining: 9.33s\n",
            "301:\tlearn: 3.2653274\ttotal: 4.03s\tremaining: 9.32s\n",
            "302:\tlearn: 3.2585442\ttotal: 4.04s\tremaining: 9.31s\n",
            "303:\tlearn: 3.2521756\ttotal: 4.06s\tremaining: 9.29s\n",
            "304:\tlearn: 3.2476164\ttotal: 4.07s\tremaining: 9.27s\n",
            "305:\tlearn: 3.2409494\ttotal: 4.08s\tremaining: 9.26s\n",
            "306:\tlearn: 3.2369636\ttotal: 4.09s\tremaining: 9.24s\n",
            "307:\tlearn: 3.2315289\ttotal: 4.11s\tremaining: 9.23s\n",
            "308:\tlearn: 3.2268861\ttotal: 4.12s\tremaining: 9.21s\n",
            "309:\tlearn: 3.2213676\ttotal: 4.13s\tremaining: 9.2s\n",
            "310:\tlearn: 3.2142802\ttotal: 4.14s\tremaining: 9.18s\n",
            "311:\tlearn: 3.2067757\ttotal: 4.16s\tremaining: 9.16s\n",
            "312:\tlearn: 3.2004331\ttotal: 4.17s\tremaining: 9.15s\n",
            "313:\tlearn: 3.1921372\ttotal: 4.18s\tremaining: 9.13s\n",
            "314:\tlearn: 3.1834089\ttotal: 4.19s\tremaining: 9.12s\n",
            "315:\tlearn: 3.1750305\ttotal: 4.21s\tremaining: 9.11s\n",
            "316:\tlearn: 3.1716095\ttotal: 4.22s\tremaining: 9.09s\n",
            "317:\tlearn: 3.1672224\ttotal: 4.24s\tremaining: 9.08s\n",
            "318:\tlearn: 3.1620908\ttotal: 4.25s\tremaining: 9.07s\n",
            "319:\tlearn: 3.1574935\ttotal: 4.26s\tremaining: 9.06s\n",
            "320:\tlearn: 3.1541356\ttotal: 4.28s\tremaining: 9.04s\n",
            "321:\tlearn: 3.1495536\ttotal: 4.29s\tremaining: 9.03s\n",
            "322:\tlearn: 3.1443332\ttotal: 4.3s\tremaining: 9.02s\n",
            "323:\tlearn: 3.1407978\ttotal: 4.31s\tremaining: 9s\n",
            "324:\tlearn: 3.1369386\ttotal: 4.33s\tremaining: 8.99s\n",
            "325:\tlearn: 3.1328226\ttotal: 4.34s\tremaining: 8.97s\n",
            "326:\tlearn: 3.1293241\ttotal: 4.36s\tremaining: 8.96s\n",
            "327:\tlearn: 3.1256797\ttotal: 4.37s\tremaining: 8.96s\n",
            "328:\tlearn: 3.1212122\ttotal: 4.38s\tremaining: 8.94s\n",
            "329:\tlearn: 3.1177482\ttotal: 4.4s\tremaining: 8.93s\n",
            "330:\tlearn: 3.1129410\ttotal: 4.41s\tremaining: 8.91s\n",
            "331:\tlearn: 3.1074519\ttotal: 4.42s\tremaining: 8.9s\n",
            "332:\tlearn: 3.1019042\ttotal: 4.44s\tremaining: 8.89s\n",
            "333:\tlearn: 3.0936568\ttotal: 4.45s\tremaining: 8.88s\n",
            "334:\tlearn: 3.0890421\ttotal: 4.46s\tremaining: 8.87s\n",
            "335:\tlearn: 3.0822832\ttotal: 4.48s\tremaining: 8.85s\n",
            "336:\tlearn: 3.0750406\ttotal: 4.49s\tremaining: 8.84s\n",
            "337:\tlearn: 3.0668246\ttotal: 4.51s\tremaining: 8.82s\n",
            "338:\tlearn: 3.0589884\ttotal: 4.52s\tremaining: 8.81s\n",
            "339:\tlearn: 3.0562576\ttotal: 4.53s\tremaining: 8.8s\n",
            "340:\tlearn: 3.0526920\ttotal: 4.55s\tremaining: 8.79s\n",
            "341:\tlearn: 3.0467995\ttotal: 4.56s\tremaining: 8.77s\n",
            "342:\tlearn: 3.0405310\ttotal: 4.57s\tremaining: 8.76s\n",
            "343:\tlearn: 3.0338495\ttotal: 4.59s\tremaining: 8.75s\n",
            "344:\tlearn: 3.0279739\ttotal: 4.6s\tremaining: 8.73s\n",
            "345:\tlearn: 3.0247756\ttotal: 4.61s\tremaining: 8.72s\n",
            "346:\tlearn: 3.0191970\ttotal: 4.62s\tremaining: 8.7s\n",
            "347:\tlearn: 3.0157368\ttotal: 4.64s\tremaining: 8.69s\n",
            "348:\tlearn: 3.0092824\ttotal: 4.65s\tremaining: 8.68s\n",
            "349:\tlearn: 3.0054893\ttotal: 4.66s\tremaining: 8.66s\n",
            "350:\tlearn: 3.0008650\ttotal: 4.68s\tremaining: 8.65s\n",
            "351:\tlearn: 2.9949591\ttotal: 4.69s\tremaining: 8.64s\n",
            "352:\tlearn: 2.9897579\ttotal: 4.7s\tremaining: 8.62s\n",
            "353:\tlearn: 2.9843204\ttotal: 4.72s\tremaining: 8.61s\n",
            "354:\tlearn: 2.9788440\ttotal: 4.73s\tremaining: 8.59s\n",
            "355:\tlearn: 2.9752728\ttotal: 4.74s\tremaining: 8.58s\n",
            "356:\tlearn: 2.9683948\ttotal: 4.75s\tremaining: 8.56s\n",
            "357:\tlearn: 2.9645511\ttotal: 4.77s\tremaining: 8.55s\n",
            "358:\tlearn: 2.9614254\ttotal: 4.78s\tremaining: 8.54s\n",
            "359:\tlearn: 2.9582214\ttotal: 4.8s\tremaining: 8.53s\n",
            "360:\tlearn: 2.9518870\ttotal: 4.81s\tremaining: 8.51s\n",
            "361:\tlearn: 2.9449267\ttotal: 4.82s\tremaining: 8.5s\n",
            "362:\tlearn: 2.9386678\ttotal: 4.83s\tremaining: 8.48s\n",
            "363:\tlearn: 2.9328593\ttotal: 4.85s\tremaining: 8.47s\n",
            "364:\tlearn: 2.9281598\ttotal: 4.86s\tremaining: 8.46s\n",
            "365:\tlearn: 2.9233194\ttotal: 4.87s\tremaining: 8.44s\n",
            "366:\tlearn: 2.9182542\ttotal: 4.89s\tremaining: 8.43s\n",
            "367:\tlearn: 2.9136260\ttotal: 4.9s\tremaining: 8.41s\n",
            "368:\tlearn: 2.9088178\ttotal: 4.92s\tremaining: 8.41s\n",
            "369:\tlearn: 2.9035650\ttotal: 4.93s\tremaining: 8.4s\n",
            "370:\tlearn: 2.8988068\ttotal: 4.95s\tremaining: 8.38s\n",
            "371:\tlearn: 2.8952574\ttotal: 4.96s\tremaining: 8.37s\n",
            "372:\tlearn: 2.8907254\ttotal: 4.97s\tremaining: 8.36s\n",
            "373:\tlearn: 2.8865226\ttotal: 4.99s\tremaining: 8.34s\n",
            "374:\tlearn: 2.8829199\ttotal: 5s\tremaining: 8.33s\n",
            "375:\tlearn: 2.8801952\ttotal: 5.01s\tremaining: 8.31s\n",
            "376:\tlearn: 2.8743865\ttotal: 5.02s\tremaining: 8.3s\n",
            "377:\tlearn: 2.8684694\ttotal: 5.03s\tremaining: 8.28s\n",
            "378:\tlearn: 2.8640176\ttotal: 5.05s\tremaining: 8.27s\n",
            "379:\tlearn: 2.8600761\ttotal: 5.06s\tremaining: 8.26s\n",
            "380:\tlearn: 2.8534184\ttotal: 5.08s\tremaining: 8.24s\n",
            "381:\tlearn: 2.8496595\ttotal: 5.09s\tremaining: 8.23s\n",
            "382:\tlearn: 2.8455196\ttotal: 5.1s\tremaining: 8.21s\n",
            "383:\tlearn: 2.8399546\ttotal: 5.11s\tremaining: 8.2s\n",
            "384:\tlearn: 2.8364726\ttotal: 5.12s\tremaining: 8.19s\n",
            "385:\tlearn: 2.8327292\ttotal: 5.14s\tremaining: 8.17s\n",
            "386:\tlearn: 2.8280837\ttotal: 5.15s\tremaining: 8.15s\n",
            "387:\tlearn: 2.8226340\ttotal: 5.16s\tremaining: 8.14s\n",
            "388:\tlearn: 2.8181991\ttotal: 5.17s\tremaining: 8.13s\n",
            "389:\tlearn: 2.8120882\ttotal: 5.19s\tremaining: 8.11s\n",
            "390:\tlearn: 2.8079719\ttotal: 5.2s\tremaining: 8.1s\n",
            "391:\tlearn: 2.8037506\ttotal: 5.21s\tremaining: 8.08s\n",
            "392:\tlearn: 2.7999779\ttotal: 5.22s\tremaining: 8.07s\n",
            "393:\tlearn: 2.7949365\ttotal: 5.24s\tremaining: 8.05s\n",
            "394:\tlearn: 2.7883668\ttotal: 5.25s\tremaining: 8.04s\n",
            "395:\tlearn: 2.7811785\ttotal: 5.26s\tremaining: 8.03s\n",
            "396:\tlearn: 2.7743534\ttotal: 5.28s\tremaining: 8.02s\n",
            "397:\tlearn: 2.7712121\ttotal: 5.29s\tremaining: 8s\n",
            "398:\tlearn: 2.7650796\ttotal: 5.3s\tremaining: 7.99s\n",
            "399:\tlearn: 2.7606094\ttotal: 5.31s\tremaining: 7.97s\n",
            "400:\tlearn: 2.7561550\ttotal: 5.33s\tremaining: 7.96s\n",
            "401:\tlearn: 2.7501407\ttotal: 5.34s\tremaining: 7.94s\n",
            "402:\tlearn: 2.7437495\ttotal: 5.35s\tremaining: 7.93s\n",
            "403:\tlearn: 2.7396519\ttotal: 5.36s\tremaining: 7.91s\n",
            "404:\tlearn: 2.7332986\ttotal: 5.38s\tremaining: 7.9s\n",
            "405:\tlearn: 2.7300891\ttotal: 5.39s\tremaining: 7.88s\n",
            "406:\tlearn: 2.7262911\ttotal: 5.4s\tremaining: 7.87s\n",
            "407:\tlearn: 2.7213881\ttotal: 5.41s\tremaining: 7.86s\n",
            "408:\tlearn: 2.7189805\ttotal: 5.43s\tremaining: 7.84s\n",
            "409:\tlearn: 2.7158539\ttotal: 5.44s\tremaining: 7.83s\n",
            "410:\tlearn: 2.7103172\ttotal: 5.46s\tremaining: 7.82s\n",
            "411:\tlearn: 2.7068991\ttotal: 5.47s\tremaining: 7.81s\n",
            "412:\tlearn: 2.7021597\ttotal: 5.49s\tremaining: 7.8s\n",
            "413:\tlearn: 2.6965438\ttotal: 5.5s\tremaining: 7.79s\n",
            "414:\tlearn: 2.6930138\ttotal: 5.52s\tremaining: 7.78s\n",
            "415:\tlearn: 2.6882380\ttotal: 5.53s\tremaining: 7.76s\n",
            "416:\tlearn: 2.6844108\ttotal: 5.54s\tremaining: 7.75s\n",
            "417:\tlearn: 2.6788586\ttotal: 5.56s\tremaining: 7.74s\n",
            "418:\tlearn: 2.6763118\ttotal: 5.57s\tremaining: 7.72s\n",
            "419:\tlearn: 2.6716320\ttotal: 5.58s\tremaining: 7.71s\n",
            "420:\tlearn: 2.6679562\ttotal: 5.59s\tremaining: 7.69s\n",
            "421:\tlearn: 2.6633974\ttotal: 5.61s\tremaining: 7.68s\n",
            "422:\tlearn: 2.6587962\ttotal: 5.62s\tremaining: 7.66s\n",
            "423:\tlearn: 2.6535761\ttotal: 5.63s\tremaining: 7.65s\n",
            "424:\tlearn: 2.6488212\ttotal: 5.64s\tremaining: 7.64s\n",
            "425:\tlearn: 2.6453747\ttotal: 5.66s\tremaining: 7.62s\n",
            "426:\tlearn: 2.6419048\ttotal: 5.67s\tremaining: 7.61s\n",
            "427:\tlearn: 2.6377662\ttotal: 5.69s\tremaining: 7.6s\n",
            "428:\tlearn: 2.6342626\ttotal: 5.7s\tremaining: 7.59s\n",
            "429:\tlearn: 2.6317361\ttotal: 5.71s\tremaining: 7.57s\n",
            "430:\tlearn: 2.6277525\ttotal: 5.73s\tremaining: 7.56s\n",
            "431:\tlearn: 2.6245551\ttotal: 5.74s\tremaining: 7.55s\n",
            "432:\tlearn: 2.6222449\ttotal: 5.75s\tremaining: 7.53s\n",
            "433:\tlearn: 2.6180463\ttotal: 5.76s\tremaining: 7.52s\n",
            "434:\tlearn: 2.6142171\ttotal: 5.78s\tremaining: 7.5s\n",
            "435:\tlearn: 2.6108658\ttotal: 5.79s\tremaining: 7.49s\n",
            "436:\tlearn: 2.6069515\ttotal: 5.8s\tremaining: 7.47s\n",
            "437:\tlearn: 2.6018138\ttotal: 5.81s\tremaining: 7.46s\n",
            "438:\tlearn: 2.5968424\ttotal: 5.83s\tremaining: 7.45s\n",
            "439:\tlearn: 2.5944293\ttotal: 5.84s\tremaining: 7.43s\n",
            "440:\tlearn: 2.5916111\ttotal: 5.85s\tremaining: 7.42s\n",
            "441:\tlearn: 2.5866640\ttotal: 5.86s\tremaining: 7.4s\n",
            "442:\tlearn: 2.5839160\ttotal: 5.88s\tremaining: 7.39s\n",
            "443:\tlearn: 2.5806027\ttotal: 5.89s\tremaining: 7.38s\n",
            "444:\tlearn: 2.5767048\ttotal: 5.91s\tremaining: 7.38s\n",
            "445:\tlearn: 2.5742010\ttotal: 5.93s\tremaining: 7.36s\n",
            "446:\tlearn: 2.5707166\ttotal: 5.94s\tremaining: 7.35s\n",
            "447:\tlearn: 2.5670024\ttotal: 5.95s\tremaining: 7.33s\n",
            "448:\tlearn: 2.5615321\ttotal: 5.97s\tremaining: 7.32s\n",
            "449:\tlearn: 2.5586265\ttotal: 5.98s\tremaining: 7.31s\n",
            "450:\tlearn: 2.5542694\ttotal: 5.99s\tremaining: 7.3s\n",
            "451:\tlearn: 2.5520316\ttotal: 6.01s\tremaining: 7.28s\n",
            "452:\tlearn: 2.5475042\ttotal: 6.02s\tremaining: 7.27s\n",
            "453:\tlearn: 2.5436047\ttotal: 6.03s\tremaining: 7.25s\n",
            "454:\tlearn: 2.5379625\ttotal: 6.04s\tremaining: 7.24s\n",
            "455:\tlearn: 2.5350990\ttotal: 6.06s\tremaining: 7.23s\n",
            "456:\tlearn: 2.5327469\ttotal: 6.07s\tremaining: 7.21s\n",
            "457:\tlearn: 2.5288717\ttotal: 6.08s\tremaining: 7.2s\n",
            "458:\tlearn: 2.5259890\ttotal: 6.1s\tremaining: 7.19s\n",
            "459:\tlearn: 2.5236874\ttotal: 6.12s\tremaining: 7.18s\n",
            "460:\tlearn: 2.5209751\ttotal: 6.13s\tremaining: 7.17s\n",
            "461:\tlearn: 2.5162933\ttotal: 6.14s\tremaining: 7.16s\n",
            "462:\tlearn: 2.5127871\ttotal: 6.16s\tremaining: 7.14s\n",
            "463:\tlearn: 2.5090705\ttotal: 6.17s\tremaining: 7.13s\n",
            "464:\tlearn: 2.5058949\ttotal: 6.18s\tremaining: 7.11s\n",
            "465:\tlearn: 2.5034524\ttotal: 6.19s\tremaining: 7.1s\n",
            "466:\tlearn: 2.5012392\ttotal: 6.21s\tremaining: 7.08s\n",
            "467:\tlearn: 2.4989591\ttotal: 6.22s\tremaining: 7.07s\n",
            "468:\tlearn: 2.4950921\ttotal: 6.23s\tremaining: 7.05s\n",
            "469:\tlearn: 2.4915943\ttotal: 6.24s\tremaining: 7.04s\n",
            "470:\tlearn: 2.4878046\ttotal: 6.26s\tremaining: 7.03s\n",
            "471:\tlearn: 2.4824772\ttotal: 6.27s\tremaining: 7.01s\n",
            "472:\tlearn: 2.4768465\ttotal: 6.28s\tremaining: 7s\n",
            "473:\tlearn: 2.4734406\ttotal: 6.3s\tremaining: 6.99s\n",
            "474:\tlearn: 2.4683077\ttotal: 6.31s\tremaining: 6.97s\n",
            "475:\tlearn: 2.4617385\ttotal: 6.32s\tremaining: 6.96s\n",
            "476:\tlearn: 2.4599988\ttotal: 6.34s\tremaining: 6.95s\n",
            "477:\tlearn: 2.4572780\ttotal: 6.35s\tremaining: 6.93s\n",
            "478:\tlearn: 2.4530140\ttotal: 6.36s\tremaining: 6.92s\n",
            "479:\tlearn: 2.4470021\ttotal: 6.38s\tremaining: 6.91s\n",
            "480:\tlearn: 2.4422653\ttotal: 6.39s\tremaining: 6.89s\n",
            "481:\tlearn: 2.4370909\ttotal: 6.4s\tremaining: 6.88s\n",
            "482:\tlearn: 2.4329559\ttotal: 6.41s\tremaining: 6.86s\n",
            "483:\tlearn: 2.4279420\ttotal: 6.42s\tremaining: 6.85s\n",
            "484:\tlearn: 2.4235545\ttotal: 6.44s\tremaining: 6.84s\n",
            "485:\tlearn: 2.4200036\ttotal: 6.45s\tremaining: 6.82s\n",
            "486:\tlearn: 2.4160027\ttotal: 6.46s\tremaining: 6.81s\n",
            "487:\tlearn: 2.4121079\ttotal: 6.48s\tremaining: 6.8s\n",
            "488:\tlearn: 2.4092445\ttotal: 6.49s\tremaining: 6.78s\n",
            "489:\tlearn: 2.4070384\ttotal: 6.51s\tremaining: 6.77s\n",
            "490:\tlearn: 2.4034889\ttotal: 6.52s\tremaining: 6.76s\n",
            "491:\tlearn: 2.3998447\ttotal: 6.53s\tremaining: 6.75s\n",
            "492:\tlearn: 2.3949988\ttotal: 6.55s\tremaining: 6.73s\n",
            "493:\tlearn: 2.3915200\ttotal: 6.56s\tremaining: 6.72s\n",
            "494:\tlearn: 2.3890265\ttotal: 6.57s\tremaining: 6.7s\n",
            "495:\tlearn: 2.3839404\ttotal: 6.58s\tremaining: 6.69s\n",
            "496:\tlearn: 2.3794392\ttotal: 6.59s\tremaining: 6.67s\n",
            "497:\tlearn: 2.3743834\ttotal: 6.61s\tremaining: 6.66s\n",
            "498:\tlearn: 2.3693746\ttotal: 6.62s\tremaining: 6.65s\n",
            "499:\tlearn: 2.3654163\ttotal: 6.63s\tremaining: 6.63s\n",
            "500:\tlearn: 2.3597599\ttotal: 6.65s\tremaining: 6.62s\n",
            "501:\tlearn: 2.3563258\ttotal: 6.66s\tremaining: 6.61s\n",
            "502:\tlearn: 2.3520888\ttotal: 6.67s\tremaining: 6.59s\n",
            "503:\tlearn: 2.3476057\ttotal: 6.69s\tremaining: 6.58s\n",
            "504:\tlearn: 2.3446276\ttotal: 6.7s\tremaining: 6.57s\n",
            "505:\tlearn: 2.3400543\ttotal: 6.72s\tremaining: 6.56s\n",
            "506:\tlearn: 2.3362946\ttotal: 6.73s\tremaining: 6.54s\n",
            "507:\tlearn: 2.3331262\ttotal: 6.74s\tremaining: 6.53s\n",
            "508:\tlearn: 2.3304693\ttotal: 6.76s\tremaining: 6.52s\n",
            "509:\tlearn: 2.3282484\ttotal: 6.77s\tremaining: 6.5s\n",
            "510:\tlearn: 2.3249056\ttotal: 6.78s\tremaining: 6.49s\n",
            "511:\tlearn: 2.3215287\ttotal: 6.79s\tremaining: 6.48s\n",
            "512:\tlearn: 2.3180784\ttotal: 6.81s\tremaining: 6.46s\n",
            "513:\tlearn: 2.3136344\ttotal: 6.82s\tremaining: 6.45s\n",
            "514:\tlearn: 2.3108128\ttotal: 6.83s\tremaining: 6.43s\n",
            "515:\tlearn: 2.3085135\ttotal: 6.84s\tremaining: 6.42s\n",
            "516:\tlearn: 2.3038451\ttotal: 6.86s\tremaining: 6.41s\n",
            "517:\tlearn: 2.3008937\ttotal: 6.87s\tremaining: 6.4s\n",
            "518:\tlearn: 2.2971268\ttotal: 6.89s\tremaining: 6.38s\n",
            "519:\tlearn: 2.2944989\ttotal: 6.91s\tremaining: 6.38s\n",
            "520:\tlearn: 2.2909828\ttotal: 6.93s\tremaining: 6.37s\n",
            "521:\tlearn: 2.2878778\ttotal: 6.94s\tremaining: 6.35s\n",
            "522:\tlearn: 2.2838227\ttotal: 6.95s\tremaining: 6.34s\n",
            "523:\tlearn: 2.2795974\ttotal: 6.97s\tremaining: 6.33s\n",
            "524:\tlearn: 2.2770612\ttotal: 6.98s\tremaining: 6.32s\n",
            "525:\tlearn: 2.2740521\ttotal: 6.99s\tremaining: 6.3s\n",
            "526:\tlearn: 2.2705127\ttotal: 7.01s\tremaining: 6.29s\n",
            "527:\tlearn: 2.2676038\ttotal: 7.02s\tremaining: 6.28s\n",
            "528:\tlearn: 2.2643056\ttotal: 7.03s\tremaining: 6.26s\n",
            "529:\tlearn: 2.2621566\ttotal: 7.05s\tremaining: 6.25s\n",
            "530:\tlearn: 2.2594418\ttotal: 7.06s\tremaining: 6.24s\n",
            "531:\tlearn: 2.2560912\ttotal: 7.07s\tremaining: 6.22s\n",
            "532:\tlearn: 2.2514898\ttotal: 7.08s\tremaining: 6.21s\n",
            "533:\tlearn: 2.2491694\ttotal: 7.1s\tremaining: 6.19s\n",
            "534:\tlearn: 2.2458617\ttotal: 7.11s\tremaining: 6.18s\n",
            "535:\tlearn: 2.2422581\ttotal: 7.12s\tremaining: 6.17s\n",
            "536:\tlearn: 2.2391152\ttotal: 7.14s\tremaining: 6.16s\n",
            "537:\tlearn: 2.2359305\ttotal: 7.15s\tremaining: 6.14s\n",
            "538:\tlearn: 2.2327061\ttotal: 7.17s\tremaining: 6.13s\n",
            "539:\tlearn: 2.2297927\ttotal: 7.18s\tremaining: 6.12s\n",
            "540:\tlearn: 2.2279837\ttotal: 7.19s\tremaining: 6.1s\n",
            "541:\tlearn: 2.2248086\ttotal: 7.2s\tremaining: 6.09s\n",
            "542:\tlearn: 2.2230533\ttotal: 7.22s\tremaining: 6.08s\n",
            "543:\tlearn: 2.2191518\ttotal: 7.23s\tremaining: 6.06s\n",
            "544:\tlearn: 2.2162058\ttotal: 7.24s\tremaining: 6.05s\n",
            "545:\tlearn: 2.2141094\ttotal: 7.26s\tremaining: 6.03s\n",
            "546:\tlearn: 2.2128205\ttotal: 7.27s\tremaining: 6.02s\n",
            "547:\tlearn: 2.2084503\ttotal: 7.28s\tremaining: 6.01s\n",
            "548:\tlearn: 2.2051209\ttotal: 7.3s\tremaining: 5.99s\n",
            "549:\tlearn: 2.2018618\ttotal: 7.31s\tremaining: 5.98s\n",
            "550:\tlearn: 2.1992245\ttotal: 7.33s\tremaining: 5.97s\n",
            "551:\tlearn: 2.1951234\ttotal: 7.34s\tremaining: 5.96s\n",
            "552:\tlearn: 2.1920818\ttotal: 7.36s\tremaining: 5.95s\n",
            "553:\tlearn: 2.1884235\ttotal: 7.37s\tremaining: 5.93s\n",
            "554:\tlearn: 2.1865127\ttotal: 7.38s\tremaining: 5.92s\n",
            "555:\tlearn: 2.1832340\ttotal: 7.39s\tremaining: 5.9s\n",
            "556:\tlearn: 2.1805934\ttotal: 7.41s\tremaining: 5.89s\n",
            "557:\tlearn: 2.1753137\ttotal: 7.42s\tremaining: 5.88s\n",
            "558:\tlearn: 2.1722281\ttotal: 7.43s\tremaining: 5.86s\n",
            "559:\tlearn: 2.1691638\ttotal: 7.45s\tremaining: 5.85s\n",
            "560:\tlearn: 2.1659553\ttotal: 7.46s\tremaining: 5.84s\n",
            "561:\tlearn: 2.1632540\ttotal: 7.47s\tremaining: 5.82s\n",
            "562:\tlearn: 2.1608078\ttotal: 7.49s\tremaining: 5.81s\n",
            "563:\tlearn: 2.1588639\ttotal: 7.5s\tremaining: 5.8s\n",
            "564:\tlearn: 2.1561539\ttotal: 7.51s\tremaining: 5.78s\n",
            "565:\tlearn: 2.1532166\ttotal: 7.52s\tremaining: 5.77s\n",
            "566:\tlearn: 2.1513910\ttotal: 7.54s\tremaining: 5.76s\n",
            "567:\tlearn: 2.1480842\ttotal: 7.55s\tremaining: 5.75s\n",
            "568:\tlearn: 2.1442159\ttotal: 7.57s\tremaining: 5.73s\n",
            "569:\tlearn: 2.1419003\ttotal: 7.58s\tremaining: 5.72s\n",
            "570:\tlearn: 2.1406545\ttotal: 7.59s\tremaining: 5.7s\n",
            "571:\tlearn: 2.1381898\ttotal: 7.6s\tremaining: 5.69s\n",
            "572:\tlearn: 2.1363987\ttotal: 7.62s\tremaining: 5.68s\n",
            "573:\tlearn: 2.1332980\ttotal: 7.63s\tremaining: 5.66s\n",
            "574:\tlearn: 2.1311576\ttotal: 7.64s\tremaining: 5.65s\n",
            "575:\tlearn: 2.1278904\ttotal: 7.66s\tremaining: 5.63s\n",
            "576:\tlearn: 2.1245282\ttotal: 7.67s\tremaining: 5.62s\n",
            "577:\tlearn: 2.1213817\ttotal: 7.68s\tremaining: 5.61s\n",
            "578:\tlearn: 2.1183613\ttotal: 7.7s\tremaining: 5.6s\n",
            "579:\tlearn: 2.1149871\ttotal: 7.71s\tremaining: 5.58s\n",
            "580:\tlearn: 2.1109259\ttotal: 7.72s\tremaining: 5.57s\n",
            "581:\tlearn: 2.1076414\ttotal: 7.74s\tremaining: 5.56s\n",
            "582:\tlearn: 2.1038154\ttotal: 7.75s\tremaining: 5.54s\n",
            "583:\tlearn: 2.1015091\ttotal: 7.77s\tremaining: 5.53s\n",
            "584:\tlearn: 2.0973536\ttotal: 7.78s\tremaining: 5.52s\n",
            "585:\tlearn: 2.0946936\ttotal: 7.79s\tremaining: 5.51s\n",
            "586:\tlearn: 2.0924758\ttotal: 7.81s\tremaining: 5.49s\n",
            "587:\tlearn: 2.0903349\ttotal: 7.82s\tremaining: 5.48s\n",
            "588:\tlearn: 2.0874442\ttotal: 7.83s\tremaining: 5.47s\n",
            "589:\tlearn: 2.0842413\ttotal: 7.85s\tremaining: 5.45s\n",
            "590:\tlearn: 2.0808244\ttotal: 7.86s\tremaining: 5.44s\n",
            "591:\tlearn: 2.0780650\ttotal: 7.87s\tremaining: 5.42s\n",
            "592:\tlearn: 2.0753149\ttotal: 7.88s\tremaining: 5.41s\n",
            "593:\tlearn: 2.0713672\ttotal: 7.91s\tremaining: 5.4s\n",
            "594:\tlearn: 2.0683592\ttotal: 7.92s\tremaining: 5.39s\n",
            "595:\tlearn: 2.0666216\ttotal: 7.93s\tremaining: 5.38s\n",
            "596:\tlearn: 2.0627985\ttotal: 7.95s\tremaining: 5.37s\n",
            "597:\tlearn: 2.0598268\ttotal: 7.96s\tremaining: 5.35s\n",
            "598:\tlearn: 2.0563438\ttotal: 7.98s\tremaining: 5.34s\n",
            "599:\tlearn: 2.0539269\ttotal: 7.99s\tremaining: 5.33s\n",
            "600:\tlearn: 2.0496345\ttotal: 8s\tremaining: 5.31s\n",
            "601:\tlearn: 2.0477443\ttotal: 8.02s\tremaining: 5.3s\n",
            "602:\tlearn: 2.0453130\ttotal: 8.03s\tremaining: 5.29s\n",
            "603:\tlearn: 2.0434373\ttotal: 8.04s\tremaining: 5.27s\n",
            "604:\tlearn: 2.0402447\ttotal: 8.06s\tremaining: 5.26s\n",
            "605:\tlearn: 2.0381116\ttotal: 8.07s\tremaining: 5.25s\n",
            "606:\tlearn: 2.0362013\ttotal: 8.08s\tremaining: 5.23s\n",
            "607:\tlearn: 2.0346114\ttotal: 8.09s\tremaining: 5.22s\n",
            "608:\tlearn: 2.0320386\ttotal: 8.11s\tremaining: 5.2s\n",
            "609:\tlearn: 2.0283666\ttotal: 8.12s\tremaining: 5.19s\n",
            "610:\tlearn: 2.0265637\ttotal: 8.13s\tremaining: 5.18s\n",
            "611:\tlearn: 2.0230347\ttotal: 8.15s\tremaining: 5.17s\n",
            "612:\tlearn: 2.0214094\ttotal: 8.16s\tremaining: 5.15s\n",
            "613:\tlearn: 2.0199831\ttotal: 8.18s\tremaining: 5.14s\n",
            "614:\tlearn: 2.0165279\ttotal: 8.19s\tremaining: 5.13s\n",
            "615:\tlearn: 2.0146991\ttotal: 8.21s\tremaining: 5.12s\n",
            "616:\tlearn: 2.0132731\ttotal: 8.22s\tremaining: 5.1s\n",
            "617:\tlearn: 2.0096277\ttotal: 8.24s\tremaining: 5.09s\n",
            "618:\tlearn: 2.0059738\ttotal: 8.25s\tremaining: 5.08s\n",
            "619:\tlearn: 2.0025632\ttotal: 8.27s\tremaining: 5.07s\n",
            "620:\tlearn: 2.0002244\ttotal: 8.28s\tremaining: 5.05s\n",
            "621:\tlearn: 1.9979090\ttotal: 8.29s\tremaining: 5.04s\n",
            "622:\tlearn: 1.9945554\ttotal: 8.3s\tremaining: 5.03s\n",
            "623:\tlearn: 1.9923583\ttotal: 8.32s\tremaining: 5.01s\n",
            "624:\tlearn: 1.9890040\ttotal: 8.33s\tremaining: 5s\n",
            "625:\tlearn: 1.9852933\ttotal: 8.34s\tremaining: 4.98s\n",
            "626:\tlearn: 1.9828686\ttotal: 8.35s\tremaining: 4.97s\n",
            "627:\tlearn: 1.9809507\ttotal: 8.37s\tremaining: 4.96s\n",
            "628:\tlearn: 1.9790767\ttotal: 8.38s\tremaining: 4.95s\n",
            "629:\tlearn: 1.9764838\ttotal: 8.4s\tremaining: 4.93s\n",
            "630:\tlearn: 1.9750406\ttotal: 8.41s\tremaining: 4.92s\n",
            "631:\tlearn: 1.9722680\ttotal: 8.42s\tremaining: 4.91s\n",
            "632:\tlearn: 1.9690485\ttotal: 8.44s\tremaining: 4.89s\n",
            "633:\tlearn: 1.9674018\ttotal: 8.45s\tremaining: 4.88s\n",
            "634:\tlearn: 1.9661340\ttotal: 8.46s\tremaining: 4.87s\n",
            "635:\tlearn: 1.9637492\ttotal: 8.48s\tremaining: 4.85s\n",
            "636:\tlearn: 1.9618889\ttotal: 8.49s\tremaining: 4.84s\n",
            "637:\tlearn: 1.9594147\ttotal: 8.51s\tremaining: 4.83s\n",
            "638:\tlearn: 1.9560072\ttotal: 8.53s\tremaining: 4.82s\n",
            "639:\tlearn: 1.9526308\ttotal: 8.55s\tremaining: 4.81s\n",
            "640:\tlearn: 1.9503545\ttotal: 8.57s\tremaining: 4.8s\n",
            "641:\tlearn: 1.9493135\ttotal: 8.59s\tremaining: 4.79s\n",
            "642:\tlearn: 1.9466080\ttotal: 8.6s\tremaining: 4.78s\n",
            "643:\tlearn: 1.9432567\ttotal: 8.61s\tremaining: 4.76s\n",
            "644:\tlearn: 1.9406482\ttotal: 8.63s\tremaining: 4.75s\n",
            "645:\tlearn: 1.9381967\ttotal: 8.64s\tremaining: 4.74s\n",
            "646:\tlearn: 1.9352490\ttotal: 8.65s\tremaining: 4.72s\n",
            "647:\tlearn: 1.9334644\ttotal: 8.67s\tremaining: 4.71s\n",
            "648:\tlearn: 1.9299424\ttotal: 8.68s\tremaining: 4.7s\n",
            "649:\tlearn: 1.9260379\ttotal: 8.69s\tremaining: 4.68s\n",
            "650:\tlearn: 1.9248902\ttotal: 8.71s\tremaining: 4.67s\n",
            "651:\tlearn: 1.9215400\ttotal: 8.72s\tremaining: 4.65s\n",
            "652:\tlearn: 1.9186969\ttotal: 8.73s\tremaining: 4.64s\n",
            "653:\tlearn: 1.9158026\ttotal: 8.75s\tremaining: 4.63s\n",
            "654:\tlearn: 1.9120331\ttotal: 8.76s\tremaining: 4.61s\n",
            "655:\tlearn: 1.9098427\ttotal: 8.77s\tremaining: 4.6s\n",
            "656:\tlearn: 1.9079913\ttotal: 8.79s\tremaining: 4.59s\n",
            "657:\tlearn: 1.9059542\ttotal: 8.8s\tremaining: 4.57s\n",
            "658:\tlearn: 1.9036219\ttotal: 8.81s\tremaining: 4.56s\n",
            "659:\tlearn: 1.9013995\ttotal: 8.83s\tremaining: 4.55s\n",
            "660:\tlearn: 1.9001894\ttotal: 8.84s\tremaining: 4.53s\n",
            "661:\tlearn: 1.8970430\ttotal: 8.85s\tremaining: 4.52s\n",
            "662:\tlearn: 1.8942647\ttotal: 8.86s\tremaining: 4.5s\n",
            "663:\tlearn: 1.8917308\ttotal: 8.88s\tremaining: 4.49s\n",
            "664:\tlearn: 1.8902013\ttotal: 8.89s\tremaining: 4.48s\n",
            "665:\tlearn: 1.8881007\ttotal: 8.91s\tremaining: 4.47s\n",
            "666:\tlearn: 1.8856358\ttotal: 8.92s\tremaining: 4.45s\n",
            "667:\tlearn: 1.8831845\ttotal: 8.94s\tremaining: 4.44s\n",
            "668:\tlearn: 1.8798847\ttotal: 8.95s\tremaining: 4.43s\n",
            "669:\tlearn: 1.8776334\ttotal: 8.96s\tremaining: 4.41s\n",
            "670:\tlearn: 1.8746046\ttotal: 8.97s\tremaining: 4.4s\n",
            "671:\tlearn: 1.8718337\ttotal: 8.99s\tremaining: 4.39s\n",
            "672:\tlearn: 1.8695557\ttotal: 9s\tremaining: 4.37s\n",
            "673:\tlearn: 1.8662773\ttotal: 9.01s\tremaining: 4.36s\n",
            "674:\tlearn: 1.8637449\ttotal: 9.03s\tremaining: 4.35s\n",
            "675:\tlearn: 1.8602080\ttotal: 9.04s\tremaining: 4.33s\n",
            "676:\tlearn: 1.8577931\ttotal: 9.05s\tremaining: 4.32s\n",
            "677:\tlearn: 1.8562369\ttotal: 9.06s\tremaining: 4.3s\n",
            "678:\tlearn: 1.8538662\ttotal: 9.08s\tremaining: 4.29s\n",
            "679:\tlearn: 1.8516348\ttotal: 9.09s\tremaining: 4.28s\n",
            "680:\tlearn: 1.8487198\ttotal: 9.1s\tremaining: 4.26s\n",
            "681:\tlearn: 1.8453863\ttotal: 9.12s\tremaining: 4.25s\n",
            "682:\tlearn: 1.8429016\ttotal: 9.13s\tremaining: 4.24s\n",
            "683:\tlearn: 1.8394037\ttotal: 9.14s\tremaining: 4.22s\n",
            "684:\tlearn: 1.8382738\ttotal: 9.15s\tremaining: 4.21s\n",
            "685:\tlearn: 1.8362321\ttotal: 9.17s\tremaining: 4.2s\n",
            "686:\tlearn: 1.8342544\ttotal: 9.18s\tremaining: 4.18s\n",
            "687:\tlearn: 1.8320039\ttotal: 9.19s\tremaining: 4.17s\n",
            "688:\tlearn: 1.8301220\ttotal: 9.21s\tremaining: 4.16s\n",
            "689:\tlearn: 1.8277954\ttotal: 9.22s\tremaining: 4.14s\n",
            "690:\tlearn: 1.8248263\ttotal: 9.24s\tremaining: 4.13s\n",
            "691:\tlearn: 1.8227024\ttotal: 9.25s\tremaining: 4.12s\n",
            "692:\tlearn: 1.8211691\ttotal: 9.26s\tremaining: 4.1s\n",
            "693:\tlearn: 1.8182713\ttotal: 9.27s\tremaining: 4.09s\n",
            "694:\tlearn: 1.8157239\ttotal: 9.29s\tremaining: 4.08s\n",
            "695:\tlearn: 1.8129306\ttotal: 9.3s\tremaining: 4.06s\n",
            "696:\tlearn: 1.8115586\ttotal: 9.31s\tremaining: 4.05s\n",
            "697:\tlearn: 1.8075318\ttotal: 9.32s\tremaining: 4.03s\n",
            "698:\tlearn: 1.8050089\ttotal: 9.34s\tremaining: 4.02s\n",
            "699:\tlearn: 1.8034035\ttotal: 9.35s\tremaining: 4.01s\n",
            "700:\tlearn: 1.8011947\ttotal: 9.36s\tremaining: 3.99s\n",
            "701:\tlearn: 1.7984741\ttotal: 9.37s\tremaining: 3.98s\n",
            "702:\tlearn: 1.7964790\ttotal: 9.39s\tremaining: 3.97s\n",
            "703:\tlearn: 1.7939571\ttotal: 9.4s\tremaining: 3.95s\n",
            "704:\tlearn: 1.7908942\ttotal: 9.42s\tremaining: 3.94s\n",
            "705:\tlearn: 1.7874413\ttotal: 9.43s\tremaining: 3.93s\n",
            "706:\tlearn: 1.7847425\ttotal: 9.44s\tremaining: 3.91s\n",
            "707:\tlearn: 1.7832757\ttotal: 9.46s\tremaining: 3.9s\n",
            "708:\tlearn: 1.7811026\ttotal: 9.47s\tremaining: 3.88s\n",
            "709:\tlearn: 1.7793519\ttotal: 9.48s\tremaining: 3.87s\n",
            "710:\tlearn: 1.7767824\ttotal: 9.49s\tremaining: 3.86s\n",
            "711:\tlearn: 1.7750669\ttotal: 9.5s\tremaining: 3.84s\n",
            "712:\tlearn: 1.7734471\ttotal: 9.52s\tremaining: 3.83s\n",
            "713:\tlearn: 1.7709605\ttotal: 9.53s\tremaining: 3.82s\n",
            "714:\tlearn: 1.7683537\ttotal: 9.54s\tremaining: 3.8s\n",
            "715:\tlearn: 1.7663674\ttotal: 9.55s\tremaining: 3.79s\n",
            "716:\tlearn: 1.7646973\ttotal: 9.56s\tremaining: 3.77s\n",
            "717:\tlearn: 1.7626846\ttotal: 9.58s\tremaining: 3.76s\n",
            "718:\tlearn: 1.7598887\ttotal: 9.59s\tremaining: 3.75s\n",
            "719:\tlearn: 1.7574233\ttotal: 9.6s\tremaining: 3.73s\n",
            "720:\tlearn: 1.7560732\ttotal: 9.62s\tremaining: 3.72s\n",
            "721:\tlearn: 1.7542116\ttotal: 9.63s\tremaining: 3.71s\n",
            "722:\tlearn: 1.7519144\ttotal: 9.64s\tremaining: 3.69s\n",
            "723:\tlearn: 1.7494277\ttotal: 9.65s\tremaining: 3.68s\n",
            "724:\tlearn: 1.7472291\ttotal: 9.67s\tremaining: 3.67s\n",
            "725:\tlearn: 1.7454275\ttotal: 9.68s\tremaining: 3.65s\n",
            "726:\tlearn: 1.7435389\ttotal: 9.7s\tremaining: 3.64s\n",
            "727:\tlearn: 1.7417410\ttotal: 9.71s\tremaining: 3.63s\n",
            "728:\tlearn: 1.7399309\ttotal: 9.73s\tremaining: 3.62s\n",
            "729:\tlearn: 1.7375638\ttotal: 9.74s\tremaining: 3.6s\n",
            "730:\tlearn: 1.7350739\ttotal: 9.75s\tremaining: 3.59s\n",
            "731:\tlearn: 1.7321429\ttotal: 9.77s\tremaining: 3.58s\n",
            "732:\tlearn: 1.7301045\ttotal: 9.78s\tremaining: 3.56s\n",
            "733:\tlearn: 1.7281123\ttotal: 9.79s\tremaining: 3.55s\n",
            "734:\tlearn: 1.7262981\ttotal: 9.8s\tremaining: 3.53s\n",
            "735:\tlearn: 1.7247622\ttotal: 9.81s\tremaining: 3.52s\n",
            "736:\tlearn: 1.7226599\ttotal: 9.83s\tremaining: 3.51s\n",
            "737:\tlearn: 1.7208280\ttotal: 9.84s\tremaining: 3.49s\n",
            "738:\tlearn: 1.7193870\ttotal: 9.86s\tremaining: 3.48s\n",
            "739:\tlearn: 1.7167593\ttotal: 9.87s\tremaining: 3.47s\n",
            "740:\tlearn: 1.7142900\ttotal: 9.88s\tremaining: 3.45s\n",
            "741:\tlearn: 1.7118791\ttotal: 9.9s\tremaining: 3.44s\n",
            "742:\tlearn: 1.7107207\ttotal: 9.91s\tremaining: 3.43s\n",
            "743:\tlearn: 1.7091745\ttotal: 9.93s\tremaining: 3.42s\n",
            "744:\tlearn: 1.7073295\ttotal: 9.94s\tremaining: 3.4s\n",
            "745:\tlearn: 1.7057611\ttotal: 9.95s\tremaining: 3.39s\n",
            "746:\tlearn: 1.7043625\ttotal: 9.96s\tremaining: 3.38s\n",
            "747:\tlearn: 1.7017535\ttotal: 9.98s\tremaining: 3.36s\n",
            "748:\tlearn: 1.6990710\ttotal: 9.99s\tremaining: 3.35s\n",
            "749:\tlearn: 1.6970818\ttotal: 10s\tremaining: 3.33s\n",
            "750:\tlearn: 1.6951665\ttotal: 10s\tremaining: 3.32s\n",
            "751:\tlearn: 1.6935307\ttotal: 10s\tremaining: 3.31s\n",
            "752:\tlearn: 1.6909463\ttotal: 10s\tremaining: 3.29s\n",
            "753:\tlearn: 1.6887832\ttotal: 10.1s\tremaining: 3.28s\n",
            "754:\tlearn: 1.6856625\ttotal: 10.1s\tremaining: 3.27s\n",
            "755:\tlearn: 1.6837329\ttotal: 10.1s\tremaining: 3.25s\n",
            "756:\tlearn: 1.6815232\ttotal: 10.1s\tremaining: 3.24s\n",
            "757:\tlearn: 1.6804701\ttotal: 10.1s\tremaining: 3.23s\n",
            "758:\tlearn: 1.6780378\ttotal: 10.1s\tremaining: 3.21s\n",
            "759:\tlearn: 1.6761587\ttotal: 10.1s\tremaining: 3.2s\n",
            "760:\tlearn: 1.6736228\ttotal: 10.1s\tremaining: 3.19s\n",
            "761:\tlearn: 1.6720557\ttotal: 10.2s\tremaining: 3.17s\n",
            "762:\tlearn: 1.6690604\ttotal: 10.2s\tremaining: 3.16s\n",
            "763:\tlearn: 1.6676774\ttotal: 10.2s\tremaining: 3.15s\n",
            "764:\tlearn: 1.6655143\ttotal: 10.2s\tremaining: 3.13s\n",
            "765:\tlearn: 1.6629218\ttotal: 10.2s\tremaining: 3.12s\n",
            "766:\tlearn: 1.6617458\ttotal: 10.2s\tremaining: 3.11s\n",
            "767:\tlearn: 1.6597825\ttotal: 10.2s\tremaining: 3.09s\n",
            "768:\tlearn: 1.6586928\ttotal: 10.3s\tremaining: 3.08s\n",
            "769:\tlearn: 1.6566167\ttotal: 10.3s\tremaining: 3.07s\n",
            "770:\tlearn: 1.6538250\ttotal: 10.3s\tremaining: 3.05s\n",
            "771:\tlearn: 1.6516626\ttotal: 10.3s\tremaining: 3.04s\n",
            "772:\tlearn: 1.6486623\ttotal: 10.3s\tremaining: 3.03s\n",
            "773:\tlearn: 1.6469393\ttotal: 10.3s\tremaining: 3.01s\n",
            "774:\tlearn: 1.6458921\ttotal: 10.3s\tremaining: 3s\n",
            "775:\tlearn: 1.6440463\ttotal: 10.3s\tremaining: 2.99s\n",
            "776:\tlearn: 1.6415123\ttotal: 10.4s\tremaining: 2.97s\n",
            "777:\tlearn: 1.6372690\ttotal: 10.4s\tremaining: 2.96s\n",
            "778:\tlearn: 1.6340204\ttotal: 10.4s\tremaining: 2.94s\n",
            "779:\tlearn: 1.6315926\ttotal: 10.4s\tremaining: 2.93s\n",
            "780:\tlearn: 1.6301313\ttotal: 10.4s\tremaining: 2.92s\n",
            "781:\tlearn: 1.6281034\ttotal: 10.4s\tremaining: 2.9s\n",
            "782:\tlearn: 1.6253391\ttotal: 10.4s\tremaining: 2.89s\n",
            "783:\tlearn: 1.6225922\ttotal: 10.5s\tremaining: 2.88s\n",
            "784:\tlearn: 1.6207656\ttotal: 10.5s\tremaining: 2.87s\n",
            "785:\tlearn: 1.6195910\ttotal: 10.5s\tremaining: 2.85s\n",
            "786:\tlearn: 1.6182076\ttotal: 10.5s\tremaining: 2.84s\n",
            "787:\tlearn: 1.6171774\ttotal: 10.5s\tremaining: 2.83s\n",
            "788:\tlearn: 1.6153025\ttotal: 10.5s\tremaining: 2.81s\n",
            "789:\tlearn: 1.6124227\ttotal: 10.5s\tremaining: 2.8s\n",
            "790:\tlearn: 1.6096288\ttotal: 10.5s\tremaining: 2.79s\n",
            "791:\tlearn: 1.6081208\ttotal: 10.6s\tremaining: 2.77s\n",
            "792:\tlearn: 1.6063281\ttotal: 10.6s\tremaining: 2.76s\n",
            "793:\tlearn: 1.6031956\ttotal: 10.6s\tremaining: 2.75s\n",
            "794:\tlearn: 1.6015113\ttotal: 10.6s\tremaining: 2.73s\n",
            "795:\tlearn: 1.5980837\ttotal: 10.6s\tremaining: 2.72s\n",
            "796:\tlearn: 1.5958250\ttotal: 10.6s\tremaining: 2.71s\n",
            "797:\tlearn: 1.5931938\ttotal: 10.6s\tremaining: 2.69s\n",
            "798:\tlearn: 1.5923089\ttotal: 10.7s\tremaining: 2.68s\n",
            "799:\tlearn: 1.5895282\ttotal: 10.7s\tremaining: 2.67s\n",
            "800:\tlearn: 1.5875171\ttotal: 10.7s\tremaining: 2.65s\n",
            "801:\tlearn: 1.5864112\ttotal: 10.7s\tremaining: 2.64s\n",
            "802:\tlearn: 1.5856790\ttotal: 10.7s\tremaining: 2.63s\n",
            "803:\tlearn: 1.5819507\ttotal: 10.7s\tremaining: 2.61s\n",
            "804:\tlearn: 1.5802005\ttotal: 10.7s\tremaining: 2.6s\n",
            "805:\tlearn: 1.5778672\ttotal: 10.7s\tremaining: 2.59s\n",
            "806:\tlearn: 1.5756489\ttotal: 10.8s\tremaining: 2.57s\n",
            "807:\tlearn: 1.5733252\ttotal: 10.8s\tremaining: 2.56s\n",
            "808:\tlearn: 1.5715425\ttotal: 10.8s\tremaining: 2.55s\n",
            "809:\tlearn: 1.5702713\ttotal: 10.8s\tremaining: 2.53s\n",
            "810:\tlearn: 1.5690280\ttotal: 10.8s\tremaining: 2.52s\n",
            "811:\tlearn: 1.5661887\ttotal: 10.8s\tremaining: 2.5s\n",
            "812:\tlearn: 1.5643601\ttotal: 10.8s\tremaining: 2.49s\n",
            "813:\tlearn: 1.5629208\ttotal: 10.8s\tremaining: 2.48s\n",
            "814:\tlearn: 1.5615080\ttotal: 10.9s\tremaining: 2.46s\n",
            "815:\tlearn: 1.5591493\ttotal: 10.9s\tremaining: 2.45s\n",
            "816:\tlearn: 1.5563334\ttotal: 10.9s\tremaining: 2.44s\n",
            "817:\tlearn: 1.5550983\ttotal: 10.9s\tremaining: 2.43s\n",
            "818:\tlearn: 1.5531747\ttotal: 10.9s\tremaining: 2.41s\n",
            "819:\tlearn: 1.5512964\ttotal: 10.9s\tremaining: 2.4s\n",
            "820:\tlearn: 1.5498916\ttotal: 10.9s\tremaining: 2.39s\n",
            "821:\tlearn: 1.5487012\ttotal: 11s\tremaining: 2.37s\n",
            "822:\tlearn: 1.5464487\ttotal: 11s\tremaining: 2.36s\n",
            "823:\tlearn: 1.5454432\ttotal: 11s\tremaining: 2.35s\n",
            "824:\tlearn: 1.5432522\ttotal: 11s\tremaining: 2.33s\n",
            "825:\tlearn: 1.5403055\ttotal: 11s\tremaining: 2.32s\n",
            "826:\tlearn: 1.5383018\ttotal: 11s\tremaining: 2.31s\n",
            "827:\tlearn: 1.5359441\ttotal: 11s\tremaining: 2.29s\n",
            "828:\tlearn: 1.5335756\ttotal: 11s\tremaining: 2.28s\n",
            "829:\tlearn: 1.5318992\ttotal: 11.1s\tremaining: 2.27s\n",
            "830:\tlearn: 1.5300619\ttotal: 11.1s\tremaining: 2.25s\n",
            "831:\tlearn: 1.5276437\ttotal: 11.1s\tremaining: 2.24s\n",
            "832:\tlearn: 1.5263429\ttotal: 11.1s\tremaining: 2.23s\n",
            "833:\tlearn: 1.5236908\ttotal: 11.1s\tremaining: 2.21s\n",
            "834:\tlearn: 1.5219605\ttotal: 11.1s\tremaining: 2.2s\n",
            "835:\tlearn: 1.5196595\ttotal: 11.1s\tremaining: 2.19s\n",
            "836:\tlearn: 1.5169984\ttotal: 11.2s\tremaining: 2.17s\n",
            "837:\tlearn: 1.5139051\ttotal: 11.2s\tremaining: 2.16s\n",
            "838:\tlearn: 1.5113729\ttotal: 11.2s\tremaining: 2.15s\n",
            "839:\tlearn: 1.5093055\ttotal: 11.2s\tremaining: 2.13s\n",
            "840:\tlearn: 1.5077007\ttotal: 11.2s\tremaining: 2.12s\n",
            "841:\tlearn: 1.5054479\ttotal: 11.2s\tremaining: 2.1s\n",
            "842:\tlearn: 1.5040275\ttotal: 11.2s\tremaining: 2.09s\n",
            "843:\tlearn: 1.5026679\ttotal: 11.2s\tremaining: 2.08s\n",
            "844:\tlearn: 1.5013892\ttotal: 11.3s\tremaining: 2.06s\n",
            "845:\tlearn: 1.4990906\ttotal: 11.3s\tremaining: 2.05s\n",
            "846:\tlearn: 1.4978472\ttotal: 11.3s\tremaining: 2.04s\n",
            "847:\tlearn: 1.4960380\ttotal: 11.3s\tremaining: 2.02s\n",
            "848:\tlearn: 1.4926975\ttotal: 11.3s\tremaining: 2.01s\n",
            "849:\tlearn: 1.4909692\ttotal: 11.3s\tremaining: 2s\n",
            "850:\tlearn: 1.4890993\ttotal: 11.3s\tremaining: 1.98s\n",
            "851:\tlearn: 1.4868403\ttotal: 11.3s\tremaining: 1.97s\n",
            "852:\tlearn: 1.4846530\ttotal: 11.4s\tremaining: 1.96s\n",
            "853:\tlearn: 1.4835505\ttotal: 11.4s\tremaining: 1.95s\n",
            "854:\tlearn: 1.4812005\ttotal: 11.4s\tremaining: 1.93s\n",
            "855:\tlearn: 1.4783690\ttotal: 11.4s\tremaining: 1.92s\n",
            "856:\tlearn: 1.4758828\ttotal: 11.4s\tremaining: 1.91s\n",
            "857:\tlearn: 1.4736170\ttotal: 11.4s\tremaining: 1.89s\n",
            "858:\tlearn: 1.4716721\ttotal: 11.4s\tremaining: 1.88s\n",
            "859:\tlearn: 1.4705065\ttotal: 11.5s\tremaining: 1.86s\n",
            "860:\tlearn: 1.4680185\ttotal: 11.5s\tremaining: 1.85s\n",
            "861:\tlearn: 1.4668700\ttotal: 11.5s\tremaining: 1.84s\n",
            "862:\tlearn: 1.4645824\ttotal: 11.5s\tremaining: 1.82s\n",
            "863:\tlearn: 1.4630476\ttotal: 11.5s\tremaining: 1.81s\n",
            "864:\tlearn: 1.4620297\ttotal: 11.5s\tremaining: 1.8s\n",
            "865:\tlearn: 1.4598174\ttotal: 11.5s\tremaining: 1.78s\n",
            "866:\tlearn: 1.4584561\ttotal: 11.5s\tremaining: 1.77s\n",
            "867:\tlearn: 1.4560667\ttotal: 11.6s\tremaining: 1.76s\n",
            "868:\tlearn: 1.4544963\ttotal: 11.6s\tremaining: 1.74s\n",
            "869:\tlearn: 1.4520141\ttotal: 11.6s\tremaining: 1.73s\n",
            "870:\tlearn: 1.4510084\ttotal: 11.6s\tremaining: 1.72s\n",
            "871:\tlearn: 1.4493966\ttotal: 11.6s\tremaining: 1.7s\n",
            "872:\tlearn: 1.4482585\ttotal: 11.6s\tremaining: 1.69s\n",
            "873:\tlearn: 1.4459734\ttotal: 11.6s\tremaining: 1.68s\n",
            "874:\tlearn: 1.4437459\ttotal: 11.7s\tremaining: 1.67s\n",
            "875:\tlearn: 1.4426217\ttotal: 11.7s\tremaining: 1.65s\n",
            "876:\tlearn: 1.4409244\ttotal: 11.7s\tremaining: 1.64s\n",
            "877:\tlearn: 1.4389169\ttotal: 11.7s\tremaining: 1.63s\n",
            "878:\tlearn: 1.4371900\ttotal: 11.7s\tremaining: 1.61s\n",
            "879:\tlearn: 1.4352484\ttotal: 11.7s\tremaining: 1.6s\n",
            "880:\tlearn: 1.4329637\ttotal: 11.7s\tremaining: 1.59s\n",
            "881:\tlearn: 1.4312589\ttotal: 11.8s\tremaining: 1.57s\n",
            "882:\tlearn: 1.4291856\ttotal: 11.8s\tremaining: 1.56s\n",
            "883:\tlearn: 1.4268374\ttotal: 11.8s\tremaining: 1.54s\n",
            "884:\tlearn: 1.4254453\ttotal: 11.8s\tremaining: 1.53s\n",
            "885:\tlearn: 1.4243762\ttotal: 11.8s\tremaining: 1.52s\n",
            "886:\tlearn: 1.4223312\ttotal: 11.8s\tremaining: 1.5s\n",
            "887:\tlearn: 1.4213534\ttotal: 11.8s\tremaining: 1.49s\n",
            "888:\tlearn: 1.4193773\ttotal: 11.8s\tremaining: 1.48s\n",
            "889:\tlearn: 1.4175362\ttotal: 11.9s\tremaining: 1.47s\n",
            "890:\tlearn: 1.4155755\ttotal: 11.9s\tremaining: 1.45s\n",
            "891:\tlearn: 1.4140456\ttotal: 11.9s\tremaining: 1.44s\n",
            "892:\tlearn: 1.4109145\ttotal: 11.9s\tremaining: 1.43s\n",
            "893:\tlearn: 1.4088545\ttotal: 11.9s\tremaining: 1.41s\n",
            "894:\tlearn: 1.4075146\ttotal: 11.9s\tremaining: 1.4s\n",
            "895:\tlearn: 1.4058060\ttotal: 11.9s\tremaining: 1.39s\n",
            "896:\tlearn: 1.4043137\ttotal: 12s\tremaining: 1.37s\n",
            "897:\tlearn: 1.4033717\ttotal: 12s\tremaining: 1.36s\n",
            "898:\tlearn: 1.4014727\ttotal: 12s\tremaining: 1.35s\n",
            "899:\tlearn: 1.3998947\ttotal: 12s\tremaining: 1.33s\n",
            "900:\tlearn: 1.3972024\ttotal: 12s\tremaining: 1.32s\n",
            "901:\tlearn: 1.3953268\ttotal: 12s\tremaining: 1.31s\n",
            "902:\tlearn: 1.3940826\ttotal: 12s\tremaining: 1.29s\n",
            "903:\tlearn: 1.3911418\ttotal: 12.1s\tremaining: 1.28s\n",
            "904:\tlearn: 1.3888776\ttotal: 12.1s\tremaining: 1.27s\n",
            "905:\tlearn: 1.3880307\ttotal: 12.1s\tremaining: 1.25s\n",
            "906:\tlearn: 1.3867890\ttotal: 12.1s\tremaining: 1.24s\n",
            "907:\tlearn: 1.3846250\ttotal: 12.1s\tremaining: 1.23s\n",
            "908:\tlearn: 1.3830285\ttotal: 12.1s\tremaining: 1.21s\n",
            "909:\tlearn: 1.3815698\ttotal: 12.1s\tremaining: 1.2s\n",
            "910:\tlearn: 1.3799498\ttotal: 12.1s\tremaining: 1.19s\n",
            "911:\tlearn: 1.3785218\ttotal: 12.2s\tremaining: 1.17s\n",
            "912:\tlearn: 1.3761779\ttotal: 12.2s\tremaining: 1.16s\n",
            "913:\tlearn: 1.3739563\ttotal: 12.2s\tremaining: 1.15s\n",
            "914:\tlearn: 1.3713957\ttotal: 12.2s\tremaining: 1.13s\n",
            "915:\tlearn: 1.3684326\ttotal: 12.2s\tremaining: 1.12s\n",
            "916:\tlearn: 1.3673043\ttotal: 12.2s\tremaining: 1.11s\n",
            "917:\tlearn: 1.3658780\ttotal: 12.2s\tremaining: 1.09s\n",
            "918:\tlearn: 1.3644297\ttotal: 12.3s\tremaining: 1.08s\n",
            "919:\tlearn: 1.3628436\ttotal: 12.3s\tremaining: 1.07s\n",
            "920:\tlearn: 1.3613629\ttotal: 12.3s\tremaining: 1.05s\n",
            "921:\tlearn: 1.3589123\ttotal: 12.3s\tremaining: 1.04s\n",
            "922:\tlearn: 1.3582824\ttotal: 12.3s\tremaining: 1.03s\n",
            "923:\tlearn: 1.3564178\ttotal: 12.3s\tremaining: 1.01s\n",
            "924:\tlearn: 1.3539598\ttotal: 12.3s\tremaining: 1000ms\n",
            "925:\tlearn: 1.3527517\ttotal: 12.3s\tremaining: 987ms\n",
            "926:\tlearn: 1.3508141\ttotal: 12.4s\tremaining: 973ms\n",
            "927:\tlearn: 1.3488204\ttotal: 12.4s\tremaining: 960ms\n",
            "928:\tlearn: 1.3474922\ttotal: 12.4s\tremaining: 947ms\n",
            "929:\tlearn: 1.3458829\ttotal: 12.4s\tremaining: 933ms\n",
            "930:\tlearn: 1.3449888\ttotal: 12.4s\tremaining: 920ms\n",
            "931:\tlearn: 1.3436571\ttotal: 12.4s\tremaining: 907ms\n",
            "932:\tlearn: 1.3422331\ttotal: 12.4s\tremaining: 893ms\n",
            "933:\tlearn: 1.3408095\ttotal: 12.4s\tremaining: 880ms\n",
            "934:\tlearn: 1.3391784\ttotal: 12.5s\tremaining: 866ms\n",
            "935:\tlearn: 1.3375446\ttotal: 12.5s\tremaining: 853ms\n",
            "936:\tlearn: 1.3357795\ttotal: 12.5s\tremaining: 840ms\n",
            "937:\tlearn: 1.3342293\ttotal: 12.5s\tremaining: 826ms\n",
            "938:\tlearn: 1.3328395\ttotal: 12.5s\tremaining: 813ms\n",
            "939:\tlearn: 1.3312590\ttotal: 12.5s\tremaining: 800ms\n",
            "940:\tlearn: 1.3300517\ttotal: 12.5s\tremaining: 786ms\n",
            "941:\tlearn: 1.3288296\ttotal: 12.6s\tremaining: 773ms\n",
            "942:\tlearn: 1.3274703\ttotal: 12.6s\tremaining: 760ms\n",
            "943:\tlearn: 1.3257709\ttotal: 12.6s\tremaining: 746ms\n",
            "944:\tlearn: 1.3242531\ttotal: 12.6s\tremaining: 733ms\n",
            "945:\tlearn: 1.3235022\ttotal: 12.6s\tremaining: 720ms\n",
            "946:\tlearn: 1.3211056\ttotal: 12.6s\tremaining: 706ms\n",
            "947:\tlearn: 1.3196545\ttotal: 12.6s\tremaining: 693ms\n",
            "948:\tlearn: 1.3178044\ttotal: 12.6s\tremaining: 680ms\n",
            "949:\tlearn: 1.3155791\ttotal: 12.7s\tremaining: 666ms\n",
            "950:\tlearn: 1.3144204\ttotal: 12.7s\tremaining: 653ms\n",
            "951:\tlearn: 1.3124925\ttotal: 12.7s\tremaining: 640ms\n",
            "952:\tlearn: 1.3117899\ttotal: 12.7s\tremaining: 626ms\n",
            "953:\tlearn: 1.3102796\ttotal: 12.7s\tremaining: 613ms\n",
            "954:\tlearn: 1.3095456\ttotal: 12.7s\tremaining: 600ms\n",
            "955:\tlearn: 1.3078524\ttotal: 12.7s\tremaining: 587ms\n",
            "956:\tlearn: 1.3061623\ttotal: 12.8s\tremaining: 573ms\n",
            "957:\tlearn: 1.3049837\ttotal: 12.8s\tremaining: 560ms\n",
            "958:\tlearn: 1.3042762\ttotal: 12.8s\tremaining: 546ms\n",
            "959:\tlearn: 1.3036123\ttotal: 12.8s\tremaining: 533ms\n",
            "960:\tlearn: 1.3019337\ttotal: 12.8s\tremaining: 520ms\n",
            "961:\tlearn: 1.2998449\ttotal: 12.8s\tremaining: 506ms\n",
            "962:\tlearn: 1.2979529\ttotal: 12.8s\tremaining: 493ms\n",
            "963:\tlearn: 1.2963213\ttotal: 12.8s\tremaining: 480ms\n",
            "964:\tlearn: 1.2936534\ttotal: 12.9s\tremaining: 466ms\n",
            "965:\tlearn: 1.2931365\ttotal: 12.9s\tremaining: 453ms\n",
            "966:\tlearn: 1.2915248\ttotal: 12.9s\tremaining: 440ms\n",
            "967:\tlearn: 1.2899410\ttotal: 12.9s\tremaining: 427ms\n",
            "968:\tlearn: 1.2883915\ttotal: 12.9s\tremaining: 413ms\n",
            "969:\tlearn: 1.2871749\ttotal: 12.9s\tremaining: 400ms\n",
            "970:\tlearn: 1.2852992\ttotal: 12.9s\tremaining: 387ms\n",
            "971:\tlearn: 1.2839740\ttotal: 13s\tremaining: 373ms\n",
            "972:\tlearn: 1.2823375\ttotal: 13s\tremaining: 360ms\n",
            "973:\tlearn: 1.2799782\ttotal: 13s\tremaining: 347ms\n",
            "974:\tlearn: 1.2782284\ttotal: 13s\tremaining: 333ms\n",
            "975:\tlearn: 1.2763782\ttotal: 13s\tremaining: 320ms\n",
            "976:\tlearn: 1.2749579\ttotal: 13s\tremaining: 307ms\n",
            "977:\tlearn: 1.2741166\ttotal: 13s\tremaining: 293ms\n",
            "978:\tlearn: 1.2730595\ttotal: 13s\tremaining: 280ms\n",
            "979:\tlearn: 1.2710353\ttotal: 13.1s\tremaining: 267ms\n",
            "980:\tlearn: 1.2688039\ttotal: 13.1s\tremaining: 253ms\n",
            "981:\tlearn: 1.2669991\ttotal: 13.1s\tremaining: 240ms\n",
            "982:\tlearn: 1.2656425\ttotal: 13.1s\tremaining: 227ms\n",
            "983:\tlearn: 1.2639455\ttotal: 13.1s\tremaining: 213ms\n",
            "984:\tlearn: 1.2633551\ttotal: 13.1s\tremaining: 200ms\n",
            "985:\tlearn: 1.2610401\ttotal: 13.2s\tremaining: 187ms\n",
            "986:\tlearn: 1.2598189\ttotal: 13.2s\tremaining: 173ms\n",
            "987:\tlearn: 1.2584163\ttotal: 13.2s\tremaining: 160ms\n",
            "988:\tlearn: 1.2578161\ttotal: 13.2s\tremaining: 147ms\n",
            "989:\tlearn: 1.2561459\ttotal: 13.2s\tremaining: 133ms\n",
            "990:\tlearn: 1.2549352\ttotal: 13.2s\tremaining: 120ms\n",
            "991:\tlearn: 1.2528300\ttotal: 13.2s\tremaining: 107ms\n",
            "992:\tlearn: 1.2520587\ttotal: 13.2s\tremaining: 93.3ms\n",
            "993:\tlearn: 1.2504520\ttotal: 13.3s\tremaining: 80ms\n",
            "994:\tlearn: 1.2486071\ttotal: 13.3s\tremaining: 66.7ms\n",
            "995:\tlearn: 1.2465975\ttotal: 13.3s\tremaining: 53.3ms\n",
            "996:\tlearn: 1.2455928\ttotal: 13.3s\tremaining: 40ms\n",
            "997:\tlearn: 1.2444882\ttotal: 13.3s\tremaining: 26.7ms\n",
            "998:\tlearn: 1.2430776\ttotal: 13.3s\tremaining: 13.3ms\n",
            "999:\tlearn: 1.2415814\ttotal: 13.3s\tremaining: 0us\n",
            "Learning rate set to 0.046071\n",
            "0:\tlearn: 12.4438896\ttotal: 13.7ms\tremaining: 13.7s\n",
            "1:\tlearn: 12.0443392\ttotal: 27.1ms\tremaining: 13.5s\n",
            "2:\tlearn: 11.6490541\ttotal: 40ms\tremaining: 13.3s\n",
            "3:\tlearn: 11.2853145\ttotal: 53.3ms\tremaining: 13.3s\n",
            "4:\tlearn: 10.9392940\ttotal: 65.7ms\tremaining: 13.1s\n",
            "5:\tlearn: 10.6023381\ttotal: 78.2ms\tremaining: 13s\n",
            "6:\tlearn: 10.2889600\ttotal: 90.4ms\tremaining: 12.8s\n",
            "7:\tlearn: 10.0070072\ttotal: 103ms\tremaining: 12.7s\n",
            "8:\tlearn: 9.7542821\ttotal: 115ms\tremaining: 12.7s\n",
            "9:\tlearn: 9.4896468\ttotal: 132ms\tremaining: 13s\n",
            "10:\tlearn: 9.2371769\ttotal: 144ms\tremaining: 13s\n",
            "11:\tlearn: 8.9895868\ttotal: 157ms\tremaining: 12.9s\n",
            "12:\tlearn: 8.7540553\ttotal: 169ms\tremaining: 12.8s\n",
            "13:\tlearn: 8.5629079\ttotal: 182ms\tremaining: 12.8s\n",
            "14:\tlearn: 8.3590046\ttotal: 195ms\tremaining: 12.8s\n",
            "15:\tlearn: 8.1628247\ttotal: 212ms\tremaining: 13s\n",
            "16:\tlearn: 7.9717845\ttotal: 225ms\tremaining: 13s\n",
            "17:\tlearn: 7.8086651\ttotal: 238ms\tremaining: 13s\n",
            "18:\tlearn: 7.6461645\ttotal: 251ms\tremaining: 13s\n",
            "19:\tlearn: 7.4895791\ttotal: 265ms\tremaining: 13s\n",
            "20:\tlearn: 7.3454134\ttotal: 278ms\tremaining: 13s\n",
            "21:\tlearn: 7.2270242\ttotal: 291ms\tremaining: 12.9s\n",
            "22:\tlearn: 7.0982699\ttotal: 304ms\tremaining: 12.9s\n",
            "23:\tlearn: 6.9786041\ttotal: 316ms\tremaining: 12.9s\n",
            "24:\tlearn: 6.8683471\ttotal: 329ms\tremaining: 12.8s\n",
            "25:\tlearn: 6.7622137\ttotal: 341ms\tremaining: 12.8s\n",
            "26:\tlearn: 6.6705723\ttotal: 353ms\tremaining: 12.7s\n",
            "27:\tlearn: 6.5823166\ttotal: 366ms\tremaining: 12.7s\n",
            "28:\tlearn: 6.4867533\ttotal: 379ms\tremaining: 12.7s\n",
            "29:\tlearn: 6.4111672\ttotal: 396ms\tremaining: 12.8s\n",
            "30:\tlearn: 6.3314316\ttotal: 409ms\tremaining: 12.8s\n",
            "31:\tlearn: 6.2675432\ttotal: 429ms\tremaining: 13s\n",
            "32:\tlearn: 6.2000073\ttotal: 443ms\tremaining: 13s\n",
            "33:\tlearn: 6.1343120\ttotal: 456ms\tremaining: 13s\n",
            "34:\tlearn: 6.0640298\ttotal: 477ms\tremaining: 13.1s\n",
            "35:\tlearn: 6.0094664\ttotal: 490ms\tremaining: 13.1s\n",
            "36:\tlearn: 5.9480207\ttotal: 503ms\tremaining: 13.1s\n",
            "37:\tlearn: 5.9022069\ttotal: 516ms\tremaining: 13.1s\n",
            "38:\tlearn: 5.8531183\ttotal: 529ms\tremaining: 13s\n",
            "39:\tlearn: 5.8078250\ttotal: 543ms\tremaining: 13s\n",
            "40:\tlearn: 5.7654900\ttotal: 555ms\tremaining: 13s\n",
            "41:\tlearn: 5.7268743\ttotal: 567ms\tremaining: 12.9s\n",
            "42:\tlearn: 5.6899918\ttotal: 580ms\tremaining: 12.9s\n",
            "43:\tlearn: 5.6521536\ttotal: 592ms\tremaining: 12.9s\n",
            "44:\tlearn: 5.6193401\ttotal: 604ms\tremaining: 12.8s\n",
            "45:\tlearn: 5.5838756\ttotal: 617ms\tremaining: 12.8s\n",
            "46:\tlearn: 5.5512694\ttotal: 635ms\tremaining: 12.9s\n",
            "47:\tlearn: 5.5251974\ttotal: 649ms\tremaining: 12.9s\n",
            "48:\tlearn: 5.4932398\ttotal: 662ms\tremaining: 12.8s\n",
            "49:\tlearn: 5.4609639\ttotal: 675ms\tremaining: 12.8s\n",
            "50:\tlearn: 5.4419905\ttotal: 689ms\tremaining: 12.8s\n",
            "51:\tlearn: 5.4226558\ttotal: 702ms\tremaining: 12.8s\n",
            "52:\tlearn: 5.4009473\ttotal: 716ms\tremaining: 12.8s\n",
            "53:\tlearn: 5.3805851\ttotal: 729ms\tremaining: 12.8s\n",
            "54:\tlearn: 5.3580158\ttotal: 741ms\tremaining: 12.7s\n",
            "55:\tlearn: 5.3392708\ttotal: 753ms\tremaining: 12.7s\n",
            "56:\tlearn: 5.3193739\ttotal: 766ms\tremaining: 12.7s\n",
            "57:\tlearn: 5.3023277\ttotal: 778ms\tremaining: 12.6s\n",
            "58:\tlearn: 5.2814382\ttotal: 790ms\tremaining: 12.6s\n",
            "59:\tlearn: 5.2638177\ttotal: 802ms\tremaining: 12.6s\n",
            "60:\tlearn: 5.2468921\ttotal: 814ms\tremaining: 12.5s\n",
            "61:\tlearn: 5.2284829\ttotal: 827ms\tremaining: 12.5s\n",
            "62:\tlearn: 5.2180303\ttotal: 842ms\tremaining: 12.5s\n",
            "63:\tlearn: 5.2034075\ttotal: 854ms\tremaining: 12.5s\n",
            "64:\tlearn: 5.1882540\ttotal: 868ms\tremaining: 12.5s\n",
            "65:\tlearn: 5.1749424\ttotal: 881ms\tremaining: 12.5s\n",
            "66:\tlearn: 5.1578843\ttotal: 894ms\tremaining: 12.4s\n",
            "67:\tlearn: 5.1474596\ttotal: 907ms\tremaining: 12.4s\n",
            "68:\tlearn: 5.1392743\ttotal: 920ms\tremaining: 12.4s\n",
            "69:\tlearn: 5.1234597\ttotal: 934ms\tremaining: 12.4s\n",
            "70:\tlearn: 5.1104657\ttotal: 947ms\tremaining: 12.4s\n",
            "71:\tlearn: 5.0995156\ttotal: 960ms\tremaining: 12.4s\n",
            "72:\tlearn: 5.0878290\ttotal: 973ms\tremaining: 12.4s\n",
            "73:\tlearn: 5.0756050\ttotal: 985ms\tremaining: 12.3s\n",
            "74:\tlearn: 5.0667570\ttotal: 999ms\tremaining: 12.3s\n",
            "75:\tlearn: 5.0553947\ttotal: 1.01s\tremaining: 12.3s\n",
            "76:\tlearn: 5.0394332\ttotal: 1.02s\tremaining: 12.3s\n",
            "77:\tlearn: 5.0269675\ttotal: 1.03s\tremaining: 12.2s\n",
            "78:\tlearn: 5.0190347\ttotal: 1.05s\tremaining: 12.3s\n",
            "79:\tlearn: 5.0083320\ttotal: 1.06s\tremaining: 12.2s\n",
            "80:\tlearn: 4.9992841\ttotal: 1.08s\tremaining: 12.3s\n",
            "81:\tlearn: 4.9888811\ttotal: 1.1s\tremaining: 12.3s\n",
            "82:\tlearn: 4.9834062\ttotal: 1.11s\tremaining: 12.3s\n",
            "83:\tlearn: 4.9777174\ttotal: 1.13s\tremaining: 12.3s\n",
            "84:\tlearn: 4.9627576\ttotal: 1.14s\tremaining: 12.3s\n",
            "85:\tlearn: 4.9556427\ttotal: 1.15s\tremaining: 12.2s\n",
            "86:\tlearn: 4.9494509\ttotal: 1.16s\tremaining: 12.2s\n",
            "87:\tlearn: 4.9410010\ttotal: 1.18s\tremaining: 12.2s\n",
            "88:\tlearn: 4.9345618\ttotal: 1.19s\tremaining: 12.2s\n",
            "89:\tlearn: 4.9258991\ttotal: 1.2s\tremaining: 12.2s\n",
            "90:\tlearn: 4.9177632\ttotal: 1.22s\tremaining: 12.2s\n",
            "91:\tlearn: 4.9119663\ttotal: 1.23s\tremaining: 12.1s\n",
            "92:\tlearn: 4.9060242\ttotal: 1.24s\tremaining: 12.1s\n",
            "93:\tlearn: 4.8984181\ttotal: 1.26s\tremaining: 12.1s\n",
            "94:\tlearn: 4.8912984\ttotal: 1.27s\tremaining: 12.1s\n",
            "95:\tlearn: 4.8864413\ttotal: 1.28s\tremaining: 12.1s\n",
            "96:\tlearn: 4.8761176\ttotal: 1.3s\tremaining: 12.1s\n",
            "97:\tlearn: 4.8713170\ttotal: 1.31s\tremaining: 12s\n",
            "98:\tlearn: 4.8620420\ttotal: 1.32s\tremaining: 12s\n",
            "99:\tlearn: 4.8572585\ttotal: 1.33s\tremaining: 12s\n",
            "100:\tlearn: 4.8498237\ttotal: 1.34s\tremaining: 12s\n",
            "101:\tlearn: 4.8337214\ttotal: 1.36s\tremaining: 12s\n",
            "102:\tlearn: 4.8224982\ttotal: 1.37s\tremaining: 11.9s\n",
            "103:\tlearn: 4.8091034\ttotal: 1.38s\tremaining: 11.9s\n",
            "104:\tlearn: 4.8047354\ttotal: 1.4s\tremaining: 11.9s\n",
            "105:\tlearn: 4.7964561\ttotal: 1.41s\tremaining: 11.9s\n",
            "106:\tlearn: 4.7926724\ttotal: 1.42s\tremaining: 11.9s\n",
            "107:\tlearn: 4.7838031\ttotal: 1.44s\tremaining: 11.9s\n",
            "108:\tlearn: 4.7713991\ttotal: 1.45s\tremaining: 11.8s\n",
            "109:\tlearn: 4.7679963\ttotal: 1.47s\tremaining: 11.9s\n",
            "110:\tlearn: 4.7635412\ttotal: 1.49s\tremaining: 11.9s\n",
            "111:\tlearn: 4.7554257\ttotal: 1.5s\tremaining: 11.9s\n",
            "112:\tlearn: 4.7491941\ttotal: 1.51s\tremaining: 11.9s\n",
            "113:\tlearn: 4.7429345\ttotal: 1.53s\tremaining: 11.9s\n",
            "114:\tlearn: 4.7367456\ttotal: 1.54s\tremaining: 11.9s\n",
            "115:\tlearn: 4.7288796\ttotal: 1.55s\tremaining: 11.8s\n",
            "116:\tlearn: 4.7222570\ttotal: 1.56s\tremaining: 11.8s\n",
            "117:\tlearn: 4.7177604\ttotal: 1.58s\tremaining: 11.8s\n",
            "118:\tlearn: 4.7140081\ttotal: 1.59s\tremaining: 11.8s\n",
            "119:\tlearn: 4.7094346\ttotal: 1.6s\tremaining: 11.8s\n",
            "120:\tlearn: 4.7010463\ttotal: 1.62s\tremaining: 11.8s\n",
            "121:\tlearn: 4.6956132\ttotal: 1.63s\tremaining: 11.8s\n",
            "122:\tlearn: 4.6892384\ttotal: 1.65s\tremaining: 11.8s\n",
            "123:\tlearn: 4.6829797\ttotal: 1.66s\tremaining: 11.7s\n",
            "124:\tlearn: 4.6737456\ttotal: 1.68s\tremaining: 11.7s\n",
            "125:\tlearn: 4.6641609\ttotal: 1.69s\tremaining: 11.7s\n",
            "126:\tlearn: 4.6546468\ttotal: 1.7s\tremaining: 11.7s\n",
            "127:\tlearn: 4.6488246\ttotal: 1.71s\tremaining: 11.7s\n",
            "128:\tlearn: 4.6447732\ttotal: 1.73s\tremaining: 11.7s\n",
            "129:\tlearn: 4.6425094\ttotal: 1.74s\tremaining: 11.6s\n",
            "130:\tlearn: 4.6340395\ttotal: 1.75s\tremaining: 11.6s\n",
            "131:\tlearn: 4.6276625\ttotal: 1.76s\tremaining: 11.6s\n",
            "132:\tlearn: 4.6233247\ttotal: 1.78s\tremaining: 11.6s\n",
            "133:\tlearn: 4.6147796\ttotal: 1.79s\tremaining: 11.6s\n",
            "134:\tlearn: 4.6083978\ttotal: 1.8s\tremaining: 11.6s\n",
            "135:\tlearn: 4.6015933\ttotal: 1.81s\tremaining: 11.5s\n",
            "136:\tlearn: 4.5955365\ttotal: 1.83s\tremaining: 11.5s\n",
            "137:\tlearn: 4.5890156\ttotal: 1.84s\tremaining: 11.5s\n",
            "138:\tlearn: 4.5808293\ttotal: 1.85s\tremaining: 11.5s\n",
            "139:\tlearn: 4.5770840\ttotal: 1.86s\tremaining: 11.5s\n",
            "140:\tlearn: 4.5677755\ttotal: 1.88s\tremaining: 11.5s\n",
            "141:\tlearn: 4.5639760\ttotal: 1.89s\tremaining: 11.4s\n",
            "142:\tlearn: 4.5575961\ttotal: 1.91s\tremaining: 11.4s\n",
            "143:\tlearn: 4.5531616\ttotal: 1.92s\tremaining: 11.4s\n",
            "144:\tlearn: 4.5462236\ttotal: 1.93s\tremaining: 11.4s\n",
            "145:\tlearn: 4.5378361\ttotal: 1.95s\tremaining: 11.4s\n",
            "146:\tlearn: 4.5323671\ttotal: 1.96s\tremaining: 11.4s\n",
            "147:\tlearn: 4.5264686\ttotal: 1.97s\tremaining: 11.4s\n",
            "148:\tlearn: 4.5182469\ttotal: 1.99s\tremaining: 11.4s\n",
            "149:\tlearn: 4.5098748\ttotal: 2.01s\tremaining: 11.4s\n",
            "150:\tlearn: 4.5014699\ttotal: 2.02s\tremaining: 11.4s\n",
            "151:\tlearn: 4.4934674\ttotal: 2.03s\tremaining: 11.3s\n",
            "152:\tlearn: 4.4885533\ttotal: 2.05s\tremaining: 11.3s\n",
            "153:\tlearn: 4.4784726\ttotal: 2.06s\tremaining: 11.3s\n",
            "154:\tlearn: 4.4715354\ttotal: 2.07s\tremaining: 11.3s\n",
            "155:\tlearn: 4.4666538\ttotal: 2.09s\tremaining: 11.3s\n",
            "156:\tlearn: 4.4560650\ttotal: 2.1s\tremaining: 11.3s\n",
            "157:\tlearn: 4.4493303\ttotal: 2.11s\tremaining: 11.3s\n",
            "158:\tlearn: 4.4431903\ttotal: 2.13s\tremaining: 11.2s\n",
            "159:\tlearn: 4.4346165\ttotal: 2.14s\tremaining: 11.2s\n",
            "160:\tlearn: 4.4292469\ttotal: 2.15s\tremaining: 11.2s\n",
            "161:\tlearn: 4.4247099\ttotal: 2.16s\tremaining: 11.2s\n",
            "162:\tlearn: 4.4199436\ttotal: 2.18s\tremaining: 11.2s\n",
            "163:\tlearn: 4.4088138\ttotal: 2.19s\tremaining: 11.2s\n",
            "164:\tlearn: 4.4027897\ttotal: 2.2s\tremaining: 11.1s\n",
            "165:\tlearn: 4.3962860\ttotal: 2.21s\tremaining: 11.1s\n",
            "166:\tlearn: 4.3910979\ttotal: 2.23s\tremaining: 11.1s\n",
            "167:\tlearn: 4.3871968\ttotal: 2.24s\tremaining: 11.1s\n",
            "168:\tlearn: 4.3836805\ttotal: 2.25s\tremaining: 11.1s\n",
            "169:\tlearn: 4.3795548\ttotal: 2.27s\tremaining: 11.1s\n",
            "170:\tlearn: 4.3708317\ttotal: 2.28s\tremaining: 11s\n",
            "171:\tlearn: 4.3623622\ttotal: 2.29s\tremaining: 11s\n",
            "172:\tlearn: 4.3521778\ttotal: 2.31s\tremaining: 11s\n",
            "173:\tlearn: 4.3482526\ttotal: 2.32s\tremaining: 11s\n",
            "174:\tlearn: 4.3441655\ttotal: 2.33s\tremaining: 11s\n",
            "175:\tlearn: 4.3390681\ttotal: 2.34s\tremaining: 11s\n",
            "176:\tlearn: 4.3307816\ttotal: 2.35s\tremaining: 11s\n",
            "177:\tlearn: 4.3220180\ttotal: 2.37s\tremaining: 10.9s\n",
            "178:\tlearn: 4.3120306\ttotal: 2.38s\tremaining: 10.9s\n",
            "179:\tlearn: 4.3013294\ttotal: 2.39s\tremaining: 10.9s\n",
            "180:\tlearn: 4.2890550\ttotal: 2.4s\tremaining: 10.9s\n",
            "181:\tlearn: 4.2844072\ttotal: 2.42s\tremaining: 10.9s\n",
            "182:\tlearn: 4.2829685\ttotal: 2.43s\tremaining: 10.8s\n",
            "183:\tlearn: 4.2752031\ttotal: 2.44s\tremaining: 10.8s\n",
            "184:\tlearn: 4.2648780\ttotal: 2.46s\tremaining: 10.8s\n",
            "185:\tlearn: 4.2562814\ttotal: 2.47s\tremaining: 10.8s\n",
            "186:\tlearn: 4.2459507\ttotal: 2.49s\tremaining: 10.8s\n",
            "187:\tlearn: 4.2409222\ttotal: 2.5s\tremaining: 10.8s\n",
            "188:\tlearn: 4.2299527\ttotal: 2.51s\tremaining: 10.8s\n",
            "189:\tlearn: 4.2211209\ttotal: 2.53s\tremaining: 10.8s\n",
            "190:\tlearn: 4.2104039\ttotal: 2.54s\tremaining: 10.8s\n",
            "191:\tlearn: 4.2041391\ttotal: 2.55s\tremaining: 10.7s\n",
            "192:\tlearn: 4.1945270\ttotal: 2.56s\tremaining: 10.7s\n",
            "193:\tlearn: 4.1878878\ttotal: 2.58s\tremaining: 10.7s\n",
            "194:\tlearn: 4.1772376\ttotal: 2.59s\tremaining: 10.7s\n",
            "195:\tlearn: 4.1666455\ttotal: 2.6s\tremaining: 10.7s\n",
            "196:\tlearn: 4.1583141\ttotal: 2.62s\tremaining: 10.7s\n",
            "197:\tlearn: 4.1498969\ttotal: 2.63s\tremaining: 10.6s\n",
            "198:\tlearn: 4.1418173\ttotal: 2.64s\tremaining: 10.6s\n",
            "199:\tlearn: 4.1379035\ttotal: 2.65s\tremaining: 10.6s\n",
            "200:\tlearn: 4.1335600\ttotal: 2.67s\tremaining: 10.6s\n",
            "201:\tlearn: 4.1269437\ttotal: 2.68s\tremaining: 10.6s\n",
            "202:\tlearn: 4.1184631\ttotal: 2.69s\tremaining: 10.6s\n",
            "203:\tlearn: 4.1099514\ttotal: 2.71s\tremaining: 10.6s\n",
            "204:\tlearn: 4.1020210\ttotal: 2.72s\tremaining: 10.6s\n",
            "205:\tlearn: 4.0921492\ttotal: 2.73s\tremaining: 10.5s\n",
            "206:\tlearn: 4.0817824\ttotal: 2.75s\tremaining: 10.5s\n",
            "207:\tlearn: 4.0741068\ttotal: 2.76s\tremaining: 10.5s\n",
            "208:\tlearn: 4.0654555\ttotal: 2.77s\tremaining: 10.5s\n",
            "209:\tlearn: 4.0579645\ttotal: 2.79s\tremaining: 10.5s\n",
            "210:\tlearn: 4.0473783\ttotal: 2.8s\tremaining: 10.5s\n",
            "211:\tlearn: 4.0409179\ttotal: 2.81s\tremaining: 10.4s\n",
            "212:\tlearn: 4.0333853\ttotal: 2.82s\tremaining: 10.4s\n",
            "213:\tlearn: 4.0244151\ttotal: 2.84s\tremaining: 10.4s\n",
            "214:\tlearn: 4.0175013\ttotal: 2.85s\tremaining: 10.4s\n",
            "215:\tlearn: 4.0132466\ttotal: 2.86s\tremaining: 10.4s\n",
            "216:\tlearn: 4.0086364\ttotal: 2.88s\tremaining: 10.4s\n",
            "217:\tlearn: 3.9995889\ttotal: 2.89s\tremaining: 10.4s\n",
            "218:\tlearn: 3.9924394\ttotal: 2.9s\tremaining: 10.4s\n",
            "219:\tlearn: 3.9882066\ttotal: 2.92s\tremaining: 10.4s\n",
            "220:\tlearn: 3.9832494\ttotal: 2.93s\tremaining: 10.3s\n",
            "221:\tlearn: 3.9775814\ttotal: 2.95s\tremaining: 10.3s\n",
            "222:\tlearn: 3.9675615\ttotal: 2.96s\tremaining: 10.3s\n",
            "223:\tlearn: 3.9587006\ttotal: 2.97s\tremaining: 10.3s\n",
            "224:\tlearn: 3.9536538\ttotal: 2.99s\tremaining: 10.3s\n",
            "225:\tlearn: 3.9461660\ttotal: 3s\tremaining: 10.3s\n",
            "226:\tlearn: 3.9403126\ttotal: 3.01s\tremaining: 10.3s\n",
            "227:\tlearn: 3.9354777\ttotal: 3.02s\tremaining: 10.2s\n",
            "228:\tlearn: 3.9270124\ttotal: 3.04s\tremaining: 10.2s\n",
            "229:\tlearn: 3.9186710\ttotal: 3.05s\tremaining: 10.2s\n",
            "230:\tlearn: 3.9108744\ttotal: 3.06s\tremaining: 10.2s\n",
            "231:\tlearn: 3.9053063\ttotal: 3.08s\tremaining: 10.2s\n",
            "232:\tlearn: 3.8968486\ttotal: 3.09s\tremaining: 10.2s\n",
            "233:\tlearn: 3.8911905\ttotal: 3.1s\tremaining: 10.2s\n",
            "234:\tlearn: 3.8843256\ttotal: 3.12s\tremaining: 10.1s\n",
            "235:\tlearn: 3.8770395\ttotal: 3.13s\tremaining: 10.2s\n",
            "236:\tlearn: 3.8714127\ttotal: 3.15s\tremaining: 10.1s\n",
            "237:\tlearn: 3.8659504\ttotal: 3.16s\tremaining: 10.1s\n",
            "238:\tlearn: 3.8597395\ttotal: 3.18s\tremaining: 10.1s\n",
            "239:\tlearn: 3.8542915\ttotal: 3.19s\tremaining: 10.1s\n",
            "240:\tlearn: 3.8471387\ttotal: 3.2s\tremaining: 10.1s\n",
            "241:\tlearn: 3.8408567\ttotal: 3.22s\tremaining: 10.1s\n",
            "242:\tlearn: 3.8325858\ttotal: 3.23s\tremaining: 10.1s\n",
            "243:\tlearn: 3.8259843\ttotal: 3.24s\tremaining: 10s\n",
            "244:\tlearn: 3.8187349\ttotal: 3.25s\tremaining: 10s\n",
            "245:\tlearn: 3.8131750\ttotal: 3.27s\tremaining: 10s\n",
            "246:\tlearn: 3.8069754\ttotal: 3.28s\tremaining: 10s\n",
            "247:\tlearn: 3.7955982\ttotal: 3.29s\tremaining: 9.98s\n",
            "248:\tlearn: 3.7906132\ttotal: 3.3s\tremaining: 9.96s\n",
            "249:\tlearn: 3.7805312\ttotal: 3.32s\tremaining: 9.95s\n",
            "250:\tlearn: 3.7717387\ttotal: 3.33s\tremaining: 9.94s\n",
            "251:\tlearn: 3.7638256\ttotal: 3.35s\tremaining: 9.94s\n",
            "252:\tlearn: 3.7556625\ttotal: 3.36s\tremaining: 9.92s\n",
            "253:\tlearn: 3.7465466\ttotal: 3.37s\tremaining: 9.91s\n",
            "254:\tlearn: 3.7400273\ttotal: 3.39s\tremaining: 9.89s\n",
            "255:\tlearn: 3.7320250\ttotal: 3.4s\tremaining: 9.88s\n",
            "256:\tlearn: 3.7242252\ttotal: 3.41s\tremaining: 9.87s\n",
            "257:\tlearn: 3.7199440\ttotal: 3.42s\tremaining: 9.85s\n",
            "258:\tlearn: 3.7134644\ttotal: 3.44s\tremaining: 9.84s\n",
            "259:\tlearn: 3.7066955\ttotal: 3.45s\tremaining: 9.83s\n",
            "260:\tlearn: 3.6987783\ttotal: 3.47s\tremaining: 9.83s\n",
            "261:\tlearn: 3.6911252\ttotal: 3.48s\tremaining: 9.81s\n",
            "262:\tlearn: 3.6856660\ttotal: 3.5s\tremaining: 9.8s\n",
            "263:\tlearn: 3.6788306\ttotal: 3.51s\tremaining: 9.79s\n",
            "264:\tlearn: 3.6707163\ttotal: 3.52s\tremaining: 9.77s\n",
            "265:\tlearn: 3.6629709\ttotal: 3.53s\tremaining: 9.75s\n",
            "266:\tlearn: 3.6564183\ttotal: 3.55s\tremaining: 9.74s\n",
            "267:\tlearn: 3.6521329\ttotal: 3.56s\tremaining: 9.73s\n",
            "268:\tlearn: 3.6481989\ttotal: 3.58s\tremaining: 9.72s\n",
            "269:\tlearn: 3.6409334\ttotal: 3.59s\tremaining: 9.71s\n",
            "270:\tlearn: 3.6336719\ttotal: 3.6s\tremaining: 9.69s\n",
            "271:\tlearn: 3.6301529\ttotal: 3.62s\tremaining: 9.68s\n",
            "272:\tlearn: 3.6225087\ttotal: 3.63s\tremaining: 9.67s\n",
            "273:\tlearn: 3.6144702\ttotal: 3.64s\tremaining: 9.65s\n",
            "274:\tlearn: 3.6065355\ttotal: 3.66s\tremaining: 9.64s\n",
            "275:\tlearn: 3.5992022\ttotal: 3.67s\tremaining: 9.63s\n",
            "276:\tlearn: 3.5908966\ttotal: 3.68s\tremaining: 9.62s\n",
            "277:\tlearn: 3.5819116\ttotal: 3.7s\tremaining: 9.61s\n",
            "278:\tlearn: 3.5757812\ttotal: 3.71s\tremaining: 9.59s\n",
            "279:\tlearn: 3.5694114\ttotal: 3.73s\tremaining: 9.58s\n",
            "280:\tlearn: 3.5594467\ttotal: 3.74s\tremaining: 9.57s\n",
            "281:\tlearn: 3.5506372\ttotal: 3.75s\tremaining: 9.56s\n",
            "282:\tlearn: 3.5470132\ttotal: 3.77s\tremaining: 9.54s\n",
            "283:\tlearn: 3.5395339\ttotal: 3.78s\tremaining: 9.53s\n",
            "284:\tlearn: 3.5346711\ttotal: 3.79s\tremaining: 9.51s\n",
            "285:\tlearn: 3.5288992\ttotal: 3.8s\tremaining: 9.5s\n",
            "286:\tlearn: 3.5242211\ttotal: 3.82s\tremaining: 9.48s\n",
            "287:\tlearn: 3.5173699\ttotal: 3.83s\tremaining: 9.47s\n",
            "288:\tlearn: 3.5112377\ttotal: 3.84s\tremaining: 9.46s\n",
            "289:\tlearn: 3.5079389\ttotal: 3.86s\tremaining: 9.44s\n",
            "290:\tlearn: 3.5007207\ttotal: 3.87s\tremaining: 9.43s\n",
            "291:\tlearn: 3.4942710\ttotal: 3.88s\tremaining: 9.42s\n",
            "292:\tlearn: 3.4881453\ttotal: 3.9s\tremaining: 9.41s\n",
            "293:\tlearn: 3.4813147\ttotal: 3.91s\tremaining: 9.39s\n",
            "294:\tlearn: 3.4750335\ttotal: 3.92s\tremaining: 9.38s\n",
            "295:\tlearn: 3.4677442\ttotal: 3.94s\tremaining: 9.37s\n",
            "296:\tlearn: 3.4618271\ttotal: 3.95s\tremaining: 9.35s\n",
            "297:\tlearn: 3.4544263\ttotal: 3.97s\tremaining: 9.35s\n",
            "298:\tlearn: 3.4496236\ttotal: 3.98s\tremaining: 9.33s\n",
            "299:\tlearn: 3.4440059\ttotal: 3.99s\tremaining: 9.32s\n",
            "300:\tlearn: 3.4374671\ttotal: 4s\tremaining: 9.3s\n",
            "301:\tlearn: 3.4319515\ttotal: 4.02s\tremaining: 9.29s\n",
            "302:\tlearn: 3.4263176\ttotal: 4.03s\tremaining: 9.27s\n",
            "303:\tlearn: 3.4207230\ttotal: 4.04s\tremaining: 9.26s\n",
            "304:\tlearn: 3.4165037\ttotal: 4.06s\tremaining: 9.24s\n",
            "305:\tlearn: 3.4085344\ttotal: 4.07s\tremaining: 9.23s\n",
            "306:\tlearn: 3.4032699\ttotal: 4.08s\tremaining: 9.22s\n",
            "307:\tlearn: 3.3987588\ttotal: 4.09s\tremaining: 9.2s\n",
            "308:\tlearn: 3.3935308\ttotal: 4.11s\tremaining: 9.19s\n",
            "309:\tlearn: 3.3901467\ttotal: 4.12s\tremaining: 9.18s\n",
            "310:\tlearn: 3.3848068\ttotal: 4.14s\tremaining: 9.16s\n",
            "311:\tlearn: 3.3773495\ttotal: 4.15s\tremaining: 9.15s\n",
            "312:\tlearn: 3.3700322\ttotal: 4.16s\tremaining: 9.14s\n",
            "313:\tlearn: 3.3643983\ttotal: 4.18s\tremaining: 9.14s\n",
            "314:\tlearn: 3.3602871\ttotal: 4.2s\tremaining: 9.13s\n",
            "315:\tlearn: 3.3528938\ttotal: 4.21s\tremaining: 9.11s\n",
            "316:\tlearn: 3.3465256\ttotal: 4.22s\tremaining: 9.1s\n",
            "317:\tlearn: 3.3409835\ttotal: 4.23s\tremaining: 9.08s\n",
            "318:\tlearn: 3.3352247\ttotal: 4.25s\tremaining: 9.07s\n",
            "319:\tlearn: 3.3289293\ttotal: 4.26s\tremaining: 9.05s\n",
            "320:\tlearn: 3.3207319\ttotal: 4.27s\tremaining: 9.04s\n",
            "321:\tlearn: 3.3154185\ttotal: 4.29s\tremaining: 9.02s\n",
            "322:\tlearn: 3.3104351\ttotal: 4.3s\tremaining: 9.01s\n",
            "323:\tlearn: 3.3042207\ttotal: 4.31s\tremaining: 9s\n",
            "324:\tlearn: 3.2992716\ttotal: 4.33s\tremaining: 8.98s\n",
            "325:\tlearn: 3.2954287\ttotal: 4.34s\tremaining: 8.97s\n",
            "326:\tlearn: 3.2889886\ttotal: 4.35s\tremaining: 8.96s\n",
            "327:\tlearn: 3.2822772\ttotal: 4.37s\tremaining: 8.94s\n",
            "328:\tlearn: 3.2780807\ttotal: 4.38s\tremaining: 8.93s\n",
            "329:\tlearn: 3.2715520\ttotal: 4.39s\tremaining: 8.92s\n",
            "330:\tlearn: 3.2661312\ttotal: 4.41s\tremaining: 8.91s\n",
            "331:\tlearn: 3.2610537\ttotal: 4.42s\tremaining: 8.89s\n",
            "332:\tlearn: 3.2560514\ttotal: 4.43s\tremaining: 8.88s\n",
            "333:\tlearn: 3.2505997\ttotal: 4.45s\tremaining: 8.87s\n",
            "334:\tlearn: 3.2448195\ttotal: 4.46s\tremaining: 8.86s\n",
            "335:\tlearn: 3.2378798\ttotal: 4.48s\tremaining: 8.85s\n",
            "336:\tlearn: 3.2329846\ttotal: 4.49s\tremaining: 8.83s\n",
            "337:\tlearn: 3.2282724\ttotal: 4.5s\tremaining: 8.82s\n",
            "338:\tlearn: 3.2235947\ttotal: 4.51s\tremaining: 8.8s\n",
            "339:\tlearn: 3.2187739\ttotal: 4.53s\tremaining: 8.79s\n",
            "340:\tlearn: 3.2142406\ttotal: 4.54s\tremaining: 8.77s\n",
            "341:\tlearn: 3.2071940\ttotal: 4.55s\tremaining: 8.76s\n",
            "342:\tlearn: 3.1992739\ttotal: 4.57s\tremaining: 8.75s\n",
            "343:\tlearn: 3.1926287\ttotal: 4.58s\tremaining: 8.73s\n",
            "344:\tlearn: 3.1858214\ttotal: 4.6s\tremaining: 8.73s\n",
            "345:\tlearn: 3.1803648\ttotal: 4.61s\tremaining: 8.72s\n",
            "346:\tlearn: 3.1778701\ttotal: 4.63s\tremaining: 8.71s\n",
            "347:\tlearn: 3.1742153\ttotal: 4.64s\tremaining: 8.7s\n",
            "348:\tlearn: 3.1700936\ttotal: 4.66s\tremaining: 8.69s\n",
            "349:\tlearn: 3.1649404\ttotal: 4.67s\tremaining: 8.68s\n",
            "350:\tlearn: 3.1576674\ttotal: 4.69s\tremaining: 8.66s\n",
            "351:\tlearn: 3.1520328\ttotal: 4.7s\tremaining: 8.65s\n",
            "352:\tlearn: 3.1477693\ttotal: 4.71s\tremaining: 8.64s\n",
            "353:\tlearn: 3.1407855\ttotal: 4.72s\tremaining: 8.62s\n",
            "354:\tlearn: 3.1350190\ttotal: 4.74s\tremaining: 8.61s\n",
            "355:\tlearn: 3.1299014\ttotal: 4.75s\tremaining: 8.59s\n",
            "356:\tlearn: 3.1256602\ttotal: 4.76s\tremaining: 8.58s\n",
            "357:\tlearn: 3.1193746\ttotal: 4.77s\tremaining: 8.56s\n",
            "358:\tlearn: 3.1130048\ttotal: 4.79s\tremaining: 8.55s\n",
            "359:\tlearn: 3.1070033\ttotal: 4.8s\tremaining: 8.54s\n",
            "360:\tlearn: 3.1028202\ttotal: 4.82s\tremaining: 8.53s\n",
            "361:\tlearn: 3.0989485\ttotal: 4.83s\tremaining: 8.51s\n",
            "362:\tlearn: 3.0935978\ttotal: 4.84s\tremaining: 8.5s\n",
            "363:\tlearn: 3.0880283\ttotal: 4.86s\tremaining: 8.48s\n",
            "364:\tlearn: 3.0823440\ttotal: 4.87s\tremaining: 8.47s\n",
            "365:\tlearn: 3.0764452\ttotal: 4.88s\tremaining: 8.46s\n",
            "366:\tlearn: 3.0693911\ttotal: 4.9s\tremaining: 8.45s\n",
            "367:\tlearn: 3.0643122\ttotal: 4.91s\tremaining: 8.43s\n",
            "368:\tlearn: 3.0597911\ttotal: 4.92s\tremaining: 8.42s\n",
            "369:\tlearn: 3.0563140\ttotal: 4.94s\tremaining: 8.4s\n",
            "370:\tlearn: 3.0518724\ttotal: 4.95s\tremaining: 8.39s\n",
            "371:\tlearn: 3.0472274\ttotal: 4.96s\tremaining: 8.38s\n",
            "372:\tlearn: 3.0412630\ttotal: 4.97s\tremaining: 8.36s\n",
            "373:\tlearn: 3.0381550\ttotal: 4.99s\tremaining: 8.35s\n",
            "374:\tlearn: 3.0323737\ttotal: 5s\tremaining: 8.33s\n",
            "375:\tlearn: 3.0273054\ttotal: 5.01s\tremaining: 8.32s\n",
            "376:\tlearn: 3.0241352\ttotal: 5.03s\tremaining: 8.3s\n",
            "377:\tlearn: 3.0193126\ttotal: 5.04s\tremaining: 8.29s\n",
            "378:\tlearn: 3.0126401\ttotal: 5.05s\tremaining: 8.28s\n",
            "379:\tlearn: 3.0067242\ttotal: 5.07s\tremaining: 8.26s\n",
            "380:\tlearn: 3.0020131\ttotal: 5.08s\tremaining: 8.25s\n",
            "381:\tlearn: 2.9960612\ttotal: 5.09s\tremaining: 8.24s\n",
            "382:\tlearn: 2.9911013\ttotal: 5.11s\tremaining: 8.23s\n",
            "383:\tlearn: 2.9867242\ttotal: 5.12s\tremaining: 8.21s\n",
            "384:\tlearn: 2.9807311\ttotal: 5.13s\tremaining: 8.2s\n",
            "385:\tlearn: 2.9766687\ttotal: 5.15s\tremaining: 8.19s\n",
            "386:\tlearn: 2.9731458\ttotal: 5.16s\tremaining: 8.17s\n",
            "387:\tlearn: 2.9677010\ttotal: 5.17s\tremaining: 8.16s\n",
            "388:\tlearn: 2.9635028\ttotal: 5.19s\tremaining: 8.15s\n",
            "389:\tlearn: 2.9586887\ttotal: 5.2s\tremaining: 8.14s\n",
            "390:\tlearn: 2.9515840\ttotal: 5.21s\tremaining: 8.12s\n",
            "391:\tlearn: 2.9461599\ttotal: 5.23s\tremaining: 8.11s\n",
            "392:\tlearn: 2.9424753\ttotal: 5.24s\tremaining: 8.09s\n",
            "393:\tlearn: 2.9387836\ttotal: 5.25s\tremaining: 8.08s\n",
            "394:\tlearn: 2.9324736\ttotal: 5.26s\tremaining: 8.06s\n",
            "395:\tlearn: 2.9277052\ttotal: 5.28s\tremaining: 8.05s\n",
            "396:\tlearn: 2.9229227\ttotal: 5.29s\tremaining: 8.04s\n",
            "397:\tlearn: 2.9184157\ttotal: 5.3s\tremaining: 8.03s\n",
            "398:\tlearn: 2.9105034\ttotal: 5.32s\tremaining: 8.01s\n",
            "399:\tlearn: 2.9065578\ttotal: 5.33s\tremaining: 8s\n",
            "400:\tlearn: 2.9002435\ttotal: 5.34s\tremaining: 7.98s\n",
            "401:\tlearn: 2.8943435\ttotal: 5.36s\tremaining: 7.97s\n",
            "402:\tlearn: 2.8903803\ttotal: 5.37s\tremaining: 7.95s\n",
            "403:\tlearn: 2.8857564\ttotal: 5.38s\tremaining: 7.94s\n",
            "404:\tlearn: 2.8813954\ttotal: 5.39s\tremaining: 7.93s\n",
            "405:\tlearn: 2.8771343\ttotal: 5.41s\tremaining: 7.92s\n",
            "406:\tlearn: 2.8725837\ttotal: 5.42s\tremaining: 7.9s\n",
            "407:\tlearn: 2.8682175\ttotal: 5.43s\tremaining: 7.89s\n",
            "408:\tlearn: 2.8636028\ttotal: 5.45s\tremaining: 7.88s\n",
            "409:\tlearn: 2.8597977\ttotal: 5.47s\tremaining: 7.87s\n",
            "410:\tlearn: 2.8570641\ttotal: 5.49s\tremaining: 7.86s\n",
            "411:\tlearn: 2.8528382\ttotal: 5.5s\tremaining: 7.86s\n",
            "412:\tlearn: 2.8489966\ttotal: 5.53s\tremaining: 7.86s\n",
            "413:\tlearn: 2.8438856\ttotal: 5.54s\tremaining: 7.85s\n",
            "414:\tlearn: 2.8383994\ttotal: 5.56s\tremaining: 7.83s\n",
            "415:\tlearn: 2.8331337\ttotal: 5.57s\tremaining: 7.82s\n",
            "416:\tlearn: 2.8283967\ttotal: 5.58s\tremaining: 7.8s\n",
            "417:\tlearn: 2.8246224\ttotal: 5.59s\tremaining: 7.79s\n",
            "418:\tlearn: 2.8216622\ttotal: 5.61s\tremaining: 7.78s\n",
            "419:\tlearn: 2.8191950\ttotal: 5.62s\tremaining: 7.77s\n",
            "420:\tlearn: 2.8140605\ttotal: 5.64s\tremaining: 7.75s\n",
            "421:\tlearn: 2.8077587\ttotal: 5.65s\tremaining: 7.74s\n",
            "422:\tlearn: 2.8031884\ttotal: 5.66s\tremaining: 7.72s\n",
            "423:\tlearn: 2.7998814\ttotal: 5.67s\tremaining: 7.71s\n",
            "424:\tlearn: 2.7928930\ttotal: 5.69s\tremaining: 7.69s\n",
            "425:\tlearn: 2.7867194\ttotal: 5.7s\tremaining: 7.68s\n",
            "426:\tlearn: 2.7820653\ttotal: 5.71s\tremaining: 7.66s\n",
            "427:\tlearn: 2.7748517\ttotal: 5.72s\tremaining: 7.65s\n",
            "428:\tlearn: 2.7713658\ttotal: 5.74s\tremaining: 7.64s\n",
            "429:\tlearn: 2.7652233\ttotal: 5.75s\tremaining: 7.62s\n",
            "430:\tlearn: 2.7604026\ttotal: 5.76s\tremaining: 7.61s\n",
            "431:\tlearn: 2.7543787\ttotal: 5.78s\tremaining: 7.59s\n",
            "432:\tlearn: 2.7498680\ttotal: 5.79s\tremaining: 7.58s\n",
            "433:\tlearn: 2.7485115\ttotal: 5.8s\tremaining: 7.57s\n",
            "434:\tlearn: 2.7434605\ttotal: 5.82s\tremaining: 7.55s\n",
            "435:\tlearn: 2.7394636\ttotal: 5.83s\tremaining: 7.54s\n",
            "436:\tlearn: 2.7350591\ttotal: 5.85s\tremaining: 7.53s\n",
            "437:\tlearn: 2.7296441\ttotal: 5.86s\tremaining: 7.52s\n",
            "438:\tlearn: 2.7250670\ttotal: 5.87s\tremaining: 7.5s\n",
            "439:\tlearn: 2.7206124\ttotal: 5.88s\tremaining: 7.49s\n",
            "440:\tlearn: 2.7163833\ttotal: 5.9s\tremaining: 7.47s\n",
            "441:\tlearn: 2.7108433\ttotal: 5.91s\tremaining: 7.46s\n",
            "442:\tlearn: 2.7067905\ttotal: 5.92s\tremaining: 7.45s\n",
            "443:\tlearn: 2.7035925\ttotal: 5.93s\tremaining: 7.43s\n",
            "444:\tlearn: 2.6997601\ttotal: 5.95s\tremaining: 7.42s\n",
            "445:\tlearn: 2.6961561\ttotal: 5.96s\tremaining: 7.4s\n",
            "446:\tlearn: 2.6937026\ttotal: 5.97s\tremaining: 7.39s\n",
            "447:\tlearn: 2.6895191\ttotal: 5.99s\tremaining: 7.38s\n",
            "448:\tlearn: 2.6852992\ttotal: 6s\tremaining: 7.36s\n",
            "449:\tlearn: 2.6806023\ttotal: 6.01s\tremaining: 7.35s\n",
            "450:\tlearn: 2.6764188\ttotal: 6.02s\tremaining: 7.33s\n",
            "451:\tlearn: 2.6732315\ttotal: 6.04s\tremaining: 7.32s\n",
            "452:\tlearn: 2.6698891\ttotal: 6.05s\tremaining: 7.31s\n",
            "453:\tlearn: 2.6678108\ttotal: 6.07s\tremaining: 7.3s\n",
            "454:\tlearn: 2.6637106\ttotal: 6.08s\tremaining: 7.28s\n",
            "455:\tlearn: 2.6597686\ttotal: 6.09s\tremaining: 7.27s\n",
            "456:\tlearn: 2.6553961\ttotal: 6.1s\tremaining: 7.25s\n",
            "457:\tlearn: 2.6520142\ttotal: 6.12s\tremaining: 7.24s\n",
            "458:\tlearn: 2.6486913\ttotal: 6.13s\tremaining: 7.22s\n",
            "459:\tlearn: 2.6455768\ttotal: 6.14s\tremaining: 7.21s\n",
            "460:\tlearn: 2.6397041\ttotal: 6.15s\tremaining: 7.2s\n",
            "461:\tlearn: 2.6350863\ttotal: 6.17s\tremaining: 7.18s\n",
            "462:\tlearn: 2.6309880\ttotal: 6.18s\tremaining: 7.17s\n",
            "463:\tlearn: 2.6277203\ttotal: 6.19s\tremaining: 7.15s\n",
            "464:\tlearn: 2.6252482\ttotal: 6.21s\tremaining: 7.14s\n",
            "465:\tlearn: 2.6212179\ttotal: 6.22s\tremaining: 7.13s\n",
            "466:\tlearn: 2.6158937\ttotal: 6.24s\tremaining: 7.12s\n",
            "467:\tlearn: 2.6109942\ttotal: 6.26s\tremaining: 7.11s\n",
            "468:\tlearn: 2.6065717\ttotal: 6.27s\tremaining: 7.1s\n",
            "469:\tlearn: 2.6048046\ttotal: 6.29s\tremaining: 7.1s\n",
            "470:\tlearn: 2.6000491\ttotal: 6.31s\tremaining: 7.08s\n",
            "471:\tlearn: 2.5946769\ttotal: 6.32s\tremaining: 7.07s\n",
            "472:\tlearn: 2.5928136\ttotal: 6.33s\tremaining: 7.06s\n",
            "473:\tlearn: 2.5881905\ttotal: 6.35s\tremaining: 7.04s\n",
            "474:\tlearn: 2.5846630\ttotal: 6.36s\tremaining: 7.03s\n",
            "475:\tlearn: 2.5811853\ttotal: 6.37s\tremaining: 7.01s\n",
            "476:\tlearn: 2.5773909\ttotal: 6.38s\tremaining: 7s\n",
            "477:\tlearn: 2.5744035\ttotal: 6.39s\tremaining: 6.98s\n",
            "478:\tlearn: 2.5703927\ttotal: 6.41s\tremaining: 6.97s\n",
            "479:\tlearn: 2.5679182\ttotal: 6.42s\tremaining: 6.95s\n",
            "480:\tlearn: 2.5646118\ttotal: 6.44s\tremaining: 6.95s\n",
            "481:\tlearn: 2.5599939\ttotal: 6.45s\tremaining: 6.94s\n",
            "482:\tlearn: 2.5570878\ttotal: 6.47s\tremaining: 6.93s\n",
            "483:\tlearn: 2.5531357\ttotal: 6.48s\tremaining: 6.91s\n",
            "484:\tlearn: 2.5485212\ttotal: 6.5s\tremaining: 6.9s\n",
            "485:\tlearn: 2.5445322\ttotal: 6.51s\tremaining: 6.88s\n",
            "486:\tlearn: 2.5416545\ttotal: 6.52s\tremaining: 6.87s\n",
            "487:\tlearn: 2.5364672\ttotal: 6.53s\tremaining: 6.86s\n",
            "488:\tlearn: 2.5337249\ttotal: 6.55s\tremaining: 6.84s\n",
            "489:\tlearn: 2.5317522\ttotal: 6.56s\tremaining: 6.83s\n",
            "490:\tlearn: 2.5288181\ttotal: 6.57s\tremaining: 6.81s\n",
            "491:\tlearn: 2.5226194\ttotal: 6.58s\tremaining: 6.8s\n",
            "492:\tlearn: 2.5200070\ttotal: 6.6s\tremaining: 6.79s\n",
            "493:\tlearn: 2.5166629\ttotal: 6.61s\tremaining: 6.77s\n",
            "494:\tlearn: 2.5105572\ttotal: 6.62s\tremaining: 6.76s\n",
            "495:\tlearn: 2.5059575\ttotal: 6.64s\tremaining: 6.74s\n",
            "496:\tlearn: 2.5028173\ttotal: 6.65s\tremaining: 6.73s\n",
            "497:\tlearn: 2.5004245\ttotal: 6.67s\tremaining: 6.72s\n",
            "498:\tlearn: 2.4959344\ttotal: 6.68s\tremaining: 6.71s\n",
            "499:\tlearn: 2.4920170\ttotal: 6.7s\tremaining: 6.7s\n",
            "500:\tlearn: 2.4887388\ttotal: 6.71s\tremaining: 6.68s\n",
            "501:\tlearn: 2.4835529\ttotal: 6.72s\tremaining: 6.67s\n",
            "502:\tlearn: 2.4817575\ttotal: 6.74s\tremaining: 6.66s\n",
            "503:\tlearn: 2.4798934\ttotal: 6.75s\tremaining: 6.64s\n",
            "504:\tlearn: 2.4756822\ttotal: 6.76s\tremaining: 6.63s\n",
            "505:\tlearn: 2.4722784\ttotal: 6.78s\tremaining: 6.61s\n",
            "506:\tlearn: 2.4681760\ttotal: 6.79s\tremaining: 6.6s\n",
            "507:\tlearn: 2.4659477\ttotal: 6.8s\tremaining: 6.59s\n",
            "508:\tlearn: 2.4619555\ttotal: 6.82s\tremaining: 6.58s\n",
            "509:\tlearn: 2.4580543\ttotal: 6.83s\tremaining: 6.56s\n",
            "510:\tlearn: 2.4541790\ttotal: 6.85s\tremaining: 6.55s\n",
            "511:\tlearn: 2.4505454\ttotal: 6.86s\tremaining: 6.54s\n",
            "512:\tlearn: 2.4466463\ttotal: 6.87s\tremaining: 6.52s\n",
            "513:\tlearn: 2.4441270\ttotal: 6.89s\tremaining: 6.51s\n",
            "514:\tlearn: 2.4416779\ttotal: 6.9s\tremaining: 6.5s\n",
            "515:\tlearn: 2.4382078\ttotal: 6.92s\tremaining: 6.49s\n",
            "516:\tlearn: 2.4331060\ttotal: 6.93s\tremaining: 6.47s\n",
            "517:\tlearn: 2.4298175\ttotal: 6.94s\tremaining: 6.46s\n",
            "518:\tlearn: 2.4264727\ttotal: 6.95s\tremaining: 6.45s\n",
            "519:\tlearn: 2.4231221\ttotal: 6.97s\tremaining: 6.43s\n",
            "520:\tlearn: 2.4203064\ttotal: 6.98s\tremaining: 6.42s\n",
            "521:\tlearn: 2.4152621\ttotal: 6.99s\tremaining: 6.4s\n",
            "522:\tlearn: 2.4120135\ttotal: 7.01s\tremaining: 6.39s\n",
            "523:\tlearn: 2.4100946\ttotal: 7.02s\tremaining: 6.38s\n",
            "524:\tlearn: 2.4070901\ttotal: 7.03s\tremaining: 6.36s\n",
            "525:\tlearn: 2.4032679\ttotal: 7.04s\tremaining: 6.35s\n",
            "526:\tlearn: 2.3990633\ttotal: 7.06s\tremaining: 6.33s\n",
            "527:\tlearn: 2.3938441\ttotal: 7.07s\tremaining: 6.32s\n",
            "528:\tlearn: 2.3896368\ttotal: 7.08s\tremaining: 6.31s\n",
            "529:\tlearn: 2.3856049\ttotal: 7.1s\tremaining: 6.3s\n",
            "530:\tlearn: 2.3838384\ttotal: 7.12s\tremaining: 6.29s\n",
            "531:\tlearn: 2.3786263\ttotal: 7.13s\tremaining: 6.27s\n",
            "532:\tlearn: 2.3748765\ttotal: 7.14s\tremaining: 6.26s\n",
            "533:\tlearn: 2.3731102\ttotal: 7.16s\tremaining: 6.25s\n",
            "534:\tlearn: 2.3695908\ttotal: 7.17s\tremaining: 6.23s\n",
            "535:\tlearn: 2.3667041\ttotal: 7.18s\tremaining: 6.22s\n",
            "536:\tlearn: 2.3629553\ttotal: 7.2s\tremaining: 6.2s\n",
            "537:\tlearn: 2.3593657\ttotal: 7.21s\tremaining: 6.19s\n",
            "538:\tlearn: 2.3573823\ttotal: 7.22s\tremaining: 6.18s\n",
            "539:\tlearn: 2.3536157\ttotal: 7.23s\tremaining: 6.16s\n",
            "540:\tlearn: 2.3505239\ttotal: 7.25s\tremaining: 6.15s\n",
            "541:\tlearn: 2.3458321\ttotal: 7.26s\tremaining: 6.13s\n",
            "542:\tlearn: 2.3425699\ttotal: 7.27s\tremaining: 6.12s\n",
            "543:\tlearn: 2.3396444\ttotal: 7.29s\tremaining: 6.11s\n",
            "544:\tlearn: 2.3352880\ttotal: 7.3s\tremaining: 6.09s\n",
            "545:\tlearn: 2.3320634\ttotal: 7.32s\tremaining: 6.08s\n",
            "546:\tlearn: 2.3276280\ttotal: 7.33s\tremaining: 6.07s\n",
            "547:\tlearn: 2.3227047\ttotal: 7.34s\tremaining: 6.05s\n",
            "548:\tlearn: 2.3194103\ttotal: 7.35s\tremaining: 6.04s\n",
            "549:\tlearn: 2.3170205\ttotal: 7.37s\tremaining: 6.03s\n",
            "550:\tlearn: 2.3128751\ttotal: 7.38s\tremaining: 6.01s\n",
            "551:\tlearn: 2.3105883\ttotal: 7.39s\tremaining: 6s\n",
            "552:\tlearn: 2.3074308\ttotal: 7.41s\tremaining: 5.99s\n",
            "553:\tlearn: 2.3037229\ttotal: 7.42s\tremaining: 5.97s\n",
            "554:\tlearn: 2.3008823\ttotal: 7.43s\tremaining: 5.96s\n",
            "555:\tlearn: 2.2963930\ttotal: 7.45s\tremaining: 5.95s\n",
            "556:\tlearn: 2.2940075\ttotal: 7.46s\tremaining: 5.93s\n",
            "557:\tlearn: 2.2915321\ttotal: 7.47s\tremaining: 5.92s\n",
            "558:\tlearn: 2.2878359\ttotal: 7.49s\tremaining: 5.91s\n",
            "559:\tlearn: 2.2855516\ttotal: 7.5s\tremaining: 5.89s\n",
            "560:\tlearn: 2.2826808\ttotal: 7.51s\tremaining: 5.88s\n",
            "561:\tlearn: 2.2804247\ttotal: 7.53s\tremaining: 5.87s\n",
            "562:\tlearn: 2.2774488\ttotal: 7.54s\tremaining: 5.85s\n",
            "563:\tlearn: 2.2725562\ttotal: 7.55s\tremaining: 5.84s\n",
            "564:\tlearn: 2.2696883\ttotal: 7.57s\tremaining: 5.83s\n",
            "565:\tlearn: 2.2671738\ttotal: 7.58s\tremaining: 5.81s\n",
            "566:\tlearn: 2.2631392\ttotal: 7.59s\tremaining: 5.8s\n",
            "567:\tlearn: 2.2591545\ttotal: 7.61s\tremaining: 5.78s\n",
            "568:\tlearn: 2.2549942\ttotal: 7.62s\tremaining: 5.77s\n",
            "569:\tlearn: 2.2522138\ttotal: 7.63s\tremaining: 5.75s\n",
            "570:\tlearn: 2.2489752\ttotal: 7.64s\tremaining: 5.74s\n",
            "571:\tlearn: 2.2445295\ttotal: 7.65s\tremaining: 5.73s\n",
            "572:\tlearn: 2.2411941\ttotal: 7.67s\tremaining: 5.71s\n",
            "573:\tlearn: 2.2405705\ttotal: 7.68s\tremaining: 5.7s\n",
            "574:\tlearn: 2.2379941\ttotal: 7.69s\tremaining: 5.68s\n",
            "575:\tlearn: 2.2346226\ttotal: 7.7s\tremaining: 5.67s\n",
            "576:\tlearn: 2.2316864\ttotal: 7.72s\tremaining: 5.66s\n",
            "577:\tlearn: 2.2276032\ttotal: 7.73s\tremaining: 5.64s\n",
            "578:\tlearn: 2.2255477\ttotal: 7.74s\tremaining: 5.63s\n",
            "579:\tlearn: 2.2222730\ttotal: 7.76s\tremaining: 5.62s\n",
            "580:\tlearn: 2.2188581\ttotal: 7.77s\tremaining: 5.6s\n",
            "581:\tlearn: 2.2167775\ttotal: 7.79s\tremaining: 5.59s\n",
            "582:\tlearn: 2.2122586\ttotal: 7.8s\tremaining: 5.58s\n",
            "583:\tlearn: 2.2110467\ttotal: 7.82s\tremaining: 5.57s\n",
            "584:\tlearn: 2.2073058\ttotal: 7.83s\tremaining: 5.55s\n",
            "585:\tlearn: 2.2039236\ttotal: 7.84s\tremaining: 5.54s\n",
            "586:\tlearn: 2.2012183\ttotal: 7.86s\tremaining: 5.53s\n",
            "587:\tlearn: 2.1985021\ttotal: 7.87s\tremaining: 5.51s\n",
            "588:\tlearn: 2.1960398\ttotal: 7.88s\tremaining: 5.5s\n",
            "589:\tlearn: 2.1922992\ttotal: 7.89s\tremaining: 5.49s\n",
            "590:\tlearn: 2.1868325\ttotal: 7.91s\tremaining: 5.47s\n",
            "591:\tlearn: 2.1843976\ttotal: 7.92s\tremaining: 5.46s\n",
            "592:\tlearn: 2.1794950\ttotal: 7.93s\tremaining: 5.45s\n",
            "593:\tlearn: 2.1766459\ttotal: 7.95s\tremaining: 5.43s\n",
            "594:\tlearn: 2.1738181\ttotal: 7.96s\tremaining: 5.42s\n",
            "595:\tlearn: 2.1701381\ttotal: 7.97s\tremaining: 5.4s\n",
            "596:\tlearn: 2.1654722\ttotal: 7.99s\tremaining: 5.39s\n",
            "597:\tlearn: 2.1618955\ttotal: 8s\tremaining: 5.38s\n",
            "598:\tlearn: 2.1577302\ttotal: 8.01s\tremaining: 5.36s\n",
            "599:\tlearn: 2.1543521\ttotal: 8.03s\tremaining: 5.35s\n",
            "600:\tlearn: 2.1511967\ttotal: 8.04s\tremaining: 5.34s\n",
            "601:\tlearn: 2.1501416\ttotal: 8.05s\tremaining: 5.32s\n",
            "602:\tlearn: 2.1469460\ttotal: 8.07s\tremaining: 5.31s\n",
            "603:\tlearn: 2.1447126\ttotal: 8.08s\tremaining: 5.3s\n",
            "604:\tlearn: 2.1407412\ttotal: 8.09s\tremaining: 5.28s\n",
            "605:\tlearn: 2.1382640\ttotal: 8.11s\tremaining: 5.27s\n",
            "606:\tlearn: 2.1358057\ttotal: 8.12s\tremaining: 5.25s\n",
            "607:\tlearn: 2.1334122\ttotal: 8.13s\tremaining: 5.24s\n",
            "608:\tlearn: 2.1307656\ttotal: 8.15s\tremaining: 5.23s\n",
            "609:\tlearn: 2.1266141\ttotal: 8.16s\tremaining: 5.22s\n",
            "610:\tlearn: 2.1227511\ttotal: 8.17s\tremaining: 5.2s\n",
            "611:\tlearn: 2.1197229\ttotal: 8.19s\tremaining: 5.19s\n",
            "612:\tlearn: 2.1175388\ttotal: 8.2s\tremaining: 5.18s\n",
            "613:\tlearn: 2.1135190\ttotal: 8.21s\tremaining: 5.16s\n",
            "614:\tlearn: 2.1108564\ttotal: 8.22s\tremaining: 5.15s\n",
            "615:\tlearn: 2.1072458\ttotal: 8.24s\tremaining: 5.13s\n",
            "616:\tlearn: 2.1040015\ttotal: 8.25s\tremaining: 5.12s\n",
            "617:\tlearn: 2.1016955\ttotal: 8.26s\tremaining: 5.11s\n",
            "618:\tlearn: 2.1006004\ttotal: 8.28s\tremaining: 5.09s\n",
            "619:\tlearn: 2.0973662\ttotal: 8.29s\tremaining: 5.08s\n",
            "620:\tlearn: 2.0955808\ttotal: 8.31s\tremaining: 5.07s\n",
            "621:\tlearn: 2.0923486\ttotal: 8.32s\tremaining: 5.06s\n",
            "622:\tlearn: 2.0899989\ttotal: 8.34s\tremaining: 5.04s\n",
            "623:\tlearn: 2.0873424\ttotal: 8.35s\tremaining: 5.03s\n",
            "624:\tlearn: 2.0823289\ttotal: 8.36s\tremaining: 5.02s\n",
            "625:\tlearn: 2.0785998\ttotal: 8.38s\tremaining: 5s\n",
            "626:\tlearn: 2.0751520\ttotal: 8.39s\tremaining: 4.99s\n",
            "627:\tlearn: 2.0721028\ttotal: 8.4s\tremaining: 4.98s\n",
            "628:\tlearn: 2.0692327\ttotal: 8.41s\tremaining: 4.96s\n",
            "629:\tlearn: 2.0659461\ttotal: 8.44s\tremaining: 4.95s\n",
            "630:\tlearn: 2.0620826\ttotal: 8.45s\tremaining: 4.94s\n",
            "631:\tlearn: 2.0592277\ttotal: 8.46s\tremaining: 4.93s\n",
            "632:\tlearn: 2.0561848\ttotal: 8.47s\tremaining: 4.91s\n",
            "633:\tlearn: 2.0518620\ttotal: 8.49s\tremaining: 4.9s\n",
            "634:\tlearn: 2.0484619\ttotal: 8.5s\tremaining: 4.89s\n",
            "635:\tlearn: 2.0455362\ttotal: 8.51s\tremaining: 4.87s\n",
            "636:\tlearn: 2.0425961\ttotal: 8.53s\tremaining: 4.86s\n",
            "637:\tlearn: 2.0405652\ttotal: 8.54s\tremaining: 4.85s\n",
            "638:\tlearn: 2.0370985\ttotal: 8.56s\tremaining: 4.83s\n",
            "639:\tlearn: 2.0343565\ttotal: 8.57s\tremaining: 4.82s\n",
            "640:\tlearn: 2.0314890\ttotal: 8.58s\tremaining: 4.81s\n",
            "641:\tlearn: 2.0283411\ttotal: 8.6s\tremaining: 4.79s\n",
            "642:\tlearn: 2.0252045\ttotal: 8.61s\tremaining: 4.78s\n",
            "643:\tlearn: 2.0230752\ttotal: 8.62s\tremaining: 4.77s\n",
            "644:\tlearn: 2.0210268\ttotal: 8.64s\tremaining: 4.75s\n",
            "645:\tlearn: 2.0169733\ttotal: 8.65s\tremaining: 4.74s\n",
            "646:\tlearn: 2.0141608\ttotal: 8.66s\tremaining: 4.73s\n",
            "647:\tlearn: 2.0106006\ttotal: 8.68s\tremaining: 4.71s\n",
            "648:\tlearn: 2.0090327\ttotal: 8.69s\tremaining: 4.7s\n",
            "649:\tlearn: 2.0056149\ttotal: 8.7s\tremaining: 4.69s\n",
            "650:\tlearn: 2.0047626\ttotal: 8.72s\tremaining: 4.67s\n",
            "651:\tlearn: 2.0027183\ttotal: 8.73s\tremaining: 4.66s\n",
            "652:\tlearn: 2.0013373\ttotal: 8.75s\tremaining: 4.65s\n",
            "653:\tlearn: 1.9980275\ttotal: 8.76s\tremaining: 4.63s\n",
            "654:\tlearn: 1.9956849\ttotal: 8.77s\tremaining: 4.62s\n",
            "655:\tlearn: 1.9935720\ttotal: 8.79s\tremaining: 4.61s\n",
            "656:\tlearn: 1.9914256\ttotal: 8.8s\tremaining: 4.59s\n",
            "657:\tlearn: 1.9877523\ttotal: 8.81s\tremaining: 4.58s\n",
            "658:\tlearn: 1.9859475\ttotal: 8.83s\tremaining: 4.57s\n",
            "659:\tlearn: 1.9827707\ttotal: 8.84s\tremaining: 4.55s\n",
            "660:\tlearn: 1.9792521\ttotal: 8.85s\tremaining: 4.54s\n",
            "661:\tlearn: 1.9761673\ttotal: 8.87s\tremaining: 4.53s\n",
            "662:\tlearn: 1.9735305\ttotal: 8.88s\tremaining: 4.51s\n",
            "663:\tlearn: 1.9711602\ttotal: 8.89s\tremaining: 4.5s\n",
            "664:\tlearn: 1.9677146\ttotal: 8.9s\tremaining: 4.48s\n",
            "665:\tlearn: 1.9655856\ttotal: 8.91s\tremaining: 4.47s\n",
            "666:\tlearn: 1.9631334\ttotal: 8.93s\tremaining: 4.46s\n",
            "667:\tlearn: 1.9611249\ttotal: 8.94s\tremaining: 4.44s\n",
            "668:\tlearn: 1.9582494\ttotal: 8.96s\tremaining: 4.43s\n",
            "669:\tlearn: 1.9554749\ttotal: 8.97s\tremaining: 4.42s\n",
            "670:\tlearn: 1.9522953\ttotal: 8.98s\tremaining: 4.4s\n",
            "671:\tlearn: 1.9498555\ttotal: 9s\tremaining: 4.39s\n",
            "672:\tlearn: 1.9474629\ttotal: 9.01s\tremaining: 4.38s\n",
            "673:\tlearn: 1.9440785\ttotal: 9.02s\tremaining: 4.36s\n",
            "674:\tlearn: 1.9404283\ttotal: 9.04s\tremaining: 4.35s\n",
            "675:\tlearn: 1.9379967\ttotal: 9.05s\tremaining: 4.34s\n",
            "676:\tlearn: 1.9348560\ttotal: 9.06s\tremaining: 4.32s\n",
            "677:\tlearn: 1.9311556\ttotal: 9.08s\tremaining: 4.31s\n",
            "678:\tlearn: 1.9300863\ttotal: 9.09s\tremaining: 4.3s\n",
            "679:\tlearn: 1.9282525\ttotal: 9.1s\tremaining: 4.28s\n",
            "680:\tlearn: 1.9253373\ttotal: 9.12s\tremaining: 4.27s\n",
            "681:\tlearn: 1.9239634\ttotal: 9.13s\tremaining: 4.26s\n",
            "682:\tlearn: 1.9207863\ttotal: 9.14s\tremaining: 4.24s\n",
            "683:\tlearn: 1.9193712\ttotal: 9.15s\tremaining: 4.23s\n",
            "684:\tlearn: 1.9155212\ttotal: 9.17s\tremaining: 4.22s\n",
            "685:\tlearn: 1.9130745\ttotal: 9.18s\tremaining: 4.2s\n",
            "686:\tlearn: 1.9104785\ttotal: 9.2s\tremaining: 4.19s\n",
            "687:\tlearn: 1.9077954\ttotal: 9.21s\tremaining: 4.18s\n",
            "688:\tlearn: 1.9048063\ttotal: 9.22s\tremaining: 4.16s\n",
            "689:\tlearn: 1.9021530\ttotal: 9.24s\tremaining: 4.15s\n",
            "690:\tlearn: 1.8995241\ttotal: 9.25s\tremaining: 4.14s\n",
            "691:\tlearn: 1.8970675\ttotal: 9.26s\tremaining: 4.12s\n",
            "692:\tlearn: 1.8949316\ttotal: 9.28s\tremaining: 4.11s\n",
            "693:\tlearn: 1.8924803\ttotal: 9.29s\tremaining: 4.09s\n",
            "694:\tlearn: 1.8909807\ttotal: 9.3s\tremaining: 4.08s\n",
            "695:\tlearn: 1.8880346\ttotal: 9.32s\tremaining: 4.07s\n",
            "696:\tlearn: 1.8847144\ttotal: 9.33s\tremaining: 4.05s\n",
            "697:\tlearn: 1.8818783\ttotal: 9.34s\tremaining: 4.04s\n",
            "698:\tlearn: 1.8805170\ttotal: 9.35s\tremaining: 4.03s\n",
            "699:\tlearn: 1.8774640\ttotal: 9.37s\tremaining: 4.01s\n",
            "700:\tlearn: 1.8747029\ttotal: 9.38s\tremaining: 4s\n",
            "701:\tlearn: 1.8719996\ttotal: 9.4s\tremaining: 3.99s\n",
            "702:\tlearn: 1.8690209\ttotal: 9.41s\tremaining: 3.97s\n",
            "703:\tlearn: 1.8666037\ttotal: 9.43s\tremaining: 3.96s\n",
            "704:\tlearn: 1.8635215\ttotal: 9.44s\tremaining: 3.95s\n",
            "705:\tlearn: 1.8611230\ttotal: 9.45s\tremaining: 3.94s\n",
            "706:\tlearn: 1.8586895\ttotal: 9.47s\tremaining: 3.92s\n",
            "707:\tlearn: 1.8562611\ttotal: 9.48s\tremaining: 3.91s\n",
            "708:\tlearn: 1.8538363\ttotal: 9.49s\tremaining: 3.9s\n",
            "709:\tlearn: 1.8499596\ttotal: 9.51s\tremaining: 3.88s\n",
            "710:\tlearn: 1.8484345\ttotal: 9.53s\tremaining: 3.87s\n",
            "711:\tlearn: 1.8458501\ttotal: 9.54s\tremaining: 3.86s\n",
            "712:\tlearn: 1.8440311\ttotal: 9.55s\tremaining: 3.85s\n",
            "713:\tlearn: 1.8423721\ttotal: 9.57s\tremaining: 3.83s\n",
            "714:\tlearn: 1.8401657\ttotal: 9.58s\tremaining: 3.82s\n",
            "715:\tlearn: 1.8382866\ttotal: 9.6s\tremaining: 3.81s\n",
            "716:\tlearn: 1.8361209\ttotal: 9.61s\tremaining: 3.79s\n",
            "717:\tlearn: 1.8327564\ttotal: 9.62s\tremaining: 3.78s\n",
            "718:\tlearn: 1.8306870\ttotal: 9.63s\tremaining: 3.77s\n",
            "719:\tlearn: 1.8290366\ttotal: 9.65s\tremaining: 3.75s\n",
            "720:\tlearn: 1.8262933\ttotal: 9.66s\tremaining: 3.74s\n",
            "721:\tlearn: 1.8228910\ttotal: 9.67s\tremaining: 3.72s\n",
            "722:\tlearn: 1.8206693\ttotal: 9.68s\tremaining: 3.71s\n",
            "723:\tlearn: 1.8174292\ttotal: 9.7s\tremaining: 3.7s\n",
            "724:\tlearn: 1.8147887\ttotal: 9.71s\tremaining: 3.68s\n",
            "725:\tlearn: 1.8119472\ttotal: 9.72s\tremaining: 3.67s\n",
            "726:\tlearn: 1.8111774\ttotal: 9.74s\tremaining: 3.66s\n",
            "727:\tlearn: 1.8081466\ttotal: 9.75s\tremaining: 3.64s\n",
            "728:\tlearn: 1.8050853\ttotal: 9.76s\tremaining: 3.63s\n",
            "729:\tlearn: 1.8022869\ttotal: 9.78s\tremaining: 3.62s\n",
            "730:\tlearn: 1.7996438\ttotal: 9.79s\tremaining: 3.6s\n",
            "731:\tlearn: 1.7970988\ttotal: 9.81s\tremaining: 3.59s\n",
            "732:\tlearn: 1.7942192\ttotal: 9.82s\tremaining: 3.58s\n",
            "733:\tlearn: 1.7927814\ttotal: 9.83s\tremaining: 3.56s\n",
            "734:\tlearn: 1.7901825\ttotal: 9.85s\tremaining: 3.55s\n",
            "735:\tlearn: 1.7877847\ttotal: 9.86s\tremaining: 3.54s\n",
            "736:\tlearn: 1.7853429\ttotal: 9.87s\tremaining: 3.52s\n",
            "737:\tlearn: 1.7836695\ttotal: 9.88s\tremaining: 3.51s\n",
            "738:\tlearn: 1.7808652\ttotal: 9.9s\tremaining: 3.5s\n",
            "739:\tlearn: 1.7794882\ttotal: 9.91s\tremaining: 3.48s\n",
            "740:\tlearn: 1.7768681\ttotal: 9.92s\tremaining: 3.47s\n",
            "741:\tlearn: 1.7732025\ttotal: 9.94s\tremaining: 3.46s\n",
            "742:\tlearn: 1.7704595\ttotal: 9.95s\tremaining: 3.44s\n",
            "743:\tlearn: 1.7680040\ttotal: 9.97s\tremaining: 3.43s\n",
            "744:\tlearn: 1.7652446\ttotal: 9.98s\tremaining: 3.42s\n",
            "745:\tlearn: 1.7628449\ttotal: 9.99s\tremaining: 3.4s\n",
            "746:\tlearn: 1.7600551\ttotal: 10s\tremaining: 3.39s\n",
            "747:\tlearn: 1.7580064\ttotal: 10s\tremaining: 3.38s\n",
            "748:\tlearn: 1.7557291\ttotal: 10s\tremaining: 3.36s\n",
            "749:\tlearn: 1.7541711\ttotal: 10.1s\tremaining: 3.35s\n",
            "750:\tlearn: 1.7531177\ttotal: 10.1s\tremaining: 3.34s\n",
            "751:\tlearn: 1.7508957\ttotal: 10.1s\tremaining: 3.32s\n",
            "752:\tlearn: 1.7494470\ttotal: 10.1s\tremaining: 3.31s\n",
            "753:\tlearn: 1.7473348\ttotal: 10.1s\tremaining: 3.29s\n",
            "754:\tlearn: 1.7455357\ttotal: 10.1s\tremaining: 3.28s\n",
            "755:\tlearn: 1.7435817\ttotal: 10.1s\tremaining: 3.27s\n",
            "756:\tlearn: 1.7410100\ttotal: 10.1s\tremaining: 3.25s\n",
            "757:\tlearn: 1.7384546\ttotal: 10.2s\tremaining: 3.24s\n",
            "758:\tlearn: 1.7363757\ttotal: 10.2s\tremaining: 3.23s\n",
            "759:\tlearn: 1.7342023\ttotal: 10.2s\tremaining: 3.21s\n",
            "760:\tlearn: 1.7319625\ttotal: 10.2s\tremaining: 3.2s\n",
            "761:\tlearn: 1.7303505\ttotal: 10.2s\tremaining: 3.19s\n",
            "762:\tlearn: 1.7286978\ttotal: 10.2s\tremaining: 3.17s\n",
            "763:\tlearn: 1.7269062\ttotal: 10.2s\tremaining: 3.16s\n",
            "764:\tlearn: 1.7244524\ttotal: 10.2s\tremaining: 3.15s\n",
            "765:\tlearn: 1.7213319\ttotal: 10.3s\tremaining: 3.13s\n",
            "766:\tlearn: 1.7190658\ttotal: 10.3s\tremaining: 3.12s\n",
            "767:\tlearn: 1.7164420\ttotal: 10.3s\tremaining: 3.11s\n",
            "768:\tlearn: 1.7150373\ttotal: 10.3s\tremaining: 3.09s\n",
            "769:\tlearn: 1.7124913\ttotal: 10.3s\tremaining: 3.08s\n",
            "770:\tlearn: 1.7098952\ttotal: 10.3s\tremaining: 3.07s\n",
            "771:\tlearn: 1.7079069\ttotal: 10.3s\tremaining: 3.05s\n",
            "772:\tlearn: 1.7057671\ttotal: 10.4s\tremaining: 3.04s\n",
            "773:\tlearn: 1.7039695\ttotal: 10.4s\tremaining: 3.03s\n",
            "774:\tlearn: 1.7019082\ttotal: 10.4s\tremaining: 3.01s\n",
            "775:\tlearn: 1.6995225\ttotal: 10.4s\tremaining: 3s\n",
            "776:\tlearn: 1.6977753\ttotal: 10.4s\tremaining: 2.99s\n",
            "777:\tlearn: 1.6956665\ttotal: 10.4s\tremaining: 2.98s\n",
            "778:\tlearn: 1.6933126\ttotal: 10.4s\tremaining: 2.96s\n",
            "779:\tlearn: 1.6905868\ttotal: 10.5s\tremaining: 2.95s\n",
            "780:\tlearn: 1.6889079\ttotal: 10.5s\tremaining: 2.94s\n",
            "781:\tlearn: 1.6867230\ttotal: 10.5s\tremaining: 2.92s\n",
            "782:\tlearn: 1.6850013\ttotal: 10.5s\tremaining: 2.91s\n",
            "783:\tlearn: 1.6824566\ttotal: 10.5s\tremaining: 2.89s\n",
            "784:\tlearn: 1.6807098\ttotal: 10.5s\tremaining: 2.88s\n",
            "785:\tlearn: 1.6787633\ttotal: 10.5s\tremaining: 2.87s\n",
            "786:\tlearn: 1.6770555\ttotal: 10.5s\tremaining: 2.85s\n",
            "787:\tlearn: 1.6747295\ttotal: 10.6s\tremaining: 2.84s\n",
            "788:\tlearn: 1.6724511\ttotal: 10.6s\tremaining: 2.83s\n",
            "789:\tlearn: 1.6709422\ttotal: 10.6s\tremaining: 2.81s\n",
            "790:\tlearn: 1.6678929\ttotal: 10.6s\tremaining: 2.8s\n",
            "791:\tlearn: 1.6657751\ttotal: 10.6s\tremaining: 2.79s\n",
            "792:\tlearn: 1.6644209\ttotal: 10.6s\tremaining: 2.77s\n",
            "793:\tlearn: 1.6624949\ttotal: 10.6s\tremaining: 2.76s\n",
            "794:\tlearn: 1.6603980\ttotal: 10.7s\tremaining: 2.75s\n",
            "795:\tlearn: 1.6579751\ttotal: 10.7s\tremaining: 2.73s\n",
            "796:\tlearn: 1.6562873\ttotal: 10.7s\tremaining: 2.72s\n",
            "797:\tlearn: 1.6543028\ttotal: 10.7s\tremaining: 2.71s\n",
            "798:\tlearn: 1.6525476\ttotal: 10.7s\tremaining: 2.69s\n",
            "799:\tlearn: 1.6502773\ttotal: 10.7s\tremaining: 2.68s\n",
            "800:\tlearn: 1.6490552\ttotal: 10.7s\tremaining: 2.67s\n",
            "801:\tlearn: 1.6463246\ttotal: 10.7s\tremaining: 2.65s\n",
            "802:\tlearn: 1.6438163\ttotal: 10.8s\tremaining: 2.64s\n",
            "803:\tlearn: 1.6411492\ttotal: 10.8s\tremaining: 2.63s\n",
            "804:\tlearn: 1.6385781\ttotal: 10.8s\tremaining: 2.61s\n",
            "805:\tlearn: 1.6347817\ttotal: 10.8s\tremaining: 2.6s\n",
            "806:\tlearn: 1.6328935\ttotal: 10.8s\tremaining: 2.59s\n",
            "807:\tlearn: 1.6308588\ttotal: 10.8s\tremaining: 2.57s\n",
            "808:\tlearn: 1.6289803\ttotal: 10.8s\tremaining: 2.56s\n",
            "809:\tlearn: 1.6267912\ttotal: 10.9s\tremaining: 2.55s\n",
            "810:\tlearn: 1.6247902\ttotal: 10.9s\tremaining: 2.53s\n",
            "811:\tlearn: 1.6227066\ttotal: 10.9s\tremaining: 2.52s\n",
            "812:\tlearn: 1.6212639\ttotal: 10.9s\tremaining: 2.51s\n",
            "813:\tlearn: 1.6192451\ttotal: 10.9s\tremaining: 2.49s\n",
            "814:\tlearn: 1.6175169\ttotal: 10.9s\tremaining: 2.48s\n",
            "815:\tlearn: 1.6149958\ttotal: 10.9s\tremaining: 2.47s\n",
            "816:\tlearn: 1.6122942\ttotal: 11s\tremaining: 2.45s\n",
            "817:\tlearn: 1.6096910\ttotal: 11s\tremaining: 2.44s\n",
            "818:\tlearn: 1.6075261\ttotal: 11s\tremaining: 2.42s\n",
            "819:\tlearn: 1.6058988\ttotal: 11s\tremaining: 2.41s\n",
            "820:\tlearn: 1.6047305\ttotal: 11s\tremaining: 2.4s\n",
            "821:\tlearn: 1.6034859\ttotal: 11s\tremaining: 2.38s\n",
            "822:\tlearn: 1.6010315\ttotal: 11s\tremaining: 2.37s\n",
            "823:\tlearn: 1.5979093\ttotal: 11s\tremaining: 2.36s\n",
            "824:\tlearn: 1.5962290\ttotal: 11.1s\tremaining: 2.35s\n",
            "825:\tlearn: 1.5947070\ttotal: 11.1s\tremaining: 2.33s\n",
            "826:\tlearn: 1.5930142\ttotal: 11.1s\tremaining: 2.32s\n",
            "827:\tlearn: 1.5905034\ttotal: 11.1s\tremaining: 2.31s\n",
            "828:\tlearn: 1.5894085\ttotal: 11.1s\tremaining: 2.29s\n",
            "829:\tlearn: 1.5869236\ttotal: 11.1s\tremaining: 2.28s\n",
            "830:\tlearn: 1.5850511\ttotal: 11.1s\tremaining: 2.27s\n",
            "831:\tlearn: 1.5831692\ttotal: 11.2s\tremaining: 2.25s\n",
            "832:\tlearn: 1.5799402\ttotal: 11.2s\tremaining: 2.24s\n",
            "833:\tlearn: 1.5776417\ttotal: 11.2s\tremaining: 2.22s\n",
            "834:\tlearn: 1.5749766\ttotal: 11.2s\tremaining: 2.21s\n",
            "835:\tlearn: 1.5740275\ttotal: 11.2s\tremaining: 2.2s\n",
            "836:\tlearn: 1.5713831\ttotal: 11.2s\tremaining: 2.18s\n",
            "837:\tlearn: 1.5692043\ttotal: 11.2s\tremaining: 2.17s\n",
            "838:\tlearn: 1.5659683\ttotal: 11.2s\tremaining: 2.16s\n",
            "839:\tlearn: 1.5636409\ttotal: 11.3s\tremaining: 2.14s\n",
            "840:\tlearn: 1.5617064\ttotal: 11.3s\tremaining: 2.13s\n",
            "841:\tlearn: 1.5600032\ttotal: 11.3s\tremaining: 2.12s\n",
            "842:\tlearn: 1.5578937\ttotal: 11.3s\tremaining: 2.1s\n",
            "843:\tlearn: 1.5565099\ttotal: 11.3s\tremaining: 2.09s\n",
            "844:\tlearn: 1.5551884\ttotal: 11.3s\tremaining: 2.08s\n",
            "845:\tlearn: 1.5527249\ttotal: 11.3s\tremaining: 2.06s\n",
            "846:\tlearn: 1.5506033\ttotal: 11.4s\tremaining: 2.05s\n",
            "847:\tlearn: 1.5492571\ttotal: 11.4s\tremaining: 2.04s\n",
            "848:\tlearn: 1.5473389\ttotal: 11.4s\tremaining: 2.02s\n",
            "849:\tlearn: 1.5453466\ttotal: 11.4s\tremaining: 2.01s\n",
            "850:\tlearn: 1.5431559\ttotal: 11.4s\tremaining: 2s\n",
            "851:\tlearn: 1.5419340\ttotal: 11.4s\tremaining: 1.98s\n",
            "852:\tlearn: 1.5393219\ttotal: 11.4s\tremaining: 1.97s\n",
            "853:\tlearn: 1.5367816\ttotal: 11.5s\tremaining: 1.96s\n",
            "854:\tlearn: 1.5354367\ttotal: 11.5s\tremaining: 1.94s\n",
            "855:\tlearn: 1.5328790\ttotal: 11.5s\tremaining: 1.93s\n",
            "856:\tlearn: 1.5312713\ttotal: 11.5s\tremaining: 1.92s\n",
            "857:\tlearn: 1.5300260\ttotal: 11.5s\tremaining: 1.9s\n",
            "858:\tlearn: 1.5282052\ttotal: 11.5s\tremaining: 1.89s\n",
            "859:\tlearn: 1.5266041\ttotal: 11.5s\tremaining: 1.88s\n",
            "860:\tlearn: 1.5248158\ttotal: 11.5s\tremaining: 1.86s\n",
            "861:\tlearn: 1.5229590\ttotal: 11.6s\tremaining: 1.85s\n",
            "862:\tlearn: 1.5212938\ttotal: 11.6s\tremaining: 1.84s\n",
            "863:\tlearn: 1.5191325\ttotal: 11.6s\tremaining: 1.82s\n",
            "864:\tlearn: 1.5169554\ttotal: 11.6s\tremaining: 1.81s\n",
            "865:\tlearn: 1.5152205\ttotal: 11.6s\tremaining: 1.8s\n",
            "866:\tlearn: 1.5131968\ttotal: 11.6s\tremaining: 1.78s\n",
            "867:\tlearn: 1.5103500\ttotal: 11.6s\tremaining: 1.77s\n",
            "868:\tlearn: 1.5094754\ttotal: 11.6s\tremaining: 1.76s\n",
            "869:\tlearn: 1.5074355\ttotal: 11.7s\tremaining: 1.74s\n",
            "870:\tlearn: 1.5050225\ttotal: 11.7s\tremaining: 1.73s\n",
            "871:\tlearn: 1.5038373\ttotal: 11.7s\tremaining: 1.72s\n",
            "872:\tlearn: 1.5024773\ttotal: 11.7s\tremaining: 1.7s\n",
            "873:\tlearn: 1.4995734\ttotal: 11.7s\tremaining: 1.69s\n",
            "874:\tlearn: 1.4984875\ttotal: 11.7s\tremaining: 1.68s\n",
            "875:\tlearn: 1.4976563\ttotal: 11.7s\tremaining: 1.66s\n",
            "876:\tlearn: 1.4961167\ttotal: 11.8s\tremaining: 1.65s\n",
            "877:\tlearn: 1.4953285\ttotal: 11.8s\tremaining: 1.64s\n",
            "878:\tlearn: 1.4940444\ttotal: 11.8s\tremaining: 1.62s\n",
            "879:\tlearn: 1.4931081\ttotal: 11.8s\tremaining: 1.61s\n",
            "880:\tlearn: 1.4918410\ttotal: 11.8s\tremaining: 1.59s\n",
            "881:\tlearn: 1.4900472\ttotal: 11.8s\tremaining: 1.58s\n",
            "882:\tlearn: 1.4881743\ttotal: 11.8s\tremaining: 1.57s\n",
            "883:\tlearn: 1.4863080\ttotal: 11.9s\tremaining: 1.55s\n",
            "884:\tlearn: 1.4842421\ttotal: 11.9s\tremaining: 1.54s\n",
            "885:\tlearn: 1.4822789\ttotal: 11.9s\tremaining: 1.53s\n",
            "886:\tlearn: 1.4806978\ttotal: 11.9s\tremaining: 1.51s\n",
            "887:\tlearn: 1.4777104\ttotal: 11.9s\tremaining: 1.5s\n",
            "888:\tlearn: 1.4762398\ttotal: 11.9s\tremaining: 1.49s\n",
            "889:\tlearn: 1.4737943\ttotal: 11.9s\tremaining: 1.48s\n",
            "890:\tlearn: 1.4719075\ttotal: 11.9s\tremaining: 1.46s\n",
            "891:\tlearn: 1.4692039\ttotal: 12s\tremaining: 1.45s\n",
            "892:\tlearn: 1.4677506\ttotal: 12s\tremaining: 1.44s\n",
            "893:\tlearn: 1.4660881\ttotal: 12s\tremaining: 1.42s\n",
            "894:\tlearn: 1.4650567\ttotal: 12s\tremaining: 1.41s\n",
            "895:\tlearn: 1.4640611\ttotal: 12s\tremaining: 1.39s\n",
            "896:\tlearn: 1.4617609\ttotal: 12s\tremaining: 1.38s\n",
            "897:\tlearn: 1.4604267\ttotal: 12s\tremaining: 1.37s\n",
            "898:\tlearn: 1.4575588\ttotal: 12.1s\tremaining: 1.35s\n",
            "899:\tlearn: 1.4561614\ttotal: 12.1s\tremaining: 1.34s\n",
            "900:\tlearn: 1.4542773\ttotal: 12.1s\tremaining: 1.33s\n",
            "901:\tlearn: 1.4528876\ttotal: 12.1s\tremaining: 1.31s\n",
            "902:\tlearn: 1.4510821\ttotal: 12.1s\tremaining: 1.3s\n",
            "903:\tlearn: 1.4497639\ttotal: 12.1s\tremaining: 1.29s\n",
            "904:\tlearn: 1.4485877\ttotal: 12.1s\tremaining: 1.27s\n",
            "905:\tlearn: 1.4472108\ttotal: 12.2s\tremaining: 1.26s\n",
            "906:\tlearn: 1.4459266\ttotal: 12.2s\tremaining: 1.25s\n",
            "907:\tlearn: 1.4440167\ttotal: 12.2s\tremaining: 1.23s\n",
            "908:\tlearn: 1.4422253\ttotal: 12.2s\tremaining: 1.22s\n",
            "909:\tlearn: 1.4410000\ttotal: 12.2s\tremaining: 1.21s\n",
            "910:\tlearn: 1.4392911\ttotal: 12.2s\tremaining: 1.19s\n",
            "911:\tlearn: 1.4375345\ttotal: 12.2s\tremaining: 1.18s\n",
            "912:\tlearn: 1.4358225\ttotal: 12.2s\tremaining: 1.17s\n",
            "913:\tlearn: 1.4342579\ttotal: 12.3s\tremaining: 1.15s\n",
            "914:\tlearn: 1.4330482\ttotal: 12.3s\tremaining: 1.14s\n",
            "915:\tlearn: 1.4306932\ttotal: 12.3s\tremaining: 1.13s\n",
            "916:\tlearn: 1.4292497\ttotal: 12.3s\tremaining: 1.11s\n",
            "917:\tlearn: 1.4277261\ttotal: 12.3s\tremaining: 1.1s\n",
            "918:\tlearn: 1.4266191\ttotal: 12.3s\tremaining: 1.08s\n",
            "919:\tlearn: 1.4254534\ttotal: 12.3s\tremaining: 1.07s\n",
            "920:\tlearn: 1.4239319\ttotal: 12.3s\tremaining: 1.06s\n",
            "921:\tlearn: 1.4218651\ttotal: 12.4s\tremaining: 1.04s\n",
            "922:\tlearn: 1.4202085\ttotal: 12.4s\tremaining: 1.03s\n",
            "923:\tlearn: 1.4179388\ttotal: 12.4s\tremaining: 1.02s\n",
            "924:\tlearn: 1.4166769\ttotal: 12.4s\tremaining: 1s\n",
            "925:\tlearn: 1.4152410\ttotal: 12.4s\tremaining: 991ms\n",
            "926:\tlearn: 1.4140217\ttotal: 12.4s\tremaining: 978ms\n",
            "927:\tlearn: 1.4124761\ttotal: 12.4s\tremaining: 965ms\n",
            "928:\tlearn: 1.4112085\ttotal: 12.5s\tremaining: 952ms\n",
            "929:\tlearn: 1.4092436\ttotal: 12.5s\tremaining: 938ms\n",
            "930:\tlearn: 1.4075248\ttotal: 12.5s\tremaining: 925ms\n",
            "931:\tlearn: 1.4066643\ttotal: 12.5s\tremaining: 911ms\n",
            "932:\tlearn: 1.4052777\ttotal: 12.5s\tremaining: 898ms\n",
            "933:\tlearn: 1.4035028\ttotal: 12.5s\tremaining: 885ms\n",
            "934:\tlearn: 1.4025094\ttotal: 12.5s\tremaining: 871ms\n",
            "935:\tlearn: 1.4013174\ttotal: 12.5s\tremaining: 858ms\n",
            "936:\tlearn: 1.3996468\ttotal: 12.6s\tremaining: 844ms\n",
            "937:\tlearn: 1.3983352\ttotal: 12.6s\tremaining: 831ms\n",
            "938:\tlearn: 1.3970463\ttotal: 12.6s\tremaining: 818ms\n",
            "939:\tlearn: 1.3961982\ttotal: 12.6s\tremaining: 804ms\n",
            "940:\tlearn: 1.3942823\ttotal: 12.6s\tremaining: 791ms\n",
            "941:\tlearn: 1.3926362\ttotal: 12.6s\tremaining: 777ms\n",
            "942:\tlearn: 1.3913362\ttotal: 12.6s\tremaining: 764ms\n",
            "943:\tlearn: 1.3902716\ttotal: 12.7s\tremaining: 751ms\n",
            "944:\tlearn: 1.3890184\ttotal: 12.7s\tremaining: 737ms\n",
            "945:\tlearn: 1.3863445\ttotal: 12.7s\tremaining: 724ms\n",
            "946:\tlearn: 1.3848407\ttotal: 12.7s\tremaining: 710ms\n",
            "947:\tlearn: 1.3837861\ttotal: 12.7s\tremaining: 697ms\n",
            "948:\tlearn: 1.3823048\ttotal: 12.7s\tremaining: 684ms\n",
            "949:\tlearn: 1.3807635\ttotal: 12.7s\tremaining: 670ms\n",
            "950:\tlearn: 1.3789748\ttotal: 12.8s\tremaining: 657ms\n",
            "951:\tlearn: 1.3775474\ttotal: 12.8s\tremaining: 644ms\n",
            "952:\tlearn: 1.3757516\ttotal: 12.8s\tremaining: 630ms\n",
            "953:\tlearn: 1.3743675\ttotal: 12.8s\tremaining: 617ms\n",
            "954:\tlearn: 1.3728288\ttotal: 12.8s\tremaining: 604ms\n",
            "955:\tlearn: 1.3704807\ttotal: 12.8s\tremaining: 590ms\n",
            "956:\tlearn: 1.3689755\ttotal: 12.8s\tremaining: 577ms\n",
            "957:\tlearn: 1.3668098\ttotal: 12.8s\tremaining: 563ms\n",
            "958:\tlearn: 1.3651995\ttotal: 12.9s\tremaining: 550ms\n",
            "959:\tlearn: 1.3636391\ttotal: 12.9s\tremaining: 536ms\n",
            "960:\tlearn: 1.3620346\ttotal: 12.9s\tremaining: 523ms\n",
            "961:\tlearn: 1.3604268\ttotal: 12.9s\tremaining: 510ms\n",
            "962:\tlearn: 1.3583625\ttotal: 12.9s\tremaining: 496ms\n",
            "963:\tlearn: 1.3568191\ttotal: 12.9s\tremaining: 483ms\n",
            "964:\tlearn: 1.3548176\ttotal: 12.9s\tremaining: 469ms\n",
            "965:\tlearn: 1.3532858\ttotal: 13s\tremaining: 456ms\n",
            "966:\tlearn: 1.3520254\ttotal: 13s\tremaining: 443ms\n",
            "967:\tlearn: 1.3506767\ttotal: 13s\tremaining: 429ms\n",
            "968:\tlearn: 1.3495145\ttotal: 13s\tremaining: 416ms\n",
            "969:\tlearn: 1.3478096\ttotal: 13s\tremaining: 402ms\n",
            "970:\tlearn: 1.3458496\ttotal: 13s\tremaining: 389ms\n",
            "971:\tlearn: 1.3438416\ttotal: 13s\tremaining: 375ms\n",
            "972:\tlearn: 1.3418473\ttotal: 13s\tremaining: 362ms\n",
            "973:\tlearn: 1.3402961\ttotal: 13.1s\tremaining: 349ms\n",
            "974:\tlearn: 1.3379490\ttotal: 13.1s\tremaining: 335ms\n",
            "975:\tlearn: 1.3361002\ttotal: 13.1s\tremaining: 322ms\n",
            "976:\tlearn: 1.3337563\ttotal: 13.1s\tremaining: 308ms\n",
            "977:\tlearn: 1.3329848\ttotal: 13.1s\tremaining: 295ms\n",
            "978:\tlearn: 1.3313858\ttotal: 13.1s\tremaining: 281ms\n",
            "979:\tlearn: 1.3295489\ttotal: 13.1s\tremaining: 268ms\n",
            "980:\tlearn: 1.3290647\ttotal: 13.2s\tremaining: 255ms\n",
            "981:\tlearn: 1.3276968\ttotal: 13.2s\tremaining: 241ms\n",
            "982:\tlearn: 1.3249867\ttotal: 13.2s\tremaining: 228ms\n",
            "983:\tlearn: 1.3227660\ttotal: 13.2s\tremaining: 214ms\n",
            "984:\tlearn: 1.3217026\ttotal: 13.2s\tremaining: 201ms\n",
            "985:\tlearn: 1.3195956\ttotal: 13.2s\tremaining: 188ms\n",
            "986:\tlearn: 1.3184594\ttotal: 13.2s\tremaining: 174ms\n",
            "987:\tlearn: 1.3174588\ttotal: 13.2s\tremaining: 161ms\n",
            "988:\tlearn: 1.3141331\ttotal: 13.3s\tremaining: 147ms\n",
            "989:\tlearn: 1.3116641\ttotal: 13.3s\tremaining: 134ms\n",
            "990:\tlearn: 1.3099091\ttotal: 13.3s\tremaining: 121ms\n",
            "991:\tlearn: 1.3085596\ttotal: 13.3s\tremaining: 107ms\n",
            "992:\tlearn: 1.3073246\ttotal: 13.3s\tremaining: 93.8ms\n",
            "993:\tlearn: 1.3052894\ttotal: 13.3s\tremaining: 80.4ms\n",
            "994:\tlearn: 1.3035398\ttotal: 13.3s\tremaining: 67ms\n",
            "995:\tlearn: 1.3019536\ttotal: 13.3s\tremaining: 53.6ms\n",
            "996:\tlearn: 1.3002200\ttotal: 13.4s\tremaining: 40.2ms\n",
            "997:\tlearn: 1.2987696\ttotal: 13.4s\tremaining: 26.8ms\n",
            "998:\tlearn: 1.2976226\ttotal: 13.4s\tremaining: 13.4ms\n",
            "999:\tlearn: 1.2954580\ttotal: 13.4s\tremaining: 0us\n",
            "Learning rate set to 0.046071\n",
            "0:\tlearn: 12.4120431\ttotal: 13.6ms\tremaining: 13.5s\n",
            "1:\tlearn: 12.0119281\ttotal: 29.2ms\tremaining: 14.6s\n",
            "2:\tlearn: 11.6151119\ttotal: 42.3ms\tremaining: 14.1s\n",
            "3:\tlearn: 11.2264466\ttotal: 55.2ms\tremaining: 13.8s\n",
            "4:\tlearn: 10.9050257\ttotal: 68.3ms\tremaining: 13.6s\n",
            "5:\tlearn: 10.5760586\ttotal: 84.4ms\tremaining: 14s\n",
            "6:\tlearn: 10.2617349\ttotal: 97.6ms\tremaining: 13.8s\n",
            "7:\tlearn: 9.9826647\ttotal: 110ms\tremaining: 13.7s\n",
            "8:\tlearn: 9.7054403\ttotal: 123ms\tremaining: 13.5s\n",
            "9:\tlearn: 9.4416928\ttotal: 135ms\tremaining: 13.4s\n",
            "10:\tlearn: 9.1905949\ttotal: 147ms\tremaining: 13.2s\n",
            "11:\tlearn: 8.9437542\ttotal: 160ms\tremaining: 13.2s\n",
            "12:\tlearn: 8.7131875\ttotal: 173ms\tremaining: 13.1s\n",
            "13:\tlearn: 8.5253263\ttotal: 187ms\tremaining: 13.1s\n",
            "14:\tlearn: 8.3223675\ttotal: 200ms\tremaining: 13.1s\n",
            "15:\tlearn: 8.1280645\ttotal: 212ms\tremaining: 13.1s\n",
            "16:\tlearn: 7.9487000\ttotal: 226ms\tremaining: 13.1s\n",
            "17:\tlearn: 7.7793203\ttotal: 240ms\tremaining: 13.1s\n",
            "18:\tlearn: 7.6164160\ttotal: 253ms\tremaining: 13.1s\n",
            "19:\tlearn: 7.4645887\ttotal: 267ms\tremaining: 13.1s\n",
            "20:\tlearn: 7.3227229\ttotal: 280ms\tremaining: 13s\n",
            "21:\tlearn: 7.2058637\ttotal: 297ms\tremaining: 13.2s\n",
            "22:\tlearn: 7.0808015\ttotal: 310ms\tremaining: 13.2s\n",
            "23:\tlearn: 6.9601724\ttotal: 323ms\tremaining: 13.1s\n",
            "24:\tlearn: 6.8480143\ttotal: 336ms\tremaining: 13.1s\n",
            "25:\tlearn: 6.7414827\ttotal: 349ms\tremaining: 13.1s\n",
            "26:\tlearn: 6.6473439\ttotal: 361ms\tremaining: 13s\n",
            "27:\tlearn: 6.5564810\ttotal: 373ms\tremaining: 13s\n",
            "28:\tlearn: 6.4647940\ttotal: 385ms\tremaining: 12.9s\n",
            "29:\tlearn: 6.3870982\ttotal: 399ms\tremaining: 12.9s\n",
            "30:\tlearn: 6.3125215\ttotal: 413ms\tremaining: 12.9s\n",
            "31:\tlearn: 6.2471511\ttotal: 431ms\tremaining: 13s\n",
            "32:\tlearn: 6.1792806\ttotal: 444ms\tremaining: 13s\n",
            "33:\tlearn: 6.1190442\ttotal: 458ms\tremaining: 13s\n",
            "34:\tlearn: 6.0517551\ttotal: 472ms\tremaining: 13s\n",
            "35:\tlearn: 5.9934225\ttotal: 486ms\tremaining: 13s\n",
            "36:\tlearn: 5.9373949\ttotal: 502ms\tremaining: 13.1s\n",
            "37:\tlearn: 5.8889645\ttotal: 516ms\tremaining: 13.1s\n",
            "38:\tlearn: 5.8390963\ttotal: 530ms\tremaining: 13.1s\n",
            "39:\tlearn: 5.7932742\ttotal: 543ms\tremaining: 13s\n",
            "40:\tlearn: 5.7522725\ttotal: 556ms\tremaining: 13s\n",
            "41:\tlearn: 5.7132096\ttotal: 569ms\tremaining: 13s\n",
            "42:\tlearn: 5.6756574\ttotal: 582ms\tremaining: 12.9s\n",
            "43:\tlearn: 5.6399007\ttotal: 594ms\tremaining: 12.9s\n",
            "44:\tlearn: 5.6124975\ttotal: 607ms\tremaining: 12.9s\n",
            "45:\tlearn: 5.5783810\ttotal: 619ms\tremaining: 12.8s\n",
            "46:\tlearn: 5.5421368\ttotal: 631ms\tremaining: 12.8s\n",
            "47:\tlearn: 5.5099185\ttotal: 644ms\tremaining: 12.8s\n",
            "48:\tlearn: 5.4865313\ttotal: 658ms\tremaining: 12.8s\n",
            "49:\tlearn: 5.4622644\ttotal: 671ms\tremaining: 12.7s\n",
            "50:\tlearn: 5.4386767\ttotal: 684ms\tremaining: 12.7s\n",
            "51:\tlearn: 5.4196413\ttotal: 697ms\tremaining: 12.7s\n",
            "52:\tlearn: 5.3929705\ttotal: 715ms\tremaining: 12.8s\n",
            "53:\tlearn: 5.3743663\ttotal: 728ms\tremaining: 12.8s\n",
            "54:\tlearn: 5.3531037\ttotal: 742ms\tremaining: 12.7s\n",
            "55:\tlearn: 5.3312159\ttotal: 755ms\tremaining: 12.7s\n",
            "56:\tlearn: 5.3130094\ttotal: 768ms\tremaining: 12.7s\n",
            "57:\tlearn: 5.2935091\ttotal: 781ms\tremaining: 12.7s\n",
            "58:\tlearn: 5.2733785\ttotal: 795ms\tremaining: 12.7s\n",
            "59:\tlearn: 5.2598302\ttotal: 807ms\tremaining: 12.6s\n",
            "60:\tlearn: 5.2418201\ttotal: 821ms\tremaining: 12.6s\n",
            "61:\tlearn: 5.2269734\ttotal: 834ms\tremaining: 12.6s\n",
            "62:\tlearn: 5.2111539\ttotal: 847ms\tremaining: 12.6s\n",
            "63:\tlearn: 5.1971120\ttotal: 859ms\tremaining: 12.6s\n",
            "64:\tlearn: 5.1828302\ttotal: 871ms\tremaining: 12.5s\n",
            "65:\tlearn: 5.1714360\ttotal: 884ms\tremaining: 12.5s\n",
            "66:\tlearn: 5.1581029\ttotal: 898ms\tremaining: 12.5s\n",
            "67:\tlearn: 5.1457833\ttotal: 912ms\tremaining: 12.5s\n",
            "68:\tlearn: 5.1354140\ttotal: 934ms\tremaining: 12.6s\n",
            "69:\tlearn: 5.1228690\ttotal: 949ms\tremaining: 12.6s\n",
            "70:\tlearn: 5.1101085\ttotal: 962ms\tremaining: 12.6s\n",
            "71:\tlearn: 5.0990139\ttotal: 976ms\tremaining: 12.6s\n",
            "72:\tlearn: 5.0932745\ttotal: 989ms\tremaining: 12.6s\n",
            "73:\tlearn: 5.0836475\ttotal: 1s\tremaining: 12.6s\n",
            "74:\tlearn: 5.0733148\ttotal: 1.02s\tremaining: 12.5s\n",
            "75:\tlearn: 5.0621362\ttotal: 1.03s\tremaining: 12.5s\n",
            "76:\tlearn: 5.0536513\ttotal: 1.04s\tremaining: 12.5s\n",
            "77:\tlearn: 5.0440791\ttotal: 1.05s\tremaining: 12.5s\n",
            "78:\tlearn: 5.0328447\ttotal: 1.07s\tremaining: 12.5s\n",
            "79:\tlearn: 5.0182736\ttotal: 1.08s\tremaining: 12.4s\n",
            "80:\tlearn: 5.0097944\ttotal: 1.09s\tremaining: 12.4s\n",
            "81:\tlearn: 5.0012398\ttotal: 1.11s\tremaining: 12.4s\n",
            "82:\tlearn: 4.9943288\ttotal: 1.12s\tremaining: 12.4s\n",
            "83:\tlearn: 4.9884885\ttotal: 1.14s\tremaining: 12.4s\n",
            "84:\tlearn: 4.9785800\ttotal: 1.15s\tremaining: 12.4s\n",
            "85:\tlearn: 4.9621370\ttotal: 1.17s\tremaining: 12.4s\n",
            "86:\tlearn: 4.9566624\ttotal: 1.18s\tremaining: 12.4s\n",
            "87:\tlearn: 4.9512779\ttotal: 1.2s\tremaining: 12.4s\n",
            "88:\tlearn: 4.9458705\ttotal: 1.21s\tremaining: 12.4s\n",
            "89:\tlearn: 4.9406266\ttotal: 1.22s\tremaining: 12.4s\n",
            "90:\tlearn: 4.9353463\ttotal: 1.24s\tremaining: 12.4s\n",
            "91:\tlearn: 4.9300652\ttotal: 1.25s\tremaining: 12.4s\n",
            "92:\tlearn: 4.9228110\ttotal: 1.27s\tremaining: 12.3s\n",
            "93:\tlearn: 4.9184029\ttotal: 1.28s\tremaining: 12.4s\n",
            "94:\tlearn: 4.9084606\ttotal: 1.3s\tremaining: 12.3s\n",
            "95:\tlearn: 4.9028349\ttotal: 1.31s\tremaining: 12.4s\n",
            "96:\tlearn: 4.8905229\ttotal: 1.32s\tremaining: 12.3s\n",
            "97:\tlearn: 4.8835837\ttotal: 1.34s\tremaining: 12.3s\n",
            "98:\tlearn: 4.8769753\ttotal: 1.35s\tremaining: 12.3s\n",
            "99:\tlearn: 4.8724859\ttotal: 1.37s\tremaining: 12.3s\n",
            "100:\tlearn: 4.8672704\ttotal: 1.38s\tremaining: 12.3s\n",
            "101:\tlearn: 4.8611330\ttotal: 1.39s\tremaining: 12.3s\n",
            "102:\tlearn: 4.8507947\ttotal: 1.41s\tremaining: 12.2s\n",
            "103:\tlearn: 4.8454795\ttotal: 1.42s\tremaining: 12.2s\n",
            "104:\tlearn: 4.8418622\ttotal: 1.43s\tremaining: 12.2s\n",
            "105:\tlearn: 4.8329919\ttotal: 1.44s\tremaining: 12.2s\n",
            "106:\tlearn: 4.8276690\ttotal: 1.46s\tremaining: 12.2s\n",
            "107:\tlearn: 4.8236527\ttotal: 1.47s\tremaining: 12.1s\n",
            "108:\tlearn: 4.8132428\ttotal: 1.48s\tremaining: 12.1s\n",
            "109:\tlearn: 4.8065744\ttotal: 1.5s\tremaining: 12.1s\n",
            "110:\tlearn: 4.8002991\ttotal: 1.51s\tremaining: 12.1s\n",
            "111:\tlearn: 4.7919032\ttotal: 1.52s\tremaining: 12.1s\n",
            "112:\tlearn: 4.7861963\ttotal: 1.54s\tremaining: 12.1s\n",
            "113:\tlearn: 4.7766401\ttotal: 1.55s\tremaining: 12.1s\n",
            "114:\tlearn: 4.7624675\ttotal: 1.57s\tremaining: 12.1s\n",
            "115:\tlearn: 4.7565130\ttotal: 1.58s\tremaining: 12s\n",
            "116:\tlearn: 4.7502147\ttotal: 1.59s\tremaining: 12s\n",
            "117:\tlearn: 4.7455127\ttotal: 1.6s\tremaining: 12s\n",
            "118:\tlearn: 4.7400216\ttotal: 1.62s\tremaining: 12s\n",
            "119:\tlearn: 4.7270280\ttotal: 1.63s\tremaining: 11.9s\n",
            "120:\tlearn: 4.7208543\ttotal: 1.64s\tremaining: 11.9s\n",
            "121:\tlearn: 4.7085783\ttotal: 1.66s\tremaining: 11.9s\n",
            "122:\tlearn: 4.7043691\ttotal: 1.67s\tremaining: 11.9s\n",
            "123:\tlearn: 4.7001077\ttotal: 1.68s\tremaining: 11.9s\n",
            "124:\tlearn: 4.6918924\ttotal: 1.69s\tremaining: 11.9s\n",
            "125:\tlearn: 4.6852453\ttotal: 1.71s\tremaining: 11.9s\n",
            "126:\tlearn: 4.6815071\ttotal: 1.72s\tremaining: 11.8s\n",
            "127:\tlearn: 4.6735806\ttotal: 1.74s\tremaining: 11.8s\n",
            "128:\tlearn: 4.6648469\ttotal: 1.75s\tremaining: 11.8s\n",
            "129:\tlearn: 4.6573396\ttotal: 1.77s\tremaining: 11.8s\n",
            "130:\tlearn: 4.6518187\ttotal: 1.78s\tremaining: 11.8s\n",
            "131:\tlearn: 4.6443781\ttotal: 1.79s\tremaining: 11.8s\n",
            "132:\tlearn: 4.6362857\ttotal: 1.8s\tremaining: 11.8s\n",
            "133:\tlearn: 4.6283289\ttotal: 1.82s\tremaining: 11.7s\n",
            "134:\tlearn: 4.6219212\ttotal: 1.83s\tremaining: 11.7s\n",
            "135:\tlearn: 4.6134793\ttotal: 1.84s\tremaining: 11.7s\n",
            "136:\tlearn: 4.6047679\ttotal: 1.85s\tremaining: 11.7s\n",
            "137:\tlearn: 4.5987458\ttotal: 1.86s\tremaining: 11.7s\n",
            "138:\tlearn: 4.5891057\ttotal: 1.88s\tremaining: 11.6s\n",
            "139:\tlearn: 4.5832123\ttotal: 1.89s\tremaining: 11.6s\n",
            "140:\tlearn: 4.5779973\ttotal: 1.9s\tremaining: 11.6s\n",
            "141:\tlearn: 4.5746969\ttotal: 1.92s\tremaining: 11.6s\n",
            "142:\tlearn: 4.5682993\ttotal: 1.94s\tremaining: 11.6s\n",
            "143:\tlearn: 4.5638322\ttotal: 1.95s\tremaining: 11.6s\n",
            "144:\tlearn: 4.5537968\ttotal: 1.97s\tremaining: 11.6s\n",
            "145:\tlearn: 4.5462720\ttotal: 1.98s\tremaining: 11.6s\n",
            "146:\tlearn: 4.5385333\ttotal: 2s\tremaining: 11.6s\n",
            "147:\tlearn: 4.5332783\ttotal: 2.01s\tremaining: 11.6s\n",
            "148:\tlearn: 4.5265489\ttotal: 2.02s\tremaining: 11.6s\n",
            "149:\tlearn: 4.5213350\ttotal: 2.04s\tremaining: 11.5s\n",
            "150:\tlearn: 4.5101669\ttotal: 2.05s\tremaining: 11.5s\n",
            "151:\tlearn: 4.5018768\ttotal: 2.06s\tremaining: 11.5s\n",
            "152:\tlearn: 4.4968324\ttotal: 2.07s\tremaining: 11.5s\n",
            "153:\tlearn: 4.4893655\ttotal: 2.08s\tremaining: 11.5s\n",
            "154:\tlearn: 4.4801637\ttotal: 2.1s\tremaining: 11.4s\n",
            "155:\tlearn: 4.4747271\ttotal: 2.11s\tremaining: 11.4s\n",
            "156:\tlearn: 4.4685786\ttotal: 2.12s\tremaining: 11.4s\n",
            "157:\tlearn: 4.4647930\ttotal: 2.14s\tremaining: 11.4s\n",
            "158:\tlearn: 4.4585997\ttotal: 2.15s\tremaining: 11.4s\n",
            "159:\tlearn: 4.4528202\ttotal: 2.17s\tremaining: 11.4s\n",
            "160:\tlearn: 4.4430988\ttotal: 2.18s\tremaining: 11.4s\n",
            "161:\tlearn: 4.4334626\ttotal: 2.2s\tremaining: 11.4s\n",
            "162:\tlearn: 4.4301266\ttotal: 2.21s\tremaining: 11.4s\n",
            "163:\tlearn: 4.4214404\ttotal: 2.23s\tremaining: 11.4s\n",
            "164:\tlearn: 4.4141596\ttotal: 2.24s\tremaining: 11.3s\n",
            "165:\tlearn: 4.4046155\ttotal: 2.25s\tremaining: 11.3s\n",
            "166:\tlearn: 4.3984076\ttotal: 2.27s\tremaining: 11.3s\n",
            "167:\tlearn: 4.3891211\ttotal: 2.28s\tremaining: 11.3s\n",
            "168:\tlearn: 4.3854948\ttotal: 2.29s\tremaining: 11.3s\n",
            "169:\tlearn: 4.3782542\ttotal: 2.31s\tremaining: 11.3s\n",
            "170:\tlearn: 4.3712774\ttotal: 2.32s\tremaining: 11.2s\n",
            "171:\tlearn: 4.3583172\ttotal: 2.33s\tremaining: 11.2s\n",
            "172:\tlearn: 4.3523524\ttotal: 2.34s\tremaining: 11.2s\n",
            "173:\tlearn: 4.3462498\ttotal: 2.35s\tremaining: 11.2s\n",
            "174:\tlearn: 4.3411859\ttotal: 2.37s\tremaining: 11.2s\n",
            "175:\tlearn: 4.3364522\ttotal: 2.38s\tremaining: 11.1s\n",
            "176:\tlearn: 4.3274046\ttotal: 2.4s\tremaining: 11.2s\n",
            "177:\tlearn: 4.3206612\ttotal: 2.42s\tremaining: 11.2s\n",
            "178:\tlearn: 4.3136275\ttotal: 2.45s\tremaining: 11.2s\n",
            "179:\tlearn: 4.3026782\ttotal: 2.46s\tremaining: 11.2s\n",
            "180:\tlearn: 4.2934485\ttotal: 2.47s\tremaining: 11.2s\n",
            "181:\tlearn: 4.2856507\ttotal: 2.49s\tremaining: 11.2s\n",
            "182:\tlearn: 4.2778117\ttotal: 2.5s\tremaining: 11.2s\n",
            "183:\tlearn: 4.2660093\ttotal: 2.52s\tremaining: 11.2s\n",
            "184:\tlearn: 4.2608975\ttotal: 2.53s\tremaining: 11.1s\n",
            "185:\tlearn: 4.2527687\ttotal: 2.54s\tremaining: 11.1s\n",
            "186:\tlearn: 4.2454547\ttotal: 2.56s\tremaining: 11.1s\n",
            "187:\tlearn: 4.2397174\ttotal: 2.57s\tremaining: 11.1s\n",
            "188:\tlearn: 4.2304009\ttotal: 2.58s\tremaining: 11.1s\n",
            "189:\tlearn: 4.2218929\ttotal: 2.6s\tremaining: 11.1s\n",
            "190:\tlearn: 4.2147068\ttotal: 2.61s\tremaining: 11.1s\n",
            "191:\tlearn: 4.2073297\ttotal: 2.63s\tremaining: 11.1s\n",
            "192:\tlearn: 4.2008916\ttotal: 2.64s\tremaining: 11s\n",
            "193:\tlearn: 4.1919495\ttotal: 2.65s\tremaining: 11s\n",
            "194:\tlearn: 4.1861017\ttotal: 2.66s\tremaining: 11s\n",
            "195:\tlearn: 4.1759598\ttotal: 2.68s\tremaining: 11s\n",
            "196:\tlearn: 4.1664976\ttotal: 2.69s\tremaining: 11s\n",
            "197:\tlearn: 4.1556026\ttotal: 2.7s\tremaining: 10.9s\n",
            "198:\tlearn: 4.1489335\ttotal: 2.72s\tremaining: 10.9s\n",
            "199:\tlearn: 4.1427128\ttotal: 2.73s\tremaining: 10.9s\n",
            "200:\tlearn: 4.1323491\ttotal: 2.74s\tremaining: 10.9s\n",
            "201:\tlearn: 4.1262335\ttotal: 2.76s\tremaining: 10.9s\n",
            "202:\tlearn: 4.1155547\ttotal: 2.77s\tremaining: 10.9s\n",
            "203:\tlearn: 4.1078497\ttotal: 2.78s\tremaining: 10.9s\n",
            "204:\tlearn: 4.1015501\ttotal: 2.79s\tremaining: 10.8s\n",
            "205:\tlearn: 4.0960978\ttotal: 2.81s\tremaining: 10.8s\n",
            "206:\tlearn: 4.0873343\ttotal: 2.82s\tremaining: 10.8s\n",
            "207:\tlearn: 4.0779948\ttotal: 2.83s\tremaining: 10.8s\n",
            "208:\tlearn: 4.0712677\ttotal: 2.85s\tremaining: 10.8s\n",
            "209:\tlearn: 4.0632812\ttotal: 2.86s\tremaining: 10.8s\n",
            "210:\tlearn: 4.0542979\ttotal: 2.87s\tremaining: 10.7s\n",
            "211:\tlearn: 4.0460605\ttotal: 2.88s\tremaining: 10.7s\n",
            "212:\tlearn: 4.0366750\ttotal: 2.9s\tremaining: 10.7s\n",
            "213:\tlearn: 4.0275159\ttotal: 2.91s\tremaining: 10.7s\n",
            "214:\tlearn: 4.0184158\ttotal: 2.93s\tremaining: 10.7s\n",
            "215:\tlearn: 4.0102177\ttotal: 2.95s\tremaining: 10.7s\n",
            "216:\tlearn: 3.9973731\ttotal: 2.96s\tremaining: 10.7s\n",
            "217:\tlearn: 3.9896615\ttotal: 2.97s\tremaining: 10.7s\n",
            "218:\tlearn: 3.9809617\ttotal: 2.99s\tremaining: 10.7s\n",
            "219:\tlearn: 3.9716443\ttotal: 3s\tremaining: 10.6s\n",
            "220:\tlearn: 3.9632436\ttotal: 3.01s\tremaining: 10.6s\n",
            "221:\tlearn: 3.9527412\ttotal: 3.03s\tremaining: 10.6s\n",
            "222:\tlearn: 3.9441986\ttotal: 3.04s\tremaining: 10.6s\n",
            "223:\tlearn: 3.9355926\ttotal: 3.06s\tremaining: 10.6s\n",
            "224:\tlearn: 3.9294268\ttotal: 3.07s\tremaining: 10.6s\n",
            "225:\tlearn: 3.9219291\ttotal: 3.08s\tremaining: 10.6s\n",
            "226:\tlearn: 3.9145962\ttotal: 3.09s\tremaining: 10.5s\n",
            "227:\tlearn: 3.9084789\ttotal: 3.11s\tremaining: 10.5s\n",
            "228:\tlearn: 3.8974187\ttotal: 3.12s\tremaining: 10.5s\n",
            "229:\tlearn: 3.8926808\ttotal: 3.13s\tremaining: 10.5s\n",
            "230:\tlearn: 3.8817185\ttotal: 3.15s\tremaining: 10.5s\n",
            "231:\tlearn: 3.8727197\ttotal: 3.16s\tremaining: 10.5s\n",
            "232:\tlearn: 3.8651937\ttotal: 3.18s\tremaining: 10.5s\n",
            "233:\tlearn: 3.8579806\ttotal: 3.2s\tremaining: 10.5s\n",
            "234:\tlearn: 3.8504456\ttotal: 3.21s\tremaining: 10.4s\n",
            "235:\tlearn: 3.8444720\ttotal: 3.22s\tremaining: 10.4s\n",
            "236:\tlearn: 3.8387145\ttotal: 3.24s\tremaining: 10.4s\n",
            "237:\tlearn: 3.8292474\ttotal: 3.25s\tremaining: 10.4s\n",
            "238:\tlearn: 3.8210853\ttotal: 3.27s\tremaining: 10.4s\n",
            "239:\tlearn: 3.8129718\ttotal: 3.28s\tremaining: 10.4s\n",
            "240:\tlearn: 3.8083415\ttotal: 3.29s\tremaining: 10.4s\n",
            "241:\tlearn: 3.8006824\ttotal: 3.3s\tremaining: 10.3s\n",
            "242:\tlearn: 3.7963401\ttotal: 3.32s\tremaining: 10.3s\n",
            "243:\tlearn: 3.7873638\ttotal: 3.33s\tremaining: 10.3s\n",
            "244:\tlearn: 3.7825671\ttotal: 3.34s\tremaining: 10.3s\n",
            "245:\tlearn: 3.7779098\ttotal: 3.35s\tremaining: 10.3s\n",
            "246:\tlearn: 3.7673020\ttotal: 3.37s\tremaining: 10.3s\n",
            "247:\tlearn: 3.7596381\ttotal: 3.38s\tremaining: 10.3s\n",
            "248:\tlearn: 3.7548790\ttotal: 3.39s\tremaining: 10.2s\n",
            "249:\tlearn: 3.7467484\ttotal: 3.41s\tremaining: 10.2s\n",
            "250:\tlearn: 3.7413535\ttotal: 3.42s\tremaining: 10.2s\n",
            "251:\tlearn: 3.7330497\ttotal: 3.43s\tremaining: 10.2s\n",
            "252:\tlearn: 3.7288582\ttotal: 3.45s\tremaining: 10.2s\n",
            "253:\tlearn: 3.7215651\ttotal: 3.46s\tremaining: 10.2s\n",
            "254:\tlearn: 3.7144672\ttotal: 3.48s\tremaining: 10.2s\n",
            "255:\tlearn: 3.7069345\ttotal: 3.49s\tremaining: 10.1s\n",
            "256:\tlearn: 3.6992629\ttotal: 3.5s\tremaining: 10.1s\n",
            "257:\tlearn: 3.6916284\ttotal: 3.52s\tremaining: 10.1s\n",
            "258:\tlearn: 3.6848953\ttotal: 3.53s\tremaining: 10.1s\n",
            "259:\tlearn: 3.6735716\ttotal: 3.54s\tremaining: 10.1s\n",
            "260:\tlearn: 3.6640394\ttotal: 3.56s\tremaining: 10.1s\n",
            "261:\tlearn: 3.6536873\ttotal: 3.57s\tremaining: 10.1s\n",
            "262:\tlearn: 3.6446580\ttotal: 3.58s\tremaining: 10s\n",
            "263:\tlearn: 3.6399418\ttotal: 3.6s\tremaining: 10s\n",
            "264:\tlearn: 3.6307534\ttotal: 3.61s\tremaining: 10s\n",
            "265:\tlearn: 3.6245489\ttotal: 3.62s\tremaining: 10s\n",
            "266:\tlearn: 3.6194440\ttotal: 3.64s\tremaining: 9.98s\n",
            "267:\tlearn: 3.6137830\ttotal: 3.65s\tremaining: 9.98s\n",
            "268:\tlearn: 3.6096958\ttotal: 3.67s\tremaining: 9.96s\n",
            "269:\tlearn: 3.6044938\ttotal: 3.68s\tremaining: 9.95s\n",
            "270:\tlearn: 3.5942317\ttotal: 3.69s\tremaining: 9.93s\n",
            "271:\tlearn: 3.5892107\ttotal: 3.71s\tremaining: 9.92s\n",
            "272:\tlearn: 3.5813814\ttotal: 3.72s\tremaining: 9.9s\n",
            "273:\tlearn: 3.5767603\ttotal: 3.73s\tremaining: 9.89s\n",
            "274:\tlearn: 3.5721539\ttotal: 3.74s\tremaining: 9.87s\n",
            "275:\tlearn: 3.5662670\ttotal: 3.76s\tremaining: 9.86s\n",
            "276:\tlearn: 3.5622590\ttotal: 3.77s\tremaining: 9.84s\n",
            "277:\tlearn: 3.5543682\ttotal: 3.78s\tremaining: 9.83s\n",
            "278:\tlearn: 3.5476762\ttotal: 3.8s\tremaining: 9.81s\n",
            "279:\tlearn: 3.5427394\ttotal: 3.81s\tremaining: 9.8s\n",
            "280:\tlearn: 3.5370914\ttotal: 3.82s\tremaining: 9.78s\n",
            "281:\tlearn: 3.5309366\ttotal: 3.83s\tremaining: 9.76s\n",
            "282:\tlearn: 3.5251594\ttotal: 3.85s\tremaining: 9.75s\n",
            "283:\tlearn: 3.5183011\ttotal: 3.86s\tremaining: 9.74s\n",
            "284:\tlearn: 3.5128676\ttotal: 3.88s\tremaining: 9.73s\n",
            "285:\tlearn: 3.5084334\ttotal: 3.89s\tremaining: 9.71s\n",
            "286:\tlearn: 3.5025247\ttotal: 3.9s\tremaining: 9.7s\n",
            "287:\tlearn: 3.4948574\ttotal: 3.92s\tremaining: 9.69s\n",
            "288:\tlearn: 3.4889909\ttotal: 3.94s\tremaining: 9.68s\n",
            "289:\tlearn: 3.4828019\ttotal: 3.95s\tremaining: 9.67s\n",
            "290:\tlearn: 3.4787272\ttotal: 3.96s\tremaining: 9.66s\n",
            "291:\tlearn: 3.4720920\ttotal: 3.98s\tremaining: 9.64s\n",
            "292:\tlearn: 3.4652069\ttotal: 3.99s\tremaining: 9.63s\n",
            "293:\tlearn: 3.4614393\ttotal: 4s\tremaining: 9.61s\n",
            "294:\tlearn: 3.4571315\ttotal: 4.02s\tremaining: 9.6s\n",
            "295:\tlearn: 3.4506273\ttotal: 4.03s\tremaining: 9.58s\n",
            "296:\tlearn: 3.4444704\ttotal: 4.04s\tremaining: 9.57s\n",
            "297:\tlearn: 3.4384013\ttotal: 4.05s\tremaining: 9.55s\n",
            "298:\tlearn: 3.4335909\ttotal: 4.07s\tremaining: 9.54s\n",
            "299:\tlearn: 3.4302328\ttotal: 4.08s\tremaining: 9.53s\n",
            "300:\tlearn: 3.4236426\ttotal: 4.1s\tremaining: 9.52s\n",
            "301:\tlearn: 3.4164257\ttotal: 4.11s\tremaining: 9.5s\n",
            "302:\tlearn: 3.4095751\ttotal: 4.12s\tremaining: 9.49s\n",
            "303:\tlearn: 3.4033962\ttotal: 4.14s\tremaining: 9.47s\n",
            "304:\tlearn: 3.3982343\ttotal: 4.15s\tremaining: 9.46s\n",
            "305:\tlearn: 3.3935296\ttotal: 4.17s\tremaining: 9.45s\n",
            "306:\tlearn: 3.3839095\ttotal: 4.18s\tremaining: 9.43s\n",
            "307:\tlearn: 3.3803683\ttotal: 4.19s\tremaining: 9.42s\n",
            "308:\tlearn: 3.3768562\ttotal: 4.2s\tremaining: 9.4s\n",
            "309:\tlearn: 3.3725533\ttotal: 4.22s\tremaining: 9.39s\n",
            "310:\tlearn: 3.3669584\ttotal: 4.23s\tremaining: 9.37s\n",
            "311:\tlearn: 3.3612021\ttotal: 4.24s\tremaining: 9.36s\n",
            "312:\tlearn: 3.3568858\ttotal: 4.26s\tremaining: 9.35s\n",
            "313:\tlearn: 3.3518478\ttotal: 4.27s\tremaining: 9.34s\n",
            "314:\tlearn: 3.3452963\ttotal: 4.29s\tremaining: 9.32s\n",
            "315:\tlearn: 3.3399484\ttotal: 4.3s\tremaining: 9.31s\n",
            "316:\tlearn: 3.3361140\ttotal: 4.31s\tremaining: 9.29s\n",
            "317:\tlearn: 3.3316905\ttotal: 4.33s\tremaining: 9.28s\n",
            "318:\tlearn: 3.3275029\ttotal: 4.34s\tremaining: 9.26s\n",
            "319:\tlearn: 3.3210146\ttotal: 4.35s\tremaining: 9.25s\n",
            "320:\tlearn: 3.3143457\ttotal: 4.37s\tremaining: 9.24s\n",
            "321:\tlearn: 3.3066488\ttotal: 4.38s\tremaining: 9.22s\n",
            "322:\tlearn: 3.2992874\ttotal: 4.39s\tremaining: 9.21s\n",
            "323:\tlearn: 3.2953642\ttotal: 4.41s\tremaining: 9.2s\n",
            "324:\tlearn: 3.2898653\ttotal: 4.42s\tremaining: 9.19s\n",
            "325:\tlearn: 3.2863948\ttotal: 4.44s\tremaining: 9.17s\n",
            "326:\tlearn: 3.2792369\ttotal: 4.45s\tremaining: 9.16s\n",
            "327:\tlearn: 3.2735961\ttotal: 4.47s\tremaining: 9.15s\n",
            "328:\tlearn: 3.2698680\ttotal: 4.48s\tremaining: 9.14s\n",
            "329:\tlearn: 3.2666955\ttotal: 4.5s\tremaining: 9.13s\n",
            "330:\tlearn: 3.2582079\ttotal: 4.51s\tremaining: 9.11s\n",
            "331:\tlearn: 3.2549042\ttotal: 4.52s\tremaining: 9.1s\n",
            "332:\tlearn: 3.2490691\ttotal: 4.53s\tremaining: 9.08s\n",
            "333:\tlearn: 3.2432764\ttotal: 4.54s\tremaining: 9.06s\n",
            "334:\tlearn: 3.2376073\ttotal: 4.56s\tremaining: 9.05s\n",
            "335:\tlearn: 3.2330484\ttotal: 4.57s\tremaining: 9.03s\n",
            "336:\tlearn: 3.2277260\ttotal: 4.58s\tremaining: 9.02s\n",
            "337:\tlearn: 3.2218906\ttotal: 4.6s\tremaining: 9s\n",
            "338:\tlearn: 3.2153449\ttotal: 4.61s\tremaining: 8.99s\n",
            "339:\tlearn: 3.2108696\ttotal: 4.62s\tremaining: 8.97s\n",
            "340:\tlearn: 3.2054362\ttotal: 4.64s\tremaining: 8.96s\n",
            "341:\tlearn: 3.2000972\ttotal: 4.65s\tremaining: 8.95s\n",
            "342:\tlearn: 3.1953795\ttotal: 4.66s\tremaining: 8.93s\n",
            "343:\tlearn: 3.1909608\ttotal: 4.68s\tremaining: 8.92s\n",
            "344:\tlearn: 3.1855177\ttotal: 4.69s\tremaining: 8.91s\n",
            "345:\tlearn: 3.1809098\ttotal: 4.71s\tremaining: 8.89s\n",
            "346:\tlearn: 3.1760803\ttotal: 4.72s\tremaining: 8.88s\n",
            "347:\tlearn: 3.1688367\ttotal: 4.73s\tremaining: 8.87s\n",
            "348:\tlearn: 3.1642608\ttotal: 4.74s\tremaining: 8.85s\n",
            "349:\tlearn: 3.1588149\ttotal: 4.76s\tremaining: 8.83s\n",
            "350:\tlearn: 3.1546088\ttotal: 4.77s\tremaining: 8.82s\n",
            "351:\tlearn: 3.1520797\ttotal: 4.78s\tremaining: 8.8s\n",
            "352:\tlearn: 3.1488256\ttotal: 4.79s\tremaining: 8.79s\n",
            "353:\tlearn: 3.1440034\ttotal: 4.81s\tremaining: 8.78s\n",
            "354:\tlearn: 3.1352010\ttotal: 4.82s\tremaining: 8.76s\n",
            "355:\tlearn: 3.1286764\ttotal: 4.84s\tremaining: 8.75s\n",
            "356:\tlearn: 3.1248053\ttotal: 4.85s\tremaining: 8.74s\n",
            "357:\tlearn: 3.1178358\ttotal: 4.87s\tremaining: 8.73s\n",
            "358:\tlearn: 3.1151153\ttotal: 4.88s\tremaining: 8.71s\n",
            "359:\tlearn: 3.1085890\ttotal: 4.89s\tremaining: 8.7s\n",
            "360:\tlearn: 3.1018159\ttotal: 4.92s\tremaining: 8.71s\n",
            "361:\tlearn: 3.0955903\ttotal: 4.93s\tremaining: 8.69s\n",
            "362:\tlearn: 3.0927967\ttotal: 4.95s\tremaining: 8.68s\n",
            "363:\tlearn: 3.0872212\ttotal: 4.96s\tremaining: 8.66s\n",
            "364:\tlearn: 3.0806400\ttotal: 4.97s\tremaining: 8.65s\n",
            "365:\tlearn: 3.0735700\ttotal: 4.98s\tremaining: 8.63s\n",
            "366:\tlearn: 3.0670794\ttotal: 5s\tremaining: 8.62s\n",
            "367:\tlearn: 3.0631784\ttotal: 5.01s\tremaining: 8.6s\n",
            "368:\tlearn: 3.0571851\ttotal: 5.02s\tremaining: 8.59s\n",
            "369:\tlearn: 3.0550951\ttotal: 5.04s\tremaining: 8.57s\n",
            "370:\tlearn: 3.0501400\ttotal: 5.05s\tremaining: 8.56s\n",
            "371:\tlearn: 3.0457187\ttotal: 5.06s\tremaining: 8.54s\n",
            "372:\tlearn: 3.0409849\ttotal: 5.08s\tremaining: 8.53s\n",
            "373:\tlearn: 3.0366452\ttotal: 5.09s\tremaining: 8.52s\n",
            "374:\tlearn: 3.0324628\ttotal: 5.11s\tremaining: 8.51s\n",
            "375:\tlearn: 3.0265096\ttotal: 5.12s\tremaining: 8.5s\n",
            "376:\tlearn: 3.0202105\ttotal: 5.13s\tremaining: 8.48s\n",
            "377:\tlearn: 3.0160237\ttotal: 5.15s\tremaining: 8.47s\n",
            "378:\tlearn: 3.0114447\ttotal: 5.16s\tremaining: 8.46s\n",
            "379:\tlearn: 3.0047204\ttotal: 5.17s\tremaining: 8.44s\n",
            "380:\tlearn: 3.0015987\ttotal: 5.19s\tremaining: 8.43s\n",
            "381:\tlearn: 2.9967784\ttotal: 5.2s\tremaining: 8.41s\n",
            "382:\tlearn: 2.9923656\ttotal: 5.21s\tremaining: 8.4s\n",
            "383:\tlearn: 2.9875863\ttotal: 5.23s\tremaining: 8.38s\n",
            "384:\tlearn: 2.9839816\ttotal: 5.24s\tremaining: 8.37s\n",
            "385:\tlearn: 2.9807558\ttotal: 5.25s\tremaining: 8.36s\n",
            "386:\tlearn: 2.9766397\ttotal: 5.26s\tremaining: 8.34s\n",
            "387:\tlearn: 2.9718338\ttotal: 5.28s\tremaining: 8.32s\n",
            "388:\tlearn: 2.9675361\ttotal: 5.29s\tremaining: 8.31s\n",
            "389:\tlearn: 2.9647741\ttotal: 5.31s\tremaining: 8.3s\n",
            "390:\tlearn: 2.9614455\ttotal: 5.32s\tremaining: 8.29s\n",
            "391:\tlearn: 2.9558456\ttotal: 5.34s\tremaining: 8.28s\n",
            "392:\tlearn: 2.9499340\ttotal: 5.35s\tremaining: 8.27s\n",
            "393:\tlearn: 2.9435500\ttotal: 5.37s\tremaining: 8.25s\n",
            "394:\tlearn: 2.9389135\ttotal: 5.38s\tremaining: 8.24s\n",
            "395:\tlearn: 2.9328951\ttotal: 5.39s\tremaining: 8.22s\n",
            "396:\tlearn: 2.9261974\ttotal: 5.41s\tremaining: 8.21s\n",
            "397:\tlearn: 2.9241120\ttotal: 5.42s\tremaining: 8.2s\n",
            "398:\tlearn: 2.9195371\ttotal: 5.43s\tremaining: 8.19s\n",
            "399:\tlearn: 2.9132454\ttotal: 5.45s\tremaining: 8.17s\n",
            "400:\tlearn: 2.9096178\ttotal: 5.46s\tremaining: 8.16s\n",
            "401:\tlearn: 2.9038886\ttotal: 5.48s\tremaining: 8.15s\n",
            "402:\tlearn: 2.8985155\ttotal: 5.49s\tremaining: 8.13s\n",
            "403:\tlearn: 2.8928125\ttotal: 5.5s\tremaining: 8.12s\n",
            "404:\tlearn: 2.8886455\ttotal: 5.52s\tremaining: 8.11s\n",
            "405:\tlearn: 2.8840916\ttotal: 5.53s\tremaining: 8.09s\n",
            "406:\tlearn: 2.8790723\ttotal: 5.54s\tremaining: 8.07s\n",
            "407:\tlearn: 2.8740116\ttotal: 5.55s\tremaining: 8.06s\n",
            "408:\tlearn: 2.8711439\ttotal: 5.57s\tremaining: 8.05s\n",
            "409:\tlearn: 2.8665365\ttotal: 5.58s\tremaining: 8.03s\n",
            "410:\tlearn: 2.8623936\ttotal: 5.59s\tremaining: 8.02s\n",
            "411:\tlearn: 2.8542179\ttotal: 5.61s\tremaining: 8s\n",
            "412:\tlearn: 2.8491188\ttotal: 5.62s\tremaining: 7.99s\n",
            "413:\tlearn: 2.8442236\ttotal: 5.63s\tremaining: 7.97s\n",
            "414:\tlearn: 2.8387943\ttotal: 5.65s\tremaining: 7.96s\n",
            "415:\tlearn: 2.8341539\ttotal: 5.66s\tremaining: 7.95s\n",
            "416:\tlearn: 2.8306663\ttotal: 5.67s\tremaining: 7.93s\n",
            "417:\tlearn: 2.8240983\ttotal: 5.69s\tremaining: 7.92s\n",
            "418:\tlearn: 2.8202530\ttotal: 5.7s\tremaining: 7.91s\n",
            "419:\tlearn: 2.8148534\ttotal: 5.72s\tremaining: 7.9s\n",
            "420:\tlearn: 2.8111730\ttotal: 5.73s\tremaining: 7.88s\n",
            "421:\tlearn: 2.8065481\ttotal: 5.75s\tremaining: 7.87s\n",
            "422:\tlearn: 2.8033867\ttotal: 5.76s\tremaining: 7.86s\n",
            "423:\tlearn: 2.7992078\ttotal: 5.77s\tremaining: 7.84s\n",
            "424:\tlearn: 2.7937759\ttotal: 5.79s\tremaining: 7.83s\n",
            "425:\tlearn: 2.7906024\ttotal: 5.8s\tremaining: 7.81s\n",
            "426:\tlearn: 2.7867031\ttotal: 5.81s\tremaining: 7.8s\n",
            "427:\tlearn: 2.7825617\ttotal: 5.82s\tremaining: 7.78s\n",
            "428:\tlearn: 2.7794725\ttotal: 5.84s\tremaining: 7.77s\n",
            "429:\tlearn: 2.7754330\ttotal: 5.85s\tremaining: 7.75s\n",
            "430:\tlearn: 2.7727142\ttotal: 5.86s\tremaining: 7.74s\n",
            "431:\tlearn: 2.7687462\ttotal: 5.88s\tremaining: 7.73s\n",
            "432:\tlearn: 2.7647895\ttotal: 5.89s\tremaining: 7.71s\n",
            "433:\tlearn: 2.7608992\ttotal: 5.91s\tremaining: 7.7s\n",
            "434:\tlearn: 2.7557354\ttotal: 5.93s\tremaining: 7.7s\n",
            "435:\tlearn: 2.7505954\ttotal: 5.95s\tremaining: 7.69s\n",
            "436:\tlearn: 2.7466982\ttotal: 5.96s\tremaining: 7.68s\n",
            "437:\tlearn: 2.7413699\ttotal: 5.97s\tremaining: 7.66s\n",
            "438:\tlearn: 2.7371141\ttotal: 5.99s\tremaining: 7.65s\n",
            "439:\tlearn: 2.7334550\ttotal: 6s\tremaining: 7.63s\n",
            "440:\tlearn: 2.7289629\ttotal: 6.01s\tremaining: 7.62s\n",
            "441:\tlearn: 2.7275961\ttotal: 6.02s\tremaining: 7.61s\n",
            "442:\tlearn: 2.7252544\ttotal: 6.04s\tremaining: 7.59s\n",
            "443:\tlearn: 2.7214592\ttotal: 6.05s\tremaining: 7.58s\n",
            "444:\tlearn: 2.7192113\ttotal: 6.07s\tremaining: 7.57s\n",
            "445:\tlearn: 2.7156153\ttotal: 6.08s\tremaining: 7.55s\n",
            "446:\tlearn: 2.7119962\ttotal: 6.1s\tremaining: 7.54s\n",
            "447:\tlearn: 2.7072037\ttotal: 6.11s\tremaining: 7.53s\n",
            "448:\tlearn: 2.7023344\ttotal: 6.13s\tremaining: 7.52s\n",
            "449:\tlearn: 2.6972160\ttotal: 6.15s\tremaining: 7.51s\n",
            "450:\tlearn: 2.6942412\ttotal: 6.16s\tremaining: 7.5s\n",
            "451:\tlearn: 2.6905290\ttotal: 6.17s\tremaining: 7.49s\n",
            "452:\tlearn: 2.6845957\ttotal: 6.19s\tremaining: 7.47s\n",
            "453:\tlearn: 2.6824531\ttotal: 6.2s\tremaining: 7.46s\n",
            "454:\tlearn: 2.6756301\ttotal: 6.21s\tremaining: 7.44s\n",
            "455:\tlearn: 2.6705944\ttotal: 6.23s\tremaining: 7.43s\n",
            "456:\tlearn: 2.6672781\ttotal: 6.24s\tremaining: 7.41s\n",
            "457:\tlearn: 2.6641735\ttotal: 6.25s\tremaining: 7.4s\n",
            "458:\tlearn: 2.6622471\ttotal: 6.26s\tremaining: 7.38s\n",
            "459:\tlearn: 2.6567289\ttotal: 6.28s\tremaining: 7.37s\n",
            "460:\tlearn: 2.6519499\ttotal: 6.29s\tremaining: 7.35s\n",
            "461:\tlearn: 2.6473923\ttotal: 6.3s\tremaining: 7.34s\n",
            "462:\tlearn: 2.6431528\ttotal: 6.32s\tremaining: 7.33s\n",
            "463:\tlearn: 2.6387538\ttotal: 6.33s\tremaining: 7.32s\n",
            "464:\tlearn: 2.6342186\ttotal: 6.34s\tremaining: 7.3s\n",
            "465:\tlearn: 2.6312973\ttotal: 6.36s\tremaining: 7.29s\n",
            "466:\tlearn: 2.6291472\ttotal: 6.37s\tremaining: 7.27s\n",
            "467:\tlearn: 2.6268938\ttotal: 6.39s\tremaining: 7.26s\n",
            "468:\tlearn: 2.6219691\ttotal: 6.4s\tremaining: 7.25s\n",
            "469:\tlearn: 2.6185041\ttotal: 6.41s\tremaining: 7.23s\n",
            "470:\tlearn: 2.6147368\ttotal: 6.43s\tremaining: 7.22s\n",
            "471:\tlearn: 2.6106810\ttotal: 6.44s\tremaining: 7.21s\n",
            "472:\tlearn: 2.6083058\ttotal: 6.46s\tremaining: 7.19s\n",
            "473:\tlearn: 2.6042780\ttotal: 6.47s\tremaining: 7.18s\n",
            "474:\tlearn: 2.6005771\ttotal: 6.48s\tremaining: 7.16s\n",
            "475:\tlearn: 2.5966838\ttotal: 6.49s\tremaining: 7.15s\n",
            "476:\tlearn: 2.5933908\ttotal: 6.51s\tremaining: 7.13s\n",
            "477:\tlearn: 2.5886194\ttotal: 6.52s\tremaining: 7.12s\n",
            "478:\tlearn: 2.5857547\ttotal: 6.53s\tremaining: 7.11s\n",
            "479:\tlearn: 2.5822742\ttotal: 6.55s\tremaining: 7.09s\n",
            "480:\tlearn: 2.5777927\ttotal: 6.56s\tremaining: 7.08s\n",
            "481:\tlearn: 2.5734603\ttotal: 6.57s\tremaining: 7.07s\n",
            "482:\tlearn: 2.5709663\ttotal: 6.59s\tremaining: 7.05s\n",
            "483:\tlearn: 2.5680639\ttotal: 6.6s\tremaining: 7.04s\n",
            "484:\tlearn: 2.5635284\ttotal: 6.62s\tremaining: 7.03s\n",
            "485:\tlearn: 2.5576661\ttotal: 6.63s\tremaining: 7.01s\n",
            "486:\tlearn: 2.5539635\ttotal: 6.65s\tremaining: 7s\n",
            "487:\tlearn: 2.5515425\ttotal: 6.66s\tremaining: 6.99s\n",
            "488:\tlearn: 2.5479742\ttotal: 6.67s\tremaining: 6.97s\n",
            "489:\tlearn: 2.5457047\ttotal: 6.68s\tremaining: 6.96s\n",
            "490:\tlearn: 2.5397295\ttotal: 6.7s\tremaining: 6.94s\n",
            "491:\tlearn: 2.5366232\ttotal: 6.71s\tremaining: 6.93s\n",
            "492:\tlearn: 2.5343431\ttotal: 6.72s\tremaining: 6.92s\n",
            "493:\tlearn: 2.5294565\ttotal: 6.74s\tremaining: 6.9s\n",
            "494:\tlearn: 2.5242555\ttotal: 6.75s\tremaining: 6.89s\n",
            "495:\tlearn: 2.5210938\ttotal: 6.76s\tremaining: 6.87s\n",
            "496:\tlearn: 2.5186272\ttotal: 6.78s\tremaining: 6.86s\n",
            "497:\tlearn: 2.5150738\ttotal: 6.79s\tremaining: 6.84s\n",
            "498:\tlearn: 2.5126757\ttotal: 6.8s\tremaining: 6.83s\n",
            "499:\tlearn: 2.5089878\ttotal: 6.82s\tremaining: 6.82s\n",
            "500:\tlearn: 2.5056955\ttotal: 6.83s\tremaining: 6.8s\n",
            "501:\tlearn: 2.5027878\ttotal: 6.84s\tremaining: 6.79s\n",
            "502:\tlearn: 2.4971179\ttotal: 6.86s\tremaining: 6.77s\n",
            "503:\tlearn: 2.4948989\ttotal: 6.87s\tremaining: 6.76s\n",
            "504:\tlearn: 2.4916370\ttotal: 6.88s\tremaining: 6.75s\n",
            "505:\tlearn: 2.4880988\ttotal: 6.9s\tremaining: 6.73s\n",
            "506:\tlearn: 2.4839913\ttotal: 6.92s\tremaining: 6.73s\n",
            "507:\tlearn: 2.4820475\ttotal: 6.93s\tremaining: 6.71s\n",
            "508:\tlearn: 2.4786702\ttotal: 6.95s\tremaining: 6.7s\n",
            "509:\tlearn: 2.4750220\ttotal: 6.96s\tremaining: 6.69s\n",
            "510:\tlearn: 2.4707608\ttotal: 6.97s\tremaining: 6.67s\n",
            "511:\tlearn: 2.4653416\ttotal: 6.99s\tremaining: 6.66s\n",
            "512:\tlearn: 2.4624043\ttotal: 7s\tremaining: 6.65s\n",
            "513:\tlearn: 2.4595882\ttotal: 7.01s\tremaining: 6.63s\n",
            "514:\tlearn: 2.4577313\ttotal: 7.03s\tremaining: 6.62s\n",
            "515:\tlearn: 2.4536529\ttotal: 7.04s\tremaining: 6.6s\n",
            "516:\tlearn: 2.4502975\ttotal: 7.05s\tremaining: 6.59s\n",
            "517:\tlearn: 2.4450951\ttotal: 7.07s\tremaining: 6.58s\n",
            "518:\tlearn: 2.4407405\ttotal: 7.08s\tremaining: 6.56s\n",
            "519:\tlearn: 2.4371435\ttotal: 7.09s\tremaining: 6.55s\n",
            "520:\tlearn: 2.4332807\ttotal: 7.11s\tremaining: 6.54s\n",
            "521:\tlearn: 2.4303945\ttotal: 7.12s\tremaining: 6.52s\n",
            "522:\tlearn: 2.4273460\ttotal: 7.14s\tremaining: 6.51s\n",
            "523:\tlearn: 2.4256570\ttotal: 7.15s\tremaining: 6.5s\n",
            "524:\tlearn: 2.4203606\ttotal: 7.17s\tremaining: 6.49s\n",
            "525:\tlearn: 2.4161984\ttotal: 7.18s\tremaining: 6.47s\n",
            "526:\tlearn: 2.4126450\ttotal: 7.19s\tremaining: 6.46s\n",
            "527:\tlearn: 2.4081672\ttotal: 7.21s\tremaining: 6.44s\n",
            "528:\tlearn: 2.4033002\ttotal: 7.22s\tremaining: 6.43s\n",
            "529:\tlearn: 2.4003139\ttotal: 7.23s\tremaining: 6.41s\n",
            "530:\tlearn: 2.3967670\ttotal: 7.25s\tremaining: 6.4s\n",
            "531:\tlearn: 2.3942664\ttotal: 7.26s\tremaining: 6.38s\n",
            "532:\tlearn: 2.3906520\ttotal: 7.27s\tremaining: 6.37s\n",
            "533:\tlearn: 2.3896204\ttotal: 7.29s\tremaining: 6.36s\n",
            "534:\tlearn: 2.3845347\ttotal: 7.3s\tremaining: 6.34s\n",
            "535:\tlearn: 2.3804992\ttotal: 7.31s\tremaining: 6.33s\n",
            "536:\tlearn: 2.3777478\ttotal: 7.33s\tremaining: 6.32s\n",
            "537:\tlearn: 2.3738674\ttotal: 7.34s\tremaining: 6.3s\n",
            "538:\tlearn: 2.3698216\ttotal: 7.35s\tremaining: 6.29s\n",
            "539:\tlearn: 2.3660115\ttotal: 7.37s\tremaining: 6.28s\n",
            "540:\tlearn: 2.3622729\ttotal: 7.38s\tremaining: 6.26s\n",
            "541:\tlearn: 2.3579719\ttotal: 7.39s\tremaining: 6.25s\n",
            "542:\tlearn: 2.3537727\ttotal: 7.41s\tremaining: 6.23s\n",
            "543:\tlearn: 2.3501337\ttotal: 7.42s\tremaining: 6.22s\n",
            "544:\tlearn: 2.3485227\ttotal: 7.43s\tremaining: 6.21s\n",
            "545:\tlearn: 2.3428545\ttotal: 7.45s\tremaining: 6.19s\n",
            "546:\tlearn: 2.3382962\ttotal: 7.46s\tremaining: 6.18s\n",
            "547:\tlearn: 2.3351307\ttotal: 7.47s\tremaining: 6.16s\n",
            "548:\tlearn: 2.3331443\ttotal: 7.48s\tremaining: 6.15s\n",
            "549:\tlearn: 2.3311262\ttotal: 7.5s\tremaining: 6.13s\n",
            "550:\tlearn: 2.3268155\ttotal: 7.51s\tremaining: 6.12s\n",
            "551:\tlearn: 2.3240507\ttotal: 7.52s\tremaining: 6.11s\n",
            "552:\tlearn: 2.3189025\ttotal: 7.54s\tremaining: 6.09s\n",
            "553:\tlearn: 2.3144118\ttotal: 7.55s\tremaining: 6.08s\n",
            "554:\tlearn: 2.3113190\ttotal: 7.57s\tremaining: 6.07s\n",
            "555:\tlearn: 2.3073245\ttotal: 7.58s\tremaining: 6.05s\n",
            "556:\tlearn: 2.3032081\ttotal: 7.6s\tremaining: 6.04s\n",
            "557:\tlearn: 2.2997648\ttotal: 7.61s\tremaining: 6.03s\n",
            "558:\tlearn: 2.2959436\ttotal: 7.62s\tremaining: 6.01s\n",
            "559:\tlearn: 2.2926576\ttotal: 7.64s\tremaining: 6s\n",
            "560:\tlearn: 2.2896593\ttotal: 7.65s\tremaining: 5.99s\n",
            "561:\tlearn: 2.2865262\ttotal: 7.66s\tremaining: 5.97s\n",
            "562:\tlearn: 2.2833749\ttotal: 7.67s\tremaining: 5.96s\n",
            "563:\tlearn: 2.2785939\ttotal: 7.69s\tremaining: 5.94s\n",
            "564:\tlearn: 2.2745742\ttotal: 7.7s\tremaining: 5.93s\n",
            "565:\tlearn: 2.2709031\ttotal: 7.71s\tremaining: 5.91s\n",
            "566:\tlearn: 2.2683006\ttotal: 7.72s\tremaining: 5.9s\n",
            "567:\tlearn: 2.2644652\ttotal: 7.74s\tremaining: 5.88s\n",
            "568:\tlearn: 2.2607008\ttotal: 7.75s\tremaining: 5.87s\n",
            "569:\tlearn: 2.2580164\ttotal: 7.76s\tremaining: 5.86s\n",
            "570:\tlearn: 2.2559775\ttotal: 7.78s\tremaining: 5.84s\n",
            "571:\tlearn: 2.2522347\ttotal: 7.79s\tremaining: 5.83s\n",
            "572:\tlearn: 2.2486749\ttotal: 7.8s\tremaining: 5.81s\n",
            "573:\tlearn: 2.2458031\ttotal: 7.81s\tremaining: 5.8s\n",
            "574:\tlearn: 2.2432819\ttotal: 7.83s\tremaining: 5.79s\n",
            "575:\tlearn: 2.2414157\ttotal: 7.84s\tremaining: 5.77s\n",
            "576:\tlearn: 2.2367156\ttotal: 7.85s\tremaining: 5.76s\n",
            "577:\tlearn: 2.2332490\ttotal: 7.87s\tremaining: 5.74s\n",
            "578:\tlearn: 2.2304262\ttotal: 7.88s\tremaining: 5.73s\n",
            "579:\tlearn: 2.2281504\ttotal: 7.89s\tremaining: 5.72s\n",
            "580:\tlearn: 2.2249414\ttotal: 7.91s\tremaining: 5.71s\n",
            "581:\tlearn: 2.2218777\ttotal: 7.93s\tremaining: 5.69s\n",
            "582:\tlearn: 2.2190844\ttotal: 7.94s\tremaining: 5.68s\n",
            "583:\tlearn: 2.2161556\ttotal: 7.95s\tremaining: 5.67s\n",
            "584:\tlearn: 2.2136732\ttotal: 7.96s\tremaining: 5.65s\n",
            "585:\tlearn: 2.2090287\ttotal: 7.98s\tremaining: 5.64s\n",
            "586:\tlearn: 2.2063511\ttotal: 7.99s\tremaining: 5.62s\n",
            "587:\tlearn: 2.2036478\ttotal: 8.01s\tremaining: 5.61s\n",
            "588:\tlearn: 2.2017428\ttotal: 8.02s\tremaining: 5.6s\n",
            "589:\tlearn: 2.1983858\ttotal: 8.03s\tremaining: 5.58s\n",
            "590:\tlearn: 2.1950215\ttotal: 8.05s\tremaining: 5.57s\n",
            "591:\tlearn: 2.1910594\ttotal: 8.06s\tremaining: 5.55s\n",
            "592:\tlearn: 2.1878733\ttotal: 8.07s\tremaining: 5.54s\n",
            "593:\tlearn: 2.1859186\ttotal: 8.09s\tremaining: 5.53s\n",
            "594:\tlearn: 2.1816122\ttotal: 8.1s\tremaining: 5.51s\n",
            "595:\tlearn: 2.1771845\ttotal: 8.11s\tremaining: 5.5s\n",
            "596:\tlearn: 2.1744641\ttotal: 8.13s\tremaining: 5.49s\n",
            "597:\tlearn: 2.1729115\ttotal: 8.14s\tremaining: 5.47s\n",
            "598:\tlearn: 2.1684015\ttotal: 8.16s\tremaining: 5.46s\n",
            "599:\tlearn: 2.1641075\ttotal: 8.17s\tremaining: 5.45s\n",
            "600:\tlearn: 2.1626996\ttotal: 8.19s\tremaining: 5.44s\n",
            "601:\tlearn: 2.1591573\ttotal: 8.2s\tremaining: 5.42s\n",
            "602:\tlearn: 2.1569620\ttotal: 8.22s\tremaining: 5.41s\n",
            "603:\tlearn: 2.1542482\ttotal: 8.23s\tremaining: 5.4s\n",
            "604:\tlearn: 2.1521998\ttotal: 8.24s\tremaining: 5.38s\n",
            "605:\tlearn: 2.1489973\ttotal: 8.26s\tremaining: 5.37s\n",
            "606:\tlearn: 2.1465763\ttotal: 8.27s\tremaining: 5.35s\n",
            "607:\tlearn: 2.1444248\ttotal: 8.28s\tremaining: 5.34s\n",
            "608:\tlearn: 2.1405799\ttotal: 8.3s\tremaining: 5.33s\n",
            "609:\tlearn: 2.1392208\ttotal: 8.31s\tremaining: 5.31s\n",
            "610:\tlearn: 2.1353241\ttotal: 8.32s\tremaining: 5.3s\n",
            "611:\tlearn: 2.1325058\ttotal: 8.34s\tremaining: 5.29s\n",
            "612:\tlearn: 2.1295152\ttotal: 8.35s\tremaining: 5.27s\n",
            "613:\tlearn: 2.1250336\ttotal: 8.37s\tremaining: 5.26s\n",
            "614:\tlearn: 2.1234830\ttotal: 8.38s\tremaining: 5.25s\n",
            "615:\tlearn: 2.1214259\ttotal: 8.4s\tremaining: 5.24s\n",
            "616:\tlearn: 2.1177341\ttotal: 8.41s\tremaining: 5.22s\n",
            "617:\tlearn: 2.1161617\ttotal: 8.43s\tremaining: 5.21s\n",
            "618:\tlearn: 2.1138115\ttotal: 8.44s\tremaining: 5.19s\n",
            "619:\tlearn: 2.1108732\ttotal: 8.45s\tremaining: 5.18s\n",
            "620:\tlearn: 2.1086162\ttotal: 8.46s\tremaining: 5.17s\n",
            "621:\tlearn: 2.1051266\ttotal: 8.48s\tremaining: 5.15s\n",
            "622:\tlearn: 2.0997488\ttotal: 8.49s\tremaining: 5.14s\n",
            "623:\tlearn: 2.0960274\ttotal: 8.5s\tremaining: 5.12s\n",
            "624:\tlearn: 2.0932654\ttotal: 8.52s\tremaining: 5.11s\n",
            "625:\tlearn: 2.0893102\ttotal: 8.53s\tremaining: 5.1s\n",
            "626:\tlearn: 2.0872484\ttotal: 8.55s\tremaining: 5.08s\n",
            "627:\tlearn: 2.0856331\ttotal: 8.56s\tremaining: 5.07s\n",
            "628:\tlearn: 2.0826323\ttotal: 8.58s\tremaining: 5.06s\n",
            "629:\tlearn: 2.0793476\ttotal: 8.59s\tremaining: 5.04s\n",
            "630:\tlearn: 2.0768108\ttotal: 8.61s\tremaining: 5.03s\n",
            "631:\tlearn: 2.0735121\ttotal: 8.62s\tremaining: 5.02s\n",
            "632:\tlearn: 2.0712756\ttotal: 8.63s\tremaining: 5.01s\n",
            "633:\tlearn: 2.0698860\ttotal: 8.65s\tremaining: 4.99s\n",
            "634:\tlearn: 2.0678440\ttotal: 8.66s\tremaining: 4.98s\n",
            "635:\tlearn: 2.0651070\ttotal: 8.68s\tremaining: 4.96s\n",
            "636:\tlearn: 2.0627607\ttotal: 8.69s\tremaining: 4.95s\n",
            "637:\tlearn: 2.0607704\ttotal: 8.7s\tremaining: 4.94s\n",
            "638:\tlearn: 2.0583405\ttotal: 8.71s\tremaining: 4.92s\n",
            "639:\tlearn: 2.0563746\ttotal: 8.73s\tremaining: 4.91s\n",
            "640:\tlearn: 2.0530994\ttotal: 8.74s\tremaining: 4.89s\n",
            "641:\tlearn: 2.0496792\ttotal: 8.75s\tremaining: 4.88s\n",
            "642:\tlearn: 2.0465698\ttotal: 8.77s\tremaining: 4.87s\n",
            "643:\tlearn: 2.0441798\ttotal: 8.78s\tremaining: 4.85s\n",
            "644:\tlearn: 2.0420144\ttotal: 8.79s\tremaining: 4.84s\n",
            "645:\tlearn: 2.0400079\ttotal: 8.8s\tremaining: 4.82s\n",
            "646:\tlearn: 2.0364297\ttotal: 8.82s\tremaining: 4.81s\n",
            "647:\tlearn: 2.0333949\ttotal: 8.83s\tremaining: 4.8s\n",
            "648:\tlearn: 2.0301501\ttotal: 8.85s\tremaining: 4.78s\n",
            "649:\tlearn: 2.0288811\ttotal: 8.86s\tremaining: 4.77s\n",
            "650:\tlearn: 2.0274219\ttotal: 8.87s\tremaining: 4.76s\n",
            "651:\tlearn: 2.0248365\ttotal: 8.89s\tremaining: 4.75s\n",
            "652:\tlearn: 2.0229131\ttotal: 8.91s\tremaining: 4.73s\n",
            "653:\tlearn: 2.0202968\ttotal: 8.92s\tremaining: 4.72s\n",
            "654:\tlearn: 2.0179407\ttotal: 8.93s\tremaining: 4.71s\n",
            "655:\tlearn: 2.0127366\ttotal: 8.95s\tremaining: 4.69s\n",
            "656:\tlearn: 2.0096893\ttotal: 8.96s\tremaining: 4.68s\n",
            "657:\tlearn: 2.0057499\ttotal: 8.97s\tremaining: 4.66s\n",
            "658:\tlearn: 2.0012103\ttotal: 8.99s\tremaining: 4.65s\n",
            "659:\tlearn: 1.9980928\ttotal: 9s\tremaining: 4.64s\n",
            "660:\tlearn: 1.9965624\ttotal: 9.01s\tremaining: 4.62s\n",
            "661:\tlearn: 1.9936963\ttotal: 9.03s\tremaining: 4.61s\n",
            "662:\tlearn: 1.9888945\ttotal: 9.04s\tremaining: 4.6s\n",
            "663:\tlearn: 1.9875247\ttotal: 9.06s\tremaining: 4.58s\n",
            "664:\tlearn: 1.9835304\ttotal: 9.07s\tremaining: 4.57s\n",
            "665:\tlearn: 1.9790148\ttotal: 9.08s\tremaining: 4.56s\n",
            "666:\tlearn: 1.9774369\ttotal: 9.1s\tremaining: 4.54s\n",
            "667:\tlearn: 1.9743180\ttotal: 9.11s\tremaining: 4.53s\n",
            "668:\tlearn: 1.9724405\ttotal: 9.12s\tremaining: 4.51s\n",
            "669:\tlearn: 1.9699679\ttotal: 9.14s\tremaining: 4.5s\n",
            "670:\tlearn: 1.9667638\ttotal: 9.15s\tremaining: 4.49s\n",
            "671:\tlearn: 1.9642153\ttotal: 9.16s\tremaining: 4.47s\n",
            "672:\tlearn: 1.9606669\ttotal: 9.18s\tremaining: 4.46s\n",
            "673:\tlearn: 1.9572488\ttotal: 9.19s\tremaining: 4.44s\n",
            "674:\tlearn: 1.9549496\ttotal: 9.2s\tremaining: 4.43s\n",
            "675:\tlearn: 1.9524643\ttotal: 9.21s\tremaining: 4.42s\n",
            "676:\tlearn: 1.9504297\ttotal: 9.23s\tremaining: 4.4s\n",
            "677:\tlearn: 1.9490614\ttotal: 9.25s\tremaining: 4.39s\n",
            "678:\tlearn: 1.9467944\ttotal: 9.26s\tremaining: 4.38s\n",
            "679:\tlearn: 1.9440519\ttotal: 9.27s\tremaining: 4.36s\n",
            "680:\tlearn: 1.9422501\ttotal: 9.29s\tremaining: 4.35s\n",
            "681:\tlearn: 1.9378562\ttotal: 9.3s\tremaining: 4.34s\n",
            "682:\tlearn: 1.9357934\ttotal: 9.31s\tremaining: 4.32s\n",
            "683:\tlearn: 1.9334930\ttotal: 9.33s\tremaining: 4.31s\n",
            "684:\tlearn: 1.9313917\ttotal: 9.34s\tremaining: 4.3s\n",
            "685:\tlearn: 1.9283617\ttotal: 9.36s\tremaining: 4.28s\n",
            "686:\tlearn: 1.9264103\ttotal: 9.37s\tremaining: 4.27s\n",
            "687:\tlearn: 1.9249098\ttotal: 9.38s\tremaining: 4.25s\n",
            "688:\tlearn: 1.9228769\ttotal: 9.4s\tremaining: 4.24s\n",
            "689:\tlearn: 1.9208587\ttotal: 9.41s\tremaining: 4.23s\n",
            "690:\tlearn: 1.9173610\ttotal: 9.43s\tremaining: 4.22s\n",
            "691:\tlearn: 1.9153114\ttotal: 9.45s\tremaining: 4.2s\n",
            "692:\tlearn: 1.9126917\ttotal: 9.46s\tremaining: 4.19s\n",
            "693:\tlearn: 1.9088358\ttotal: 9.47s\tremaining: 4.18s\n",
            "694:\tlearn: 1.9072770\ttotal: 9.49s\tremaining: 4.16s\n",
            "695:\tlearn: 1.9048667\ttotal: 9.5s\tremaining: 4.15s\n",
            "696:\tlearn: 1.9022952\ttotal: 9.51s\tremaining: 4.13s\n",
            "697:\tlearn: 1.9003222\ttotal: 9.53s\tremaining: 4.12s\n",
            "698:\tlearn: 1.8966557\ttotal: 9.54s\tremaining: 4.11s\n",
            "699:\tlearn: 1.8941141\ttotal: 9.55s\tremaining: 4.09s\n",
            "700:\tlearn: 1.8905408\ttotal: 9.56s\tremaining: 4.08s\n",
            "701:\tlearn: 1.8873440\ttotal: 9.58s\tremaining: 4.07s\n",
            "702:\tlearn: 1.8844643\ttotal: 9.59s\tremaining: 4.05s\n",
            "703:\tlearn: 1.8821760\ttotal: 9.6s\tremaining: 4.04s\n",
            "704:\tlearn: 1.8788398\ttotal: 9.62s\tremaining: 4.02s\n",
            "705:\tlearn: 1.8768537\ttotal: 9.63s\tremaining: 4.01s\n",
            "706:\tlearn: 1.8737940\ttotal: 9.65s\tremaining: 4s\n",
            "707:\tlearn: 1.8706984\ttotal: 9.66s\tremaining: 3.98s\n",
            "708:\tlearn: 1.8677757\ttotal: 9.67s\tremaining: 3.97s\n",
            "709:\tlearn: 1.8649121\ttotal: 9.69s\tremaining: 3.96s\n",
            "710:\tlearn: 1.8620488\ttotal: 9.7s\tremaining: 3.94s\n",
            "711:\tlearn: 1.8587705\ttotal: 9.71s\tremaining: 3.93s\n",
            "712:\tlearn: 1.8549929\ttotal: 9.72s\tremaining: 3.91s\n",
            "713:\tlearn: 1.8528768\ttotal: 9.74s\tremaining: 3.9s\n",
            "714:\tlearn: 1.8501943\ttotal: 9.75s\tremaining: 3.89s\n",
            "715:\tlearn: 1.8469215\ttotal: 9.76s\tremaining: 3.87s\n",
            "716:\tlearn: 1.8444087\ttotal: 9.78s\tremaining: 3.86s\n",
            "717:\tlearn: 1.8420860\ttotal: 9.79s\tremaining: 3.85s\n",
            "718:\tlearn: 1.8402671\ttotal: 9.81s\tremaining: 3.83s\n",
            "719:\tlearn: 1.8377875\ttotal: 9.82s\tremaining: 3.82s\n",
            "720:\tlearn: 1.8352800\ttotal: 9.83s\tremaining: 3.8s\n",
            "721:\tlearn: 1.8328399\ttotal: 9.85s\tremaining: 3.79s\n",
            "722:\tlearn: 1.8299225\ttotal: 9.86s\tremaining: 3.78s\n",
            "723:\tlearn: 1.8279947\ttotal: 9.88s\tremaining: 3.77s\n",
            "724:\tlearn: 1.8241567\ttotal: 9.9s\tremaining: 3.75s\n",
            "725:\tlearn: 1.8223985\ttotal: 9.91s\tremaining: 3.74s\n",
            "726:\tlearn: 1.8197453\ttotal: 9.93s\tremaining: 3.73s\n",
            "727:\tlearn: 1.8169450\ttotal: 9.94s\tremaining: 3.71s\n",
            "728:\tlearn: 1.8150594\ttotal: 9.95s\tremaining: 3.7s\n",
            "729:\tlearn: 1.8135495\ttotal: 9.96s\tremaining: 3.68s\n",
            "730:\tlearn: 1.8111615\ttotal: 9.97s\tremaining: 3.67s\n",
            "731:\tlearn: 1.8095864\ttotal: 9.99s\tremaining: 3.66s\n",
            "732:\tlearn: 1.8068509\ttotal: 10s\tremaining: 3.64s\n",
            "733:\tlearn: 1.8047277\ttotal: 10s\tremaining: 3.63s\n",
            "734:\tlearn: 1.8033856\ttotal: 10s\tremaining: 3.62s\n",
            "735:\tlearn: 1.8021488\ttotal: 10s\tremaining: 3.6s\n",
            "736:\tlearn: 1.7989617\ttotal: 10.1s\tremaining: 3.59s\n",
            "737:\tlearn: 1.7967297\ttotal: 10.1s\tremaining: 3.58s\n",
            "738:\tlearn: 1.7936611\ttotal: 10.1s\tremaining: 3.56s\n",
            "739:\tlearn: 1.7911268\ttotal: 10.1s\tremaining: 3.55s\n",
            "740:\tlearn: 1.7888628\ttotal: 10.1s\tremaining: 3.53s\n",
            "741:\tlearn: 1.7870937\ttotal: 10.1s\tremaining: 3.52s\n",
            "742:\tlearn: 1.7851605\ttotal: 10.1s\tremaining: 3.51s\n",
            "743:\tlearn: 1.7832246\ttotal: 10.2s\tremaining: 3.49s\n",
            "744:\tlearn: 1.7808036\ttotal: 10.2s\tremaining: 3.48s\n",
            "745:\tlearn: 1.7785851\ttotal: 10.2s\tremaining: 3.46s\n",
            "746:\tlearn: 1.7760679\ttotal: 10.2s\tremaining: 3.45s\n",
            "747:\tlearn: 1.7733573\ttotal: 10.2s\tremaining: 3.44s\n",
            "748:\tlearn: 1.7706154\ttotal: 10.2s\tremaining: 3.42s\n",
            "749:\tlearn: 1.7678697\ttotal: 10.2s\tremaining: 3.41s\n",
            "750:\tlearn: 1.7650311\ttotal: 10.2s\tremaining: 3.4s\n",
            "751:\tlearn: 1.7633206\ttotal: 10.3s\tremaining: 3.38s\n",
            "752:\tlearn: 1.7613881\ttotal: 10.3s\tremaining: 3.37s\n",
            "753:\tlearn: 1.7584025\ttotal: 10.3s\tremaining: 3.36s\n",
            "754:\tlearn: 1.7555968\ttotal: 10.3s\tremaining: 3.34s\n",
            "755:\tlearn: 1.7525516\ttotal: 10.3s\tremaining: 3.33s\n",
            "756:\tlearn: 1.7493241\ttotal: 10.3s\tremaining: 3.32s\n",
            "757:\tlearn: 1.7473452\ttotal: 10.3s\tremaining: 3.3s\n",
            "758:\tlearn: 1.7455613\ttotal: 10.4s\tremaining: 3.29s\n",
            "759:\tlearn: 1.7430777\ttotal: 10.4s\tremaining: 3.28s\n",
            "760:\tlearn: 1.7384705\ttotal: 10.4s\tremaining: 3.26s\n",
            "761:\tlearn: 1.7370036\ttotal: 10.4s\tremaining: 3.25s\n",
            "762:\tlearn: 1.7348557\ttotal: 10.4s\tremaining: 3.23s\n",
            "763:\tlearn: 1.7314963\ttotal: 10.4s\tremaining: 3.22s\n",
            "764:\tlearn: 1.7303217\ttotal: 10.4s\tremaining: 3.21s\n",
            "765:\tlearn: 1.7284822\ttotal: 10.5s\tremaining: 3.19s\n",
            "766:\tlearn: 1.7274152\ttotal: 10.5s\tremaining: 3.18s\n",
            "767:\tlearn: 1.7251512\ttotal: 10.5s\tremaining: 3.17s\n",
            "768:\tlearn: 1.7227539\ttotal: 10.5s\tremaining: 3.15s\n",
            "769:\tlearn: 1.7217245\ttotal: 10.5s\tremaining: 3.14s\n",
            "770:\tlearn: 1.7206649\ttotal: 10.5s\tremaining: 3.13s\n",
            "771:\tlearn: 1.7186278\ttotal: 10.5s\tremaining: 3.11s\n",
            "772:\tlearn: 1.7165764\ttotal: 10.6s\tremaining: 3.1s\n",
            "773:\tlearn: 1.7155957\ttotal: 10.6s\tremaining: 3.09s\n",
            "774:\tlearn: 1.7126735\ttotal: 10.6s\tremaining: 3.07s\n",
            "775:\tlearn: 1.7101238\ttotal: 10.6s\tremaining: 3.06s\n",
            "776:\tlearn: 1.7083493\ttotal: 10.6s\tremaining: 3.04s\n",
            "777:\tlearn: 1.7059728\ttotal: 10.6s\tremaining: 3.03s\n",
            "778:\tlearn: 1.7040069\ttotal: 10.6s\tremaining: 3.02s\n",
            "779:\tlearn: 1.7020524\ttotal: 10.6s\tremaining: 3s\n",
            "780:\tlearn: 1.6997948\ttotal: 10.7s\tremaining: 2.99s\n",
            "781:\tlearn: 1.6971879\ttotal: 10.7s\tremaining: 2.98s\n",
            "782:\tlearn: 1.6949281\ttotal: 10.7s\tremaining: 2.96s\n",
            "783:\tlearn: 1.6929101\ttotal: 10.7s\tremaining: 2.95s\n",
            "784:\tlearn: 1.6905607\ttotal: 10.7s\tremaining: 2.94s\n",
            "785:\tlearn: 1.6883037\ttotal: 10.7s\tremaining: 2.92s\n",
            "786:\tlearn: 1.6859191\ttotal: 10.7s\tremaining: 2.91s\n",
            "787:\tlearn: 1.6843315\ttotal: 10.8s\tremaining: 2.89s\n",
            "788:\tlearn: 1.6822561\ttotal: 10.8s\tremaining: 2.88s\n",
            "789:\tlearn: 1.6808894\ttotal: 10.8s\tremaining: 2.87s\n",
            "790:\tlearn: 1.6786154\ttotal: 10.8s\tremaining: 2.85s\n",
            "791:\tlearn: 1.6756951\ttotal: 10.8s\tremaining: 2.84s\n",
            "792:\tlearn: 1.6729300\ttotal: 10.8s\tremaining: 2.83s\n",
            "793:\tlearn: 1.6699528\ttotal: 10.8s\tremaining: 2.81s\n",
            "794:\tlearn: 1.6678338\ttotal: 10.9s\tremaining: 2.8s\n",
            "795:\tlearn: 1.6648161\ttotal: 10.9s\tremaining: 2.79s\n",
            "796:\tlearn: 1.6620259\ttotal: 10.9s\tremaining: 2.77s\n",
            "797:\tlearn: 1.6602305\ttotal: 10.9s\tremaining: 2.76s\n",
            "798:\tlearn: 1.6576447\ttotal: 10.9s\tremaining: 2.75s\n",
            "799:\tlearn: 1.6542832\ttotal: 10.9s\tremaining: 2.73s\n",
            "800:\tlearn: 1.6524048\ttotal: 10.9s\tremaining: 2.72s\n",
            "801:\tlearn: 1.6500349\ttotal: 11s\tremaining: 2.71s\n",
            "802:\tlearn: 1.6475687\ttotal: 11s\tremaining: 2.69s\n",
            "803:\tlearn: 1.6445861\ttotal: 11s\tremaining: 2.68s\n",
            "804:\tlearn: 1.6423877\ttotal: 11s\tremaining: 2.67s\n",
            "805:\tlearn: 1.6401879\ttotal: 11s\tremaining: 2.65s\n",
            "806:\tlearn: 1.6384389\ttotal: 11s\tremaining: 2.64s\n",
            "807:\tlearn: 1.6364212\ttotal: 11s\tremaining: 2.62s\n",
            "808:\tlearn: 1.6342836\ttotal: 11.1s\tremaining: 2.61s\n",
            "809:\tlearn: 1.6333270\ttotal: 11.1s\tremaining: 2.6s\n",
            "810:\tlearn: 1.6316449\ttotal: 11.1s\tremaining: 2.58s\n",
            "811:\tlearn: 1.6291724\ttotal: 11.1s\tremaining: 2.57s\n",
            "812:\tlearn: 1.6268719\ttotal: 11.1s\tremaining: 2.56s\n",
            "813:\tlearn: 1.6251830\ttotal: 11.1s\tremaining: 2.54s\n",
            "814:\tlearn: 1.6224044\ttotal: 11.1s\tremaining: 2.53s\n",
            "815:\tlearn: 1.6210556\ttotal: 11.2s\tremaining: 2.51s\n",
            "816:\tlearn: 1.6193757\ttotal: 11.2s\tremaining: 2.5s\n",
            "817:\tlearn: 1.6165093\ttotal: 11.2s\tremaining: 2.49s\n",
            "818:\tlearn: 1.6133063\ttotal: 11.2s\tremaining: 2.47s\n",
            "819:\tlearn: 1.6106732\ttotal: 11.2s\tremaining: 2.46s\n",
            "820:\tlearn: 1.6094249\ttotal: 11.2s\tremaining: 2.44s\n",
            "821:\tlearn: 1.6078341\ttotal: 11.2s\tremaining: 2.43s\n",
            "822:\tlearn: 1.6048627\ttotal: 11.2s\tremaining: 2.42s\n",
            "823:\tlearn: 1.6035536\ttotal: 11.3s\tremaining: 2.4s\n",
            "824:\tlearn: 1.6009945\ttotal: 11.3s\tremaining: 2.39s\n",
            "825:\tlearn: 1.5979056\ttotal: 11.3s\tremaining: 2.38s\n",
            "826:\tlearn: 1.5961762\ttotal: 11.3s\tremaining: 2.36s\n",
            "827:\tlearn: 1.5942247\ttotal: 11.3s\tremaining: 2.35s\n",
            "828:\tlearn: 1.5923431\ttotal: 11.3s\tremaining: 2.34s\n",
            "829:\tlearn: 1.5904248\ttotal: 11.3s\tremaining: 2.32s\n",
            "830:\tlearn: 1.5875308\ttotal: 11.4s\tremaining: 2.31s\n",
            "831:\tlearn: 1.5852764\ttotal: 11.4s\tremaining: 2.29s\n",
            "832:\tlearn: 1.5815679\ttotal: 11.4s\tremaining: 2.28s\n",
            "833:\tlearn: 1.5791643\ttotal: 11.4s\tremaining: 2.27s\n",
            "834:\tlearn: 1.5776964\ttotal: 11.4s\tremaining: 2.25s\n",
            "835:\tlearn: 1.5760368\ttotal: 11.4s\tremaining: 2.24s\n",
            "836:\tlearn: 1.5746412\ttotal: 11.4s\tremaining: 2.23s\n",
            "837:\tlearn: 1.5722432\ttotal: 11.4s\tremaining: 2.21s\n",
            "838:\tlearn: 1.5699193\ttotal: 11.5s\tremaining: 2.2s\n",
            "839:\tlearn: 1.5676547\ttotal: 11.5s\tremaining: 2.18s\n",
            "840:\tlearn: 1.5646449\ttotal: 11.5s\tremaining: 2.17s\n",
            "841:\tlearn: 1.5624713\ttotal: 11.5s\tremaining: 2.16s\n",
            "842:\tlearn: 1.5612800\ttotal: 11.5s\tremaining: 2.14s\n",
            "843:\tlearn: 1.5593006\ttotal: 11.5s\tremaining: 2.13s\n",
            "844:\tlearn: 1.5578941\ttotal: 11.5s\tremaining: 2.12s\n",
            "845:\tlearn: 1.5551504\ttotal: 11.6s\tremaining: 2.1s\n",
            "846:\tlearn: 1.5534798\ttotal: 11.6s\tremaining: 2.09s\n",
            "847:\tlearn: 1.5508979\ttotal: 11.6s\tremaining: 2.08s\n",
            "848:\tlearn: 1.5472898\ttotal: 11.6s\tremaining: 2.06s\n",
            "849:\tlearn: 1.5452980\ttotal: 11.6s\tremaining: 2.05s\n",
            "850:\tlearn: 1.5436102\ttotal: 11.6s\tremaining: 2.03s\n",
            "851:\tlearn: 1.5412051\ttotal: 11.6s\tremaining: 2.02s\n",
            "852:\tlearn: 1.5388418\ttotal: 11.6s\tremaining: 2.01s\n",
            "853:\tlearn: 1.5362192\ttotal: 11.7s\tremaining: 1.99s\n",
            "854:\tlearn: 1.5339932\ttotal: 11.7s\tremaining: 1.98s\n",
            "855:\tlearn: 1.5326003\ttotal: 11.7s\tremaining: 1.97s\n",
            "856:\tlearn: 1.5305504\ttotal: 11.7s\tremaining: 1.95s\n",
            "857:\tlearn: 1.5289511\ttotal: 11.7s\tremaining: 1.94s\n",
            "858:\tlearn: 1.5273291\ttotal: 11.7s\tremaining: 1.92s\n",
            "859:\tlearn: 1.5268739\ttotal: 11.7s\tremaining: 1.91s\n",
            "860:\tlearn: 1.5250122\ttotal: 11.8s\tremaining: 1.9s\n",
            "861:\tlearn: 1.5220953\ttotal: 11.8s\tremaining: 1.88s\n",
            "862:\tlearn: 1.5191888\ttotal: 11.8s\tremaining: 1.87s\n",
            "863:\tlearn: 1.5171633\ttotal: 11.8s\tremaining: 1.85s\n",
            "864:\tlearn: 1.5150171\ttotal: 11.8s\tremaining: 1.84s\n",
            "865:\tlearn: 1.5135996\ttotal: 11.8s\tremaining: 1.83s\n",
            "866:\tlearn: 1.5122769\ttotal: 11.8s\tremaining: 1.81s\n",
            "867:\tlearn: 1.5110560\ttotal: 11.8s\tremaining: 1.8s\n",
            "868:\tlearn: 1.5087620\ttotal: 11.9s\tremaining: 1.79s\n",
            "869:\tlearn: 1.5068878\ttotal: 11.9s\tremaining: 1.77s\n",
            "870:\tlearn: 1.5049056\ttotal: 11.9s\tremaining: 1.76s\n",
            "871:\tlearn: 1.5021872\ttotal: 11.9s\tremaining: 1.75s\n",
            "872:\tlearn: 1.5001351\ttotal: 11.9s\tremaining: 1.73s\n",
            "873:\tlearn: 1.4986353\ttotal: 11.9s\tremaining: 1.72s\n",
            "874:\tlearn: 1.4975803\ttotal: 11.9s\tremaining: 1.71s\n",
            "875:\tlearn: 1.4954525\ttotal: 12s\tremaining: 1.69s\n",
            "876:\tlearn: 1.4940119\ttotal: 12s\tremaining: 1.68s\n",
            "877:\tlearn: 1.4914839\ttotal: 12s\tremaining: 1.67s\n",
            "878:\tlearn: 1.4891905\ttotal: 12s\tremaining: 1.65s\n",
            "879:\tlearn: 1.4870576\ttotal: 12s\tremaining: 1.64s\n",
            "880:\tlearn: 1.4844212\ttotal: 12s\tremaining: 1.62s\n",
            "881:\tlearn: 1.4824064\ttotal: 12s\tremaining: 1.61s\n",
            "882:\tlearn: 1.4809193\ttotal: 12.1s\tremaining: 1.6s\n",
            "883:\tlearn: 1.4797802\ttotal: 12.1s\tremaining: 1.58s\n",
            "884:\tlearn: 1.4774861\ttotal: 12.1s\tremaining: 1.57s\n",
            "885:\tlearn: 1.4756268\ttotal: 12.1s\tremaining: 1.55s\n",
            "886:\tlearn: 1.4742046\ttotal: 12.1s\tremaining: 1.54s\n",
            "887:\tlearn: 1.4716775\ttotal: 12.1s\tremaining: 1.53s\n",
            "888:\tlearn: 1.4702081\ttotal: 12.1s\tremaining: 1.51s\n",
            "889:\tlearn: 1.4694025\ttotal: 12.2s\tremaining: 1.5s\n",
            "890:\tlearn: 1.4676138\ttotal: 12.2s\tremaining: 1.49s\n",
            "891:\tlearn: 1.4656896\ttotal: 12.2s\tremaining: 1.47s\n",
            "892:\tlearn: 1.4625120\ttotal: 12.2s\tremaining: 1.46s\n",
            "893:\tlearn: 1.4609644\ttotal: 12.2s\tremaining: 1.45s\n",
            "894:\tlearn: 1.4593222\ttotal: 12.2s\tremaining: 1.43s\n",
            "895:\tlearn: 1.4572648\ttotal: 12.2s\tremaining: 1.42s\n",
            "896:\tlearn: 1.4561761\ttotal: 12.2s\tremaining: 1.41s\n",
            "897:\tlearn: 1.4547522\ttotal: 12.3s\tremaining: 1.39s\n",
            "898:\tlearn: 1.4532129\ttotal: 12.3s\tremaining: 1.38s\n",
            "899:\tlearn: 1.4504683\ttotal: 12.3s\tremaining: 1.36s\n",
            "900:\tlearn: 1.4483261\ttotal: 12.3s\tremaining: 1.35s\n",
            "901:\tlearn: 1.4474771\ttotal: 12.3s\tremaining: 1.34s\n",
            "902:\tlearn: 1.4463217\ttotal: 12.3s\tremaining: 1.32s\n",
            "903:\tlearn: 1.4445777\ttotal: 12.3s\tremaining: 1.31s\n",
            "904:\tlearn: 1.4422584\ttotal: 12.4s\tremaining: 1.3s\n",
            "905:\tlearn: 1.4405448\ttotal: 12.4s\tremaining: 1.28s\n",
            "906:\tlearn: 1.4385548\ttotal: 12.4s\tremaining: 1.27s\n",
            "907:\tlearn: 1.4365734\ttotal: 12.4s\tremaining: 1.26s\n",
            "908:\tlearn: 1.4354332\ttotal: 12.4s\tremaining: 1.24s\n",
            "909:\tlearn: 1.4340405\ttotal: 12.4s\tremaining: 1.23s\n",
            "910:\tlearn: 1.4330598\ttotal: 12.4s\tremaining: 1.22s\n",
            "911:\tlearn: 1.4309394\ttotal: 12.5s\tremaining: 1.2s\n",
            "912:\tlearn: 1.4291734\ttotal: 12.5s\tremaining: 1.19s\n",
            "913:\tlearn: 1.4276328\ttotal: 12.5s\tremaining: 1.18s\n",
            "914:\tlearn: 1.4254336\ttotal: 12.5s\tremaining: 1.16s\n",
            "915:\tlearn: 1.4241961\ttotal: 12.5s\tremaining: 1.15s\n",
            "916:\tlearn: 1.4221104\ttotal: 12.5s\tremaining: 1.13s\n",
            "917:\tlearn: 1.4209303\ttotal: 12.5s\tremaining: 1.12s\n",
            "918:\tlearn: 1.4182704\ttotal: 12.6s\tremaining: 1.11s\n",
            "919:\tlearn: 1.4174947\ttotal: 12.6s\tremaining: 1.09s\n",
            "920:\tlearn: 1.4141696\ttotal: 12.6s\tremaining: 1.08s\n",
            "921:\tlearn: 1.4126265\ttotal: 12.6s\tremaining: 1.06s\n",
            "922:\tlearn: 1.4105174\ttotal: 12.6s\tremaining: 1.05s\n",
            "923:\tlearn: 1.4088685\ttotal: 12.6s\tremaining: 1.04s\n",
            "924:\tlearn: 1.4068390\ttotal: 12.6s\tremaining: 1.02s\n",
            "925:\tlearn: 1.4058226\ttotal: 12.6s\tremaining: 1.01s\n",
            "926:\tlearn: 1.4039354\ttotal: 12.7s\tremaining: 998ms\n",
            "927:\tlearn: 1.4020687\ttotal: 12.7s\tremaining: 984ms\n",
            "928:\tlearn: 1.4005804\ttotal: 12.7s\tremaining: 971ms\n",
            "929:\tlearn: 1.3991925\ttotal: 12.7s\tremaining: 958ms\n",
            "930:\tlearn: 1.3973402\ttotal: 12.7s\tremaining: 944ms\n",
            "931:\tlearn: 1.3953281\ttotal: 12.8s\tremaining: 931ms\n",
            "932:\tlearn: 1.3929058\ttotal: 12.8s\tremaining: 917ms\n",
            "933:\tlearn: 1.3910704\ttotal: 12.8s\tremaining: 904ms\n",
            "934:\tlearn: 1.3892803\ttotal: 12.8s\tremaining: 890ms\n",
            "935:\tlearn: 1.3861858\ttotal: 12.8s\tremaining: 876ms\n",
            "936:\tlearn: 1.3842002\ttotal: 12.8s\tremaining: 862ms\n",
            "937:\tlearn: 1.3821143\ttotal: 12.8s\tremaining: 849ms\n",
            "938:\tlearn: 1.3806826\ttotal: 12.9s\tremaining: 835ms\n",
            "939:\tlearn: 1.3799691\ttotal: 12.9s\tremaining: 821ms\n",
            "940:\tlearn: 1.3777598\ttotal: 12.9s\tremaining: 808ms\n",
            "941:\tlearn: 1.3750223\ttotal: 12.9s\tremaining: 794ms\n",
            "942:\tlearn: 1.3731830\ttotal: 12.9s\tremaining: 780ms\n",
            "943:\tlearn: 1.3719028\ttotal: 12.9s\tremaining: 767ms\n",
            "944:\tlearn: 1.3702076\ttotal: 12.9s\tremaining: 753ms\n",
            "945:\tlearn: 1.3687498\ttotal: 13s\tremaining: 739ms\n",
            "946:\tlearn: 1.3665129\ttotal: 13s\tremaining: 726ms\n",
            "947:\tlearn: 1.3643786\ttotal: 13s\tremaining: 712ms\n",
            "948:\tlearn: 1.3612630\ttotal: 13s\tremaining: 698ms\n",
            "949:\tlearn: 1.3590436\ttotal: 13s\tremaining: 685ms\n",
            "950:\tlearn: 1.3574324\ttotal: 13s\tremaining: 671ms\n",
            "951:\tlearn: 1.3561455\ttotal: 13s\tremaining: 657ms\n",
            "952:\tlearn: 1.3541138\ttotal: 13.1s\tremaining: 644ms\n",
            "953:\tlearn: 1.3530718\ttotal: 13.1s\tremaining: 630ms\n",
            "954:\tlearn: 1.3514226\ttotal: 13.1s\tremaining: 616ms\n",
            "955:\tlearn: 1.3498404\ttotal: 13.1s\tremaining: 603ms\n",
            "956:\tlearn: 1.3480931\ttotal: 13.1s\tremaining: 589ms\n",
            "957:\tlearn: 1.3463300\ttotal: 13.1s\tremaining: 575ms\n",
            "958:\tlearn: 1.3443052\ttotal: 13.1s\tremaining: 561ms\n",
            "959:\tlearn: 1.3425147\ttotal: 13.1s\tremaining: 548ms\n",
            "960:\tlearn: 1.3410513\ttotal: 13.2s\tremaining: 534ms\n",
            "961:\tlearn: 1.3397021\ttotal: 13.2s\tremaining: 520ms\n",
            "962:\tlearn: 1.3382080\ttotal: 13.2s\tremaining: 507ms\n",
            "963:\tlearn: 1.3356971\ttotal: 13.2s\tremaining: 493ms\n",
            "964:\tlearn: 1.3336759\ttotal: 13.2s\tremaining: 479ms\n",
            "965:\tlearn: 1.3320336\ttotal: 13.2s\tremaining: 466ms\n",
            "966:\tlearn: 1.3298229\ttotal: 13.2s\tremaining: 452ms\n",
            "967:\tlearn: 1.3279815\ttotal: 13.3s\tremaining: 438ms\n",
            "968:\tlearn: 1.3267165\ttotal: 13.3s\tremaining: 424ms\n",
            "969:\tlearn: 1.3241824\ttotal: 13.3s\tremaining: 411ms\n",
            "970:\tlearn: 1.3218636\ttotal: 13.3s\tremaining: 397ms\n",
            "971:\tlearn: 1.3202007\ttotal: 13.3s\tremaining: 383ms\n",
            "972:\tlearn: 1.3182004\ttotal: 13.3s\tremaining: 370ms\n",
            "973:\tlearn: 1.3165817\ttotal: 13.3s\tremaining: 356ms\n",
            "974:\tlearn: 1.3150635\ttotal: 13.3s\tremaining: 342ms\n",
            "975:\tlearn: 1.3139363\ttotal: 13.4s\tremaining: 329ms\n",
            "976:\tlearn: 1.3118908\ttotal: 13.4s\tremaining: 315ms\n",
            "977:\tlearn: 1.3106011\ttotal: 13.4s\tremaining: 301ms\n",
            "978:\tlearn: 1.3090648\ttotal: 13.4s\tremaining: 288ms\n",
            "979:\tlearn: 1.3085027\ttotal: 13.4s\tremaining: 274ms\n",
            "980:\tlearn: 1.3074882\ttotal: 13.4s\tremaining: 260ms\n",
            "981:\tlearn: 1.3064599\ttotal: 13.4s\tremaining: 246ms\n",
            "982:\tlearn: 1.3052383\ttotal: 13.5s\tremaining: 233ms\n",
            "983:\tlearn: 1.3035742\ttotal: 13.5s\tremaining: 219ms\n",
            "984:\tlearn: 1.3022987\ttotal: 13.5s\tremaining: 205ms\n",
            "985:\tlearn: 1.3002475\ttotal: 13.5s\tremaining: 192ms\n",
            "986:\tlearn: 1.2991074\ttotal: 13.5s\tremaining: 178ms\n",
            "987:\tlearn: 1.2976113\ttotal: 13.5s\tremaining: 164ms\n",
            "988:\tlearn: 1.2958699\ttotal: 13.5s\tremaining: 151ms\n",
            "989:\tlearn: 1.2939238\ttotal: 13.6s\tremaining: 137ms\n",
            "990:\tlearn: 1.2929243\ttotal: 13.6s\tremaining: 123ms\n",
            "991:\tlearn: 1.2903838\ttotal: 13.6s\tremaining: 110ms\n",
            "992:\tlearn: 1.2892228\ttotal: 13.6s\tremaining: 95.8ms\n",
            "993:\tlearn: 1.2879341\ttotal: 13.6s\tremaining: 82.1ms\n",
            "994:\tlearn: 1.2859799\ttotal: 13.6s\tremaining: 68.4ms\n",
            "995:\tlearn: 1.2838985\ttotal: 13.6s\tremaining: 54.8ms\n",
            "996:\tlearn: 1.2820743\ttotal: 13.6s\tremaining: 41.1ms\n",
            "997:\tlearn: 1.2806127\ttotal: 13.7s\tremaining: 27.4ms\n",
            "998:\tlearn: 1.2792448\ttotal: 13.7s\tremaining: 13.7ms\n",
            "999:\tlearn: 1.2772474\ttotal: 13.7s\tremaining: 0us\n",
            "Learning rate set to 0.046075\n",
            "0:\tlearn: 12.4536519\ttotal: 15ms\tremaining: 15s\n",
            "1:\tlearn: 12.0548331\ttotal: 30.3ms\tremaining: 15.1s\n",
            "2:\tlearn: 11.6600731\ttotal: 43.4ms\tremaining: 14.4s\n",
            "3:\tlearn: 11.2761388\ttotal: 70.5ms\tremaining: 17.6s\n",
            "4:\tlearn: 10.9340570\ttotal: 84.1ms\tremaining: 16.7s\n",
            "5:\tlearn: 10.6027798\ttotal: 96.8ms\tremaining: 16s\n",
            "6:\tlearn: 10.2920206\ttotal: 116ms\tremaining: 16.5s\n",
            "7:\tlearn: 10.0125489\ttotal: 129ms\tremaining: 16s\n",
            "8:\tlearn: 9.7397868\ttotal: 142ms\tremaining: 15.6s\n",
            "9:\tlearn: 9.4884491\ttotal: 155ms\tremaining: 15.4s\n",
            "10:\tlearn: 9.2308594\ttotal: 168ms\tremaining: 15.1s\n",
            "11:\tlearn: 8.9930473\ttotal: 182ms\tremaining: 15s\n",
            "12:\tlearn: 8.7706083\ttotal: 195ms\tremaining: 14.8s\n",
            "13:\tlearn: 8.5722300\ttotal: 208ms\tremaining: 14.7s\n",
            "14:\tlearn: 8.3725659\ttotal: 222ms\tremaining: 14.6s\n",
            "15:\tlearn: 8.1734825\ttotal: 235ms\tremaining: 14.5s\n",
            "16:\tlearn: 7.9917434\ttotal: 249ms\tremaining: 14.4s\n",
            "17:\tlearn: 7.8339311\ttotal: 262ms\tremaining: 14.3s\n",
            "18:\tlearn: 7.6748790\ttotal: 278ms\tremaining: 14.3s\n",
            "19:\tlearn: 7.5207288\ttotal: 291ms\tremaining: 14.3s\n",
            "20:\tlearn: 7.3866757\ttotal: 304ms\tremaining: 14.2s\n",
            "21:\tlearn: 7.2673404\ttotal: 317ms\tremaining: 14.1s\n",
            "22:\tlearn: 7.1404359\ttotal: 330ms\tremaining: 14s\n",
            "23:\tlearn: 7.0201771\ttotal: 343ms\tremaining: 13.9s\n",
            "24:\tlearn: 6.9129648\ttotal: 355ms\tremaining: 13.9s\n",
            "25:\tlearn: 6.8105983\ttotal: 368ms\tremaining: 13.8s\n",
            "26:\tlearn: 6.7238898\ttotal: 380ms\tremaining: 13.7s\n",
            "27:\tlearn: 6.6404479\ttotal: 393ms\tremaining: 13.7s\n",
            "28:\tlearn: 6.5492864\ttotal: 406ms\tremaining: 13.6s\n",
            "29:\tlearn: 6.4751464\ttotal: 419ms\tremaining: 13.6s\n",
            "30:\tlearn: 6.4028381\ttotal: 433ms\tremaining: 13.5s\n",
            "31:\tlearn: 6.3338586\ttotal: 446ms\tremaining: 13.5s\n",
            "32:\tlearn: 6.2675434\ttotal: 459ms\tremaining: 13.4s\n",
            "33:\tlearn: 6.2015913\ttotal: 472ms\tremaining: 13.4s\n",
            "34:\tlearn: 6.1376220\ttotal: 489ms\tremaining: 13.5s\n",
            "35:\tlearn: 6.0823186\ttotal: 503ms\tremaining: 13.5s\n",
            "36:\tlearn: 6.0239828\ttotal: 517ms\tremaining: 13.4s\n",
            "37:\tlearn: 5.9783754\ttotal: 530ms\tremaining: 13.4s\n",
            "38:\tlearn: 5.9287630\ttotal: 544ms\tremaining: 13.4s\n",
            "39:\tlearn: 5.8836240\ttotal: 556ms\tremaining: 13.4s\n",
            "40:\tlearn: 5.8407240\ttotal: 569ms\tremaining: 13.3s\n",
            "41:\tlearn: 5.8019324\ttotal: 582ms\tremaining: 13.3s\n",
            "42:\tlearn: 5.7632978\ttotal: 595ms\tremaining: 13.2s\n",
            "43:\tlearn: 5.7334798\ttotal: 607ms\tremaining: 13.2s\n",
            "44:\tlearn: 5.6986204\ttotal: 620ms\tremaining: 13.1s\n",
            "45:\tlearn: 5.6652796\ttotal: 631ms\tremaining: 13.1s\n",
            "46:\tlearn: 5.6349015\ttotal: 645ms\tremaining: 13.1s\n",
            "47:\tlearn: 5.6082767\ttotal: 658ms\tremaining: 13.1s\n",
            "48:\tlearn: 5.5853691\ttotal: 671ms\tremaining: 13s\n",
            "49:\tlearn: 5.5552275\ttotal: 684ms\tremaining: 13s\n",
            "50:\tlearn: 5.5305313\ttotal: 701ms\tremaining: 13s\n",
            "51:\tlearn: 5.5084016\ttotal: 714ms\tremaining: 13s\n",
            "52:\tlearn: 5.4857011\ttotal: 727ms\tremaining: 13s\n",
            "53:\tlearn: 5.4647483\ttotal: 740ms\tremaining: 13s\n",
            "54:\tlearn: 5.4421158\ttotal: 753ms\tremaining: 12.9s\n",
            "55:\tlearn: 5.4179143\ttotal: 766ms\tremaining: 12.9s\n",
            "56:\tlearn: 5.3977360\ttotal: 778ms\tremaining: 12.9s\n",
            "57:\tlearn: 5.3812539\ttotal: 791ms\tremaining: 12.8s\n",
            "58:\tlearn: 5.3635342\ttotal: 803ms\tremaining: 12.8s\n",
            "59:\tlearn: 5.3464453\ttotal: 818ms\tremaining: 12.8s\n",
            "60:\tlearn: 5.3286865\ttotal: 836ms\tremaining: 12.9s\n",
            "61:\tlearn: 5.3127192\ttotal: 849ms\tremaining: 12.8s\n",
            "62:\tlearn: 5.2970777\ttotal: 863ms\tremaining: 12.8s\n",
            "63:\tlearn: 5.2847033\ttotal: 876ms\tremaining: 12.8s\n",
            "64:\tlearn: 5.2694249\ttotal: 890ms\tremaining: 12.8s\n",
            "65:\tlearn: 5.2577394\ttotal: 906ms\tremaining: 12.8s\n",
            "66:\tlearn: 5.2438831\ttotal: 919ms\tremaining: 12.8s\n",
            "67:\tlearn: 5.2342557\ttotal: 932ms\tremaining: 12.8s\n",
            "68:\tlearn: 5.2239319\ttotal: 945ms\tremaining: 12.8s\n",
            "69:\tlearn: 5.2095288\ttotal: 958ms\tremaining: 12.7s\n",
            "70:\tlearn: 5.1940576\ttotal: 971ms\tremaining: 12.7s\n",
            "71:\tlearn: 5.1807395\ttotal: 985ms\tremaining: 12.7s\n",
            "72:\tlearn: 5.1701310\ttotal: 998ms\tremaining: 12.7s\n",
            "73:\tlearn: 5.1599953\ttotal: 1.01s\tremaining: 12.6s\n",
            "74:\tlearn: 5.1547102\ttotal: 1.02s\tremaining: 12.6s\n",
            "75:\tlearn: 5.1458602\ttotal: 1.04s\tremaining: 12.6s\n",
            "76:\tlearn: 5.1323287\ttotal: 1.05s\tremaining: 12.6s\n",
            "77:\tlearn: 5.1176036\ttotal: 1.06s\tremaining: 12.6s\n",
            "78:\tlearn: 5.1060320\ttotal: 1.07s\tremaining: 12.5s\n",
            "79:\tlearn: 5.0901970\ttotal: 1.09s\tremaining: 12.5s\n",
            "80:\tlearn: 5.0818479\ttotal: 1.11s\tremaining: 12.6s\n",
            "81:\tlearn: 5.0745746\ttotal: 1.12s\tremaining: 12.6s\n",
            "82:\tlearn: 5.0657450\ttotal: 1.14s\tremaining: 12.5s\n",
            "83:\tlearn: 5.0601931\ttotal: 1.15s\tremaining: 12.5s\n",
            "84:\tlearn: 5.0529636\ttotal: 1.16s\tremaining: 12.5s\n",
            "85:\tlearn: 5.0401616\ttotal: 1.18s\tremaining: 12.5s\n",
            "86:\tlearn: 5.0345832\ttotal: 1.19s\tremaining: 12.5s\n",
            "87:\tlearn: 5.0296139\ttotal: 1.2s\tremaining: 12.5s\n",
            "88:\tlearn: 5.0235777\ttotal: 1.22s\tremaining: 12.4s\n",
            "89:\tlearn: 5.0127243\ttotal: 1.23s\tremaining: 12.4s\n",
            "90:\tlearn: 5.0069606\ttotal: 1.24s\tremaining: 12.4s\n",
            "91:\tlearn: 4.9961763\ttotal: 1.26s\tremaining: 12.4s\n",
            "92:\tlearn: 4.9890690\ttotal: 1.27s\tremaining: 12.4s\n",
            "93:\tlearn: 4.9816600\ttotal: 1.28s\tremaining: 12.4s\n",
            "94:\tlearn: 4.9785821\ttotal: 1.3s\tremaining: 12.4s\n",
            "95:\tlearn: 4.9743321\ttotal: 1.31s\tremaining: 12.4s\n",
            "96:\tlearn: 4.9671227\ttotal: 1.32s\tremaining: 12.3s\n",
            "97:\tlearn: 4.9621237\ttotal: 1.34s\tremaining: 12.3s\n",
            "98:\tlearn: 4.9482350\ttotal: 1.35s\tremaining: 12.3s\n",
            "99:\tlearn: 4.9428300\ttotal: 1.36s\tremaining: 12.3s\n",
            "100:\tlearn: 4.9333174\ttotal: 1.37s\tremaining: 12.2s\n",
            "101:\tlearn: 4.9284615\ttotal: 1.39s\tremaining: 12.2s\n",
            "102:\tlearn: 4.9206184\ttotal: 1.4s\tremaining: 12.2s\n",
            "103:\tlearn: 4.9052005\ttotal: 1.41s\tremaining: 12.2s\n",
            "104:\tlearn: 4.8967066\ttotal: 1.43s\tremaining: 12.2s\n",
            "105:\tlearn: 4.8912425\ttotal: 1.44s\tremaining: 12.1s\n",
            "106:\tlearn: 4.8820030\ttotal: 1.45s\tremaining: 12.1s\n",
            "107:\tlearn: 4.8755409\ttotal: 1.47s\tremaining: 12.1s\n",
            "108:\tlearn: 4.8631038\ttotal: 1.48s\tremaining: 12.1s\n",
            "109:\tlearn: 4.8558421\ttotal: 1.49s\tremaining: 12.1s\n",
            "110:\tlearn: 4.8471042\ttotal: 1.5s\tremaining: 12.1s\n",
            "111:\tlearn: 4.8406636\ttotal: 1.52s\tremaining: 12.1s\n",
            "112:\tlearn: 4.8335753\ttotal: 1.53s\tremaining: 12s\n",
            "113:\tlearn: 4.8220979\ttotal: 1.55s\tremaining: 12s\n",
            "114:\tlearn: 4.8137206\ttotal: 1.56s\tremaining: 12s\n",
            "115:\tlearn: 4.8084987\ttotal: 1.57s\tremaining: 12s\n",
            "116:\tlearn: 4.8021989\ttotal: 1.58s\tremaining: 12s\n",
            "117:\tlearn: 4.7970887\ttotal: 1.6s\tremaining: 11.9s\n",
            "118:\tlearn: 4.7888420\ttotal: 1.61s\tremaining: 11.9s\n",
            "119:\tlearn: 4.7838958\ttotal: 1.62s\tremaining: 11.9s\n",
            "120:\tlearn: 4.7762851\ttotal: 1.63s\tremaining: 11.9s\n",
            "121:\tlearn: 4.7693570\ttotal: 1.65s\tremaining: 11.9s\n",
            "122:\tlearn: 4.7617396\ttotal: 1.66s\tremaining: 11.8s\n",
            "123:\tlearn: 4.7557834\ttotal: 1.67s\tremaining: 11.8s\n",
            "124:\tlearn: 4.7446723\ttotal: 1.69s\tremaining: 11.8s\n",
            "125:\tlearn: 4.7350468\ttotal: 1.7s\tremaining: 11.8s\n",
            "126:\tlearn: 4.7298913\ttotal: 1.72s\tremaining: 11.8s\n",
            "127:\tlearn: 4.7235825\ttotal: 1.73s\tremaining: 11.8s\n",
            "128:\tlearn: 4.7172117\ttotal: 1.75s\tremaining: 11.8s\n",
            "129:\tlearn: 4.7121311\ttotal: 1.76s\tremaining: 11.8s\n",
            "130:\tlearn: 4.7106223\ttotal: 1.77s\tremaining: 11.8s\n",
            "131:\tlearn: 4.7076287\ttotal: 1.78s\tremaining: 11.7s\n",
            "132:\tlearn: 4.7025169\ttotal: 1.8s\tremaining: 11.7s\n",
            "133:\tlearn: 4.6949581\ttotal: 1.81s\tremaining: 11.7s\n",
            "134:\tlearn: 4.6925126\ttotal: 1.82s\tremaining: 11.7s\n",
            "135:\tlearn: 4.6846895\ttotal: 1.83s\tremaining: 11.7s\n",
            "136:\tlearn: 4.6738136\ttotal: 1.85s\tremaining: 11.6s\n",
            "137:\tlearn: 4.6664439\ttotal: 1.86s\tremaining: 11.6s\n",
            "138:\tlearn: 4.6587436\ttotal: 1.87s\tremaining: 11.6s\n",
            "139:\tlearn: 4.6525967\ttotal: 1.89s\tremaining: 11.6s\n",
            "140:\tlearn: 4.6458573\ttotal: 1.9s\tremaining: 11.6s\n",
            "141:\tlearn: 4.6357521\ttotal: 1.91s\tremaining: 11.6s\n",
            "142:\tlearn: 4.6311494\ttotal: 1.93s\tremaining: 11.5s\n",
            "143:\tlearn: 4.6262094\ttotal: 1.94s\tremaining: 11.5s\n",
            "144:\tlearn: 4.6226534\ttotal: 1.96s\tremaining: 11.5s\n",
            "145:\tlearn: 4.6191673\ttotal: 1.97s\tremaining: 11.5s\n",
            "146:\tlearn: 4.6116614\ttotal: 1.98s\tremaining: 11.5s\n",
            "147:\tlearn: 4.6050695\ttotal: 2s\tremaining: 11.5s\n",
            "148:\tlearn: 4.5993765\ttotal: 2.01s\tremaining: 11.5s\n",
            "149:\tlearn: 4.5918956\ttotal: 2.02s\tremaining: 11.5s\n",
            "150:\tlearn: 4.5834796\ttotal: 2.04s\tremaining: 11.5s\n",
            "151:\tlearn: 4.5779748\ttotal: 2.05s\tremaining: 11.4s\n",
            "152:\tlearn: 4.5733951\ttotal: 2.06s\tremaining: 11.4s\n",
            "153:\tlearn: 4.5685754\ttotal: 2.08s\tremaining: 11.4s\n",
            "154:\tlearn: 4.5618225\ttotal: 2.09s\tremaining: 11.4s\n",
            "155:\tlearn: 4.5511251\ttotal: 2.11s\tremaining: 11.4s\n",
            "156:\tlearn: 4.5427410\ttotal: 2.13s\tremaining: 11.4s\n",
            "157:\tlearn: 4.5340317\ttotal: 2.14s\tremaining: 11.4s\n",
            "158:\tlearn: 4.5281019\ttotal: 2.16s\tremaining: 11.4s\n",
            "159:\tlearn: 4.5211897\ttotal: 2.17s\tremaining: 11.4s\n",
            "160:\tlearn: 4.5113355\ttotal: 2.18s\tremaining: 11.4s\n",
            "161:\tlearn: 4.5001041\ttotal: 2.2s\tremaining: 11.4s\n",
            "162:\tlearn: 4.4908778\ttotal: 2.21s\tremaining: 11.4s\n",
            "163:\tlearn: 4.4843439\ttotal: 2.22s\tremaining: 11.3s\n",
            "164:\tlearn: 4.4763013\ttotal: 2.24s\tremaining: 11.3s\n",
            "165:\tlearn: 4.4686172\ttotal: 2.25s\tremaining: 11.3s\n",
            "166:\tlearn: 4.4631868\ttotal: 2.26s\tremaining: 11.3s\n",
            "167:\tlearn: 4.4584991\ttotal: 2.28s\tremaining: 11.3s\n",
            "168:\tlearn: 4.4546305\ttotal: 2.29s\tremaining: 11.3s\n",
            "169:\tlearn: 4.4419829\ttotal: 2.3s\tremaining: 11.2s\n",
            "170:\tlearn: 4.4347507\ttotal: 2.31s\tremaining: 11.2s\n",
            "171:\tlearn: 4.4278173\ttotal: 2.33s\tremaining: 11.2s\n",
            "172:\tlearn: 4.4240865\ttotal: 2.34s\tremaining: 11.2s\n",
            "173:\tlearn: 4.4163458\ttotal: 2.35s\tremaining: 11.2s\n",
            "174:\tlearn: 4.4069724\ttotal: 2.37s\tremaining: 11.2s\n",
            "175:\tlearn: 4.3945500\ttotal: 2.38s\tremaining: 11.1s\n",
            "176:\tlearn: 4.3866411\ttotal: 2.39s\tremaining: 11.1s\n",
            "177:\tlearn: 4.3793735\ttotal: 2.4s\tremaining: 11.1s\n",
            "178:\tlearn: 4.3716744\ttotal: 2.42s\tremaining: 11.1s\n",
            "179:\tlearn: 4.3650062\ttotal: 2.43s\tremaining: 11.1s\n",
            "180:\tlearn: 4.3557834\ttotal: 2.44s\tremaining: 11.1s\n",
            "181:\tlearn: 4.3484005\ttotal: 2.46s\tremaining: 11s\n",
            "182:\tlearn: 4.3408632\ttotal: 2.47s\tremaining: 11s\n",
            "183:\tlearn: 4.3316165\ttotal: 2.48s\tremaining: 11s\n",
            "184:\tlearn: 4.3238705\ttotal: 2.5s\tremaining: 11s\n",
            "185:\tlearn: 4.3135285\ttotal: 2.51s\tremaining: 11s\n",
            "186:\tlearn: 4.3061446\ttotal: 2.52s\tremaining: 11s\n",
            "187:\tlearn: 4.2970242\ttotal: 2.53s\tremaining: 10.9s\n",
            "188:\tlearn: 4.2929414\ttotal: 2.55s\tremaining: 10.9s\n",
            "189:\tlearn: 4.2861887\ttotal: 2.56s\tremaining: 10.9s\n",
            "190:\tlearn: 4.2788997\ttotal: 2.57s\tremaining: 10.9s\n",
            "191:\tlearn: 4.2675146\ttotal: 2.59s\tremaining: 10.9s\n",
            "192:\tlearn: 4.2611931\ttotal: 2.6s\tremaining: 10.9s\n",
            "193:\tlearn: 4.2539172\ttotal: 2.63s\tremaining: 10.9s\n",
            "194:\tlearn: 4.2442519\ttotal: 2.67s\tremaining: 11s\n",
            "195:\tlearn: 4.2359027\ttotal: 2.7s\tremaining: 11.1s\n",
            "196:\tlearn: 4.2271204\ttotal: 2.73s\tremaining: 11.1s\n",
            "197:\tlearn: 4.2198829\ttotal: 2.76s\tremaining: 11.2s\n",
            "198:\tlearn: 4.2108328\ttotal: 2.78s\tremaining: 11.2s\n",
            "199:\tlearn: 4.2005177\ttotal: 2.81s\tremaining: 11.2s\n",
            "200:\tlearn: 4.1924828\ttotal: 2.83s\tremaining: 11.3s\n",
            "201:\tlearn: 4.1838357\ttotal: 2.85s\tremaining: 11.3s\n",
            "202:\tlearn: 4.1729772\ttotal: 2.88s\tremaining: 11.3s\n",
            "203:\tlearn: 4.1645208\ttotal: 2.9s\tremaining: 11.3s\n",
            "204:\tlearn: 4.1564806\ttotal: 2.93s\tremaining: 11.4s\n",
            "205:\tlearn: 4.1480752\ttotal: 2.95s\tremaining: 11.4s\n",
            "206:\tlearn: 4.1387201\ttotal: 2.98s\tremaining: 11.4s\n",
            "207:\tlearn: 4.1312986\ttotal: 3.01s\tremaining: 11.4s\n",
            "208:\tlearn: 4.1232368\ttotal: 3.03s\tremaining: 11.5s\n",
            "209:\tlearn: 4.1166698\ttotal: 3.05s\tremaining: 11.5s\n",
            "210:\tlearn: 4.1074200\ttotal: 3.08s\tremaining: 11.5s\n",
            "211:\tlearn: 4.0974626\ttotal: 3.12s\tremaining: 11.6s\n",
            "212:\tlearn: 4.0867713\ttotal: 3.14s\tremaining: 11.6s\n",
            "213:\tlearn: 4.0774357\ttotal: 3.17s\tremaining: 11.6s\n",
            "214:\tlearn: 4.0678618\ttotal: 3.19s\tremaining: 11.6s\n",
            "215:\tlearn: 4.0591120\ttotal: 3.22s\tremaining: 11.7s\n",
            "216:\tlearn: 4.0516700\ttotal: 3.25s\tremaining: 11.7s\n",
            "217:\tlearn: 4.0417663\ttotal: 3.27s\tremaining: 11.7s\n",
            "218:\tlearn: 4.0334403\ttotal: 3.3s\tremaining: 11.8s\n",
            "219:\tlearn: 4.0246692\ttotal: 3.33s\tremaining: 11.8s\n",
            "220:\tlearn: 4.0161553\ttotal: 3.35s\tremaining: 11.8s\n",
            "221:\tlearn: 4.0044621\ttotal: 3.4s\tremaining: 11.9s\n",
            "222:\tlearn: 3.9983158\ttotal: 3.43s\tremaining: 11.9s\n",
            "223:\tlearn: 3.9910112\ttotal: 3.45s\tremaining: 12s\n",
            "224:\tlearn: 3.9847715\ttotal: 3.48s\tremaining: 12s\n",
            "225:\tlearn: 3.9765896\ttotal: 3.5s\tremaining: 12s\n",
            "226:\tlearn: 3.9682340\ttotal: 3.53s\tremaining: 12s\n",
            "227:\tlearn: 3.9607755\ttotal: 3.55s\tremaining: 12s\n",
            "228:\tlearn: 3.9539042\ttotal: 3.58s\tremaining: 12s\n",
            "229:\tlearn: 3.9463164\ttotal: 3.6s\tremaining: 12.1s\n",
            "230:\tlearn: 3.9360955\ttotal: 3.62s\tremaining: 12.1s\n",
            "231:\tlearn: 3.9272456\ttotal: 3.65s\tremaining: 12.1s\n",
            "232:\tlearn: 3.9188175\ttotal: 3.68s\tremaining: 12.1s\n",
            "233:\tlearn: 3.9105193\ttotal: 3.71s\tremaining: 12.1s\n",
            "234:\tlearn: 3.9004369\ttotal: 3.73s\tremaining: 12.1s\n",
            "235:\tlearn: 3.8877862\ttotal: 3.76s\tremaining: 12.2s\n",
            "236:\tlearn: 3.8781652\ttotal: 3.78s\tremaining: 12.2s\n",
            "237:\tlearn: 3.8704844\ttotal: 3.81s\tremaining: 12.2s\n",
            "238:\tlearn: 3.8629772\ttotal: 3.83s\tremaining: 12.2s\n",
            "239:\tlearn: 3.8555825\ttotal: 3.86s\tremaining: 12.2s\n",
            "240:\tlearn: 3.8509056\ttotal: 3.89s\tremaining: 12.2s\n",
            "241:\tlearn: 3.8401810\ttotal: 3.91s\tremaining: 12.3s\n",
            "242:\tlearn: 3.8325497\ttotal: 3.94s\tremaining: 12.3s\n",
            "243:\tlearn: 3.8274547\ttotal: 3.96s\tremaining: 12.3s\n",
            "244:\tlearn: 3.8211698\ttotal: 3.98s\tremaining: 12.3s\n",
            "245:\tlearn: 3.8138361\ttotal: 4.01s\tremaining: 12.3s\n",
            "246:\tlearn: 3.8070310\ttotal: 4.03s\tremaining: 12.3s\n",
            "247:\tlearn: 3.7968696\ttotal: 4.05s\tremaining: 12.3s\n",
            "248:\tlearn: 3.7875820\ttotal: 4.08s\tremaining: 12.3s\n",
            "249:\tlearn: 3.7783522\ttotal: 4.12s\tremaining: 12.4s\n",
            "250:\tlearn: 3.7699291\ttotal: 4.14s\tremaining: 12.4s\n",
            "251:\tlearn: 3.7625516\ttotal: 4.17s\tremaining: 12.4s\n",
            "252:\tlearn: 3.7546498\ttotal: 4.2s\tremaining: 12.4s\n",
            "253:\tlearn: 3.7449022\ttotal: 4.23s\tremaining: 12.4s\n",
            "254:\tlearn: 3.7396536\ttotal: 4.25s\tremaining: 12.4s\n",
            "255:\tlearn: 3.7304641\ttotal: 4.28s\tremaining: 12.4s\n",
            "256:\tlearn: 3.7235108\ttotal: 4.31s\tremaining: 12.5s\n",
            "257:\tlearn: 3.7192308\ttotal: 4.33s\tremaining: 12.5s\n",
            "258:\tlearn: 3.7106879\ttotal: 4.36s\tremaining: 12.5s\n",
            "259:\tlearn: 3.7054636\ttotal: 4.38s\tremaining: 12.5s\n",
            "260:\tlearn: 3.6982472\ttotal: 4.4s\tremaining: 12.5s\n",
            "261:\tlearn: 3.6932707\ttotal: 4.43s\tremaining: 12.5s\n",
            "262:\tlearn: 3.6869755\ttotal: 4.45s\tremaining: 12.5s\n",
            "263:\tlearn: 3.6775869\ttotal: 4.48s\tremaining: 12.5s\n",
            "264:\tlearn: 3.6707421\ttotal: 4.5s\tremaining: 12.5s\n",
            "265:\tlearn: 3.6649982\ttotal: 4.53s\tremaining: 12.5s\n",
            "266:\tlearn: 3.6584844\ttotal: 4.56s\tremaining: 12.5s\n",
            "267:\tlearn: 3.6535319\ttotal: 4.58s\tremaining: 12.5s\n",
            "268:\tlearn: 3.6459708\ttotal: 4.61s\tremaining: 12.5s\n",
            "269:\tlearn: 3.6404124\ttotal: 4.63s\tremaining: 12.5s\n",
            "270:\tlearn: 3.6324417\ttotal: 4.65s\tremaining: 12.5s\n",
            "271:\tlearn: 3.6266634\ttotal: 4.68s\tremaining: 12.5s\n",
            "272:\tlearn: 3.6206136\ttotal: 4.7s\tremaining: 12.5s\n",
            "273:\tlearn: 3.6140973\ttotal: 4.73s\tremaining: 12.5s\n",
            "274:\tlearn: 3.6079694\ttotal: 4.75s\tremaining: 12.5s\n",
            "275:\tlearn: 3.6027070\ttotal: 4.78s\tremaining: 12.5s\n",
            "276:\tlearn: 3.5951336\ttotal: 4.8s\tremaining: 12.5s\n",
            "277:\tlearn: 3.5869075\ttotal: 4.83s\tremaining: 12.5s\n",
            "278:\tlearn: 3.5798894\ttotal: 4.85s\tremaining: 12.5s\n",
            "279:\tlearn: 3.5762423\ttotal: 4.87s\tremaining: 12.5s\n",
            "280:\tlearn: 3.5699529\ttotal: 4.9s\tremaining: 12.5s\n",
            "281:\tlearn: 3.5613693\ttotal: 4.92s\tremaining: 12.5s\n",
            "282:\tlearn: 3.5519532\ttotal: 4.95s\tremaining: 12.5s\n",
            "283:\tlearn: 3.5466414\ttotal: 4.98s\tremaining: 12.5s\n",
            "284:\tlearn: 3.5387709\ttotal: 5s\tremaining: 12.5s\n",
            "285:\tlearn: 3.5338181\ttotal: 5.02s\tremaining: 12.5s\n",
            "286:\tlearn: 3.5264551\ttotal: 5.05s\tremaining: 12.5s\n",
            "287:\tlearn: 3.5197156\ttotal: 5.07s\tremaining: 12.5s\n",
            "288:\tlearn: 3.5124061\ttotal: 5.1s\tremaining: 12.5s\n",
            "289:\tlearn: 3.5071434\ttotal: 5.14s\tremaining: 12.6s\n",
            "290:\tlearn: 3.4997317\ttotal: 5.17s\tremaining: 12.6s\n",
            "291:\tlearn: 3.4918736\ttotal: 5.19s\tremaining: 12.6s\n",
            "292:\tlearn: 3.4840388\ttotal: 5.22s\tremaining: 12.6s\n",
            "293:\tlearn: 3.4795598\ttotal: 5.24s\tremaining: 12.6s\n",
            "294:\tlearn: 3.4729283\ttotal: 5.27s\tremaining: 12.6s\n",
            "295:\tlearn: 3.4657614\ttotal: 5.29s\tremaining: 12.6s\n",
            "296:\tlearn: 3.4592777\ttotal: 5.32s\tremaining: 12.6s\n",
            "297:\tlearn: 3.4541540\ttotal: 5.34s\tremaining: 12.6s\n",
            "298:\tlearn: 3.4486481\ttotal: 5.36s\tremaining: 12.6s\n",
            "299:\tlearn: 3.4440197\ttotal: 5.39s\tremaining: 12.6s\n",
            "300:\tlearn: 3.4368164\ttotal: 5.41s\tremaining: 12.6s\n",
            "301:\tlearn: 3.4308308\ttotal: 5.44s\tremaining: 12.6s\n",
            "302:\tlearn: 3.4261125\ttotal: 5.46s\tremaining: 12.6s\n",
            "303:\tlearn: 3.4189003\ttotal: 5.48s\tremaining: 12.6s\n",
            "304:\tlearn: 3.4127203\ttotal: 5.51s\tremaining: 12.6s\n",
            "305:\tlearn: 3.4060708\ttotal: 5.53s\tremaining: 12.5s\n",
            "306:\tlearn: 3.4003412\ttotal: 5.55s\tremaining: 12.5s\n",
            "307:\tlearn: 3.3935677\ttotal: 5.58s\tremaining: 12.5s\n",
            "308:\tlearn: 3.3878671\ttotal: 5.61s\tremaining: 12.5s\n",
            "309:\tlearn: 3.3845748\ttotal: 5.63s\tremaining: 12.5s\n",
            "310:\tlearn: 3.3787592\ttotal: 5.66s\tremaining: 12.5s\n",
            "311:\tlearn: 3.3733525\ttotal: 5.68s\tremaining: 12.5s\n",
            "312:\tlearn: 3.3682295\ttotal: 5.71s\tremaining: 12.5s\n",
            "313:\tlearn: 3.3626758\ttotal: 5.73s\tremaining: 12.5s\n",
            "314:\tlearn: 3.3578281\ttotal: 5.76s\tremaining: 12.5s\n",
            "315:\tlearn: 3.3514539\ttotal: 5.78s\tremaining: 12.5s\n",
            "316:\tlearn: 3.3447262\ttotal: 5.8s\tremaining: 12.5s\n",
            "317:\tlearn: 3.3396017\ttotal: 5.83s\tremaining: 12.5s\n",
            "318:\tlearn: 3.3309406\ttotal: 5.85s\tremaining: 12.5s\n",
            "319:\tlearn: 3.3248019\ttotal: 5.88s\tremaining: 12.5s\n",
            "320:\tlearn: 3.3204338\ttotal: 5.9s\tremaining: 12.5s\n",
            "321:\tlearn: 3.3151631\ttotal: 5.92s\tremaining: 12.5s\n",
            "322:\tlearn: 3.3077638\ttotal: 5.95s\tremaining: 12.5s\n",
            "323:\tlearn: 3.3029753\ttotal: 5.97s\tremaining: 12.5s\n",
            "324:\tlearn: 3.2972766\ttotal: 6s\tremaining: 12.5s\n",
            "325:\tlearn: 3.2886181\ttotal: 6.03s\tremaining: 12.5s\n",
            "326:\tlearn: 3.2843917\ttotal: 6.05s\tremaining: 12.4s\n",
            "327:\tlearn: 3.2803004\ttotal: 6.07s\tremaining: 12.4s\n",
            "328:\tlearn: 3.2743641\ttotal: 6.11s\tremaining: 12.5s\n",
            "329:\tlearn: 3.2701099\ttotal: 6.14s\tremaining: 12.5s\n",
            "330:\tlearn: 3.2635560\ttotal: 6.17s\tremaining: 12.5s\n",
            "331:\tlearn: 3.2589393\ttotal: 6.19s\tremaining: 12.5s\n",
            "332:\tlearn: 3.2529918\ttotal: 6.22s\tremaining: 12.5s\n",
            "333:\tlearn: 3.2497594\ttotal: 6.25s\tremaining: 12.5s\n",
            "334:\tlearn: 3.2412044\ttotal: 6.27s\tremaining: 12.4s\n",
            "335:\tlearn: 3.2323885\ttotal: 6.29s\tremaining: 12.4s\n",
            "336:\tlearn: 3.2270825\ttotal: 6.32s\tremaining: 12.4s\n",
            "337:\tlearn: 3.2203833\ttotal: 6.34s\tremaining: 12.4s\n",
            "338:\tlearn: 3.2152799\ttotal: 6.36s\tremaining: 12.4s\n",
            "339:\tlearn: 3.2094052\ttotal: 6.39s\tremaining: 12.4s\n",
            "340:\tlearn: 3.2017428\ttotal: 6.41s\tremaining: 12.4s\n",
            "341:\tlearn: 3.1945195\ttotal: 6.44s\tremaining: 12.4s\n",
            "342:\tlearn: 3.1899246\ttotal: 6.47s\tremaining: 12.4s\n",
            "343:\tlearn: 3.1846445\ttotal: 6.49s\tremaining: 12.4s\n",
            "344:\tlearn: 3.1791790\ttotal: 6.51s\tremaining: 12.4s\n",
            "345:\tlearn: 3.1734771\ttotal: 6.54s\tremaining: 12.4s\n",
            "346:\tlearn: 3.1664499\ttotal: 6.56s\tremaining: 12.3s\n",
            "347:\tlearn: 3.1598445\ttotal: 6.58s\tremaining: 12.3s\n",
            "348:\tlearn: 3.1549638\ttotal: 6.61s\tremaining: 12.3s\n",
            "349:\tlearn: 3.1493263\ttotal: 6.64s\tremaining: 12.3s\n",
            "350:\tlearn: 3.1457054\ttotal: 6.67s\tremaining: 12.3s\n",
            "351:\tlearn: 3.1404492\ttotal: 6.69s\tremaining: 12.3s\n",
            "352:\tlearn: 3.1355557\ttotal: 6.71s\tremaining: 12.3s\n",
            "353:\tlearn: 3.1292380\ttotal: 6.74s\tremaining: 12.3s\n",
            "354:\tlearn: 3.1243364\ttotal: 6.76s\tremaining: 12.3s\n",
            "355:\tlearn: 3.1159733\ttotal: 6.79s\tremaining: 12.3s\n",
            "356:\tlearn: 3.1112640\ttotal: 6.81s\tremaining: 12.3s\n",
            "357:\tlearn: 3.1063703\ttotal: 6.83s\tremaining: 12.3s\n",
            "358:\tlearn: 3.1012146\ttotal: 6.86s\tremaining: 12.3s\n",
            "359:\tlearn: 3.0954258\ttotal: 6.89s\tremaining: 12.3s\n",
            "360:\tlearn: 3.0904381\ttotal: 6.92s\tremaining: 12.2s\n",
            "361:\tlearn: 3.0863743\ttotal: 6.94s\tremaining: 12.2s\n",
            "362:\tlearn: 3.0799698\ttotal: 6.96s\tremaining: 12.2s\n",
            "363:\tlearn: 3.0759726\ttotal: 6.99s\tremaining: 12.2s\n",
            "364:\tlearn: 3.0719985\ttotal: 7.01s\tremaining: 12.2s\n",
            "365:\tlearn: 3.0668063\ttotal: 7.04s\tremaining: 12.2s\n",
            "366:\tlearn: 3.0600152\ttotal: 7.06s\tremaining: 12.2s\n",
            "367:\tlearn: 3.0552228\ttotal: 7.1s\tremaining: 12.2s\n",
            "368:\tlearn: 3.0515873\ttotal: 7.13s\tremaining: 12.2s\n",
            "369:\tlearn: 3.0466851\ttotal: 7.16s\tremaining: 12.2s\n",
            "370:\tlearn: 3.0429693\ttotal: 7.18s\tremaining: 12.2s\n",
            "371:\tlearn: 3.0377211\ttotal: 7.21s\tremaining: 12.2s\n",
            "372:\tlearn: 3.0310350\ttotal: 7.23s\tremaining: 12.2s\n",
            "373:\tlearn: 3.0257565\ttotal: 7.25s\tremaining: 12.1s\n",
            "374:\tlearn: 3.0228759\ttotal: 7.28s\tremaining: 12.1s\n",
            "375:\tlearn: 3.0165265\ttotal: 7.31s\tremaining: 12.1s\n",
            "376:\tlearn: 3.0086000\ttotal: 7.33s\tremaining: 12.1s\n",
            "377:\tlearn: 3.0035305\ttotal: 7.36s\tremaining: 12.1s\n",
            "378:\tlearn: 2.9989644\ttotal: 7.38s\tremaining: 12.1s\n",
            "379:\tlearn: 2.9901804\ttotal: 7.41s\tremaining: 12.1s\n",
            "380:\tlearn: 2.9831998\ttotal: 7.43s\tremaining: 12.1s\n",
            "381:\tlearn: 2.9785013\ttotal: 7.45s\tremaining: 12.1s\n",
            "382:\tlearn: 2.9725051\ttotal: 7.48s\tremaining: 12s\n",
            "383:\tlearn: 2.9683425\ttotal: 7.5s\tremaining: 12s\n",
            "384:\tlearn: 2.9615506\ttotal: 7.53s\tremaining: 12s\n",
            "385:\tlearn: 2.9560335\ttotal: 7.55s\tremaining: 12s\n",
            "386:\tlearn: 2.9505461\ttotal: 7.58s\tremaining: 12s\n",
            "387:\tlearn: 2.9469006\ttotal: 7.61s\tremaining: 12s\n",
            "388:\tlearn: 2.9436675\ttotal: 7.63s\tremaining: 12s\n",
            "389:\tlearn: 2.9407992\ttotal: 7.66s\tremaining: 12s\n",
            "390:\tlearn: 2.9359552\ttotal: 7.68s\tremaining: 12s\n",
            "391:\tlearn: 2.9318670\ttotal: 7.7s\tremaining: 11.9s\n",
            "392:\tlearn: 2.9276605\ttotal: 7.72s\tremaining: 11.9s\n",
            "393:\tlearn: 2.9218127\ttotal: 7.75s\tremaining: 11.9s\n",
            "394:\tlearn: 2.9174369\ttotal: 7.78s\tremaining: 11.9s\n",
            "395:\tlearn: 2.9133344\ttotal: 7.8s\tremaining: 11.9s\n",
            "396:\tlearn: 2.9081189\ttotal: 7.83s\tremaining: 11.9s\n",
            "397:\tlearn: 2.9046982\ttotal: 7.85s\tremaining: 11.9s\n",
            "398:\tlearn: 2.8994587\ttotal: 7.88s\tremaining: 11.9s\n",
            "399:\tlearn: 2.8955331\ttotal: 7.9s\tremaining: 11.9s\n",
            "400:\tlearn: 2.8919511\ttotal: 7.92s\tremaining: 11.8s\n",
            "401:\tlearn: 2.8858825\ttotal: 7.95s\tremaining: 11.8s\n",
            "402:\tlearn: 2.8805809\ttotal: 7.98s\tremaining: 11.8s\n",
            "403:\tlearn: 2.8766086\ttotal: 8s\tremaining: 11.8s\n",
            "404:\tlearn: 2.8716130\ttotal: 8.03s\tremaining: 11.8s\n",
            "405:\tlearn: 2.8663113\ttotal: 8.05s\tremaining: 11.8s\n",
            "406:\tlearn: 2.8621288\ttotal: 8.08s\tremaining: 11.8s\n",
            "407:\tlearn: 2.8591571\ttotal: 8.1s\tremaining: 11.8s\n",
            "408:\tlearn: 2.8538215\ttotal: 8.13s\tremaining: 11.8s\n",
            "409:\tlearn: 2.8486531\ttotal: 8.16s\tremaining: 11.7s\n",
            "410:\tlearn: 2.8433176\ttotal: 8.19s\tremaining: 11.7s\n",
            "411:\tlearn: 2.8383507\ttotal: 8.21s\tremaining: 11.7s\n",
            "412:\tlearn: 2.8325825\ttotal: 8.24s\tremaining: 11.7s\n",
            "413:\tlearn: 2.8256150\ttotal: 8.26s\tremaining: 11.7s\n",
            "414:\tlearn: 2.8225573\ttotal: 8.29s\tremaining: 11.7s\n",
            "415:\tlearn: 2.8178534\ttotal: 8.31s\tremaining: 11.7s\n",
            "416:\tlearn: 2.8141283\ttotal: 8.34s\tremaining: 11.7s\n",
            "417:\tlearn: 2.8107229\ttotal: 8.37s\tremaining: 11.7s\n",
            "418:\tlearn: 2.8076308\ttotal: 8.4s\tremaining: 11.6s\n",
            "419:\tlearn: 2.8034308\ttotal: 8.42s\tremaining: 11.6s\n",
            "420:\tlearn: 2.7978739\ttotal: 8.44s\tremaining: 11.6s\n",
            "421:\tlearn: 2.7942324\ttotal: 8.47s\tremaining: 11.6s\n",
            "422:\tlearn: 2.7908308\ttotal: 8.49s\tremaining: 11.6s\n",
            "423:\tlearn: 2.7868923\ttotal: 8.52s\tremaining: 11.6s\n",
            "424:\tlearn: 2.7807041\ttotal: 8.54s\tremaining: 11.6s\n",
            "425:\tlearn: 2.7767621\ttotal: 8.57s\tremaining: 11.5s\n",
            "426:\tlearn: 2.7736911\ttotal: 8.59s\tremaining: 11.5s\n",
            "427:\tlearn: 2.7681570\ttotal: 8.62s\tremaining: 11.5s\n",
            "428:\tlearn: 2.7637261\ttotal: 8.64s\tremaining: 11.5s\n",
            "429:\tlearn: 2.7581893\ttotal: 8.67s\tremaining: 11.5s\n",
            "430:\tlearn: 2.7532379\ttotal: 8.69s\tremaining: 11.5s\n",
            "431:\tlearn: 2.7481080\ttotal: 8.72s\tremaining: 11.5s\n",
            "432:\tlearn: 2.7437712\ttotal: 8.75s\tremaining: 11.5s\n",
            "433:\tlearn: 2.7406904\ttotal: 8.78s\tremaining: 11.4s\n",
            "434:\tlearn: 2.7368405\ttotal: 8.8s\tremaining: 11.4s\n",
            "435:\tlearn: 2.7323568\ttotal: 8.84s\tremaining: 11.4s\n",
            "436:\tlearn: 2.7295151\ttotal: 8.86s\tremaining: 11.4s\n",
            "437:\tlearn: 2.7258546\ttotal: 8.88s\tremaining: 11.4s\n",
            "438:\tlearn: 2.7221279\ttotal: 8.91s\tremaining: 11.4s\n",
            "439:\tlearn: 2.7192289\ttotal: 8.94s\tremaining: 11.4s\n",
            "440:\tlearn: 2.7145672\ttotal: 8.96s\tremaining: 11.4s\n",
            "441:\tlearn: 2.7108360\ttotal: 8.99s\tremaining: 11.4s\n",
            "442:\tlearn: 2.7072886\ttotal: 9.03s\tremaining: 11.4s\n",
            "443:\tlearn: 2.7019478\ttotal: 9.07s\tremaining: 11.4s\n",
            "444:\tlearn: 2.6993301\ttotal: 9.1s\tremaining: 11.3s\n",
            "445:\tlearn: 2.6953283\ttotal: 9.15s\tremaining: 11.4s\n",
            "446:\tlearn: 2.6894290\ttotal: 9.18s\tremaining: 11.4s\n",
            "447:\tlearn: 2.6861443\ttotal: 9.2s\tremaining: 11.3s\n",
            "448:\tlearn: 2.6791989\ttotal: 9.23s\tremaining: 11.3s\n",
            "449:\tlearn: 2.6759664\ttotal: 9.25s\tremaining: 11.3s\n",
            "450:\tlearn: 2.6731748\ttotal: 9.28s\tremaining: 11.3s\n",
            "451:\tlearn: 2.6715788\ttotal: 9.31s\tremaining: 11.3s\n",
            "452:\tlearn: 2.6688494\ttotal: 9.33s\tremaining: 11.3s\n",
            "453:\tlearn: 2.6672517\ttotal: 9.37s\tremaining: 11.3s\n",
            "454:\tlearn: 2.6640777\ttotal: 9.41s\tremaining: 11.3s\n",
            "455:\tlearn: 2.6583723\ttotal: 9.45s\tremaining: 11.3s\n",
            "456:\tlearn: 2.6557842\ttotal: 9.49s\tremaining: 11.3s\n",
            "457:\tlearn: 2.6513578\ttotal: 9.54s\tremaining: 11.3s\n",
            "458:\tlearn: 2.6453210\ttotal: 9.57s\tremaining: 11.3s\n",
            "459:\tlearn: 2.6416763\ttotal: 9.59s\tremaining: 11.3s\n",
            "460:\tlearn: 2.6359791\ttotal: 9.62s\tremaining: 11.2s\n",
            "461:\tlearn: 2.6296888\ttotal: 9.64s\tremaining: 11.2s\n",
            "462:\tlearn: 2.6259314\ttotal: 9.66s\tremaining: 11.2s\n",
            "463:\tlearn: 2.6223296\ttotal: 9.69s\tremaining: 11.2s\n",
            "464:\tlearn: 2.6192269\ttotal: 9.72s\tremaining: 11.2s\n",
            "465:\tlearn: 2.6157392\ttotal: 9.74s\tremaining: 11.2s\n",
            "466:\tlearn: 2.6118243\ttotal: 9.77s\tremaining: 11.1s\n",
            "467:\tlearn: 2.6076793\ttotal: 9.78s\tremaining: 11.1s\n",
            "468:\tlearn: 2.6048559\ttotal: 9.79s\tremaining: 11.1s\n",
            "469:\tlearn: 2.5992436\ttotal: 9.81s\tremaining: 11.1s\n",
            "470:\tlearn: 2.5952102\ttotal: 9.82s\tremaining: 11s\n",
            "471:\tlearn: 2.5901523\ttotal: 9.83s\tremaining: 11s\n",
            "472:\tlearn: 2.5868287\ttotal: 9.85s\tremaining: 11s\n",
            "473:\tlearn: 2.5835621\ttotal: 9.86s\tremaining: 10.9s\n",
            "474:\tlearn: 2.5800173\ttotal: 9.87s\tremaining: 10.9s\n",
            "475:\tlearn: 2.5738309\ttotal: 9.89s\tremaining: 10.9s\n",
            "476:\tlearn: 2.5702824\ttotal: 9.9s\tremaining: 10.9s\n",
            "477:\tlearn: 2.5663389\ttotal: 9.91s\tremaining: 10.8s\n",
            "478:\tlearn: 2.5618070\ttotal: 9.93s\tremaining: 10.8s\n",
            "479:\tlearn: 2.5577646\ttotal: 9.94s\tremaining: 10.8s\n",
            "480:\tlearn: 2.5559286\ttotal: 9.96s\tremaining: 10.7s\n",
            "481:\tlearn: 2.5515064\ttotal: 9.97s\tremaining: 10.7s\n",
            "482:\tlearn: 2.5474738\ttotal: 9.98s\tremaining: 10.7s\n",
            "483:\tlearn: 2.5436661\ttotal: 9.99s\tremaining: 10.7s\n",
            "484:\tlearn: 2.5387179\ttotal: 10s\tremaining: 10.6s\n",
            "485:\tlearn: 2.5351032\ttotal: 10s\tremaining: 10.6s\n",
            "486:\tlearn: 2.5326314\ttotal: 10s\tremaining: 10.6s\n",
            "487:\tlearn: 2.5303269\ttotal: 10.1s\tremaining: 10.5s\n",
            "488:\tlearn: 2.5257718\ttotal: 10.1s\tremaining: 10.5s\n",
            "489:\tlearn: 2.5200245\ttotal: 10.1s\tremaining: 10.5s\n",
            "490:\tlearn: 2.5178705\ttotal: 10.1s\tremaining: 10.5s\n",
            "491:\tlearn: 2.5155793\ttotal: 10.1s\tremaining: 10.4s\n",
            "492:\tlearn: 2.5122005\ttotal: 10.1s\tremaining: 10.4s\n",
            "493:\tlearn: 2.5072677\ttotal: 10.1s\tremaining: 10.4s\n",
            "494:\tlearn: 2.5047642\ttotal: 10.2s\tremaining: 10.4s\n",
            "495:\tlearn: 2.5020847\ttotal: 10.2s\tremaining: 10.3s\n",
            "496:\tlearn: 2.4966800\ttotal: 10.2s\tremaining: 10.3s\n",
            "497:\tlearn: 2.4949006\ttotal: 10.2s\tremaining: 10.3s\n",
            "498:\tlearn: 2.4906176\ttotal: 10.2s\tremaining: 10.2s\n",
            "499:\tlearn: 2.4862079\ttotal: 10.2s\tremaining: 10.2s\n",
            "500:\tlearn: 2.4818450\ttotal: 10.2s\tremaining: 10.2s\n",
            "501:\tlearn: 2.4792048\ttotal: 10.2s\tremaining: 10.2s\n",
            "502:\tlearn: 2.4753537\ttotal: 10.3s\tremaining: 10.1s\n",
            "503:\tlearn: 2.4719791\ttotal: 10.3s\tremaining: 10.1s\n",
            "504:\tlearn: 2.4694446\ttotal: 10.3s\tremaining: 10.1s\n",
            "505:\tlearn: 2.4663045\ttotal: 10.3s\tremaining: 10.1s\n",
            "506:\tlearn: 2.4618817\ttotal: 10.3s\tremaining: 10s\n",
            "507:\tlearn: 2.4588513\ttotal: 10.3s\tremaining: 10s\n",
            "508:\tlearn: 2.4547465\ttotal: 10.3s\tremaining: 9.97s\n",
            "509:\tlearn: 2.4519118\ttotal: 10.4s\tremaining: 9.95s\n",
            "510:\tlearn: 2.4489469\ttotal: 10.4s\tremaining: 9.92s\n",
            "511:\tlearn: 2.4458259\ttotal: 10.4s\tremaining: 9.89s\n",
            "512:\tlearn: 2.4420653\ttotal: 10.4s\tremaining: 9.86s\n",
            "513:\tlearn: 2.4395258\ttotal: 10.4s\tremaining: 9.84s\n",
            "514:\tlearn: 2.4359549\ttotal: 10.4s\tremaining: 9.81s\n",
            "515:\tlearn: 2.4331303\ttotal: 10.4s\tremaining: 9.78s\n",
            "516:\tlearn: 2.4280857\ttotal: 10.4s\tremaining: 9.76s\n",
            "517:\tlearn: 2.4259076\ttotal: 10.5s\tremaining: 9.73s\n",
            "518:\tlearn: 2.4230144\ttotal: 10.5s\tremaining: 9.7s\n",
            "519:\tlearn: 2.4198638\ttotal: 10.5s\tremaining: 9.68s\n",
            "520:\tlearn: 2.4169653\ttotal: 10.5s\tremaining: 9.65s\n",
            "521:\tlearn: 2.4126459\ttotal: 10.5s\tremaining: 9.62s\n",
            "522:\tlearn: 2.4092275\ttotal: 10.5s\tremaining: 9.6s\n",
            "523:\tlearn: 2.4064312\ttotal: 10.5s\tremaining: 9.57s\n",
            "524:\tlearn: 2.4030115\ttotal: 10.6s\tremaining: 9.55s\n",
            "525:\tlearn: 2.3982205\ttotal: 10.6s\tremaining: 9.52s\n",
            "526:\tlearn: 2.3943723\ttotal: 10.6s\tremaining: 9.5s\n",
            "527:\tlearn: 2.3914886\ttotal: 10.6s\tremaining: 9.47s\n",
            "528:\tlearn: 2.3882259\ttotal: 10.6s\tremaining: 9.45s\n",
            "529:\tlearn: 2.3844422\ttotal: 10.6s\tremaining: 9.42s\n",
            "530:\tlearn: 2.3808255\ttotal: 10.6s\tremaining: 9.39s\n",
            "531:\tlearn: 2.3765575\ttotal: 10.6s\tremaining: 9.37s\n",
            "532:\tlearn: 2.3733490\ttotal: 10.7s\tremaining: 9.34s\n",
            "533:\tlearn: 2.3698938\ttotal: 10.7s\tremaining: 9.31s\n",
            "534:\tlearn: 2.3659432\ttotal: 10.7s\tremaining: 9.29s\n",
            "535:\tlearn: 2.3621327\ttotal: 10.7s\tremaining: 9.26s\n",
            "536:\tlearn: 2.3585054\ttotal: 10.7s\tremaining: 9.24s\n",
            "537:\tlearn: 2.3567863\ttotal: 10.7s\tremaining: 9.21s\n",
            "538:\tlearn: 2.3544830\ttotal: 10.7s\tremaining: 9.19s\n",
            "539:\tlearn: 2.3524532\ttotal: 10.8s\tremaining: 9.16s\n",
            "540:\tlearn: 2.3486248\ttotal: 10.8s\tremaining: 9.14s\n",
            "541:\tlearn: 2.3456764\ttotal: 10.8s\tremaining: 9.11s\n",
            "542:\tlearn: 2.3410337\ttotal: 10.8s\tremaining: 9.09s\n",
            "543:\tlearn: 2.3378728\ttotal: 10.8s\tremaining: 9.06s\n",
            "544:\tlearn: 2.3346704\ttotal: 10.8s\tremaining: 9.03s\n",
            "545:\tlearn: 2.3317326\ttotal: 10.8s\tremaining: 9.01s\n",
            "546:\tlearn: 2.3270206\ttotal: 10.8s\tremaining: 8.98s\n",
            "547:\tlearn: 2.3247094\ttotal: 10.9s\tremaining: 8.96s\n",
            "548:\tlearn: 2.3219782\ttotal: 10.9s\tremaining: 8.93s\n",
            "549:\tlearn: 2.3166626\ttotal: 10.9s\tremaining: 8.9s\n",
            "550:\tlearn: 2.3144692\ttotal: 10.9s\tremaining: 8.88s\n",
            "551:\tlearn: 2.3113459\ttotal: 10.9s\tremaining: 8.86s\n",
            "552:\tlearn: 2.3082199\ttotal: 10.9s\tremaining: 8.83s\n",
            "553:\tlearn: 2.3057454\ttotal: 10.9s\tremaining: 8.81s\n",
            "554:\tlearn: 2.3026325\ttotal: 11s\tremaining: 8.78s\n",
            "555:\tlearn: 2.2995485\ttotal: 11s\tremaining: 8.76s\n",
            "556:\tlearn: 2.2977658\ttotal: 11s\tremaining: 8.73s\n",
            "557:\tlearn: 2.2933471\ttotal: 11s\tremaining: 8.71s\n",
            "558:\tlearn: 2.2902678\ttotal: 11s\tremaining: 8.69s\n",
            "559:\tlearn: 2.2879354\ttotal: 11s\tremaining: 8.66s\n",
            "560:\tlearn: 2.2860873\ttotal: 11s\tremaining: 8.64s\n",
            "561:\tlearn: 2.2837199\ttotal: 11.1s\tremaining: 8.61s\n",
            "562:\tlearn: 2.2808140\ttotal: 11.1s\tremaining: 8.59s\n",
            "563:\tlearn: 2.2766586\ttotal: 11.1s\tremaining: 8.56s\n",
            "564:\tlearn: 2.2711443\ttotal: 11.1s\tremaining: 8.54s\n",
            "565:\tlearn: 2.2685182\ttotal: 11.1s\tremaining: 8.51s\n",
            "566:\tlearn: 2.2649936\ttotal: 11.1s\tremaining: 8.49s\n",
            "567:\tlearn: 2.2622969\ttotal: 11.1s\tremaining: 8.47s\n",
            "568:\tlearn: 2.2596601\ttotal: 11.2s\tremaining: 8.45s\n",
            "569:\tlearn: 2.2573587\ttotal: 11.2s\tremaining: 8.42s\n",
            "570:\tlearn: 2.2540462\ttotal: 11.2s\tremaining: 8.4s\n",
            "571:\tlearn: 2.2511985\ttotal: 11.2s\tremaining: 8.37s\n",
            "572:\tlearn: 2.2481464\ttotal: 11.2s\tremaining: 8.35s\n",
            "573:\tlearn: 2.2457526\ttotal: 11.2s\tremaining: 8.32s\n",
            "574:\tlearn: 2.2432891\ttotal: 11.2s\tremaining: 8.3s\n",
            "575:\tlearn: 2.2401823\ttotal: 11.2s\tremaining: 8.27s\n",
            "576:\tlearn: 2.2360928\ttotal: 11.3s\tremaining: 8.25s\n",
            "577:\tlearn: 2.2352436\ttotal: 11.3s\tremaining: 8.22s\n",
            "578:\tlearn: 2.2328563\ttotal: 11.3s\tremaining: 8.2s\n",
            "579:\tlearn: 2.2294475\ttotal: 11.3s\tremaining: 8.18s\n",
            "580:\tlearn: 2.2268582\ttotal: 11.3s\tremaining: 8.15s\n",
            "581:\tlearn: 2.2240443\ttotal: 11.3s\tremaining: 8.13s\n",
            "582:\tlearn: 2.2222265\ttotal: 11.3s\tremaining: 8.1s\n",
            "583:\tlearn: 2.2176990\ttotal: 11.3s\tremaining: 8.08s\n",
            "584:\tlearn: 2.2138522\ttotal: 11.4s\tremaining: 8.06s\n",
            "585:\tlearn: 2.2122836\ttotal: 11.4s\tremaining: 8.03s\n",
            "586:\tlearn: 2.2088029\ttotal: 11.4s\tremaining: 8.01s\n",
            "587:\tlearn: 2.2068675\ttotal: 11.4s\tremaining: 7.99s\n",
            "588:\tlearn: 2.2027900\ttotal: 11.4s\tremaining: 7.96s\n",
            "589:\tlearn: 2.2005141\ttotal: 11.4s\tremaining: 7.94s\n",
            "590:\tlearn: 2.1968678\ttotal: 11.4s\tremaining: 7.91s\n",
            "591:\tlearn: 2.1943939\ttotal: 11.4s\tremaining: 7.89s\n",
            "592:\tlearn: 2.1915118\ttotal: 11.5s\tremaining: 7.87s\n",
            "593:\tlearn: 2.1885226\ttotal: 11.5s\tremaining: 7.84s\n",
            "594:\tlearn: 2.1871406\ttotal: 11.5s\tremaining: 7.82s\n",
            "595:\tlearn: 2.1843917\ttotal: 11.5s\tremaining: 7.79s\n",
            "596:\tlearn: 2.1806800\ttotal: 11.5s\tremaining: 7.77s\n",
            "597:\tlearn: 2.1783795\ttotal: 11.5s\tremaining: 7.75s\n",
            "598:\tlearn: 2.1747939\ttotal: 11.5s\tremaining: 7.72s\n",
            "599:\tlearn: 2.1727741\ttotal: 11.6s\tremaining: 7.7s\n",
            "600:\tlearn: 2.1696654\ttotal: 11.6s\tremaining: 7.68s\n",
            "601:\tlearn: 2.1677680\ttotal: 11.6s\tremaining: 7.66s\n",
            "602:\tlearn: 2.1637136\ttotal: 11.6s\tremaining: 7.63s\n",
            "603:\tlearn: 2.1599070\ttotal: 11.6s\tremaining: 7.61s\n",
            "604:\tlearn: 2.1568346\ttotal: 11.6s\tremaining: 7.58s\n",
            "605:\tlearn: 2.1545215\ttotal: 11.6s\tremaining: 7.56s\n",
            "606:\tlearn: 2.1516689\ttotal: 11.6s\tremaining: 7.54s\n",
            "607:\tlearn: 2.1493604\ttotal: 11.7s\tremaining: 7.51s\n",
            "608:\tlearn: 2.1477742\ttotal: 11.7s\tremaining: 7.49s\n",
            "609:\tlearn: 2.1438178\ttotal: 11.7s\tremaining: 7.47s\n",
            "610:\tlearn: 2.1423663\ttotal: 11.7s\tremaining: 7.45s\n",
            "611:\tlearn: 2.1402219\ttotal: 11.7s\tremaining: 7.42s\n",
            "612:\tlearn: 2.1360366\ttotal: 11.7s\tremaining: 7.4s\n",
            "613:\tlearn: 2.1321151\ttotal: 11.7s\tremaining: 7.38s\n",
            "614:\tlearn: 2.1298103\ttotal: 11.8s\tremaining: 7.36s\n",
            "615:\tlearn: 2.1267110\ttotal: 11.8s\tremaining: 7.34s\n",
            "616:\tlearn: 2.1235543\ttotal: 11.8s\tremaining: 7.32s\n",
            "617:\tlearn: 2.1216975\ttotal: 11.8s\tremaining: 7.29s\n",
            "618:\tlearn: 2.1191516\ttotal: 11.8s\tremaining: 7.27s\n",
            "619:\tlearn: 2.1164691\ttotal: 11.8s\tremaining: 7.25s\n",
            "620:\tlearn: 2.1149536\ttotal: 11.8s\tremaining: 7.22s\n",
            "621:\tlearn: 2.1119467\ttotal: 11.8s\tremaining: 7.2s\n",
            "622:\tlearn: 2.1097486\ttotal: 11.9s\tremaining: 7.18s\n",
            "623:\tlearn: 2.1054725\ttotal: 11.9s\tremaining: 7.15s\n",
            "624:\tlearn: 2.1029763\ttotal: 11.9s\tremaining: 7.13s\n",
            "625:\tlearn: 2.0993000\ttotal: 11.9s\tremaining: 7.11s\n",
            "626:\tlearn: 2.0984216\ttotal: 11.9s\tremaining: 7.09s\n",
            "627:\tlearn: 2.0965815\ttotal: 11.9s\tremaining: 7.06s\n",
            "628:\tlearn: 2.0935588\ttotal: 11.9s\tremaining: 7.04s\n",
            "629:\tlearn: 2.0892232\ttotal: 12s\tremaining: 7.02s\n",
            "630:\tlearn: 2.0863761\ttotal: 12s\tremaining: 7s\n",
            "631:\tlearn: 2.0837327\ttotal: 12s\tremaining: 6.98s\n",
            "632:\tlearn: 2.0807526\ttotal: 12s\tremaining: 6.96s\n",
            "633:\tlearn: 2.0773908\ttotal: 12s\tremaining: 6.93s\n",
            "634:\tlearn: 2.0747560\ttotal: 12s\tremaining: 6.91s\n",
            "635:\tlearn: 2.0701907\ttotal: 12s\tremaining: 6.89s\n",
            "636:\tlearn: 2.0678159\ttotal: 12s\tremaining: 6.87s\n",
            "637:\tlearn: 2.0642002\ttotal: 12.1s\tremaining: 6.84s\n",
            "638:\tlearn: 2.0617677\ttotal: 12.1s\tremaining: 6.82s\n",
            "639:\tlearn: 2.0605654\ttotal: 12.1s\tremaining: 6.8s\n",
            "640:\tlearn: 2.0569231\ttotal: 12.1s\tremaining: 6.78s\n",
            "641:\tlearn: 2.0540803\ttotal: 12.1s\tremaining: 6.75s\n",
            "642:\tlearn: 2.0518681\ttotal: 12.1s\tremaining: 6.74s\n",
            "643:\tlearn: 2.0485354\ttotal: 12.1s\tremaining: 6.71s\n",
            "644:\tlearn: 2.0446008\ttotal: 12.2s\tremaining: 6.69s\n",
            "645:\tlearn: 2.0429726\ttotal: 12.2s\tremaining: 6.67s\n",
            "646:\tlearn: 2.0414117\ttotal: 12.2s\tremaining: 6.65s\n",
            "647:\tlearn: 2.0386872\ttotal: 12.2s\tremaining: 6.63s\n",
            "648:\tlearn: 2.0362175\ttotal: 12.2s\tremaining: 6.61s\n",
            "649:\tlearn: 2.0337996\ttotal: 12.2s\tremaining: 6.59s\n",
            "650:\tlearn: 2.0306462\ttotal: 12.2s\tremaining: 6.57s\n",
            "651:\tlearn: 2.0268423\ttotal: 12.3s\tremaining: 6.54s\n",
            "652:\tlearn: 2.0243707\ttotal: 12.3s\tremaining: 6.52s\n",
            "653:\tlearn: 2.0218059\ttotal: 12.3s\tremaining: 6.5s\n",
            "654:\tlearn: 2.0200660\ttotal: 12.3s\tremaining: 6.48s\n",
            "655:\tlearn: 2.0154323\ttotal: 12.3s\tremaining: 6.46s\n",
            "656:\tlearn: 2.0146191\ttotal: 12.3s\tremaining: 6.43s\n",
            "657:\tlearn: 2.0113287\ttotal: 12.3s\tremaining: 6.41s\n",
            "658:\tlearn: 2.0082776\ttotal: 12.3s\tremaining: 6.39s\n",
            "659:\tlearn: 2.0052292\ttotal: 12.4s\tremaining: 6.37s\n",
            "660:\tlearn: 2.0021713\ttotal: 12.4s\tremaining: 6.34s\n",
            "661:\tlearn: 2.0010773\ttotal: 12.4s\tremaining: 6.32s\n",
            "662:\tlearn: 1.9978468\ttotal: 12.4s\tremaining: 6.3s\n",
            "663:\tlearn: 1.9951370\ttotal: 12.4s\tremaining: 6.28s\n",
            "664:\tlearn: 1.9935784\ttotal: 12.4s\tremaining: 6.26s\n",
            "665:\tlearn: 1.9912275\ttotal: 12.4s\tremaining: 6.24s\n",
            "666:\tlearn: 1.9873085\ttotal: 12.4s\tremaining: 6.21s\n",
            "667:\tlearn: 1.9851392\ttotal: 12.5s\tremaining: 6.19s\n",
            "668:\tlearn: 1.9809679\ttotal: 12.5s\tremaining: 6.17s\n",
            "669:\tlearn: 1.9781704\ttotal: 12.5s\tremaining: 6.15s\n",
            "670:\tlearn: 1.9759135\ttotal: 12.5s\tremaining: 6.13s\n",
            "671:\tlearn: 1.9742237\ttotal: 12.5s\tremaining: 6.11s\n",
            "672:\tlearn: 1.9703358\ttotal: 12.5s\tremaining: 6.08s\n",
            "673:\tlearn: 1.9662895\ttotal: 12.5s\tremaining: 6.06s\n",
            "674:\tlearn: 1.9633445\ttotal: 12.6s\tremaining: 6.04s\n",
            "675:\tlearn: 1.9605249\ttotal: 12.6s\tremaining: 6.02s\n",
            "676:\tlearn: 1.9580592\ttotal: 12.6s\tremaining: 6s\n",
            "677:\tlearn: 1.9548147\ttotal: 12.6s\tremaining: 5.98s\n",
            "678:\tlearn: 1.9521403\ttotal: 12.6s\tremaining: 5.96s\n",
            "679:\tlearn: 1.9492366\ttotal: 12.6s\tremaining: 5.94s\n",
            "680:\tlearn: 1.9456370\ttotal: 12.6s\tremaining: 5.92s\n",
            "681:\tlearn: 1.9428162\ttotal: 12.7s\tremaining: 5.9s\n",
            "682:\tlearn: 1.9415862\ttotal: 12.7s\tremaining: 5.88s\n",
            "683:\tlearn: 1.9388429\ttotal: 12.7s\tremaining: 5.86s\n",
            "684:\tlearn: 1.9368919\ttotal: 12.7s\tremaining: 5.84s\n",
            "685:\tlearn: 1.9335891\ttotal: 12.7s\tremaining: 5.82s\n",
            "686:\tlearn: 1.9307074\ttotal: 12.7s\tremaining: 5.79s\n",
            "687:\tlearn: 1.9281190\ttotal: 12.7s\tremaining: 5.77s\n",
            "688:\tlearn: 1.9260756\ttotal: 12.7s\tremaining: 5.75s\n",
            "689:\tlearn: 1.9223766\ttotal: 12.8s\tremaining: 5.73s\n",
            "690:\tlearn: 1.9200515\ttotal: 12.8s\tremaining: 5.71s\n",
            "691:\tlearn: 1.9167317\ttotal: 12.8s\tremaining: 5.69s\n",
            "692:\tlearn: 1.9150565\ttotal: 12.8s\tremaining: 5.67s\n",
            "693:\tlearn: 1.9132092\ttotal: 12.8s\tremaining: 5.65s\n",
            "694:\tlearn: 1.9090154\ttotal: 12.8s\tremaining: 5.63s\n",
            "695:\tlearn: 1.9076169\ttotal: 12.8s\tremaining: 5.61s\n",
            "696:\tlearn: 1.9051068\ttotal: 12.8s\tremaining: 5.59s\n",
            "697:\tlearn: 1.9026343\ttotal: 12.9s\tremaining: 5.56s\n",
            "698:\tlearn: 1.8995450\ttotal: 12.9s\tremaining: 5.54s\n",
            "699:\tlearn: 1.8970262\ttotal: 12.9s\tremaining: 5.52s\n",
            "700:\tlearn: 1.8962935\ttotal: 12.9s\tremaining: 5.5s\n",
            "701:\tlearn: 1.8928111\ttotal: 12.9s\tremaining: 5.48s\n",
            "702:\tlearn: 1.8908566\ttotal: 12.9s\tremaining: 5.46s\n",
            "703:\tlearn: 1.8899688\ttotal: 12.9s\tremaining: 5.44s\n",
            "704:\tlearn: 1.8872896\ttotal: 12.9s\tremaining: 5.42s\n",
            "705:\tlearn: 1.8865860\ttotal: 13s\tremaining: 5.4s\n",
            "706:\tlearn: 1.8845730\ttotal: 13s\tremaining: 5.38s\n",
            "707:\tlearn: 1.8831203\ttotal: 13s\tremaining: 5.36s\n",
            "708:\tlearn: 1.8800517\ttotal: 13s\tremaining: 5.34s\n",
            "709:\tlearn: 1.8763696\ttotal: 13s\tremaining: 5.32s\n",
            "710:\tlearn: 1.8732956\ttotal: 13s\tremaining: 5.3s\n",
            "711:\tlearn: 1.8705828\ttotal: 13s\tremaining: 5.28s\n",
            "712:\tlearn: 1.8671703\ttotal: 13.1s\tremaining: 5.26s\n",
            "713:\tlearn: 1.8646105\ttotal: 13.1s\tremaining: 5.24s\n",
            "714:\tlearn: 1.8625455\ttotal: 13.1s\tremaining: 5.22s\n",
            "715:\tlearn: 1.8607796\ttotal: 13.1s\tremaining: 5.2s\n",
            "716:\tlearn: 1.8568552\ttotal: 13.1s\tremaining: 5.17s\n",
            "717:\tlearn: 1.8547317\ttotal: 13.1s\tremaining: 5.16s\n",
            "718:\tlearn: 1.8520632\ttotal: 13.1s\tremaining: 5.14s\n",
            "719:\tlearn: 1.8500349\ttotal: 13.2s\tremaining: 5.12s\n",
            "720:\tlearn: 1.8477825\ttotal: 13.2s\tremaining: 5.1s\n",
            "721:\tlearn: 1.8452177\ttotal: 13.2s\tremaining: 5.08s\n",
            "722:\tlearn: 1.8425600\ttotal: 13.2s\tremaining: 5.05s\n",
            "723:\tlearn: 1.8403820\ttotal: 13.2s\tremaining: 5.04s\n",
            "724:\tlearn: 1.8377039\ttotal: 13.2s\tremaining: 5.01s\n",
            "725:\tlearn: 1.8346704\ttotal: 13.2s\tremaining: 5s\n",
            "726:\tlearn: 1.8316027\ttotal: 13.3s\tremaining: 4.97s\n",
            "727:\tlearn: 1.8287735\ttotal: 13.3s\tremaining: 4.96s\n",
            "728:\tlearn: 1.8266547\ttotal: 13.3s\tremaining: 4.93s\n",
            "729:\tlearn: 1.8247106\ttotal: 13.3s\tremaining: 4.91s\n",
            "730:\tlearn: 1.8219308\ttotal: 13.3s\tremaining: 4.89s\n",
            "731:\tlearn: 1.8194844\ttotal: 13.3s\tremaining: 4.87s\n",
            "732:\tlearn: 1.8162143\ttotal: 13.3s\tremaining: 4.85s\n",
            "733:\tlearn: 1.8139227\ttotal: 13.3s\tremaining: 4.83s\n",
            "734:\tlearn: 1.8114359\ttotal: 13.4s\tremaining: 4.81s\n",
            "735:\tlearn: 1.8090203\ttotal: 13.4s\tremaining: 4.79s\n",
            "736:\tlearn: 1.8070512\ttotal: 13.4s\tremaining: 4.77s\n",
            "737:\tlearn: 1.8040576\ttotal: 13.4s\tremaining: 4.75s\n",
            "738:\tlearn: 1.8018861\ttotal: 13.4s\tremaining: 4.73s\n",
            "739:\tlearn: 1.8006350\ttotal: 13.4s\tremaining: 4.71s\n",
            "740:\tlearn: 1.7978897\ttotal: 13.4s\tremaining: 4.69s\n",
            "741:\tlearn: 1.7966011\ttotal: 13.4s\tremaining: 4.67s\n",
            "742:\tlearn: 1.7939833\ttotal: 13.5s\tremaining: 4.66s\n",
            "743:\tlearn: 1.7919809\ttotal: 13.5s\tremaining: 4.64s\n",
            "744:\tlearn: 1.7902162\ttotal: 13.5s\tremaining: 4.62s\n",
            "745:\tlearn: 1.7869022\ttotal: 13.5s\tremaining: 4.6s\n",
            "746:\tlearn: 1.7841558\ttotal: 13.5s\tremaining: 4.58s\n",
            "747:\tlearn: 1.7821624\ttotal: 13.5s\tremaining: 4.56s\n",
            "748:\tlearn: 1.7809821\ttotal: 13.5s\tremaining: 4.54s\n",
            "749:\tlearn: 1.7771946\ttotal: 13.6s\tremaining: 4.52s\n",
            "750:\tlearn: 1.7748120\ttotal: 13.6s\tremaining: 4.5s\n",
            "751:\tlearn: 1.7730826\ttotal: 13.6s\tremaining: 4.48s\n",
            "752:\tlearn: 1.7697577\ttotal: 13.6s\tremaining: 4.46s\n",
            "753:\tlearn: 1.7685250\ttotal: 13.6s\tremaining: 4.44s\n",
            "754:\tlearn: 1.7669531\ttotal: 13.6s\tremaining: 4.42s\n",
            "755:\tlearn: 1.7647072\ttotal: 13.6s\tremaining: 4.4s\n",
            "756:\tlearn: 1.7610103\ttotal: 13.7s\tremaining: 4.38s\n",
            "757:\tlearn: 1.7594043\ttotal: 13.7s\tremaining: 4.36s\n",
            "758:\tlearn: 1.7577192\ttotal: 13.7s\tremaining: 4.34s\n",
            "759:\tlearn: 1.7562949\ttotal: 13.7s\tremaining: 4.32s\n",
            "760:\tlearn: 1.7546478\ttotal: 13.7s\tremaining: 4.3s\n",
            "761:\tlearn: 1.7532678\ttotal: 13.7s\tremaining: 4.28s\n",
            "762:\tlearn: 1.7505420\ttotal: 13.7s\tremaining: 4.26s\n",
            "763:\tlearn: 1.7488681\ttotal: 13.7s\tremaining: 4.25s\n",
            "764:\tlearn: 1.7461800\ttotal: 13.8s\tremaining: 4.23s\n",
            "765:\tlearn: 1.7444749\ttotal: 13.8s\tremaining: 4.21s\n",
            "766:\tlearn: 1.7418432\ttotal: 13.8s\tremaining: 4.19s\n",
            "767:\tlearn: 1.7392447\ttotal: 13.8s\tremaining: 4.17s\n",
            "768:\tlearn: 1.7382521\ttotal: 13.8s\tremaining: 4.15s\n",
            "769:\tlearn: 1.7364704\ttotal: 13.8s\tremaining: 4.13s\n",
            "770:\tlearn: 1.7345995\ttotal: 13.8s\tremaining: 4.11s\n",
            "771:\tlearn: 1.7319857\ttotal: 13.8s\tremaining: 4.09s\n",
            "772:\tlearn: 1.7294451\ttotal: 13.9s\tremaining: 4.07s\n",
            "773:\tlearn: 1.7271224\ttotal: 13.9s\tremaining: 4.05s\n",
            "774:\tlearn: 1.7253524\ttotal: 13.9s\tremaining: 4.03s\n",
            "775:\tlearn: 1.7238222\ttotal: 13.9s\tremaining: 4.01s\n",
            "776:\tlearn: 1.7217152\ttotal: 13.9s\tremaining: 4s\n",
            "777:\tlearn: 1.7186850\ttotal: 13.9s\tremaining: 3.98s\n",
            "778:\tlearn: 1.7175631\ttotal: 14s\tremaining: 3.96s\n",
            "779:\tlearn: 1.7166318\ttotal: 14s\tremaining: 3.94s\n",
            "780:\tlearn: 1.7143913\ttotal: 14s\tremaining: 3.92s\n",
            "781:\tlearn: 1.7122054\ttotal: 14s\tremaining: 3.9s\n",
            "782:\tlearn: 1.7105234\ttotal: 14s\tremaining: 3.88s\n",
            "783:\tlearn: 1.7078793\ttotal: 14s\tremaining: 3.86s\n",
            "784:\tlearn: 1.7054805\ttotal: 14s\tremaining: 3.84s\n",
            "785:\tlearn: 1.7023981\ttotal: 14s\tremaining: 3.82s\n",
            "786:\tlearn: 1.7005239\ttotal: 14.1s\tremaining: 3.81s\n",
            "787:\tlearn: 1.6991716\ttotal: 14.1s\tremaining: 3.79s\n",
            "788:\tlearn: 1.6977752\ttotal: 14.1s\tremaining: 3.77s\n",
            "789:\tlearn: 1.6954020\ttotal: 14.1s\tremaining: 3.75s\n",
            "790:\tlearn: 1.6933407\ttotal: 14.1s\tremaining: 3.73s\n",
            "791:\tlearn: 1.6909907\ttotal: 14.1s\tremaining: 3.71s\n",
            "792:\tlearn: 1.6895502\ttotal: 14.1s\tremaining: 3.69s\n",
            "793:\tlearn: 1.6859465\ttotal: 14.2s\tremaining: 3.67s\n",
            "794:\tlearn: 1.6825086\ttotal: 14.2s\tremaining: 3.65s\n",
            "795:\tlearn: 1.6810455\ttotal: 14.2s\tremaining: 3.64s\n",
            "796:\tlearn: 1.6796401\ttotal: 14.2s\tremaining: 3.62s\n",
            "797:\tlearn: 1.6778747\ttotal: 14.2s\tremaining: 3.6s\n",
            "798:\tlearn: 1.6743842\ttotal: 14.2s\tremaining: 3.58s\n",
            "799:\tlearn: 1.6723775\ttotal: 14.2s\tremaining: 3.56s\n",
            "800:\tlearn: 1.6705989\ttotal: 14.3s\tremaining: 3.54s\n",
            "801:\tlearn: 1.6679758\ttotal: 14.3s\tremaining: 3.52s\n",
            "802:\tlearn: 1.6653631\ttotal: 14.3s\tremaining: 3.5s\n",
            "803:\tlearn: 1.6646268\ttotal: 14.3s\tremaining: 3.48s\n",
            "804:\tlearn: 1.6635269\ttotal: 14.3s\tremaining: 3.47s\n",
            "805:\tlearn: 1.6613452\ttotal: 14.3s\tremaining: 3.45s\n",
            "806:\tlearn: 1.6592723\ttotal: 14.3s\tremaining: 3.43s\n",
            "807:\tlearn: 1.6566442\ttotal: 14.4s\tremaining: 3.41s\n",
            "808:\tlearn: 1.6540645\ttotal: 14.4s\tremaining: 3.39s\n",
            "809:\tlearn: 1.6519066\ttotal: 14.4s\tremaining: 3.37s\n",
            "810:\tlearn: 1.6500489\ttotal: 14.4s\tremaining: 3.35s\n",
            "811:\tlearn: 1.6474174\ttotal: 14.4s\tremaining: 3.33s\n",
            "812:\tlearn: 1.6447575\ttotal: 14.4s\tremaining: 3.32s\n",
            "813:\tlearn: 1.6426587\ttotal: 14.4s\tremaining: 3.3s\n",
            "814:\tlearn: 1.6404787\ttotal: 14.4s\tremaining: 3.28s\n",
            "815:\tlearn: 1.6382319\ttotal: 14.5s\tremaining: 3.26s\n",
            "816:\tlearn: 1.6365122\ttotal: 14.5s\tremaining: 3.24s\n",
            "817:\tlearn: 1.6355443\ttotal: 14.5s\tremaining: 3.22s\n",
            "818:\tlearn: 1.6339901\ttotal: 14.5s\tremaining: 3.2s\n",
            "819:\tlearn: 1.6311419\ttotal: 14.5s\tremaining: 3.19s\n",
            "820:\tlearn: 1.6298671\ttotal: 14.5s\tremaining: 3.17s\n",
            "821:\tlearn: 1.6271047\ttotal: 14.5s\tremaining: 3.15s\n",
            "822:\tlearn: 1.6257670\ttotal: 14.6s\tremaining: 3.13s\n",
            "823:\tlearn: 1.6243047\ttotal: 14.6s\tremaining: 3.11s\n",
            "824:\tlearn: 1.6223416\ttotal: 14.6s\tremaining: 3.09s\n",
            "825:\tlearn: 1.6208027\ttotal: 14.6s\tremaining: 3.07s\n",
            "826:\tlearn: 1.6190513\ttotal: 14.6s\tremaining: 3.05s\n",
            "827:\tlearn: 1.6166921\ttotal: 14.6s\tremaining: 3.04s\n",
            "828:\tlearn: 1.6146733\ttotal: 14.6s\tremaining: 3.02s\n",
            "829:\tlearn: 1.6119470\ttotal: 14.6s\tremaining: 3s\n",
            "830:\tlearn: 1.6095490\ttotal: 14.7s\tremaining: 2.98s\n",
            "831:\tlearn: 1.6069435\ttotal: 14.7s\tremaining: 2.96s\n",
            "832:\tlearn: 1.6055457\ttotal: 14.7s\tremaining: 2.94s\n",
            "833:\tlearn: 1.6039329\ttotal: 14.7s\tremaining: 2.92s\n",
            "834:\tlearn: 1.6006185\ttotal: 14.7s\tremaining: 2.91s\n",
            "835:\tlearn: 1.5988749\ttotal: 14.7s\tremaining: 2.89s\n",
            "836:\tlearn: 1.5956673\ttotal: 14.7s\tremaining: 2.87s\n",
            "837:\tlearn: 1.5943986\ttotal: 14.8s\tremaining: 2.85s\n",
            "838:\tlearn: 1.5917972\ttotal: 14.8s\tremaining: 2.83s\n",
            "839:\tlearn: 1.5906662\ttotal: 14.8s\tremaining: 2.81s\n",
            "840:\tlearn: 1.5894264\ttotal: 14.8s\tremaining: 2.8s\n",
            "841:\tlearn: 1.5883313\ttotal: 14.8s\tremaining: 2.78s\n",
            "842:\tlearn: 1.5866376\ttotal: 14.8s\tremaining: 2.76s\n",
            "843:\tlearn: 1.5839164\ttotal: 14.8s\tremaining: 2.74s\n",
            "844:\tlearn: 1.5821416\ttotal: 14.8s\tremaining: 2.72s\n",
            "845:\tlearn: 1.5811086\ttotal: 14.9s\tremaining: 2.7s\n",
            "846:\tlearn: 1.5786916\ttotal: 14.9s\tremaining: 2.69s\n",
            "847:\tlearn: 1.5773257\ttotal: 14.9s\tremaining: 2.67s\n",
            "848:\tlearn: 1.5765605\ttotal: 14.9s\tremaining: 2.65s\n",
            "849:\tlearn: 1.5746920\ttotal: 14.9s\tremaining: 2.63s\n",
            "850:\tlearn: 1.5710441\ttotal: 14.9s\tremaining: 2.61s\n",
            "851:\tlearn: 1.5691924\ttotal: 14.9s\tremaining: 2.6s\n",
            "852:\tlearn: 1.5675076\ttotal: 15s\tremaining: 2.58s\n",
            "853:\tlearn: 1.5654422\ttotal: 15s\tremaining: 2.56s\n",
            "854:\tlearn: 1.5635451\ttotal: 15s\tremaining: 2.54s\n",
            "855:\tlearn: 1.5623964\ttotal: 15s\tremaining: 2.52s\n",
            "856:\tlearn: 1.5610227\ttotal: 15s\tremaining: 2.5s\n",
            "857:\tlearn: 1.5599556\ttotal: 15s\tremaining: 2.49s\n",
            "858:\tlearn: 1.5580242\ttotal: 15s\tremaining: 2.47s\n",
            "859:\tlearn: 1.5565190\ttotal: 15s\tremaining: 2.45s\n",
            "860:\tlearn: 1.5549698\ttotal: 15.1s\tremaining: 2.43s\n",
            "861:\tlearn: 1.5526943\ttotal: 15.1s\tremaining: 2.41s\n",
            "862:\tlearn: 1.5514424\ttotal: 15.1s\tremaining: 2.4s\n",
            "863:\tlearn: 1.5491646\ttotal: 15.1s\tremaining: 2.38s\n",
            "864:\tlearn: 1.5480940\ttotal: 15.1s\tremaining: 2.36s\n",
            "865:\tlearn: 1.5467907\ttotal: 15.1s\tremaining: 2.34s\n",
            "866:\tlearn: 1.5446577\ttotal: 15.2s\tremaining: 2.32s\n",
            "867:\tlearn: 1.5426968\ttotal: 15.2s\tremaining: 2.31s\n",
            "868:\tlearn: 1.5404456\ttotal: 15.2s\tremaining: 2.29s\n",
            "869:\tlearn: 1.5382211\ttotal: 15.2s\tremaining: 2.27s\n",
            "870:\tlearn: 1.5371137\ttotal: 15.2s\tremaining: 2.25s\n",
            "871:\tlearn: 1.5350791\ttotal: 15.2s\tremaining: 2.23s\n",
            "872:\tlearn: 1.5328169\ttotal: 15.2s\tremaining: 2.22s\n",
            "873:\tlearn: 1.5313789\ttotal: 15.3s\tremaining: 2.2s\n",
            "874:\tlearn: 1.5301042\ttotal: 15.3s\tremaining: 2.18s\n",
            "875:\tlearn: 1.5287909\ttotal: 15.3s\tremaining: 2.16s\n",
            "876:\tlearn: 1.5276756\ttotal: 15.3s\tremaining: 2.14s\n",
            "877:\tlearn: 1.5265015\ttotal: 15.3s\tremaining: 2.13s\n",
            "878:\tlearn: 1.5241793\ttotal: 15.3s\tremaining: 2.11s\n",
            "879:\tlearn: 1.5222399\ttotal: 15.3s\tremaining: 2.09s\n",
            "880:\tlearn: 1.5209132\ttotal: 15.3s\tremaining: 2.07s\n",
            "881:\tlearn: 1.5199748\ttotal: 15.4s\tremaining: 2.05s\n",
            "882:\tlearn: 1.5170986\ttotal: 15.4s\tremaining: 2.04s\n",
            "883:\tlearn: 1.5150874\ttotal: 15.4s\tremaining: 2.02s\n",
            "884:\tlearn: 1.5137873\ttotal: 15.4s\tremaining: 2s\n",
            "885:\tlearn: 1.5115059\ttotal: 15.4s\tremaining: 1.98s\n",
            "886:\tlearn: 1.5092392\ttotal: 15.4s\tremaining: 1.96s\n",
            "887:\tlearn: 1.5069647\ttotal: 15.4s\tremaining: 1.95s\n",
            "888:\tlearn: 1.5056282\ttotal: 15.4s\tremaining: 1.93s\n",
            "889:\tlearn: 1.5044325\ttotal: 15.5s\tremaining: 1.91s\n",
            "890:\tlearn: 1.5022247\ttotal: 15.5s\tremaining: 1.89s\n",
            "891:\tlearn: 1.5001215\ttotal: 15.5s\tremaining: 1.88s\n",
            "892:\tlearn: 1.4993351\ttotal: 15.5s\tremaining: 1.86s\n",
            "893:\tlearn: 1.4975124\ttotal: 15.5s\tremaining: 1.84s\n",
            "894:\tlearn: 1.4961490\ttotal: 15.5s\tremaining: 1.82s\n",
            "895:\tlearn: 1.4946209\ttotal: 15.5s\tremaining: 1.8s\n",
            "896:\tlearn: 1.4928321\ttotal: 15.6s\tremaining: 1.79s\n",
            "897:\tlearn: 1.4914542\ttotal: 15.6s\tremaining: 1.77s\n",
            "898:\tlearn: 1.4902169\ttotal: 15.6s\tremaining: 1.75s\n",
            "899:\tlearn: 1.4889026\ttotal: 15.6s\tremaining: 1.73s\n",
            "900:\tlearn: 1.4868056\ttotal: 15.6s\tremaining: 1.72s\n",
            "901:\tlearn: 1.4852784\ttotal: 15.6s\tremaining: 1.7s\n",
            "902:\tlearn: 1.4837031\ttotal: 15.6s\tremaining: 1.68s\n",
            "903:\tlearn: 1.4819370\ttotal: 15.6s\tremaining: 1.66s\n",
            "904:\tlearn: 1.4801385\ttotal: 15.7s\tremaining: 1.64s\n",
            "905:\tlearn: 1.4784484\ttotal: 15.7s\tremaining: 1.63s\n",
            "906:\tlearn: 1.4772103\ttotal: 15.7s\tremaining: 1.61s\n",
            "907:\tlearn: 1.4751407\ttotal: 15.7s\tremaining: 1.59s\n",
            "908:\tlearn: 1.4738372\ttotal: 15.7s\tremaining: 1.57s\n",
            "909:\tlearn: 1.4718654\ttotal: 15.7s\tremaining: 1.56s\n",
            "910:\tlearn: 1.4703787\ttotal: 15.7s\tremaining: 1.54s\n",
            "911:\tlearn: 1.4683277\ttotal: 15.8s\tremaining: 1.52s\n",
            "912:\tlearn: 1.4678911\ttotal: 15.8s\tremaining: 1.5s\n",
            "913:\tlearn: 1.4662984\ttotal: 15.8s\tremaining: 1.49s\n",
            "914:\tlearn: 1.4652257\ttotal: 15.8s\tremaining: 1.47s\n",
            "915:\tlearn: 1.4639538\ttotal: 15.8s\tremaining: 1.45s\n",
            "916:\tlearn: 1.4632136\ttotal: 15.8s\tremaining: 1.43s\n",
            "917:\tlearn: 1.4608896\ttotal: 15.8s\tremaining: 1.41s\n",
            "918:\tlearn: 1.4595676\ttotal: 15.8s\tremaining: 1.4s\n",
            "919:\tlearn: 1.4579493\ttotal: 15.9s\tremaining: 1.38s\n",
            "920:\tlearn: 1.4552466\ttotal: 15.9s\tremaining: 1.36s\n",
            "921:\tlearn: 1.4529875\ttotal: 15.9s\tremaining: 1.34s\n",
            "922:\tlearn: 1.4512482\ttotal: 15.9s\tremaining: 1.33s\n",
            "923:\tlearn: 1.4502608\ttotal: 15.9s\tremaining: 1.31s\n",
            "924:\tlearn: 1.4489443\ttotal: 15.9s\tremaining: 1.29s\n",
            "925:\tlearn: 1.4481013\ttotal: 15.9s\tremaining: 1.27s\n",
            "926:\tlearn: 1.4471152\ttotal: 16s\tremaining: 1.26s\n",
            "927:\tlearn: 1.4456569\ttotal: 16s\tremaining: 1.24s\n",
            "928:\tlearn: 1.4431209\ttotal: 16s\tremaining: 1.22s\n",
            "929:\tlearn: 1.4403253\ttotal: 16s\tremaining: 1.2s\n",
            "930:\tlearn: 1.4388898\ttotal: 16s\tremaining: 1.19s\n",
            "931:\tlearn: 1.4369929\ttotal: 16s\tremaining: 1.17s\n",
            "932:\tlearn: 1.4365350\ttotal: 16s\tremaining: 1.15s\n",
            "933:\tlearn: 1.4346894\ttotal: 16.1s\tremaining: 1.13s\n",
            "934:\tlearn: 1.4328122\ttotal: 16.1s\tremaining: 1.12s\n",
            "935:\tlearn: 1.4313994\ttotal: 16.1s\tremaining: 1.1s\n",
            "936:\tlearn: 1.4295709\ttotal: 16.1s\tremaining: 1.08s\n",
            "937:\tlearn: 1.4268623\ttotal: 16.1s\tremaining: 1.06s\n",
            "938:\tlearn: 1.4251570\ttotal: 16.1s\tremaining: 1.05s\n",
            "939:\tlearn: 1.4223049\ttotal: 16.1s\tremaining: 1.03s\n",
            "940:\tlearn: 1.4212398\ttotal: 16.2s\tremaining: 1.01s\n",
            "941:\tlearn: 1.4184550\ttotal: 16.2s\tremaining: 996ms\n",
            "942:\tlearn: 1.4161777\ttotal: 16.2s\tremaining: 978ms\n",
            "943:\tlearn: 1.4150042\ttotal: 16.2s\tremaining: 961ms\n",
            "944:\tlearn: 1.4131276\ttotal: 16.2s\tremaining: 944ms\n",
            "945:\tlearn: 1.4120809\ttotal: 16.2s\tremaining: 926ms\n",
            "946:\tlearn: 1.4101025\ttotal: 16.2s\tremaining: 909ms\n",
            "947:\tlearn: 1.4085495\ttotal: 16.3s\tremaining: 892ms\n",
            "948:\tlearn: 1.4080825\ttotal: 16.3s\tremaining: 874ms\n",
            "949:\tlearn: 1.4066355\ttotal: 16.3s\tremaining: 857ms\n",
            "950:\tlearn: 1.4039751\ttotal: 16.3s\tremaining: 839ms\n",
            "951:\tlearn: 1.4017837\ttotal: 16.3s\tremaining: 822ms\n",
            "952:\tlearn: 1.4002766\ttotal: 16.3s\tremaining: 805ms\n",
            "953:\tlearn: 1.3988248\ttotal: 16.3s\tremaining: 787ms\n",
            "954:\tlearn: 1.3978210\ttotal: 16.3s\tremaining: 770ms\n",
            "955:\tlearn: 1.3962481\ttotal: 16.4s\tremaining: 753ms\n",
            "956:\tlearn: 1.3954968\ttotal: 16.4s\tremaining: 736ms\n",
            "957:\tlearn: 1.3941576\ttotal: 16.4s\tremaining: 718ms\n",
            "958:\tlearn: 1.3922569\ttotal: 16.4s\tremaining: 701ms\n",
            "959:\tlearn: 1.3891197\ttotal: 16.4s\tremaining: 684ms\n",
            "960:\tlearn: 1.3879436\ttotal: 16.4s\tremaining: 667ms\n",
            "961:\tlearn: 1.3861844\ttotal: 16.4s\tremaining: 649ms\n",
            "962:\tlearn: 1.3850843\ttotal: 16.4s\tremaining: 632ms\n",
            "963:\tlearn: 1.3835707\ttotal: 16.5s\tremaining: 615ms\n",
            "964:\tlearn: 1.3818840\ttotal: 16.5s\tremaining: 598ms\n",
            "965:\tlearn: 1.3803175\ttotal: 16.5s\tremaining: 580ms\n",
            "966:\tlearn: 1.3782687\ttotal: 16.5s\tremaining: 563ms\n",
            "967:\tlearn: 1.3775709\ttotal: 16.5s\tremaining: 546ms\n",
            "968:\tlearn: 1.3768846\ttotal: 16.5s\tremaining: 529ms\n",
            "969:\tlearn: 1.3751591\ttotal: 16.5s\tremaining: 512ms\n",
            "970:\tlearn: 1.3727754\ttotal: 16.6s\tremaining: 494ms\n",
            "971:\tlearn: 1.3718777\ttotal: 16.6s\tremaining: 477ms\n",
            "972:\tlearn: 1.3707288\ttotal: 16.6s\tremaining: 460ms\n",
            "973:\tlearn: 1.3688577\ttotal: 16.6s\tremaining: 443ms\n",
            "974:\tlearn: 1.3674506\ttotal: 16.6s\tremaining: 426ms\n",
            "975:\tlearn: 1.3660554\ttotal: 16.6s\tremaining: 409ms\n",
            "976:\tlearn: 1.3632456\ttotal: 16.6s\tremaining: 392ms\n",
            "977:\tlearn: 1.3615135\ttotal: 16.6s\tremaining: 374ms\n",
            "978:\tlearn: 1.3603446\ttotal: 16.7s\tremaining: 357ms\n",
            "979:\tlearn: 1.3592269\ttotal: 16.7s\tremaining: 340ms\n",
            "980:\tlearn: 1.3584847\ttotal: 16.7s\tremaining: 323ms\n",
            "981:\tlearn: 1.3566087\ttotal: 16.7s\tremaining: 306ms\n",
            "982:\tlearn: 1.3543710\ttotal: 16.7s\tremaining: 289ms\n",
            "983:\tlearn: 1.3529211\ttotal: 16.7s\tremaining: 272ms\n",
            "984:\tlearn: 1.3516791\ttotal: 16.7s\tremaining: 255ms\n",
            "985:\tlearn: 1.3504591\ttotal: 16.8s\tremaining: 238ms\n",
            "986:\tlearn: 1.3491620\ttotal: 16.8s\tremaining: 221ms\n",
            "987:\tlearn: 1.3478374\ttotal: 16.8s\tremaining: 204ms\n",
            "988:\tlearn: 1.3464162\ttotal: 16.8s\tremaining: 187ms\n",
            "989:\tlearn: 1.3440817\ttotal: 16.8s\tremaining: 170ms\n",
            "990:\tlearn: 1.3425094\ttotal: 16.8s\tremaining: 153ms\n",
            "991:\tlearn: 1.3412810\ttotal: 16.8s\tremaining: 136ms\n",
            "992:\tlearn: 1.3400019\ttotal: 16.8s\tremaining: 119ms\n",
            "993:\tlearn: 1.3381651\ttotal: 16.9s\tremaining: 102ms\n",
            "994:\tlearn: 1.3364015\ttotal: 16.9s\tremaining: 84.8ms\n",
            "995:\tlearn: 1.3346960\ttotal: 16.9s\tremaining: 67.8ms\n",
            "996:\tlearn: 1.3329911\ttotal: 16.9s\tremaining: 50.9ms\n",
            "997:\tlearn: 1.3313142\ttotal: 16.9s\tremaining: 33.9ms\n",
            "998:\tlearn: 1.3298402\ttotal: 16.9s\tremaining: 16.9ms\n",
            "999:\tlearn: 1.3287014\ttotal: 16.9s\tremaining: 0us\n",
            "Mean absolute error : 3.21 (+/- 0.23)\n"
          ],
          "name": "stdout"
        }
      ]
    },
    {
      "cell_type": "code",
      "metadata": {
        "id": "V43SaZ_TjLNU",
        "colab_type": "code",
        "colab": {}
      },
      "source": [
        "#Lets try a LightGBM model\n",
        "import lightgbm as lgbm\n",
        "lgbm_reg=lgbm.LGBMRegressor(random_state=123)\n",
        "kf = KFold(n_splits=5)\n",
        "lgbm_scores=0.0\n",
        "fold = 0\n",
        "for train_index, test_index in kf.split(X):\n",
        "  print('In fold',fold+1)\n",
        "  X_train, X_test = X.iloc[train_index][:], X.iloc[test_index][:]\n",
        "  y_train, y_test = y.iloc[train_index][:], y.iloc[test_index][:]\n",
        "  lgbm_reg.fit(X_train,y_train,eval_set=(X_test,y_test),early_stopping_rounds=3,metric=)\n",
        "  lgbm_scores=lgbm_scores+mean_absolute_error(y_test,lgbm_reg.predict(X_test))\n",
        "  fold = fold + 1\n",
        "print('The cross validation MAE:',lgbm_scores/5)"
      ],
      "execution_count": 0,
      "outputs": []
    },
    {
      "cell_type": "code",
      "metadata": {
        "id": "Z2i3ivCX3-BC",
        "colab_type": "code",
        "outputId": "298ba54c-48ff-48af-f358-e8be89beb3d8",
        "colab": {
          "base_uri": "https://localhost:8080/",
          "height": 35
        }
      },
      "source": [
        "test=pd.read_csv('/content/drive/My Drive/Zindi_Hack/Test_maskedv2.csv')\n",
        "print('The dimension of test data:',test.shape)"
      ],
      "execution_count": 0,
      "outputs": [
        {
          "output_type": "stream",
          "text": [
            "The dimension of test data: (1102, 49)\n"
          ],
          "name": "stdout"
        }
      ]
    },
    {
      "cell_type": "code",
      "metadata": {
        "id": "BBS6MKGF4Qoe",
        "colab_type": "code",
        "outputId": "cec481bd-43e1-49a6-e849-9e5d1e72c28d",
        "colab": {
          "base_uri": "https://localhost:8080/",
          "height": 218
        }
      },
      "source": [
        "test.head()"
      ],
      "execution_count": 0,
      "outputs": [
        {
          "output_type": "execute_result",
          "data": {
            "text/html": [
              "<div>\n",
              "<style scoped>\n",
              "    .dataframe tbody tr th:only-of-type {\n",
              "        vertical-align: middle;\n",
              "    }\n",
              "\n",
              "    .dataframe tbody tr th {\n",
              "        vertical-align: top;\n",
              "    }\n",
              "\n",
              "    .dataframe thead th {\n",
              "        text-align: right;\n",
              "    }\n",
              "</style>\n",
              "<table border=\"1\" class=\"dataframe\">\n",
              "  <thead>\n",
              "    <tr style=\"text-align: right;\">\n",
              "      <th></th>\n",
              "      <th>ward</th>\n",
              "      <th>total_households</th>\n",
              "      <th>total_individuals</th>\n",
              "      <th>dw_00</th>\n",
              "      <th>dw_01</th>\n",
              "      <th>dw_02</th>\n",
              "      <th>dw_03</th>\n",
              "      <th>dw_04</th>\n",
              "      <th>dw_05</th>\n",
              "      <th>dw_06</th>\n",
              "      <th>dw_07</th>\n",
              "      <th>dw_08</th>\n",
              "      <th>dw_09</th>\n",
              "      <th>dw_10</th>\n",
              "      <th>dw_11</th>\n",
              "      <th>dw_12</th>\n",
              "      <th>dw_13</th>\n",
              "      <th>psa_00</th>\n",
              "      <th>psa_01</th>\n",
              "      <th>psa_02</th>\n",
              "      <th>psa_03</th>\n",
              "      <th>psa_04</th>\n",
              "      <th>stv_00</th>\n",
              "      <th>stv_01</th>\n",
              "      <th>car_00</th>\n",
              "      <th>car_01</th>\n",
              "      <th>lln_00</th>\n",
              "      <th>lln_01</th>\n",
              "      <th>lan_00</th>\n",
              "      <th>lan_01</th>\n",
              "      <th>lan_02</th>\n",
              "      <th>lan_03</th>\n",
              "      <th>lan_04</th>\n",
              "      <th>lan_05</th>\n",
              "      <th>lan_06</th>\n",
              "      <th>lan_07</th>\n",
              "      <th>lan_08</th>\n",
              "      <th>lan_09</th>\n",
              "      <th>lan_10</th>\n",
              "      <th>lan_11</th>\n",
              "      <th>lan_12</th>\n",
              "      <th>lan_13</th>\n",
              "      <th>lan_14</th>\n",
              "      <th>pg_00</th>\n",
              "      <th>pg_01</th>\n",
              "      <th>pg_02</th>\n",
              "      <th>pg_03</th>\n",
              "      <th>pg_04</th>\n",
              "      <th>lgt_00</th>\n",
              "    </tr>\n",
              "  </thead>\n",
              "  <tbody>\n",
              "    <tr>\n",
              "      <th>0</th>\n",
              "      <td>00A93O0</td>\n",
              "      <td>2514.04172</td>\n",
              "      <td>8037.06199</td>\n",
              "      <td>0.671962</td>\n",
              "      <td>0.061074</td>\n",
              "      <td>0.101516</td>\n",
              "      <td>0.006891</td>\n",
              "      <td>0.021287</td>\n",
              "      <td>0.015615</td>\n",
              "      <td>0.035974</td>\n",
              "      <td>0.010995</td>\n",
              "      <td>0.030665</td>\n",
              "      <td>0.000563</td>\n",
              "      <td>0.004513</td>\n",
              "      <td>0.038943</td>\n",
              "      <td>0</td>\n",
              "      <td>0</td>\n",
              "      <td>0.327785</td>\n",
              "      <td>0.400204</td>\n",
              "      <td>0.000142</td>\n",
              "      <td>0.090634</td>\n",
              "      <td>0.181234</td>\n",
              "      <td>0.082473</td>\n",
              "      <td>0.917527</td>\n",
              "      <td>0.170320</td>\n",
              "      <td>0.829680</td>\n",
              "      <td>0.028193</td>\n",
              "      <td>0.971807</td>\n",
              "      <td>0.006861</td>\n",
              "      <td>0.025960</td>\n",
              "      <td>0.001401</td>\n",
              "      <td>0.864523</td>\n",
              "      <td>0.010393</td>\n",
              "      <td>0.001966</td>\n",
              "      <td>0.004094</td>\n",
              "      <td>0.000991</td>\n",
              "      <td>0.007919</td>\n",
              "      <td>0.000136</td>\n",
              "      <td>0.000146</td>\n",
              "      <td>0.000420</td>\n",
              "      <td>0.011485</td>\n",
              "      <td>0</td>\n",
              "      <td>0.063705</td>\n",
              "      <td>0.979272</td>\n",
              "      <td>0.009926</td>\n",
              "      <td>0.003224</td>\n",
              "      <td>0.002697</td>\n",
              "      <td>0.004882</td>\n",
              "      <td>0.521007</td>\n",
              "    </tr>\n",
              "    <tr>\n",
              "      <th>1</th>\n",
              "      <td>01V40KO</td>\n",
              "      <td>1829.71944</td>\n",
              "      <td>7494.86917</td>\n",
              "      <td>0.542857</td>\n",
              "      <td>0.390850</td>\n",
              "      <td>0.039623</td>\n",
              "      <td>0.000000</td>\n",
              "      <td>0.000000</td>\n",
              "      <td>0.000000</td>\n",
              "      <td>0.002633</td>\n",
              "      <td>0.005074</td>\n",
              "      <td>0.010439</td>\n",
              "      <td>0.000000</td>\n",
              "      <td>0.000544</td>\n",
              "      <td>0.007980</td>\n",
              "      <td>0</td>\n",
              "      <td>0</td>\n",
              "      <td>0.396451</td>\n",
              "      <td>0.448673</td>\n",
              "      <td>0.002026</td>\n",
              "      <td>0.015543</td>\n",
              "      <td>0.137307</td>\n",
              "      <td>0.028539</td>\n",
              "      <td>0.971461</td>\n",
              "      <td>0.087096</td>\n",
              "      <td>0.912904</td>\n",
              "      <td>0.014139</td>\n",
              "      <td>0.985861</td>\n",
              "      <td>0.003348</td>\n",
              "      <td>0.008866</td>\n",
              "      <td>0.001654</td>\n",
              "      <td>0.968007</td>\n",
              "      <td>0.005108</td>\n",
              "      <td>0.002472</td>\n",
              "      <td>0.001524</td>\n",
              "      <td>0.001974</td>\n",
              "      <td>0.006575</td>\n",
              "      <td>0.000152</td>\n",
              "      <td>0.000160</td>\n",
              "      <td>0.000000</td>\n",
              "      <td>0.000160</td>\n",
              "      <td>0</td>\n",
              "      <td>0.000000</td>\n",
              "      <td>0.998938</td>\n",
              "      <td>0.000296</td>\n",
              "      <td>0.000301</td>\n",
              "      <td>0.000305</td>\n",
              "      <td>0.000160</td>\n",
              "      <td>0.693716</td>\n",
              "    </tr>\n",
              "    <tr>\n",
              "      <th>2</th>\n",
              "      <td>01ZHVW0</td>\n",
              "      <td>1721.99009</td>\n",
              "      <td>5847.43254</td>\n",
              "      <td>0.968071</td>\n",
              "      <td>0.003525</td>\n",
              "      <td>0.001431</td>\n",
              "      <td>0.000000</td>\n",
              "      <td>0.000000</td>\n",
              "      <td>0.000000</td>\n",
              "      <td>0.018546</td>\n",
              "      <td>0.004769</td>\n",
              "      <td>0.000825</td>\n",
              "      <td>0.000000</td>\n",
              "      <td>0.000000</td>\n",
              "      <td>0.002832</td>\n",
              "      <td>0</td>\n",
              "      <td>0</td>\n",
              "      <td>0.315332</td>\n",
              "      <td>0.550687</td>\n",
              "      <td>0.000000</td>\n",
              "      <td>0.009654</td>\n",
              "      <td>0.124326</td>\n",
              "      <td>0.108260</td>\n",
              "      <td>0.891740</td>\n",
              "      <td>0.115144</td>\n",
              "      <td>0.884856</td>\n",
              "      <td>0.047064</td>\n",
              "      <td>0.952936</td>\n",
              "      <td>0.037169</td>\n",
              "      <td>0.019334</td>\n",
              "      <td>0.001471</td>\n",
              "      <td>0.918999</td>\n",
              "      <td>0.003145</td>\n",
              "      <td>0.001087</td>\n",
              "      <td>0.001963</td>\n",
              "      <td>0.001543</td>\n",
              "      <td>0.005908</td>\n",
              "      <td>0.000000</td>\n",
              "      <td>0.002075</td>\n",
              "      <td>0.000631</td>\n",
              "      <td>0.006504</td>\n",
              "      <td>0</td>\n",
              "      <td>0.000171</td>\n",
              "      <td>0.955895</td>\n",
              "      <td>0.012170</td>\n",
              "      <td>0.000000</td>\n",
              "      <td>0.030012</td>\n",
              "      <td>0.001923</td>\n",
              "      <td>0.933954</td>\n",
              "    </tr>\n",
              "    <tr>\n",
              "      <th>3</th>\n",
              "      <td>028YQJX</td>\n",
              "      <td>12388.02257</td>\n",
              "      <td>52211.66859</td>\n",
              "      <td>0.397274</td>\n",
              "      <td>0.004734</td>\n",
              "      <td>0.001068</td>\n",
              "      <td>0.000279</td>\n",
              "      <td>0.000799</td>\n",
              "      <td>0.197760</td>\n",
              "      <td>0.005227</td>\n",
              "      <td>0.065487</td>\n",
              "      <td>0.316633</td>\n",
              "      <td>0.003892</td>\n",
              "      <td>0.000279</td>\n",
              "      <td>0.006569</td>\n",
              "      <td>0</td>\n",
              "      <td>0</td>\n",
              "      <td>0.242343</td>\n",
              "      <td>0.568208</td>\n",
              "      <td>0.001050</td>\n",
              "      <td>0.066225</td>\n",
              "      <td>0.122174</td>\n",
              "      <td>0.146214</td>\n",
              "      <td>0.853786</td>\n",
              "      <td>0.223657</td>\n",
              "      <td>0.776343</td>\n",
              "      <td>0.174330</td>\n",
              "      <td>0.825670</td>\n",
              "      <td>0.485175</td>\n",
              "      <td>0.240164</td>\n",
              "      <td>0.002869</td>\n",
              "      <td>0.242053</td>\n",
              "      <td>0.003676</td>\n",
              "      <td>0.000726</td>\n",
              "      <td>0.008142</td>\n",
              "      <td>0.003545</td>\n",
              "      <td>0.003591</td>\n",
              "      <td>0.000629</td>\n",
              "      <td>0.000505</td>\n",
              "      <td>0.000593</td>\n",
              "      <td>0.008330</td>\n",
              "      <td>0</td>\n",
              "      <td>0.000000</td>\n",
              "      <td>0.293629</td>\n",
              "      <td>0.694779</td>\n",
              "      <td>0.003238</td>\n",
              "      <td>0.000628</td>\n",
              "      <td>0.007726</td>\n",
              "      <td>0.921470</td>\n",
              "    </tr>\n",
              "    <tr>\n",
              "      <th>4</th>\n",
              "      <td>02G8W11</td>\n",
              "      <td>1754.25716</td>\n",
              "      <td>4266.57609</td>\n",
              "      <td>0.815197</td>\n",
              "      <td>0.016697</td>\n",
              "      <td>0.078571</td>\n",
              "      <td>0.008975</td>\n",
              "      <td>0.047882</td>\n",
              "      <td>0.015398</td>\n",
              "      <td>0.007264</td>\n",
              "      <td>0.000000</td>\n",
              "      <td>0.000712</td>\n",
              "      <td>0.007003</td>\n",
              "      <td>0.000877</td>\n",
              "      <td>0.001425</td>\n",
              "      <td>0</td>\n",
              "      <td>0</td>\n",
              "      <td>0.110625</td>\n",
              "      <td>0.663775</td>\n",
              "      <td>0.000000</td>\n",
              "      <td>0.024673</td>\n",
              "      <td>0.200927</td>\n",
              "      <td>0.723028</td>\n",
              "      <td>0.276972</td>\n",
              "      <td>0.930886</td>\n",
              "      <td>0.069114</td>\n",
              "      <td>0.808671</td>\n",
              "      <td>0.191329</td>\n",
              "      <td>0.457734</td>\n",
              "      <td>0.334764</td>\n",
              "      <td>0.000843</td>\n",
              "      <td>0.005681</td>\n",
              "      <td>0.001384</td>\n",
              "      <td>0.000000</td>\n",
              "      <td>0.002514</td>\n",
              "      <td>0.000829</td>\n",
              "      <td>0.000284</td>\n",
              "      <td>0.000290</td>\n",
              "      <td>0.000000</td>\n",
              "      <td>0.000234</td>\n",
              "      <td>0.016846</td>\n",
              "      <td>0</td>\n",
              "      <td>0.178598</td>\n",
              "      <td>0.110861</td>\n",
              "      <td>0.054114</td>\n",
              "      <td>0.006062</td>\n",
              "      <td>0.823495</td>\n",
              "      <td>0.005470</td>\n",
              "      <td>0.996227</td>\n",
              "    </tr>\n",
              "  </tbody>\n",
              "</table>\n",
              "</div>"
            ],
            "text/plain": [
              "      ward  total_households  total_individuals  ...     pg_03     pg_04    lgt_00\n",
              "0  00A93O0        2514.04172         8037.06199  ...  0.002697  0.004882  0.521007\n",
              "1  01V40KO        1829.71944         7494.86917  ...  0.000305  0.000160  0.693716\n",
              "2  01ZHVW0        1721.99009         5847.43254  ...  0.030012  0.001923  0.933954\n",
              "3  028YQJX       12388.02257        52211.66859  ...  0.000628  0.007726  0.921470\n",
              "4  02G8W11        1754.25716         4266.57609  ...  0.823495  0.005470  0.996227\n",
              "\n",
              "[5 rows x 49 columns]"
            ]
          },
          "metadata": {
            "tags": []
          },
          "execution_count": 30
        }
      ]
    },
    {
      "cell_type": "code",
      "metadata": {
        "id": "rBey-g_U2Ibo",
        "colab_type": "code",
        "outputId": "58fc09c4-88a6-4b1a-e171-940d451c1921",
        "colab": {
          "base_uri": "https://localhost:8080/",
          "height": 35
        }
      },
      "source": [
        "test['new']=xgb_reg.predict(test[train_cols])\n",
        "test.shape"
      ],
      "execution_count": 0,
      "outputs": [
        {
          "output_type": "execute_result",
          "data": {
            "text/plain": [
              "(1102, 50)"
            ]
          },
          "metadata": {
            "tags": []
          },
          "execution_count": 87
        }
      ]
    },
    {
      "cell_type": "code",
      "metadata": {
        "id": "5V56VIsU4Uu2",
        "colab_type": "code",
        "outputId": "e11d845f-f862-4c28-bc44-09974ff85871",
        "colab": {
          "base_uri": "https://localhost:8080/",
          "height": 198
        }
      },
      "source": [
        "sample=pd.read_csv('/content/drive/My Drive/Zindi_Hack/samplesubmissionv2.csv')\n",
        "sample.head()"
      ],
      "execution_count": 0,
      "outputs": [
        {
          "output_type": "execute_result",
          "data": {
            "text/html": [
              "<div>\n",
              "<style scoped>\n",
              "    .dataframe tbody tr th:only-of-type {\n",
              "        vertical-align: middle;\n",
              "    }\n",
              "\n",
              "    .dataframe tbody tr th {\n",
              "        vertical-align: top;\n",
              "    }\n",
              "\n",
              "    .dataframe thead th {\n",
              "        text-align: right;\n",
              "    }\n",
              "</style>\n",
              "<table border=\"1\" class=\"dataframe\">\n",
              "  <thead>\n",
              "    <tr style=\"text-align: right;\">\n",
              "      <th></th>\n",
              "      <th>ward</th>\n",
              "      <th>target_pct_vunerable</th>\n",
              "    </tr>\n",
              "  </thead>\n",
              "  <tbody>\n",
              "    <tr>\n",
              "      <th>0</th>\n",
              "      <td>00A93O0</td>\n",
              "      <td>NaN</td>\n",
              "    </tr>\n",
              "    <tr>\n",
              "      <th>1</th>\n",
              "      <td>01V40KO</td>\n",
              "      <td>NaN</td>\n",
              "    </tr>\n",
              "    <tr>\n",
              "      <th>2</th>\n",
              "      <td>01ZHVW0</td>\n",
              "      <td>NaN</td>\n",
              "    </tr>\n",
              "    <tr>\n",
              "      <th>3</th>\n",
              "      <td>028YQJX</td>\n",
              "      <td>NaN</td>\n",
              "    </tr>\n",
              "    <tr>\n",
              "      <th>4</th>\n",
              "      <td>02G8W11</td>\n",
              "      <td>NaN</td>\n",
              "    </tr>\n",
              "  </tbody>\n",
              "</table>\n",
              "</div>"
            ],
            "text/plain": [
              "      ward  target_pct_vunerable\n",
              "0  00A93O0                   NaN\n",
              "1  01V40KO                   NaN\n",
              "2  01ZHVW0                   NaN\n",
              "3  028YQJX                   NaN\n",
              "4  02G8W11                   NaN"
            ]
          },
          "metadata": {
            "tags": []
          },
          "execution_count": 31
        }
      ]
    },
    {
      "cell_type": "code",
      "metadata": {
        "id": "qLEX45So4mbY",
        "colab_type": "code",
        "outputId": "0c0b13f2-af6d-4050-e0c7-b52073843f1d",
        "colab": {
          "base_uri": "https://localhost:8080/",
          "height": 35
        }
      },
      "source": [
        "sample['target_pct_vunerable']=(catboost_reg.predict(test[train_cols+['new']]))\n",
        "sample.shape"
      ],
      "execution_count": 0,
      "outputs": [
        {
          "output_type": "execute_result",
          "data": {
            "text/plain": [
              "(1102, 2)"
            ]
          },
          "metadata": {
            "tags": []
          },
          "execution_count": 88
        }
      ]
    },
    {
      "cell_type": "code",
      "metadata": {
        "id": "Kzb3mAgh5Ko_",
        "colab_type": "code",
        "outputId": "c827d1ed-7243-40b2-d1d2-8a7b53c3448e",
        "colab": {
          "base_uri": "https://localhost:8080/",
          "height": 198
        }
      },
      "source": [
        "sample.head()"
      ],
      "execution_count": 0,
      "outputs": [
        {
          "output_type": "execute_result",
          "data": {
            "text/html": [
              "<div>\n",
              "<style scoped>\n",
              "    .dataframe tbody tr th:only-of-type {\n",
              "        vertical-align: middle;\n",
              "    }\n",
              "\n",
              "    .dataframe tbody tr th {\n",
              "        vertical-align: top;\n",
              "    }\n",
              "\n",
              "    .dataframe thead th {\n",
              "        text-align: right;\n",
              "    }\n",
              "</style>\n",
              "<table border=\"1\" class=\"dataframe\">\n",
              "  <thead>\n",
              "    <tr style=\"text-align: right;\">\n",
              "      <th></th>\n",
              "      <th>ward</th>\n",
              "      <th>target_pct_vunerable</th>\n",
              "    </tr>\n",
              "  </thead>\n",
              "  <tbody>\n",
              "    <tr>\n",
              "      <th>0</th>\n",
              "      <td>00A93O0</td>\n",
              "      <td>17.669271</td>\n",
              "    </tr>\n",
              "    <tr>\n",
              "      <th>1</th>\n",
              "      <td>01V40KO</td>\n",
              "      <td>35.082365</td>\n",
              "    </tr>\n",
              "    <tr>\n",
              "      <th>2</th>\n",
              "      <td>01ZHVW0</td>\n",
              "      <td>1.799878</td>\n",
              "    </tr>\n",
              "    <tr>\n",
              "      <th>3</th>\n",
              "      <td>028YQJX</td>\n",
              "      <td>2.715354</td>\n",
              "    </tr>\n",
              "    <tr>\n",
              "      <th>4</th>\n",
              "      <td>02G8W11</td>\n",
              "      <td>0.772809</td>\n",
              "    </tr>\n",
              "  </tbody>\n",
              "</table>\n",
              "</div>"
            ],
            "text/plain": [
              "      ward  target_pct_vunerable\n",
              "0  00A93O0             17.669271\n",
              "1  01V40KO             35.082365\n",
              "2  01ZHVW0              1.799878\n",
              "3  028YQJX              2.715354\n",
              "4  02G8W11              0.772809"
            ]
          },
          "metadata": {
            "tags": []
          },
          "execution_count": 89
        }
      ]
    },
    {
      "cell_type": "code",
      "metadata": {
        "id": "SX_KUtg05VJf",
        "colab_type": "code",
        "colab": {}
      },
      "source": [
        "sample.to_csv('/content/drive/My Drive/Zindi_Hack/submission_stack.csv',index=False)"
      ],
      "execution_count": 0,
      "outputs": []
    }
  ]
}